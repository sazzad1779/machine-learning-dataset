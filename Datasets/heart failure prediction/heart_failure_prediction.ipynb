{
  "nbformat": 4,
  "nbformat_minor": 0,
  "metadata": {
    "colab": {
      "name": "heart failure prediction.ipynb",
      "provenance": [],
      "collapsed_sections": []
    },
    "kernelspec": {
      "name": "python3",
      "display_name": "Python 3"
    },
    "language_info": {
      "name": "python"
    }
  },
  "cells": [
    {
      "cell_type": "code",
      "metadata": {
        "id": "5_JTOXY5ECO6"
      },
      "source": [
        "import pandas as pd\n",
        "import numpy as np\n",
        "import seaborn as sns\n",
        "import numpy as np\n",
        "from sklearn.linear_model import LogisticRegression\n",
        "from sklearn.tree import DecisionTreeClassifier\n",
        "from sklearn.ensemble import RandomForestClassifier\n",
        "from sklearn.svm import SVC\n",
        "from sklearn.neighbors import KNeighborsClassifier\n",
        "from xgboost import XGBClassifier\n",
        "from lightgbm import LGBMClassifier\n",
        "from sklearn.metrics import f1_score,accuracy_score,classification_report\n",
        "from sklearn.experimental import enable_halving_search_cv\n",
        "from sklearn.model_selection import GridSearchCV ,RandomizedSearchCV,HalvingGridSearchCV\n",
        "from sklearn.metrics import roc_auc_score\n",
        "import warnings\n",
        "warnings.filterwarnings('ignore')"
      ],
      "execution_count": 1,
      "outputs": []
    },
    {
      "cell_type": "code",
      "metadata": {
        "colab": {
          "base_uri": "https://localhost:8080/",
          "height": 443
        },
        "id": "lGgjuzXcEvUe",
        "outputId": "85c85853-63fb-4a9b-f4b0-36c035bf9092"
      },
      "source": [
        "data = pd.read_csv(\"https://raw.githubusercontent.com/sazzad15-1779/Datasets/master/heart%20failure%20prediction/heart_failure_clinical_records_dataset.csv\")\n",
        "data\n"
      ],
      "execution_count": 2,
      "outputs": [
        {
          "output_type": "execute_result",
          "data": {
            "text/html": [
              "<div>\n",
              "<style scoped>\n",
              "    .dataframe tbody tr th:only-of-type {\n",
              "        vertical-align: middle;\n",
              "    }\n",
              "\n",
              "    .dataframe tbody tr th {\n",
              "        vertical-align: top;\n",
              "    }\n",
              "\n",
              "    .dataframe thead th {\n",
              "        text-align: right;\n",
              "    }\n",
              "</style>\n",
              "<table border=\"1\" class=\"dataframe\">\n",
              "  <thead>\n",
              "    <tr style=\"text-align: right;\">\n",
              "      <th></th>\n",
              "      <th>age</th>\n",
              "      <th>anaemia</th>\n",
              "      <th>creatinine_phosphokinase</th>\n",
              "      <th>diabetes</th>\n",
              "      <th>ejection_fraction</th>\n",
              "      <th>high_blood_pressure</th>\n",
              "      <th>platelets</th>\n",
              "      <th>serum_creatinine</th>\n",
              "      <th>serum_sodium</th>\n",
              "      <th>sex</th>\n",
              "      <th>smoking</th>\n",
              "      <th>time</th>\n",
              "      <th>DEATH_EVENT</th>\n",
              "    </tr>\n",
              "  </thead>\n",
              "  <tbody>\n",
              "    <tr>\n",
              "      <th>0</th>\n",
              "      <td>75.0</td>\n",
              "      <td>0</td>\n",
              "      <td>582</td>\n",
              "      <td>0</td>\n",
              "      <td>20</td>\n",
              "      <td>1</td>\n",
              "      <td>265000.00</td>\n",
              "      <td>1.9</td>\n",
              "      <td>130</td>\n",
              "      <td>1</td>\n",
              "      <td>0</td>\n",
              "      <td>4</td>\n",
              "      <td>1</td>\n",
              "    </tr>\n",
              "    <tr>\n",
              "      <th>1</th>\n",
              "      <td>55.0</td>\n",
              "      <td>0</td>\n",
              "      <td>7861</td>\n",
              "      <td>0</td>\n",
              "      <td>38</td>\n",
              "      <td>0</td>\n",
              "      <td>263358.03</td>\n",
              "      <td>1.1</td>\n",
              "      <td>136</td>\n",
              "      <td>1</td>\n",
              "      <td>0</td>\n",
              "      <td>6</td>\n",
              "      <td>1</td>\n",
              "    </tr>\n",
              "    <tr>\n",
              "      <th>2</th>\n",
              "      <td>65.0</td>\n",
              "      <td>0</td>\n",
              "      <td>146</td>\n",
              "      <td>0</td>\n",
              "      <td>20</td>\n",
              "      <td>0</td>\n",
              "      <td>162000.00</td>\n",
              "      <td>1.3</td>\n",
              "      <td>129</td>\n",
              "      <td>1</td>\n",
              "      <td>1</td>\n",
              "      <td>7</td>\n",
              "      <td>1</td>\n",
              "    </tr>\n",
              "    <tr>\n",
              "      <th>3</th>\n",
              "      <td>50.0</td>\n",
              "      <td>1</td>\n",
              "      <td>111</td>\n",
              "      <td>0</td>\n",
              "      <td>20</td>\n",
              "      <td>0</td>\n",
              "      <td>210000.00</td>\n",
              "      <td>1.9</td>\n",
              "      <td>137</td>\n",
              "      <td>1</td>\n",
              "      <td>0</td>\n",
              "      <td>7</td>\n",
              "      <td>1</td>\n",
              "    </tr>\n",
              "    <tr>\n",
              "      <th>4</th>\n",
              "      <td>65.0</td>\n",
              "      <td>1</td>\n",
              "      <td>160</td>\n",
              "      <td>1</td>\n",
              "      <td>20</td>\n",
              "      <td>0</td>\n",
              "      <td>327000.00</td>\n",
              "      <td>2.7</td>\n",
              "      <td>116</td>\n",
              "      <td>0</td>\n",
              "      <td>0</td>\n",
              "      <td>8</td>\n",
              "      <td>1</td>\n",
              "    </tr>\n",
              "    <tr>\n",
              "      <th>...</th>\n",
              "      <td>...</td>\n",
              "      <td>...</td>\n",
              "      <td>...</td>\n",
              "      <td>...</td>\n",
              "      <td>...</td>\n",
              "      <td>...</td>\n",
              "      <td>...</td>\n",
              "      <td>...</td>\n",
              "      <td>...</td>\n",
              "      <td>...</td>\n",
              "      <td>...</td>\n",
              "      <td>...</td>\n",
              "      <td>...</td>\n",
              "    </tr>\n",
              "    <tr>\n",
              "      <th>294</th>\n",
              "      <td>62.0</td>\n",
              "      <td>0</td>\n",
              "      <td>61</td>\n",
              "      <td>1</td>\n",
              "      <td>38</td>\n",
              "      <td>1</td>\n",
              "      <td>155000.00</td>\n",
              "      <td>1.1</td>\n",
              "      <td>143</td>\n",
              "      <td>1</td>\n",
              "      <td>1</td>\n",
              "      <td>270</td>\n",
              "      <td>0</td>\n",
              "    </tr>\n",
              "    <tr>\n",
              "      <th>295</th>\n",
              "      <td>55.0</td>\n",
              "      <td>0</td>\n",
              "      <td>1820</td>\n",
              "      <td>0</td>\n",
              "      <td>38</td>\n",
              "      <td>0</td>\n",
              "      <td>270000.00</td>\n",
              "      <td>1.2</td>\n",
              "      <td>139</td>\n",
              "      <td>0</td>\n",
              "      <td>0</td>\n",
              "      <td>271</td>\n",
              "      <td>0</td>\n",
              "    </tr>\n",
              "    <tr>\n",
              "      <th>296</th>\n",
              "      <td>45.0</td>\n",
              "      <td>0</td>\n",
              "      <td>2060</td>\n",
              "      <td>1</td>\n",
              "      <td>60</td>\n",
              "      <td>0</td>\n",
              "      <td>742000.00</td>\n",
              "      <td>0.8</td>\n",
              "      <td>138</td>\n",
              "      <td>0</td>\n",
              "      <td>0</td>\n",
              "      <td>278</td>\n",
              "      <td>0</td>\n",
              "    </tr>\n",
              "    <tr>\n",
              "      <th>297</th>\n",
              "      <td>45.0</td>\n",
              "      <td>0</td>\n",
              "      <td>2413</td>\n",
              "      <td>0</td>\n",
              "      <td>38</td>\n",
              "      <td>0</td>\n",
              "      <td>140000.00</td>\n",
              "      <td>1.4</td>\n",
              "      <td>140</td>\n",
              "      <td>1</td>\n",
              "      <td>1</td>\n",
              "      <td>280</td>\n",
              "      <td>0</td>\n",
              "    </tr>\n",
              "    <tr>\n",
              "      <th>298</th>\n",
              "      <td>50.0</td>\n",
              "      <td>0</td>\n",
              "      <td>196</td>\n",
              "      <td>0</td>\n",
              "      <td>45</td>\n",
              "      <td>0</td>\n",
              "      <td>395000.00</td>\n",
              "      <td>1.6</td>\n",
              "      <td>136</td>\n",
              "      <td>1</td>\n",
              "      <td>1</td>\n",
              "      <td>285</td>\n",
              "      <td>0</td>\n",
              "    </tr>\n",
              "  </tbody>\n",
              "</table>\n",
              "<p>299 rows × 13 columns</p>\n",
              "</div>"
            ],
            "text/plain": [
              "      age  anaemia  creatinine_phosphokinase  ...  smoking  time  DEATH_EVENT\n",
              "0    75.0        0                       582  ...        0     4            1\n",
              "1    55.0        0                      7861  ...        0     6            1\n",
              "2    65.0        0                       146  ...        1     7            1\n",
              "3    50.0        1                       111  ...        0     7            1\n",
              "4    65.0        1                       160  ...        0     8            1\n",
              "..    ...      ...                       ...  ...      ...   ...          ...\n",
              "294  62.0        0                        61  ...        1   270            0\n",
              "295  55.0        0                      1820  ...        0   271            0\n",
              "296  45.0        0                      2060  ...        0   278            0\n",
              "297  45.0        0                      2413  ...        1   280            0\n",
              "298  50.0        0                       196  ...        1   285            0\n",
              "\n",
              "[299 rows x 13 columns]"
            ]
          },
          "metadata": {},
          "execution_count": 2
        }
      ]
    },
    {
      "cell_type": "code",
      "metadata": {
        "colab": {
          "base_uri": "https://localhost:8080/"
        },
        "id": "PWLIRp2YFQes",
        "outputId": "54846bb0-386d-4eec-8837-911828a674ce"
      },
      "source": [
        "data.isnull().sum()"
      ],
      "execution_count": 3,
      "outputs": [
        {
          "output_type": "execute_result",
          "data": {
            "text/plain": [
              "age                         0\n",
              "anaemia                     0\n",
              "creatinine_phosphokinase    0\n",
              "diabetes                    0\n",
              "ejection_fraction           0\n",
              "high_blood_pressure         0\n",
              "platelets                   0\n",
              "serum_creatinine            0\n",
              "serum_sodium                0\n",
              "sex                         0\n",
              "smoking                     0\n",
              "time                        0\n",
              "DEATH_EVENT                 0\n",
              "dtype: int64"
            ]
          },
          "metadata": {},
          "execution_count": 3
        }
      ]
    },
    {
      "cell_type": "code",
      "metadata": {
        "colab": {
          "base_uri": "https://localhost:8080/",
          "height": 320
        },
        "id": "09Z-nEGqEThk",
        "outputId": "1571f3ee-b871-45cc-eeda-103edd4e8b97"
      },
      "source": [
        "data.describe()"
      ],
      "execution_count": 4,
      "outputs": [
        {
          "output_type": "execute_result",
          "data": {
            "text/html": [
              "<div>\n",
              "<style scoped>\n",
              "    .dataframe tbody tr th:only-of-type {\n",
              "        vertical-align: middle;\n",
              "    }\n",
              "\n",
              "    .dataframe tbody tr th {\n",
              "        vertical-align: top;\n",
              "    }\n",
              "\n",
              "    .dataframe thead th {\n",
              "        text-align: right;\n",
              "    }\n",
              "</style>\n",
              "<table border=\"1\" class=\"dataframe\">\n",
              "  <thead>\n",
              "    <tr style=\"text-align: right;\">\n",
              "      <th></th>\n",
              "      <th>age</th>\n",
              "      <th>anaemia</th>\n",
              "      <th>creatinine_phosphokinase</th>\n",
              "      <th>diabetes</th>\n",
              "      <th>ejection_fraction</th>\n",
              "      <th>high_blood_pressure</th>\n",
              "      <th>platelets</th>\n",
              "      <th>serum_creatinine</th>\n",
              "      <th>serum_sodium</th>\n",
              "      <th>sex</th>\n",
              "      <th>smoking</th>\n",
              "      <th>time</th>\n",
              "      <th>DEATH_EVENT</th>\n",
              "    </tr>\n",
              "  </thead>\n",
              "  <tbody>\n",
              "    <tr>\n",
              "      <th>count</th>\n",
              "      <td>299.000000</td>\n",
              "      <td>299.000000</td>\n",
              "      <td>299.000000</td>\n",
              "      <td>299.000000</td>\n",
              "      <td>299.000000</td>\n",
              "      <td>299.000000</td>\n",
              "      <td>299.000000</td>\n",
              "      <td>299.00000</td>\n",
              "      <td>299.000000</td>\n",
              "      <td>299.000000</td>\n",
              "      <td>299.00000</td>\n",
              "      <td>299.000000</td>\n",
              "      <td>299.00000</td>\n",
              "    </tr>\n",
              "    <tr>\n",
              "      <th>mean</th>\n",
              "      <td>60.833893</td>\n",
              "      <td>0.431438</td>\n",
              "      <td>581.839465</td>\n",
              "      <td>0.418060</td>\n",
              "      <td>38.083612</td>\n",
              "      <td>0.351171</td>\n",
              "      <td>263358.029264</td>\n",
              "      <td>1.39388</td>\n",
              "      <td>136.625418</td>\n",
              "      <td>0.648829</td>\n",
              "      <td>0.32107</td>\n",
              "      <td>130.260870</td>\n",
              "      <td>0.32107</td>\n",
              "    </tr>\n",
              "    <tr>\n",
              "      <th>std</th>\n",
              "      <td>11.894809</td>\n",
              "      <td>0.496107</td>\n",
              "      <td>970.287881</td>\n",
              "      <td>0.494067</td>\n",
              "      <td>11.834841</td>\n",
              "      <td>0.478136</td>\n",
              "      <td>97804.236869</td>\n",
              "      <td>1.03451</td>\n",
              "      <td>4.412477</td>\n",
              "      <td>0.478136</td>\n",
              "      <td>0.46767</td>\n",
              "      <td>77.614208</td>\n",
              "      <td>0.46767</td>\n",
              "    </tr>\n",
              "    <tr>\n",
              "      <th>min</th>\n",
              "      <td>40.000000</td>\n",
              "      <td>0.000000</td>\n",
              "      <td>23.000000</td>\n",
              "      <td>0.000000</td>\n",
              "      <td>14.000000</td>\n",
              "      <td>0.000000</td>\n",
              "      <td>25100.000000</td>\n",
              "      <td>0.50000</td>\n",
              "      <td>113.000000</td>\n",
              "      <td>0.000000</td>\n",
              "      <td>0.00000</td>\n",
              "      <td>4.000000</td>\n",
              "      <td>0.00000</td>\n",
              "    </tr>\n",
              "    <tr>\n",
              "      <th>25%</th>\n",
              "      <td>51.000000</td>\n",
              "      <td>0.000000</td>\n",
              "      <td>116.500000</td>\n",
              "      <td>0.000000</td>\n",
              "      <td>30.000000</td>\n",
              "      <td>0.000000</td>\n",
              "      <td>212500.000000</td>\n",
              "      <td>0.90000</td>\n",
              "      <td>134.000000</td>\n",
              "      <td>0.000000</td>\n",
              "      <td>0.00000</td>\n",
              "      <td>73.000000</td>\n",
              "      <td>0.00000</td>\n",
              "    </tr>\n",
              "    <tr>\n",
              "      <th>50%</th>\n",
              "      <td>60.000000</td>\n",
              "      <td>0.000000</td>\n",
              "      <td>250.000000</td>\n",
              "      <td>0.000000</td>\n",
              "      <td>38.000000</td>\n",
              "      <td>0.000000</td>\n",
              "      <td>262000.000000</td>\n",
              "      <td>1.10000</td>\n",
              "      <td>137.000000</td>\n",
              "      <td>1.000000</td>\n",
              "      <td>0.00000</td>\n",
              "      <td>115.000000</td>\n",
              "      <td>0.00000</td>\n",
              "    </tr>\n",
              "    <tr>\n",
              "      <th>75%</th>\n",
              "      <td>70.000000</td>\n",
              "      <td>1.000000</td>\n",
              "      <td>582.000000</td>\n",
              "      <td>1.000000</td>\n",
              "      <td>45.000000</td>\n",
              "      <td>1.000000</td>\n",
              "      <td>303500.000000</td>\n",
              "      <td>1.40000</td>\n",
              "      <td>140.000000</td>\n",
              "      <td>1.000000</td>\n",
              "      <td>1.00000</td>\n",
              "      <td>203.000000</td>\n",
              "      <td>1.00000</td>\n",
              "    </tr>\n",
              "    <tr>\n",
              "      <th>max</th>\n",
              "      <td>95.000000</td>\n",
              "      <td>1.000000</td>\n",
              "      <td>7861.000000</td>\n",
              "      <td>1.000000</td>\n",
              "      <td>80.000000</td>\n",
              "      <td>1.000000</td>\n",
              "      <td>850000.000000</td>\n",
              "      <td>9.40000</td>\n",
              "      <td>148.000000</td>\n",
              "      <td>1.000000</td>\n",
              "      <td>1.00000</td>\n",
              "      <td>285.000000</td>\n",
              "      <td>1.00000</td>\n",
              "    </tr>\n",
              "  </tbody>\n",
              "</table>\n",
              "</div>"
            ],
            "text/plain": [
              "              age     anaemia  ...        time  DEATH_EVENT\n",
              "count  299.000000  299.000000  ...  299.000000    299.00000\n",
              "mean    60.833893    0.431438  ...  130.260870      0.32107\n",
              "std     11.894809    0.496107  ...   77.614208      0.46767\n",
              "min     40.000000    0.000000  ...    4.000000      0.00000\n",
              "25%     51.000000    0.000000  ...   73.000000      0.00000\n",
              "50%     60.000000    0.000000  ...  115.000000      0.00000\n",
              "75%     70.000000    1.000000  ...  203.000000      1.00000\n",
              "max     95.000000    1.000000  ...  285.000000      1.00000\n",
              "\n",
              "[8 rows x 13 columns]"
            ]
          },
          "metadata": {},
          "execution_count": 4
        }
      ]
    },
    {
      "cell_type": "code",
      "metadata": {
        "colab": {
          "base_uri": "https://localhost:8080/"
        },
        "id": "WiKDYNTeFcNV",
        "outputId": "7feab6c4-1781-4d33-8a3e-cb6edcb319ed"
      },
      "source": [
        "for i in data.columns:\n",
        "  if data[i].nunique() <3:\n",
        "    print(\"column:\",i,\"\\n\",data[i].unique())"
      ],
      "execution_count": 5,
      "outputs": [
        {
          "output_type": "stream",
          "name": "stdout",
          "text": [
            "column: anaemia \n",
            " [0 1]\n",
            "column: diabetes \n",
            " [0 1]\n",
            "column: high_blood_pressure \n",
            " [1 0]\n",
            "column: sex \n",
            " [1 0]\n",
            "column: smoking \n",
            " [0 1]\n",
            "column: DEATH_EVENT \n",
            " [1 0]\n"
          ]
        }
      ]
    },
    {
      "cell_type": "code",
      "metadata": {
        "colab": {
          "base_uri": "https://localhost:8080/",
          "height": 1000
        },
        "id": "zV77230nfMUu",
        "outputId": "3ab86614-ad47-4091-c36e-39317f3cc938"
      },
      "source": [
        "his_new=data.hist(figsize=(20,20))"
      ],
      "execution_count": 6,
      "outputs": [
        {
          "output_type": "display_data",
          "data": {
            "image/png": "[encoded data removed]",
            "text/plain": [
              "<Figure size 1440x1440 with 16 Axes>"
            ]
          },
          "metadata": {
            "needs_background": "light"
          }
        }
      ]
    },
    {
      "cell_type": "code",
      "metadata": {
        "colab": {
          "base_uri": "https://localhost:8080/",
          "height": 213
        },
        "id": "QVMh_NbsMmMm",
        "outputId": "0c9d5591-c0ca-4ece-c487-119c2cfb9f1c"
      },
      "source": [
        "plt.figure(figsize=(12,10))\n",
        "fig = sns.heatmap(data=round(data.corr(),2), annot=True, annot_kws={\"fontsize\":13})\n",
        "plt.show()"
      ],
      "execution_count": 7,
      "outputs": [
        {
          "output_type": "error",
          "ename": "NameError",
          "evalue": "ignored",
          "traceback": [
            "\u001b[0;31m---------------------------------------------------------------------------\u001b[0m",
            "\u001b[0;31mNameError\u001b[0m                                 Traceback (most recent call last)",
            "\u001b[0;32m<ipython-input-7-cf906d59fc85>\u001b[0m in \u001b[0;36m<module>\u001b[0;34m()\u001b[0m\n\u001b[0;32m----> 1\u001b[0;31m \u001b[0mplt\u001b[0m\u001b[0;34m.\u001b[0m\u001b[0mfigure\u001b[0m\u001b[0;34m(\u001b[0m\u001b[0mfigsize\u001b[0m\u001b[0;34m=\u001b[0m\u001b[0;34m(\u001b[0m\u001b[0;36m12\u001b[0m\u001b[0;34m,\u001b[0m\u001b[0;36m10\u001b[0m\u001b[0;34m)\u001b[0m\u001b[0;34m)\u001b[0m\u001b[0;34m\u001b[0m\u001b[0;34m\u001b[0m\u001b[0m\n\u001b[0m\u001b[1;32m      2\u001b[0m \u001b[0mfig\u001b[0m \u001b[0;34m=\u001b[0m \u001b[0msns\u001b[0m\u001b[0;34m.\u001b[0m\u001b[0mheatmap\u001b[0m\u001b[0;34m(\u001b[0m\u001b[0mdata\u001b[0m\u001b[0;34m=\u001b[0m\u001b[0mround\u001b[0m\u001b[0;34m(\u001b[0m\u001b[0mdata\u001b[0m\u001b[0;34m.\u001b[0m\u001b[0mcorr\u001b[0m\u001b[0;34m(\u001b[0m\u001b[0;34m)\u001b[0m\u001b[0;34m,\u001b[0m\u001b[0;36m2\u001b[0m\u001b[0;34m)\u001b[0m\u001b[0;34m,\u001b[0m \u001b[0mannot\u001b[0m\u001b[0;34m=\u001b[0m\u001b[0;32mTrue\u001b[0m\u001b[0;34m,\u001b[0m \u001b[0mannot_kws\u001b[0m\u001b[0;34m=\u001b[0m\u001b[0;34m{\u001b[0m\u001b[0;34m\"fontsize\"\u001b[0m\u001b[0;34m:\u001b[0m\u001b[0;36m13\u001b[0m\u001b[0;34m}\u001b[0m\u001b[0;34m)\u001b[0m\u001b[0;34m\u001b[0m\u001b[0;34m\u001b[0m\u001b[0m\n\u001b[1;32m      3\u001b[0m \u001b[0mplt\u001b[0m\u001b[0;34m.\u001b[0m\u001b[0mshow\u001b[0m\u001b[0;34m(\u001b[0m\u001b[0;34m)\u001b[0m\u001b[0;34m\u001b[0m\u001b[0;34m\u001b[0m\u001b[0m\n",
            "\u001b[0;31mNameError\u001b[0m: name 'plt' is not defined"
          ]
        }
      ]
    },
    {
      "cell_type": "code",
      "metadata": {
        "id": "Vvm-qtg8gcAk"
      },
      "source": [
        "from pandas.plotting import scatter_matrix\n",
        "p=scatter_matrix(data,figsize=(25, 25))"
      ],
      "execution_count": null,
      "outputs": []
    },
    {
      "cell_type": "markdown",
      "metadata": {
        "id": "b1ShXvG7mbPD"
      },
      "source": [
        "#outlier detection"
      ]
    },
    {
      "cell_type": "code",
      "metadata": {
        "id": "IKhHXTEUf8CO"
      },
      "source": [
        "p=sns.pairplot(data, hue = 'DEATH_EVENT')"
      ],
      "execution_count": null,
      "outputs": []
    },
    {
      "cell_type": "code",
      "metadata": {
        "id": "psH4Q7-2dXwP"
      },
      "source": [
        "from scipy.stats import norm\n",
        "sns.set()\n",
        "plt.figure(figsize=(10,20))\n",
        "for i ,  var in enumerate(data.columns):\n",
        "  plt.subplot(10,2,i+1)\n",
        "  sns.distplot(data[var],fit=norm,bins=20)"
      ],
      "execution_count": null,
      "outputs": []
    },
    {
      "cell_type": "code",
      "metadata": {
        "id": "DpjJJKa6m7tZ"
      },
      "source": [
        "sns.set()\n",
        "plt.figure(figsize=(10,150))\n",
        "for i ,  var in enumerate(data.columns):\n",
        "  plt.subplot(40,1,i+1)\n",
        "  sns.scatterplot(x=data[var] , y=data['DEATH_EVENT'], alpha=0.25)"
      ],
      "execution_count": null,
      "outputs": []
    },
    {
      "cell_type": "markdown",
      "metadata": {
        "id": "gStbidoeiuQj"
      },
      "source": [
        "#outlier treatment"
      ]
    },
    {
      "cell_type": "code",
      "metadata": {
        "colab": {
          "base_uri": "https://localhost:8080/",
          "height": 298
        },
        "id": "HdJM9GwLkQbT",
        "outputId": "4f44413a-a718-45f1-ec3f-0e22d229cd3c"
      },
      "source": [
        "data.drop(data[data.creatinine_phosphokinase>3000].index,axis=0,inplace=True)\n",
        "sns.scatterplot(x=data.creatinine_phosphokinase,y=data.DEATH_EVENT)"
      ],
      "execution_count": 8,
      "outputs": [
        {
          "output_type": "execute_result",
          "data": {
            "text/plain": [
              "<matplotlib.axes._subplots.AxesSubplot at 0x7f4b960eae90>"
            ]
          },
          "metadata": {},
          "execution_count": 8
        },
        {
          "output_type": "display_data",
          "data": {
            "image/png": "[encoded data removed]",
            "text/plain": [
              "<Figure size 432x288 with 1 Axes>"
            ]
          },
          "metadata": {
            "needs_background": "light"
          }
        }
      ]
    },
    {
      "cell_type": "code",
      "metadata": {
        "colab": {
          "base_uri": "https://localhost:8080/",
          "height": 298
        },
        "id": "kS2tzuBSj9he",
        "outputId": "7d0fecd1-2ce3-4ca9-cbf0-af6be7c080b5"
      },
      "source": [
        "data.drop(data[data.platelets>600000].index,axis=0,inplace=True)\n",
        "sns.scatterplot(x=data.platelets,y=data.DEATH_EVENT)"
      ],
      "execution_count": 9,
      "outputs": [
        {
          "output_type": "execute_result",
          "data": {
            "text/plain": [
              "<matplotlib.axes._subplots.AxesSubplot at 0x7f4b94e13510>"
            ]
          },
          "metadata": {},
          "execution_count": 9
        },
        {
          "output_type": "display_data",
          "data": {
            "image/png": "[encoded data removed]",
            "text/plain": [
              "<Figure size 432x288 with 1 Axes>"
            ]
          },
          "metadata": {
            "needs_background": "light"
          }
        }
      ]
    },
    {
      "cell_type": "code",
      "metadata": {
        "colab": {
          "base_uri": "https://localhost:8080/",
          "height": 298
        },
        "id": "LUWLLTM6jfSN",
        "outputId": "88ac4d48-bc30-4c76-c07e-d9e77c46fb7d"
      },
      "source": [
        "data.drop(data[data.serum_creatinine>5].index,axis=0,inplace=True)\n",
        "sns.scatterplot(x=data.serum_creatinine,y=data.DEATH_EVENT)"
      ],
      "execution_count": 10,
      "outputs": [
        {
          "output_type": "execute_result",
          "data": {
            "text/plain": [
              "<matplotlib.axes._subplots.AxesSubplot at 0x7f4b982afd90>"
            ]
          },
          "metadata": {},
          "execution_count": 10
        },
        {
          "output_type": "display_data",
          "data": {
            "image/png": "[encoded data removed]",
            "text/plain": [
              "<Figure size 432x288 with 1 Axes>"
            ]
          },
          "metadata": {
            "needs_background": "light"
          }
        }
      ]
    },
    {
      "cell_type": "code",
      "metadata": {
        "colab": {
          "base_uri": "https://localhost:8080/",
          "height": 298
        },
        "id": "t50nUXjJiyaY",
        "outputId": "8ed9fb7e-0c5a-4f55-8387-a627bb700523"
      },
      "source": [
        "data.drop(data[data.serum_sodium<125].index,axis=0,inplace=True)\n",
        "sns.scatterplot(x=data.serum_sodium,y=data.DEATH_EVENT)"
      ],
      "execution_count": 11,
      "outputs": [
        {
          "output_type": "execute_result",
          "data": {
            "text/plain": [
              "<matplotlib.axes._subplots.AxesSubplot at 0x7f4b97edaa50>"
            ]
          },
          "metadata": {},
          "execution_count": 11
        },
        {
          "output_type": "display_data",
          "data": {
            "image/png": "[encoded data removed]",
            "text/plain": [
              "<Figure size 432x288 with 1 Axes>"
            ]
          },
          "metadata": {
            "needs_background": "light"
          }
        }
      ]
    },
    {
      "cell_type": "code",
      "metadata": {
        "id": "3pZv3o-rUiEJ"
      },
      "source": [
        ""
      ],
      "execution_count": null,
      "outputs": []
    },
    {
      "cell_type": "markdown",
      "metadata": {
        "id": "_qJqaNOEUijP"
      },
      "source": [
        "# dataset splitting"
      ]
    },
    {
      "cell_type": "code",
      "metadata": {
        "id": "KZleJD8DMNBH"
      },
      "source": [
        "y = data.DEATH_EVENT\n",
        "x = data.drop('DEATH_EVENT',axis=1,inplace=False)"
      ],
      "execution_count": 12,
      "outputs": []
    },
    {
      "cell_type": "code",
      "metadata": {
        "id": "OPk7_SGsMN1F"
      },
      "source": [
        "from sklearn.model_selection import train_test_split\n",
        "X_train,X_test,y_train,y_test=train_test_split(x,y,test_size=.25,random_state=43)"
      ],
      "execution_count": 14,
      "outputs": []
    },
    {
      "cell_type": "markdown",
      "metadata": {
        "id": "lKsDmOHfqq_A"
      },
      "source": [
        "# numerical value standerdization"
      ]
    },
    {
      "cell_type": "code",
      "metadata": {
        "id": "MfG7hHepwZIb"
      },
      "source": [
        "from sklearn.preprocessing import MinMaxScaler, RobustScaler,StandardScaler"
      ],
      "execution_count": 15,
      "outputs": []
    },
    {
      "cell_type": "code",
      "metadata": {
        "id": "PvDqRB4cci_P"
      },
      "source": [
        "scaler = StandardScaler().fit(X_train)\n",
        "X_train_std_scl = scaler.transform(X_train)\n",
        "X_test_std_scl = scaler.transform(X_test)"
      ],
      "execution_count": 16,
      "outputs": []
    },
    {
      "cell_type": "code",
      "metadata": {
        "colab": {
          "base_uri": "https://localhost:8080/"
        },
        "id": "krg8_iwjQhM3",
        "outputId": "994e2edb-e4f8-426d-a5ed-b5d96cd3c050"
      },
      "source": [
        "X_train_std_scl.shape,X_test_std_scl.shape,y_train.shape,y_test.shape"
      ],
      "execution_count": 17,
      "outputs": [
        {
          "output_type": "execute_result",
          "data": {
            "text/plain": [
              "((210, 12), (71, 12), (210,), (71,))"
            ]
          },
          "metadata": {},
          "execution_count": 17
        }
      ]
    },
    {
      "cell_type": "markdown",
      "metadata": {
        "id": "cRgj8GyBt7WR"
      },
      "source": [
        "#model create"
      ]
    },
    {
      "cell_type": "code",
      "metadata": {
        "id": "H_HC__6R82LN"
      },
      "source": [
        "classifiers = {\n",
        "    'Logistic Regression' : LogisticRegression(),\n",
        "    'Decision Tree' : DecisionTreeClassifier(),\n",
        "    'Random Forest' : RandomForestClassifier(),\n",
        "    'Support Vector Machines' : SVC(),\n",
        "    'K-nearest Neighbors' : KNeighborsClassifier(),\n",
        "    'XGBoost' : XGBClassifier(),\n",
        "    'LGBBoost':LGBMClassifier()\n",
        "\n",
        "}"
      ],
      "execution_count": 18,
      "outputs": []
    },
    {
      "cell_type": "code",
      "metadata": {
        "colab": {
          "base_uri": "https://localhost:8080/",
          "height": 269
        },
        "id": "_71v8uT-QveS",
        "outputId": "5dd62d48-6ac5-49a9-f460-5ebc2646723a"
      },
      "source": [
        "results=pd.DataFrame(columns=['Accuracy in %','F1-score'])\n",
        "for method,func in classifiers.items():\n",
        "    func.fit(X_train_std_scl,y_train)\n",
        "    pred = func.predict(X_test_std_scl)\n",
        "    results.loc[method]= [100*np.round(accuracy_score(y_test,pred),decimals=4),\n",
        "                         round(f1_score(y_test,pred),2)]\n",
        "results"
      ],
      "execution_count": 19,
      "outputs": [
        {
          "output_type": "execute_result",
          "data": {
            "text/html": [
              "<div>\n",
              "<style scoped>\n",
              "    .dataframe tbody tr th:only-of-type {\n",
              "        vertical-align: middle;\n",
              "    }\n",
              "\n",
              "    .dataframe tbody tr th {\n",
              "        vertical-align: top;\n",
              "    }\n",
              "\n",
              "    .dataframe thead th {\n",
              "        text-align: right;\n",
              "    }\n",
              "</style>\n",
              "<table border=\"1\" class=\"dataframe\">\n",
              "  <thead>\n",
              "    <tr style=\"text-align: right;\">\n",
              "      <th></th>\n",
              "      <th>Accuracy in %</th>\n",
              "      <th>F1-score</th>\n",
              "    </tr>\n",
              "  </thead>\n",
              "  <tbody>\n",
              "    <tr>\n",
              "      <th>Logistic Regression</th>\n",
              "      <td>74.65</td>\n",
              "      <td>0.59</td>\n",
              "    </tr>\n",
              "    <tr>\n",
              "      <th>Decision Tree</th>\n",
              "      <td>80.28</td>\n",
              "      <td>0.71</td>\n",
              "    </tr>\n",
              "    <tr>\n",
              "      <th>Random Forest</th>\n",
              "      <td>81.69</td>\n",
              "      <td>0.70</td>\n",
              "    </tr>\n",
              "    <tr>\n",
              "      <th>Support Vector Machines</th>\n",
              "      <td>76.06</td>\n",
              "      <td>0.59</td>\n",
              "    </tr>\n",
              "    <tr>\n",
              "      <th>K-nearest Neighbors</th>\n",
              "      <td>74.65</td>\n",
              "      <td>0.44</td>\n",
              "    </tr>\n",
              "    <tr>\n",
              "      <th>XGBoost</th>\n",
              "      <td>81.69</td>\n",
              "      <td>0.70</td>\n",
              "    </tr>\n",
              "    <tr>\n",
              "      <th>LGBBoost</th>\n",
              "      <td>81.69</td>\n",
              "      <td>0.70</td>\n",
              "    </tr>\n",
              "  </tbody>\n",
              "</table>\n",
              "</div>"
            ],
            "text/plain": [
              "                         Accuracy in %  F1-score\n",
              "Logistic Regression              74.65      0.59\n",
              "Decision Tree                    80.28      0.71\n",
              "Random Forest                    81.69      0.70\n",
              "Support Vector Machines          76.06      0.59\n",
              "K-nearest Neighbors              74.65      0.44\n",
              "XGBoost                          81.69      0.70\n",
              "LGBBoost                         81.69      0.70"
            ]
          },
          "metadata": {},
          "execution_count": 19
        }
      ]
    },
    {
      "cell_type": "code",
      "metadata": {
        "id": "iqJZl6ZkWbuZ"
      },
      "source": [
        ""
      ],
      "execution_count": null,
      "outputs": []
    },
    {
      "cell_type": "markdown",
      "metadata": {
        "id": "RjgVXriMutyN"
      },
      "source": [
        "#Ann model"
      ]
    },
    {
      "cell_type": "code",
      "metadata": {
        "id": "NNp50gevt-MQ"
      },
      "source": [
        "import tensorflow as tf\n",
        "from tensorflow.keras.models import Sequential\n",
        "from tensorflow.keras.layers import Dense, Activation,Dropout\n",
        "from tensorflow.keras.optimizers import Adam\n",
        "from tensorflow.keras.callbacks import EarlyStopping\n",
        "X_train_, X_val, y_train_, y_val = train_test_split(X_train_std_scl,y_train,test_size=0.20)"
      ],
      "execution_count": 23,
      "outputs": []
    },
    {
      "cell_type": "code",
      "metadata": {
        "colab": {
          "base_uri": "https://localhost:8080/"
        },
        "id": "IG5TCjzqt-PW",
        "outputId": "47c96623-44ef-4800-8918-50c8cb120f1a"
      },
      "source": [
        "model = Sequential()\n",
        "model.add(Dense(12,activation='relu'))\n",
        "model.add(Dense(50,activation='relu',kernel_initializer=tf.random_uniform_initializer(minval=-0.1, maxval=0.1),\n",
        "    bias_initializer=tf.random_uniform_initializer(minval=-0.1, maxval=0.1)))\n",
        "model.add(Dropout(0.2))\n",
        "model.add(Dense(50,activation='relu',kernel_initializer=tf.random_uniform_initializer(minval=-0.1, maxval=0.1),\n",
        "    bias_initializer=tf.random_uniform_initializer(minval=-0.1, maxval=0.1)))\n",
        "model.add(Dropout(0.2))\n",
        "model.add(Dense(50,activation='relu',kernel_initializer=tf.random_uniform_initializer(minval=-0.1, maxval=0.1),\n",
        "    bias_initializer=tf.random_uniform_initializer(minval=-0.1, maxval=0.1)))\n",
        "model.add(Dropout(0.2))\n",
        "model.add(Dense(1,activation='sigmoid'))\n",
        "\n",
        "model.compile(loss='binary_crossentropy', optimizer='adam',metrics = [\"accuracy\"])\n",
        "\n",
        "early_stop = EarlyStopping(monitor='val_loss', mode='min', verbose=1, patience=5)\n",
        "\n",
        "model.fit(x=X_train_,y=y_train_,\n",
        "          validation_data=(X_val,y_val.values),\n",
        "          batch_size=100,epochs=150,callbacks=[early_stop])"
      ],
      "execution_count": 24,
      "outputs": [
        {
          "output_type": "stream",
          "name": "stdout",
          "text": [
            "Epoch 1/150\n",
            "2/2 [==============================] - 1s 199ms/step - loss: 0.6528 - accuracy: 0.7083 - val_loss: 0.6511 - val_accuracy: 0.6905\n",
            "Epoch 2/150\n",
            "2/2 [==============================] - 0s 23ms/step - loss: 0.6460 - accuracy: 0.7083 - val_loss: 0.6460 - val_accuracy: 0.6905\n",
            "Epoch 3/150\n",
            "2/2 [==============================] - 0s 23ms/step - loss: 0.6371 - accuracy: 0.7083 - val_loss: 0.6414 - val_accuracy: 0.6905\n",
            "Epoch 4/150\n",
            "2/2 [==============================] - 0s 27ms/step - loss: 0.6318 - accuracy: 0.7083 - val_loss: 0.6369 - val_accuracy: 0.6905\n",
            "Epoch 5/150\n",
            "2/2 [==============================] - 0s 24ms/step - loss: 0.6265 - accuracy: 0.7083 - val_loss: 0.6323 - val_accuracy: 0.6905\n",
            "Epoch 6/150\n",
            "2/2 [==============================] - 0s 24ms/step - loss: 0.6216 - accuracy: 0.7083 - val_loss: 0.6276 - val_accuracy: 0.6905\n",
            "Epoch 7/150\n",
            "2/2 [==============================] - 0s 24ms/step - loss: 0.6120 - accuracy: 0.7083 - val_loss: 0.6229 - val_accuracy: 0.6905\n",
            "Epoch 8/150\n",
            "2/2 [==============================] - 0s 24ms/step - loss: 0.6103 - accuracy: 0.7083 - val_loss: 0.6185 - val_accuracy: 0.6905\n",
            "Epoch 9/150\n",
            "2/2 [==============================] - 0s 45ms/step - loss: 0.6075 - accuracy: 0.7083 - val_loss: 0.6144 - val_accuracy: 0.6905\n",
            "Epoch 10/150\n",
            "2/2 [==============================] - 0s 28ms/step - loss: 0.5929 - accuracy: 0.7083 - val_loss: 0.6107 - val_accuracy: 0.6905\n",
            "Epoch 11/150\n",
            "2/2 [==============================] - 0s 31ms/step - loss: 0.5950 - accuracy: 0.7083 - val_loss: 0.6073 - val_accuracy: 0.6905\n",
            "Epoch 12/150\n",
            "2/2 [==============================] - 0s 25ms/step - loss: 0.5811 - accuracy: 0.7083 - val_loss: 0.6044 - val_accuracy: 0.6905\n",
            "Epoch 13/150\n",
            "2/2 [==============================] - 0s 29ms/step - loss: 0.5837 - accuracy: 0.7083 - val_loss: 0.6019 - val_accuracy: 0.6905\n",
            "Epoch 14/150\n",
            "2/2 [==============================] - 0s 27ms/step - loss: 0.5737 - accuracy: 0.7083 - val_loss: 0.5997 - val_accuracy: 0.6905\n",
            "Epoch 15/150\n",
            "2/2 [==============================] - 0s 24ms/step - loss: 0.5700 - accuracy: 0.7083 - val_loss: 0.5972 - val_accuracy: 0.6905\n",
            "Epoch 16/150\n",
            "2/2 [==============================] - 0s 23ms/step - loss: 0.5646 - accuracy: 0.7083 - val_loss: 0.5944 - val_accuracy: 0.6905\n",
            "Epoch 17/150\n",
            "2/2 [==============================] - 0s 24ms/step - loss: 0.5648 - accuracy: 0.7083 - val_loss: 0.5899 - val_accuracy: 0.6905\n",
            "Epoch 18/150\n",
            "2/2 [==============================] - 0s 27ms/step - loss: 0.5426 - accuracy: 0.7083 - val_loss: 0.5844 - val_accuracy: 0.6905\n",
            "Epoch 19/150\n",
            "2/2 [==============================] - 0s 26ms/step - loss: 0.5493 - accuracy: 0.7083 - val_loss: 0.5776 - val_accuracy: 0.6905\n",
            "Epoch 20/150\n",
            "2/2 [==============================] - 0s 24ms/step - loss: 0.5384 - accuracy: 0.7083 - val_loss: 0.5696 - val_accuracy: 0.6905\n",
            "Epoch 21/150\n",
            "2/2 [==============================] - 0s 27ms/step - loss: 0.5356 - accuracy: 0.7083 - val_loss: 0.5613 - val_accuracy: 0.6905\n",
            "Epoch 22/150\n",
            "2/2 [==============================] - 0s 28ms/step - loss: 0.5221 - accuracy: 0.7083 - val_loss: 0.5529 - val_accuracy: 0.6905\n",
            "Epoch 23/150\n",
            "2/2 [==============================] - 0s 22ms/step - loss: 0.5106 - accuracy: 0.7083 - val_loss: 0.5445 - val_accuracy: 0.6905\n",
            "Epoch 24/150\n",
            "2/2 [==============================] - 0s 24ms/step - loss: 0.5065 - accuracy: 0.7083 - val_loss: 0.5365 - val_accuracy: 0.6905\n",
            "Epoch 25/150\n",
            "2/2 [==============================] - 0s 25ms/step - loss: 0.4994 - accuracy: 0.7083 - val_loss: 0.5288 - val_accuracy: 0.6905\n",
            "Epoch 26/150\n",
            "2/2 [==============================] - 0s 23ms/step - loss: 0.4870 - accuracy: 0.7083 - val_loss: 0.5220 - val_accuracy: 0.6905\n",
            "Epoch 27/150\n",
            "2/2 [==============================] - 0s 23ms/step - loss: 0.4790 - accuracy: 0.7083 - val_loss: 0.5161 - val_accuracy: 0.6905\n",
            "Epoch 28/150\n",
            "2/2 [==============================] - 0s 26ms/step - loss: 0.4696 - accuracy: 0.7083 - val_loss: 0.5108 - val_accuracy: 0.6905\n",
            "Epoch 29/150\n",
            "2/2 [==============================] - 0s 28ms/step - loss: 0.4563 - accuracy: 0.7083 - val_loss: 0.5061 - val_accuracy: 0.6905\n",
            "Epoch 30/150\n",
            "2/2 [==============================] - 0s 25ms/step - loss: 0.4619 - accuracy: 0.7083 - val_loss: 0.5030 - val_accuracy: 0.6905\n",
            "Epoch 31/150\n",
            "2/2 [==============================] - 0s 26ms/step - loss: 0.4647 - accuracy: 0.7083 - val_loss: 0.5009 - val_accuracy: 0.6905\n",
            "Epoch 32/150\n",
            "2/2 [==============================] - 0s 24ms/step - loss: 0.4388 - accuracy: 0.7083 - val_loss: 0.4991 - val_accuracy: 0.6905\n",
            "Epoch 33/150\n",
            "2/2 [==============================] - 0s 25ms/step - loss: 0.4222 - accuracy: 0.7083 - val_loss: 0.4984 - val_accuracy: 0.6905\n",
            "Epoch 34/150\n",
            "2/2 [==============================] - 0s 28ms/step - loss: 0.4277 - accuracy: 0.7143 - val_loss: 0.4989 - val_accuracy: 0.6905\n",
            "Epoch 35/150\n",
            "2/2 [==============================] - 0s 25ms/step - loss: 0.4159 - accuracy: 0.7143 - val_loss: 0.5002 - val_accuracy: 0.7381\n",
            "Epoch 36/150\n",
            "2/2 [==============================] - 0s 27ms/step - loss: 0.4129 - accuracy: 0.7381 - val_loss: 0.5026 - val_accuracy: 0.7381\n",
            "Epoch 37/150\n",
            "2/2 [==============================] - 0s 26ms/step - loss: 0.4002 - accuracy: 0.7500 - val_loss: 0.5050 - val_accuracy: 0.7619\n",
            "Epoch 38/150\n",
            "2/2 [==============================] - 0s 23ms/step - loss: 0.4039 - accuracy: 0.7917 - val_loss: 0.5077 - val_accuracy: 0.8095\n",
            "Epoch 00038: early stopping\n"
          ]
        },
        {
          "output_type": "execute_result",
          "data": {
            "text/plain": [
              "<keras.callbacks.History at 0x7f4b295b24d0>"
            ]
          },
          "metadata": {},
          "execution_count": 24
        }
      ]
    },
    {
      "cell_type": "code",
      "metadata": {
        "colab": {
          "base_uri": "https://localhost:8080/"
        },
        "id": "4cI86xe_t-TU",
        "outputId": "561e4da9-e10a-4b84-d184-c48c36204653"
      },
      "source": [
        "score, acc = model.evaluate(X_test, y_test)\n",
        "print('Test score:', score)\n",
        "print('Test accuracy:', acc)"
      ],
      "execution_count": 25,
      "outputs": [
        {
          "output_type": "stream",
          "name": "stdout",
          "text": [
            "3/3 [==============================] - 0s 4ms/step - loss: 36776.6172 - accuracy: 0.6761\n",
            "Test score: 36776.6171875\n",
            "Test accuracy: 0.6760563254356384\n"
          ]
        }
      ]
    },
    {
      "cell_type": "code",
      "metadata": {
        "id": "82WqOY_NV1_H"
      },
      "source": [
        ""
      ],
      "execution_count": null,
      "outputs": []
    },
    {
      "cell_type": "markdown",
      "metadata": {
        "id": "DfeL2-xfsfxv"
      },
      "source": [
        "#### randomforest hypertune"
      ]
    },
    {
      "cell_type": "code",
      "metadata": {
        "id": "ZEycEANaSKNf"
      },
      "source": [
        "random_grid = {'n_estimators':  [100,200,300],\n",
        "               'max_features': ['auto', 'sqrt','log2'],\n",
        "               'max_depth': [10,100,700],\n",
        "               'min_samples_split': [2, 5, 10],\n",
        "               'min_samples_leaf': [1,2, 5]}\n",
        "             \n",
        "rf_cl=RandomForestClassifier()\n",
        "rand_halv = HalvingGridSearchCV(\n",
        "    rf_cl, random_grid, scoring=\"roc_auc\", n_jobs=-1,factor=3\n",
        ")\n",
        "rand_halv_h= rand_halv.fit(X_train_std_scl, y_train)"
      ],
      "execution_count": 26,
      "outputs": []
    },
    {
      "cell_type": "code",
      "metadata": {
        "id": "SuSjlggzTjKb",
        "colab": {
          "base_uri": "https://localhost:8080/"
        },
        "outputId": "14164040-0a19-481b-aa88-f0f8d3f86938"
      },
      "source": [
        "print(rand_halv_h.best_params_)\n",
        "print(rand_halv_h.best_estimator_)\n",
        "print(rand_halv_h.best_score_)"
      ],
      "execution_count": 27,
      "outputs": [
        {
          "output_type": "stream",
          "name": "stdout",
          "text": [
            "{'max_depth': 100, 'max_features': 'auto', 'min_samples_leaf': 5, 'min_samples_split': 10, 'n_estimators': 100}\n",
            "RandomForestClassifier(max_depth=100, min_samples_leaf=5, min_samples_split=10)\n",
            "0.9139907407407406\n"
          ]
        }
      ]
    },
    {
      "cell_type": "code",
      "metadata": {
        "id": "npka4oK0Tv5s",
        "colab": {
          "base_uri": "https://localhost:8080/"
        },
        "outputId": "8aa1ab61-45e5-4f10-d621-e5ed552be9e3"
      },
      "source": [
        "rand_halv_h.score(X_test_std_scl,y_test)"
      ],
      "execution_count": 28,
      "outputs": [
        {
          "output_type": "execute_result",
          "data": {
            "text/plain": [
              "0.9021739130434783"
            ]
          },
          "metadata": {},
          "execution_count": 28
        }
      ]
    },
    {
      "cell_type": "code",
      "metadata": {
        "id": "FuDC6sgGWFZc"
      },
      "source": [
        ""
      ],
      "execution_count": null,
      "outputs": []
    },
    {
      "cell_type": "markdown",
      "metadata": {
        "id": "ZXW7fIlchxNR"
      },
      "source": [
        "# evaluating model"
      ]
    },
    {
      "cell_type": "code",
      "metadata": {
        "id": "0CQ2B4WPhnrJ",
        "colab": {
          "base_uri": "https://localhost:8080/",
          "height": 170
        },
        "outputId": "bafe054a-0486-4039-ef8a-3d84487e04f7"
      },
      "source": [
        "from sklearn.metrics import confusion_matrix\n",
        "#let us get the predictions using the classifier we had fit above\n",
        "y_pred = knn.predict(X_test)\n",
        "confusion_matrix(y_test,y_pred)\n",
        "pd.crosstab(y_test, y_pred, rownames=['True'], colnames=['Predicted'], margins=True)"
      ],
      "execution_count": null,
      "outputs": [
        {
          "output_type": "execute_result",
          "data": {
            "text/html": [
              "<div>\n",
              "<style scoped>\n",
              "    .dataframe tbody tr th:only-of-type {\n",
              "        vertical-align: middle;\n",
              "    }\n",
              "\n",
              "    .dataframe tbody tr th {\n",
              "        vertical-align: top;\n",
              "    }\n",
              "\n",
              "    .dataframe thead th {\n",
              "        text-align: right;\n",
              "    }\n",
              "</style>\n",
              "<table border=\"1\" class=\"dataframe\">\n",
              "  <thead>\n",
              "    <tr style=\"text-align: right;\">\n",
              "      <th>Predicted</th>\n",
              "      <th>0</th>\n",
              "      <th>1</th>\n",
              "      <th>All</th>\n",
              "    </tr>\n",
              "    <tr>\n",
              "      <th>True</th>\n",
              "      <th></th>\n",
              "      <th></th>\n",
              "      <th></th>\n",
              "    </tr>\n",
              "  </thead>\n",
              "  <tbody>\n",
              "    <tr>\n",
              "      <th>0</th>\n",
              "      <td>132</td>\n",
              "      <td>35</td>\n",
              "      <td>167</td>\n",
              "    </tr>\n",
              "    <tr>\n",
              "      <th>1</th>\n",
              "      <td>39</td>\n",
              "      <td>50</td>\n",
              "      <td>89</td>\n",
              "    </tr>\n",
              "    <tr>\n",
              "      <th>All</th>\n",
              "      <td>171</td>\n",
              "      <td>85</td>\n",
              "      <td>256</td>\n",
              "    </tr>\n",
              "  </tbody>\n",
              "</table>\n",
              "</div>"
            ],
            "text/plain": [
              "Predicted    0   1  All\n",
              "True                   \n",
              "0          132  35  167\n",
              "1           39  50   89\n",
              "All        171  85  256"
            ]
          },
          "metadata": {},
          "execution_count": 26
        }
      ]
    },
    {
      "cell_type": "code",
      "metadata": {
        "id": "hzG-hI_vhzX4",
        "colab": {
          "base_uri": "https://localhost:8080/",
          "height": 311
        },
        "outputId": "ae5e978e-01c3-42b9-b4da-86a4107d0d90"
      },
      "source": [
        "y_pred = knn.predict(X_test)\n",
        "from sklearn import metrics\n",
        "cnf_matrix = metrics.confusion_matrix(y_test, y_pred)\n",
        "p = sns.heatmap(pd.DataFrame(cnf_matrix), annot=True, cmap=\"YlGnBu\" ,fmt='g')\n",
        "plt.title('Confusion matrix', y=1.1)\n",
        "plt.ylabel('Actual label')\n",
        "plt.xlabel('Predicted label')"
      ],
      "execution_count": null,
      "outputs": [
        {
          "output_type": "execute_result",
          "data": {
            "text/plain": [
              "Text(0.5, 15.0, 'Predicted label')"
            ]
          },
          "metadata": {},
          "execution_count": 27
        },
        {
          "output_type": "display_data",
          "data": {
            "image/png": "[encoded data removed]",
            "text/plain": [
              "<Figure size 432x288 with 2 Axes>"
            ]
          },
          "metadata": {
            "needs_background": "light"
          }
        }
      ]
    },
    {
      "cell_type": "markdown",
      "metadata": {
        "id": "wUTJevGQiDrk"
      },
      "source": [
        "# classify report"
      ]
    },
    {
      "cell_type": "code",
      "metadata": {
        "id": "ylnO55e0h-ps",
        "colab": {
          "base_uri": "https://localhost:8080/"
        },
        "outputId": "a877e43c-e219-4c8a-8194-e24f492f2160"
      },
      "source": [
        "from sklearn.metrics import classification_report\n",
        "print(classification_report(y_test,y_pred))"
      ],
      "execution_count": null,
      "outputs": [
        {
          "output_type": "stream",
          "name": "stdout",
          "text": [
            "              precision    recall  f1-score   support\n",
            "\n",
            "           0       0.77      0.79      0.78       167\n",
            "           1       0.59      0.56      0.57        89\n",
            "\n",
            "    accuracy                           0.71       256\n",
            "   macro avg       0.68      0.68      0.68       256\n",
            "weighted avg       0.71      0.71      0.71       256\n",
            "\n"
          ]
        }
      ]
    },
    {
      "cell_type": "code",
      "metadata": {
        "id": "hVEB3-KCiGaf"
      },
      "source": [
        "from sklearn.metrics import roc_curve\n",
        "y_pred_proba = knn.predict_proba(X_test)[:,1]\n",
        "fpr, tpr, thresholds = roc_curve(y_test, y_pred_proba)"
      ],
      "execution_count": null,
      "outputs": []
    },
    {
      "cell_type": "code",
      "metadata": {
        "id": "sfvseLJdiMZu",
        "colab": {
          "base_uri": "https://localhost:8080/",
          "height": 295
        },
        "outputId": "a125c546-cd2b-402e-abde-15647fd48511"
      },
      "source": [
        "plt.plot([0,1],[0,1],'k--')\n",
        "plt.plot(fpr,tpr, label='Knn')\n",
        "plt.xlabel('fpr')\n",
        "plt.ylabel('tpr')\n",
        "plt.title('Knn(n_neighbors=11) ROC curve')\n",
        "plt.show()"
      ],
      "execution_count": null,
      "outputs": [
        {
          "output_type": "display_data",
          "data": {
            "image/png": "[encoded data removed]",
            "text/plain": [
              "<Figure size 432x288 with 1 Axes>"
            ]
          },
          "metadata": {
            "needs_background": "light"
          }
        }
      ]
    },
    {
      "cell_type": "code",
      "metadata": {
        "id": "cewLpM9NiPBk",
        "colab": {
          "base_uri": "https://localhost:8080/"
        },
        "outputId": "dc65954e-c47c-4c8f-e9f8-693dc9bec282"
      },
      "source": [
        "from sklearn.metrics import roc_auc_score\n",
        "roc_auc_score(y_test,y_pred_proba)"
      ],
      "execution_count": null,
      "outputs": [
        {
          "output_type": "execute_result",
          "data": {
            "text/plain": [
              "0.7626993204602032"
            ]
          },
          "metadata": {},
          "execution_count": 31
        }
      ]
    }
  ]
}