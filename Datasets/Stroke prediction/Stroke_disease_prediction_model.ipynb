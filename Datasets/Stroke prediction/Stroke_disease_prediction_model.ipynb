{
  "nbformat": 4,
  "nbformat_minor": 0,
  "metadata": {
    "colab": {
      "name": "Stroke disease prediction model.ipynb",
      "provenance": []
    },
    "kernelspec": {
      "name": "python3",
      "display_name": "Python 3"
    },
    "language_info": {
      "name": "python"
    }
  },
  "cells": [
    {
      "cell_type": "code",
      "metadata": {
        "id": "e4tt6OhycZUm"
      },
      "source": [
        "import pandas as pd\n",
        "import numpy as np\n",
        "import seaborn as sns\n",
        "import numpy as np\n",
        "from sklearn.linear_model import LogisticRegression\n",
        "from sklearn.tree import DecisionTreeClassifier\n",
        "from sklearn.ensemble import RandomForestClassifier\n",
        "from sklearn.svm import SVC\n",
        "from sklearn.neighbors import KNeighborsClassifier\n",
        "from xgboost import XGBClassifier\n",
        "from lightgbm import LGBMClassifier\n",
        "from sklearn.metrics import f1_score,accuracy_score,classification_report\n",
        "from sklearn.experimental import enable_halving_search_cv\n",
        "from sklearn.model_selection import GridSearchCV ,RandomizedSearchCV,HalvingGridSearchCV\n",
        "from sklearn.metrics import roc_auc_score\n",
        "import warnings\n",
        "warnings.filterwarnings('ignore')"
      ],
      "execution_count": 82,
      "outputs": []
    },
    {
      "cell_type": "code",
      "metadata": {
        "colab": {
          "base_uri": "https://localhost:8080/",
          "height": 206
        },
        "id": "OKmtlzFXckal",
        "outputId": "2da75f06-a047-44cf-8696-ffab8e68f987"
      },
      "source": [
        "data = pd.read_csv(\"https://raw.githubusercontent.com/sazzad15-1779/Datasets/master/Stroke%20prediction/healthcare-dataset-stroke-data.csv\")\n",
        "data.head()"
      ],
      "execution_count": 83,
      "outputs": [
        {
          "output_type": "execute_result",
          "data": {
            "text/html": [
              "<div>\n",
              "<style scoped>\n",
              "    .dataframe tbody tr th:only-of-type {\n",
              "        vertical-align: middle;\n",
              "    }\n",
              "\n",
              "    .dataframe tbody tr th {\n",
              "        vertical-align: top;\n",
              "    }\n",
              "\n",
              "    .dataframe thead th {\n",
              "        text-align: right;\n",
              "    }\n",
              "</style>\n",
              "<table border=\"1\" class=\"dataframe\">\n",
              "  <thead>\n",
              "    <tr style=\"text-align: right;\">\n",
              "      <th></th>\n",
              "      <th>id</th>\n",
              "      <th>gender</th>\n",
              "      <th>age</th>\n",
              "      <th>hypertension</th>\n",
              "      <th>heart_disease</th>\n",
              "      <th>ever_married</th>\n",
              "      <th>work_type</th>\n",
              "      <th>Residence_type</th>\n",
              "      <th>avg_glucose_level</th>\n",
              "      <th>bmi</th>\n",
              "      <th>smoking_status</th>\n",
              "      <th>stroke</th>\n",
              "    </tr>\n",
              "  </thead>\n",
              "  <tbody>\n",
              "    <tr>\n",
              "      <th>0</th>\n",
              "      <td>9046</td>\n",
              "      <td>Male</td>\n",
              "      <td>67.0</td>\n",
              "      <td>0</td>\n",
              "      <td>1</td>\n",
              "      <td>Yes</td>\n",
              "      <td>Private</td>\n",
              "      <td>Urban</td>\n",
              "      <td>228.69</td>\n",
              "      <td>36.6</td>\n",
              "      <td>formerly smoked</td>\n",
              "      <td>1</td>\n",
              "    </tr>\n",
              "    <tr>\n",
              "      <th>1</th>\n",
              "      <td>51676</td>\n",
              "      <td>Female</td>\n",
              "      <td>61.0</td>\n",
              "      <td>0</td>\n",
              "      <td>0</td>\n",
              "      <td>Yes</td>\n",
              "      <td>Self-employed</td>\n",
              "      <td>Rural</td>\n",
              "      <td>202.21</td>\n",
              "      <td>NaN</td>\n",
              "      <td>never smoked</td>\n",
              "      <td>1</td>\n",
              "    </tr>\n",
              "    <tr>\n",
              "      <th>2</th>\n",
              "      <td>31112</td>\n",
              "      <td>Male</td>\n",
              "      <td>80.0</td>\n",
              "      <td>0</td>\n",
              "      <td>1</td>\n",
              "      <td>Yes</td>\n",
              "      <td>Private</td>\n",
              "      <td>Rural</td>\n",
              "      <td>105.92</td>\n",
              "      <td>32.5</td>\n",
              "      <td>never smoked</td>\n",
              "      <td>1</td>\n",
              "    </tr>\n",
              "    <tr>\n",
              "      <th>3</th>\n",
              "      <td>60182</td>\n",
              "      <td>Female</td>\n",
              "      <td>49.0</td>\n",
              "      <td>0</td>\n",
              "      <td>0</td>\n",
              "      <td>Yes</td>\n",
              "      <td>Private</td>\n",
              "      <td>Urban</td>\n",
              "      <td>171.23</td>\n",
              "      <td>34.4</td>\n",
              "      <td>smokes</td>\n",
              "      <td>1</td>\n",
              "    </tr>\n",
              "    <tr>\n",
              "      <th>4</th>\n",
              "      <td>1665</td>\n",
              "      <td>Female</td>\n",
              "      <td>79.0</td>\n",
              "      <td>1</td>\n",
              "      <td>0</td>\n",
              "      <td>Yes</td>\n",
              "      <td>Self-employed</td>\n",
              "      <td>Rural</td>\n",
              "      <td>174.12</td>\n",
              "      <td>24.0</td>\n",
              "      <td>never smoked</td>\n",
              "      <td>1</td>\n",
              "    </tr>\n",
              "  </tbody>\n",
              "</table>\n",
              "</div>"
            ],
            "text/plain": [
              "      id  gender   age  ...   bmi   smoking_status stroke\n",
              "0   9046    Male  67.0  ...  36.6  formerly smoked      1\n",
              "1  51676  Female  61.0  ...   NaN     never smoked      1\n",
              "2  31112    Male  80.0  ...  32.5     never smoked      1\n",
              "3  60182  Female  49.0  ...  34.4           smokes      1\n",
              "4   1665  Female  79.0  ...  24.0     never smoked      1\n",
              "\n",
              "[5 rows x 12 columns]"
            ]
          },
          "metadata": {},
          "execution_count": 83
        }
      ]
    },
    {
      "cell_type": "code",
      "metadata": {
        "colab": {
          "base_uri": "https://localhost:8080/"
        },
        "id": "YdYorWB7c-9u",
        "outputId": "8e9d3fe9-44cc-4c71-bf96-08e20cc73bf0"
      },
      "source": [
        "#bmi have null\n",
        "#age,bmi have outlier\n",
        "data.isnull().sum()"
      ],
      "execution_count": 84,
      "outputs": [
        {
          "output_type": "execute_result",
          "data": {
            "text/plain": [
              "id                     0\n",
              "gender                 0\n",
              "age                    0\n",
              "hypertension           0\n",
              "heart_disease          0\n",
              "ever_married           0\n",
              "work_type              0\n",
              "Residence_type         0\n",
              "avg_glucose_level      0\n",
              "bmi                  201\n",
              "smoking_status         0\n",
              "stroke                 0\n",
              "dtype: int64"
            ]
          },
          "metadata": {},
          "execution_count": 84
        }
      ]
    },
    {
      "cell_type": "code",
      "metadata": {
        "id": "mw9GpKB4dbR9"
      },
      "source": [
        "columns=data.columns"
      ],
      "execution_count": 4,
      "outputs": []
    },
    {
      "cell_type": "code",
      "metadata": {
        "colab": {
          "base_uri": "https://localhost:8080/"
        },
        "id": "8y6mfxg6diWN",
        "outputId": "212a2e7c-d0c7-48fa-ef60-2157fe0ce3f7"
      },
      "source": [
        "for var in columns:\n",
        "  print(var)\n",
        "  print(data[var].value_counts())"
      ],
      "execution_count": 5,
      "outputs": [
        {
          "output_type": "stream",
          "name": "stdout",
          "text": [
            "id\n",
            "16380    1\n",
            "58061    1\n",
            "69918    1\n",
            "23238    1\n",
            "4807     1\n",
            "        ..\n",
            "35085    1\n",
            "44375    1\n",
            "5464     1\n",
            "50522    1\n",
            "49152    1\n",
            "Name: id, Length: 5110, dtype: int64\n",
            "gender\n",
            "Female    2994\n",
            "Male      2115\n",
            "Other        1\n",
            "Name: gender, dtype: int64\n",
            "age\n",
            "78.00    102\n",
            "57.00     95\n",
            "52.00     90\n",
            "54.00     87\n",
            "51.00     86\n",
            "        ... \n",
            "1.40       3\n",
            "0.48       3\n",
            "0.16       3\n",
            "0.08       2\n",
            "0.40       2\n",
            "Name: age, Length: 104, dtype: int64\n",
            "hypertension\n",
            "0    4612\n",
            "1     498\n",
            "Name: hypertension, dtype: int64\n",
            "heart_disease\n",
            "0    4834\n",
            "1     276\n",
            "Name: heart_disease, dtype: int64\n",
            "ever_married\n",
            "Yes    3353\n",
            "No     1757\n",
            "Name: ever_married, dtype: int64\n",
            "work_type\n",
            "Private          2925\n",
            "Self-employed     819\n",
            "children          687\n",
            "Govt_job          657\n",
            "Never_worked       22\n",
            "Name: work_type, dtype: int64\n",
            "Residence_type\n",
            "Urban    2596\n",
            "Rural    2514\n",
            "Name: Residence_type, dtype: int64\n",
            "avg_glucose_level\n",
            "93.88     6\n",
            "83.16     5\n",
            "91.85     5\n",
            "91.68     5\n",
            "73.00     5\n",
            "         ..\n",
            "162.14    1\n",
            "111.77    1\n",
            "90.91     1\n",
            "103.50    1\n",
            "88.02     1\n",
            "Name: avg_glucose_level, Length: 3979, dtype: int64\n",
            "bmi\n",
            "28.7    41\n",
            "28.4    38\n",
            "26.7    37\n",
            "27.7    37\n",
            "26.1    37\n",
            "        ..\n",
            "13.9     1\n",
            "49.9     1\n",
            "40.6     1\n",
            "52.3     1\n",
            "44.1     1\n",
            "Name: bmi, Length: 418, dtype: int64\n",
            "smoking_status\n",
            "never smoked       1892\n",
            "Unknown            1544\n",
            "formerly smoked     885\n",
            "smokes              789\n",
            "Name: smoking_status, dtype: int64\n",
            "stroke\n",
            "0    4861\n",
            "1     249\n",
            "Name: stroke, dtype: int64\n"
          ]
        }
      ]
    },
    {
      "cell_type": "code",
      "metadata": {
        "id": "6xL7J0R7d79c",
        "colab": {
          "base_uri": "https://localhost:8080/"
        },
        "outputId": "77978474-d28c-47f4-81df-b83552002c85"
      },
      "source": [
        "data.bmi.value_counts"
      ],
      "execution_count": 6,
      "outputs": [
        {
          "output_type": "execute_result",
          "data": {
            "text/plain": [
              "<bound method IndexOpsMixin.value_counts of 0       36.6\n",
              "1        NaN\n",
              "2       32.5\n",
              "3       34.4\n",
              "4       24.0\n",
              "        ... \n",
              "5105     NaN\n",
              "5106    40.0\n",
              "5107    30.6\n",
              "5108    25.6\n",
              "5109    26.2\n",
              "Name: bmi, Length: 5110, dtype: float64>"
            ]
          },
          "metadata": {},
          "execution_count": 6
        }
      ]
    },
    {
      "cell_type": "markdown",
      "metadata": {
        "id": "5I5juToTQ2ym"
      },
      "source": [
        "# handling unknown values of smoking status"
      ]
    },
    {
      "cell_type": "code",
      "metadata": {
        "colab": {
          "base_uri": "https://localhost:8080/",
          "height": 423
        },
        "id": "NRf8bI-GfJnM",
        "outputId": "134726c3-798d-490f-e6e3-04d2751ddc73"
      },
      "source": [
        "data[data['smoking_status']=='smokes']"
      ],
      "execution_count": 7,
      "outputs": [
        {
          "output_type": "execute_result",
          "data": {
            "text/html": [
              "<div>\n",
              "<style scoped>\n",
              "    .dataframe tbody tr th:only-of-type {\n",
              "        vertical-align: middle;\n",
              "    }\n",
              "\n",
              "    .dataframe tbody tr th {\n",
              "        vertical-align: top;\n",
              "    }\n",
              "\n",
              "    .dataframe thead th {\n",
              "        text-align: right;\n",
              "    }\n",
              "</style>\n",
              "<table border=\"1\" class=\"dataframe\">\n",
              "  <thead>\n",
              "    <tr style=\"text-align: right;\">\n",
              "      <th></th>\n",
              "      <th>id</th>\n",
              "      <th>gender</th>\n",
              "      <th>age</th>\n",
              "      <th>hypertension</th>\n",
              "      <th>heart_disease</th>\n",
              "      <th>ever_married</th>\n",
              "      <th>work_type</th>\n",
              "      <th>Residence_type</th>\n",
              "      <th>avg_glucose_level</th>\n",
              "      <th>bmi</th>\n",
              "      <th>smoking_status</th>\n",
              "      <th>stroke</th>\n",
              "    </tr>\n",
              "  </thead>\n",
              "  <tbody>\n",
              "    <tr>\n",
              "      <th>3</th>\n",
              "      <td>60182</td>\n",
              "      <td>Female</td>\n",
              "      <td>49.0</td>\n",
              "      <td>0</td>\n",
              "      <td>0</td>\n",
              "      <td>Yes</td>\n",
              "      <td>Private</td>\n",
              "      <td>Urban</td>\n",
              "      <td>171.23</td>\n",
              "      <td>34.4</td>\n",
              "      <td>smokes</td>\n",
              "      <td>1</td>\n",
              "    </tr>\n",
              "    <tr>\n",
              "      <th>11</th>\n",
              "      <td>12095</td>\n",
              "      <td>Female</td>\n",
              "      <td>61.0</td>\n",
              "      <td>0</td>\n",
              "      <td>1</td>\n",
              "      <td>Yes</td>\n",
              "      <td>Govt_job</td>\n",
              "      <td>Rural</td>\n",
              "      <td>120.46</td>\n",
              "      <td>36.8</td>\n",
              "      <td>smokes</td>\n",
              "      <td>1</td>\n",
              "    </tr>\n",
              "    <tr>\n",
              "      <th>12</th>\n",
              "      <td>12175</td>\n",
              "      <td>Female</td>\n",
              "      <td>54.0</td>\n",
              "      <td>0</td>\n",
              "      <td>0</td>\n",
              "      <td>Yes</td>\n",
              "      <td>Private</td>\n",
              "      <td>Urban</td>\n",
              "      <td>104.51</td>\n",
              "      <td>27.3</td>\n",
              "      <td>smokes</td>\n",
              "      <td>1</td>\n",
              "    </tr>\n",
              "    <tr>\n",
              "      <th>16</th>\n",
              "      <td>56112</td>\n",
              "      <td>Male</td>\n",
              "      <td>64.0</td>\n",
              "      <td>0</td>\n",
              "      <td>1</td>\n",
              "      <td>Yes</td>\n",
              "      <td>Private</td>\n",
              "      <td>Urban</td>\n",
              "      <td>191.61</td>\n",
              "      <td>37.5</td>\n",
              "      <td>smokes</td>\n",
              "      <td>1</td>\n",
              "    </tr>\n",
              "    <tr>\n",
              "      <th>17</th>\n",
              "      <td>34120</td>\n",
              "      <td>Male</td>\n",
              "      <td>75.0</td>\n",
              "      <td>1</td>\n",
              "      <td>0</td>\n",
              "      <td>Yes</td>\n",
              "      <td>Private</td>\n",
              "      <td>Urban</td>\n",
              "      <td>221.29</td>\n",
              "      <td>25.8</td>\n",
              "      <td>smokes</td>\n",
              "      <td>1</td>\n",
              "    </tr>\n",
              "    <tr>\n",
              "      <th>...</th>\n",
              "      <td>...</td>\n",
              "      <td>...</td>\n",
              "      <td>...</td>\n",
              "      <td>...</td>\n",
              "      <td>...</td>\n",
              "      <td>...</td>\n",
              "      <td>...</td>\n",
              "      <td>...</td>\n",
              "      <td>...</td>\n",
              "      <td>...</td>\n",
              "      <td>...</td>\n",
              "      <td>...</td>\n",
              "    </tr>\n",
              "    <tr>\n",
              "      <th>5082</th>\n",
              "      <td>24552</td>\n",
              "      <td>Female</td>\n",
              "      <td>44.0</td>\n",
              "      <td>0</td>\n",
              "      <td>0</td>\n",
              "      <td>Yes</td>\n",
              "      <td>Private</td>\n",
              "      <td>Rural</td>\n",
              "      <td>72.03</td>\n",
              "      <td>37.5</td>\n",
              "      <td>smokes</td>\n",
              "      <td>0</td>\n",
              "    </tr>\n",
              "    <tr>\n",
              "      <th>5084</th>\n",
              "      <td>29540</td>\n",
              "      <td>Male</td>\n",
              "      <td>67.0</td>\n",
              "      <td>0</td>\n",
              "      <td>0</td>\n",
              "      <td>Yes</td>\n",
              "      <td>Private</td>\n",
              "      <td>Rural</td>\n",
              "      <td>97.04</td>\n",
              "      <td>26.9</td>\n",
              "      <td>smokes</td>\n",
              "      <td>0</td>\n",
              "    </tr>\n",
              "    <tr>\n",
              "      <th>5090</th>\n",
              "      <td>4211</td>\n",
              "      <td>Male</td>\n",
              "      <td>26.0</td>\n",
              "      <td>0</td>\n",
              "      <td>0</td>\n",
              "      <td>No</td>\n",
              "      <td>Govt_job</td>\n",
              "      <td>Rural</td>\n",
              "      <td>100.85</td>\n",
              "      <td>21.0</td>\n",
              "      <td>smokes</td>\n",
              "      <td>0</td>\n",
              "    </tr>\n",
              "    <tr>\n",
              "      <th>5093</th>\n",
              "      <td>32235</td>\n",
              "      <td>Female</td>\n",
              "      <td>45.0</td>\n",
              "      <td>1</td>\n",
              "      <td>0</td>\n",
              "      <td>Yes</td>\n",
              "      <td>Govt_job</td>\n",
              "      <td>Rural</td>\n",
              "      <td>95.02</td>\n",
              "      <td>NaN</td>\n",
              "      <td>smokes</td>\n",
              "      <td>0</td>\n",
              "    </tr>\n",
              "    <tr>\n",
              "      <th>5099</th>\n",
              "      <td>7293</td>\n",
              "      <td>Male</td>\n",
              "      <td>40.0</td>\n",
              "      <td>0</td>\n",
              "      <td>0</td>\n",
              "      <td>Yes</td>\n",
              "      <td>Private</td>\n",
              "      <td>Rural</td>\n",
              "      <td>83.94</td>\n",
              "      <td>NaN</td>\n",
              "      <td>smokes</td>\n",
              "      <td>0</td>\n",
              "    </tr>\n",
              "  </tbody>\n",
              "</table>\n",
              "<p>789 rows × 12 columns</p>\n",
              "</div>"
            ],
            "text/plain": [
              "         id  gender   age  ...   bmi  smoking_status stroke\n",
              "3     60182  Female  49.0  ...  34.4          smokes      1\n",
              "11    12095  Female  61.0  ...  36.8          smokes      1\n",
              "12    12175  Female  54.0  ...  27.3          smokes      1\n",
              "16    56112    Male  64.0  ...  37.5          smokes      1\n",
              "17    34120    Male  75.0  ...  25.8          smokes      1\n",
              "...     ...     ...   ...  ...   ...             ...    ...\n",
              "5082  24552  Female  44.0  ...  37.5          smokes      0\n",
              "5084  29540    Male  67.0  ...  26.9          smokes      0\n",
              "5090   4211    Male  26.0  ...  21.0          smokes      0\n",
              "5093  32235  Female  45.0  ...   NaN          smokes      0\n",
              "5099   7293    Male  40.0  ...   NaN          smokes      0\n",
              "\n",
              "[789 rows x 12 columns]"
            ]
          },
          "metadata": {},
          "execution_count": 7
        }
      ]
    },
    {
      "cell_type": "code",
      "metadata": {
        "colab": {
          "base_uri": "https://localhost:8080/"
        },
        "id": "a_Zj6Z6Vffua",
        "outputId": "923082c4-f145-4328-9af2-9176778f3dea"
      },
      "source": [
        "data.smoking_status.unique()"
      ],
      "execution_count": 8,
      "outputs": [
        {
          "output_type": "execute_result",
          "data": {
            "text/plain": [
              "array(['formerly smoked', 'never smoked', 'smokes', 'Unknown'],\n",
              "      dtype=object)"
            ]
          },
          "metadata": {},
          "execution_count": 8
        }
      ]
    },
    {
      "cell_type": "code",
      "metadata": {
        "colab": {
          "base_uri": "https://localhost:8080/"
        },
        "id": "NcZHRu08geuH",
        "outputId": "57a14357-1786-4ffd-d8b9-e7972faca0d3"
      },
      "source": [
        "data.smoking_status.value_counts()"
      ],
      "execution_count": 9,
      "outputs": [
        {
          "output_type": "execute_result",
          "data": {
            "text/plain": [
              "never smoked       1892\n",
              "Unknown            1544\n",
              "formerly smoked     885\n",
              "smokes              789\n",
              "Name: smoking_status, dtype: int64"
            ]
          },
          "metadata": {},
          "execution_count": 9
        }
      ]
    },
    {
      "cell_type": "code",
      "metadata": {
        "id": "AmWrNqFHjM-B",
        "colab": {
          "base_uri": "https://localhost:8080/"
        },
        "outputId": "9c62c0ab-a08e-447e-8eb0-1798479fffc9"
      },
      "source": [
        "m=[]\n",
        "for i,x in enumerate(data.smoking_status):\n",
        "  if data.work_type.iloc[i]=='children' and x=='Unknown':\n",
        "    m.append('never smoked')\n",
        "  else:\n",
        "    m.append(x)\n",
        "print(m)\n",
        "len(m)"
      ],
      "execution_count": 10,
      "outputs": [
        {
          "output_type": "stream",
          "name": "stdout",
          "text": [
            "['formerly smoked', 'never smoked', 'never smoked', 'smokes', 'never smoked', 'formerly smoked', 'never smoked', 'never smoked', 'Unknown', 'Unknown', 'never smoked', 'smokes', 'smokes', 'Unknown', 'never smoked', 'never smoked', 'smokes', 'smokes', 'never smoked', 'Unknown', 'smokes', 'never smoked', 'never smoked', 'Unknown', 'formerly smoked', 'never smoked', 'formerly smoked', 'Unknown', 'smokes', 'formerly smoked', 'smokes', 'Unknown', 'never smoked', 'formerly smoked', 'never smoked', 'formerly smoked', 'formerly smoked', 'formerly smoked', 'Unknown', 'never smoked', 'formerly smoked', 'never smoked', 'smokes', 'formerly smoked', 'smokes', 'never smoked', 'Unknown', 'formerly smoked', 'never smoked', 'smokes', 'Unknown', 'formerly smoked', 'never smoked', 'never smoked', 'never smoked', 'formerly smoked', 'never smoked', 'formerly smoked', 'never smoked', 'never smoked', 'formerly smoked', 'never smoked', 'smokes', 'formerly smoked', 'Unknown', 'never smoked', 'never smoked', 'Unknown', 'formerly smoked', 'never smoked', 'formerly smoked', 'formerly smoked', 'formerly smoked', 'never smoked', 'never smoked', 'formerly smoked', 'never smoked', 'formerly smoked', 'never smoked', 'Unknown', 'Unknown', 'Unknown', 'never smoked', 'never smoked', 'Unknown', 'smokes', 'smokes', 'formerly smoked', 'formerly smoked', 'Unknown', 'never smoked', 'never smoked', 'never smoked', 'Unknown', 'never smoked', 'never smoked', 'formerly smoked', 'smokes', 'formerly smoked', 'never smoked', 'Unknown', 'never smoked', 'formerly smoked', 'Unknown', 'Unknown', 'smokes', 'formerly smoked', 'smokes', 'never smoked', 'never smoked', 'formerly smoked', 'smokes', 'formerly smoked', 'never smoked', 'Unknown', 'never smoked', 'smokes', 'smokes', 'formerly smoked', 'never smoked', 'formerly smoked', 'Unknown', 'smokes', 'never smoked', 'Unknown', 'never smoked', 'formerly smoked', 'Unknown', 'formerly smoked', 'Unknown', 'never smoked', 'never smoked', 'never smoked', 'formerly smoked', 'never smoked', 'never smoked', 'formerly smoked', 'Unknown', 'formerly smoked', 'Unknown', 'never smoked', 'smokes', 'never smoked', 'never smoked', 'never smoked', 'formerly smoked', 'formerly smoked', 'never smoked', 'never smoked', 'never smoked', 'Unknown', 'formerly smoked', 'never smoked', 'smokes', 'never smoked', 'never smoked', 'smokes', 'smokes', 'formerly smoked', 'never smoked', 'formerly smoked', 'smokes', 'never smoked', 'never smoked', 'formerly smoked', 'formerly smoked', 'Unknown', 'never smoked', 'formerly smoked', 'never smoked', 'formerly smoked', 'never smoked', 'smokes', 'formerly smoked', 'formerly smoked', 'never smoked', 'never smoked', 'formerly smoked', 'Unknown', 'Unknown', 'never smoked', 'formerly smoked', 'smokes', 'Unknown', 'smokes', 'formerly smoked', 'formerly smoked', 'formerly smoked', 'formerly smoked', 'Unknown', 'formerly smoked', 'formerly smoked', 'smokes', 'smokes', 'smokes', 'formerly smoked', 'formerly smoked', 'Unknown', 'formerly smoked', 'never smoked', 'Unknown', 'formerly smoked', 'never smoked', 'never smoked', 'smokes', 'formerly smoked', 'never smoked', 'never smoked', 'Unknown', 'Unknown', 'never smoked', 'formerly smoked', 'never smoked', 'never smoked', 'never smoked', 'smokes', 'never smoked', 'smokes', 'smokes', 'never smoked', 'smokes', 'never smoked', 'formerly smoked', 'smokes', 'smokes', 'Unknown', 'never smoked', 'never smoked', 'smokes', 'never smoked', 'never smoked', 'smokes', 'never smoked', 'formerly smoked', 'Unknown', 'Unknown', 'Unknown', 'formerly smoked', 'never smoked', 'smokes', 'formerly smoked', 'formerly smoked', 'never smoked', 'formerly smoked', 'Unknown', 'never smoked', 'formerly smoked', 'Unknown', 'Unknown', 'never smoked', 'never smoked', 'Unknown', 'formerly smoked', 'Unknown', 'Unknown', 'formerly smoked', 'never smoked', 'smokes', 'never smoked', 'Unknown', 'formerly smoked', 'never smoked', 'formerly smoked', 'never smoked', 'never smoked', 'smokes', 'never smoked', 'smokes', 'smokes', 'Unknown', 'smokes', 'smokes', 'formerly smoked', 'never smoked', 'never smoked', 'smokes', 'never smoked', 'never smoked', 'never smoked', 'Unknown', 'Unknown', 'smokes', 'never smoked', 'Unknown', 'Unknown', 'formerly smoked', 'never smoked', 'Unknown', 'Unknown', 'smokes', 'never smoked', 'never smoked', 'never smoked', 'formerly smoked', 'Unknown', 'smokes', 'never smoked', 'smokes', 'never smoked', 'Unknown', 'Unknown', 'formerly smoked', 'never smoked', 'smokes', 'smokes', 'smokes', 'never smoked', 'Unknown', 'smokes', 'formerly smoked', 'Unknown', 'Unknown', 'Unknown', 'smokes', 'never smoked', 'formerly smoked', 'formerly smoked', 'never smoked', 'formerly smoked', 'never smoked', 'Unknown', 'never smoked', 'Unknown', 'Unknown', 'formerly smoked', 'formerly smoked', 'never smoked', 'never smoked', 'smokes', 'smokes', 'never smoked', 'formerly smoked', 'smokes', 'formerly smoked', 'Unknown', 'never smoked', 'Unknown', 'never smoked', 'never smoked', 'never smoked', 'never smoked', 'formerly smoked', 'formerly smoked', 'formerly smoked', 'never smoked', 'never smoked', 'never smoked', 'formerly smoked', 'never smoked', 'smokes', 'formerly smoked', 'never smoked', 'never smoked', 'never smoked', 'smokes', 'never smoked', 'smokes', 'never smoked', 'never smoked', 'smokes', 'never smoked', 'never smoked', 'formerly smoked', 'never smoked', 'Unknown', 'formerly smoked', 'never smoked', 'never smoked', 'never smoked', 'never smoked', 'never smoked', 'never smoked', 'never smoked', 'formerly smoked', 'smokes', 'never smoked', 'never smoked', 'Unknown', 'never smoked', 'formerly smoked', 'never smoked', 'never smoked', 'never smoked', 'never smoked', 'never smoked', 'never smoked', 'never smoked', 'never smoked', 'formerly smoked', 'formerly smoked', 'never smoked', 'smokes', 'never smoked', 'never smoked', 'never smoked', 'never smoked', 'never smoked', 'never smoked', 'smokes', 'formerly smoked', 'never smoked', 'never smoked', 'Unknown', 'smokes', 'Unknown', 'never smoked', 'Unknown', 'never smoked', 'never smoked', 'Unknown', 'Unknown', 'never smoked', 'smokes', 'Unknown', 'never smoked', 'smokes', 'never smoked', 'never smoked', 'never smoked', 'never smoked', 'Unknown', 'never smoked', 'Unknown', 'formerly smoked', 'never smoked', 'never smoked', 'never smoked', 'smokes', 'smokes', 'formerly smoked', 'never smoked', 'formerly smoked', 'smokes', 'never smoked', 'never smoked', 'never smoked', 'formerly smoked', 'never smoked', 'formerly smoked', 'never smoked', 'never smoked', 'never smoked', 'Unknown', 'Unknown', 'Unknown', 'never smoked', 'Unknown', 'never smoked', 'Unknown', 'never smoked', 'smokes', 'never smoked', 'never smoked', 'Unknown', 'never smoked', 'never smoked', 'formerly smoked', 'smokes', 'Unknown', 'never smoked', 'never smoked', 'never smoked', 'formerly smoked', 'never smoked', 'never smoked', 'smokes', 'smokes', 'never smoked', 'never smoked', 'Unknown', 'never smoked', 'never smoked', 'smokes', 'never smoked', 'smokes', 'never smoked', 'Unknown', 'Unknown', 'formerly smoked', 'smokes', 'never smoked', 'Unknown', 'Unknown', 'never smoked', 'smokes', 'never smoked', 'never smoked', 'Unknown', 'formerly smoked', 'Unknown', 'Unknown', 'formerly smoked', 'Unknown', 'never smoked', 'formerly smoked', 'never smoked', 'never smoked', 'never smoked', 'never smoked', 'smokes', 'formerly smoked', 'formerly smoked', 'never smoked', 'Unknown', 'smokes', 'smokes', 'formerly smoked', 'Unknown', 'Unknown', 'never smoked', 'formerly smoked', 'smokes', 'smokes', 'smokes', 'smokes', 'smokes', 'never smoked', 'formerly smoked', 'Unknown', 'never smoked', 'never smoked', 'never smoked', 'smokes', 'never smoked', 'never smoked', 'never smoked', 'never smoked', 'never smoked', 'formerly smoked', 'Unknown', 'formerly smoked', 'never smoked', 'Unknown', 'never smoked', 'Unknown', 'never smoked', 'never smoked', 'Unknown', 'never smoked', 'Unknown', 'never smoked', 'formerly smoked', 'formerly smoked', 'Unknown', 'never smoked', 'Unknown', 'never smoked', 'smokes', 'never smoked', 'never smoked', 'never smoked', 'formerly smoked', 'Unknown', 'never smoked', 'never smoked', 'never smoked', 'never smoked', 'Unknown', 'never smoked', 'never smoked', 'never smoked', 'never smoked', 'never smoked', 'never smoked', 'never smoked', 'never smoked', 'Unknown', 'formerly smoked', 'Unknown', 'never smoked', 'never smoked', 'formerly smoked', 'formerly smoked', 'smokes', 'Unknown', 'never smoked', 'smokes', 'smokes', 'formerly smoked', 'never smoked', 'formerly smoked', 'Unknown', 'Unknown', 'formerly smoked', 'never smoked', 'formerly smoked', 'Unknown', 'never smoked', 'formerly smoked', 'smokes', 'Unknown', 'smokes', 'never smoked', 'never smoked', 'smokes', 'smokes', 'formerly smoked', 'never smoked', 'never smoked', 'never smoked', 'never smoked', 'never smoked', 'never smoked', 'never smoked', 'smokes', 'never smoked', 'never smoked', 'never smoked', 'smokes', 'never smoked', 'Unknown', 'never smoked', 'Unknown', 'smokes', 'never smoked', 'Unknown', 'never smoked', 'smokes', 'formerly smoked', 'smokes', 'never smoked', 'never smoked', 'never smoked', 'Unknown', 'smokes', 'never smoked', 'smokes', 'never smoked', 'never smoked', 'smokes', 'never smoked', 'never smoked', 'never smoked', 'Unknown', 'Unknown', 'never smoked', 'formerly smoked', 'never smoked', 'formerly smoked', 'Unknown', 'never smoked', 'never smoked', 'formerly smoked', 'never smoked', 'never smoked', 'Unknown', 'formerly smoked', 'formerly smoked', 'smokes', 'never smoked', 'never smoked', 'formerly smoked', 'formerly smoked', 'formerly smoked', 'formerly smoked', 'never smoked', 'never smoked', 'never smoked', 'never smoked', 'smokes', 'Unknown', 'never smoked', 'Unknown', 'never smoked', 'never smoked', 'never smoked', 'never smoked', 'never smoked', 'formerly smoked', 'Unknown', 'never smoked', 'never smoked', 'never smoked', 'never smoked', 'never smoked', 'never smoked', 'formerly smoked', 'smokes', 'Unknown', 'never smoked', 'never smoked', 'never smoked', 'never smoked', 'never smoked', 'never smoked', 'Unknown', 'formerly smoked', 'formerly smoked', 'never smoked', 'never smoked', 'never smoked', 'Unknown', 'never smoked', 'never smoked', 'formerly smoked', 'never smoked', 'never smoked', 'Unknown', 'smokes', 'never smoked', 'never smoked', 'never smoked', 'never smoked', 'smokes', 'Unknown', 'smokes', 'smokes', 'formerly smoked', 'formerly smoked', 'formerly smoked', 'Unknown', 'formerly smoked', 'never smoked', 'formerly smoked', 'Unknown', 'never smoked', 'smokes', 'never smoked', 'never smoked', 'formerly smoked', 'formerly smoked', 'Unknown', 'never smoked', 'smokes', 'smokes', 'smokes', 'smokes', 'never smoked', 'never smoked', 'never smoked', 'never smoked', 'never smoked', 'formerly smoked', 'never smoked', 'smokes', 'never smoked', 'never smoked', 'smokes', 'Unknown', 'smokes', 'never smoked', 'never smoked', 'never smoked', 'smokes', 'never smoked', 'never smoked', 'smokes', 'never smoked', 'never smoked', 'never smoked', 'never smoked', 'formerly smoked', 'Unknown', 'never smoked', 'Unknown', 'Unknown', 'Unknown', 'never smoked', 'never smoked', 'formerly smoked', 'Unknown', 'never smoked', 'smokes', 'never smoked', 'smokes', 'never smoked', 'never smoked', 'Unknown', 'smokes', 'smokes', 'never smoked', 'never smoked', 'Unknown', 'never smoked', 'formerly smoked', 'Unknown', 'never smoked', 'formerly smoked', 'never smoked', 'never smoked', 'never smoked', 'formerly smoked', 'never smoked', 'never smoked', 'never smoked', 'Unknown', 'formerly smoked', 'never smoked', 'never smoked', 'never smoked', 'never smoked', 'Unknown', 'never smoked', 'never smoked', 'smokes', 'formerly smoked', 'never smoked', 'never smoked', 'smokes', 'never smoked', 'smokes', 'never smoked', 'formerly smoked', 'formerly smoked', 'Unknown', 'Unknown', 'never smoked', 'never smoked', 'Unknown', 'never smoked', 'never smoked', 'Unknown', 'never smoked', 'never smoked', 'never smoked', 'smokes', 'never smoked', 'never smoked', 'formerly smoked', 'never smoked', 'Unknown', 'formerly smoked', 'formerly smoked', 'never smoked', 'never smoked', 'smokes', 'never smoked', 'never smoked', 'Unknown', 'never smoked', 'never smoked', 'never smoked', 'Unknown', 'never smoked', 'smokes', 'formerly smoked', 'formerly smoked', 'never smoked', 'never smoked', 'never smoked', 'never smoked', 'never smoked', 'formerly smoked', 'never smoked', 'never smoked', 'never smoked', 'never smoked', 'never smoked', 'Unknown', 'formerly smoked', 'never smoked', 'smokes', 'never smoked', 'never smoked', 'never smoked', 'smokes', 'never smoked', 'never smoked', 'smokes', 'smokes', 'smokes', 'never smoked', 'smokes', 'formerly smoked', 'never smoked', 'smokes', 'never smoked', 'never smoked', 'Unknown', 'never smoked', 'formerly smoked', 'never smoked', 'never smoked', 'never smoked', 'never smoked', 'formerly smoked', 'never smoked', 'never smoked', 'never smoked', 'formerly smoked', 'never smoked', 'formerly smoked', 'smokes', 'never smoked', 'formerly smoked', 'formerly smoked', 'never smoked', 'never smoked', 'never smoked', 'formerly smoked', 'smokes', 'never smoked', 'never smoked', 'never smoked', 'formerly smoked', 'Unknown', 'smokes', 'never smoked', 'Unknown', 'never smoked', 'never smoked', 'smokes', 'Unknown', 'smokes', 'formerly smoked', 'never smoked', 'formerly smoked', 'never smoked', 'smokes', 'Unknown', 'Unknown', 'smokes', 'formerly smoked', 'never smoked', 'smokes', 'formerly smoked', 'formerly smoked', 'formerly smoked', 'Unknown', 'never smoked', 'smokes', 'never smoked', 'never smoked', 'smokes', 'never smoked', 'never smoked', 'Unknown', 'Unknown', 'smokes', 'formerly smoked', 'never smoked', 'never smoked', 'never smoked', 'never smoked', 'never smoked', 'never smoked', 'never smoked', 'Unknown', 'never smoked', 'Unknown', 'never smoked', 'never smoked', 'never smoked', 'never smoked', 'Unknown', 'never smoked', 'never smoked', 'smokes', 'smokes', 'never smoked', 'Unknown', 'never smoked', 'smokes', 'never smoked', 'never smoked', 'smokes', 'never smoked', 'never smoked', 'smokes', 'never smoked', 'never smoked', 'never smoked', 'Unknown', 'never smoked', 'never smoked', 'formerly smoked', 'never smoked', 'never smoked', 'smokes', 'never smoked', 'formerly smoked', 'never smoked', 'never smoked', 'Unknown', 'never smoked', 'smokes', 'formerly smoked', 'never smoked', 'never smoked', 'smokes', 'never smoked', 'never smoked', 'never smoked', 'smokes', 'never smoked', 'never smoked', 'never smoked', 'formerly smoked', 'Unknown', 'Unknown', 'formerly smoked', 'Unknown', 'formerly smoked', 'Unknown', 'never smoked', 'never smoked', 'never smoked', 'never smoked', 'Unknown', 'never smoked', 'never smoked', 'never smoked', 'never smoked', 'never smoked', 'formerly smoked', 'smokes', 'never smoked', 'Unknown', 'Unknown', 'never smoked', 'never smoked', 'formerly smoked', 'never smoked', 'Unknown', 'Unknown', 'smokes', 'formerly smoked', 'never smoked', 'Unknown', 'never smoked', 'Unknown', 'never smoked', 'never smoked', 'never smoked', 'never smoked', 'Unknown', 'formerly smoked', 'smokes', 'never smoked', 'never smoked', 'smokes', 'never smoked', 'never smoked', 'smokes', 'smokes', 'formerly smoked', 'never smoked', 'never smoked', 'never smoked', 'Unknown', 'Unknown', 'smokes', 'never smoked', 'formerly smoked', 'never smoked', 'Unknown', 'Unknown', 'never smoked', 'formerly smoked', 'never smoked', 'smokes', 'never smoked', 'formerly smoked', 'never smoked', 'formerly smoked', 'never smoked', 'never smoked', 'never smoked', 'never smoked', 'formerly smoked', 'never smoked', 'formerly smoked', 'Unknown', 'smokes', 'Unknown', 'formerly smoked', 'never smoked', 'never smoked', 'Unknown', 'never smoked', 'never smoked', 'Unknown', 'never smoked', 'never smoked', 'never smoked', 'never smoked', 'never smoked', 'formerly smoked', 'never smoked', 'smokes', 'never smoked', 'Unknown', 'never smoked', 'formerly smoked', 'never smoked', 'never smoked', 'Unknown', 'never smoked', 'formerly smoked', 'Unknown', 'never smoked', 'Unknown', 'formerly smoked', 'never smoked', 'smokes', 'never smoked', 'Unknown', 'formerly smoked', 'Unknown', 'Unknown', 'never smoked', 'never smoked', 'smokes', 'Unknown', 'Unknown', 'never smoked', 'never smoked', 'never smoked', 'Unknown', 'never smoked', 'formerly smoked', 'never smoked', 'Unknown', 'smokes', 'never smoked', 'never smoked', 'smokes', 'formerly smoked', 'smokes', 'Unknown', 'never smoked', 'never smoked', 'formerly smoked', 'never smoked', 'never smoked', 'never smoked', 'Unknown', 'never smoked', 'formerly smoked', 'never smoked', 'formerly smoked', 'never smoked', 'never smoked', 'smokes', 'never smoked', 'Unknown', 'Unknown', 'never smoked', 'formerly smoked', 'never smoked', 'never smoked', 'Unknown', 'smokes', 'never smoked', 'never smoked', 'never smoked', 'Unknown', 'never smoked', 'formerly smoked', 'never smoked', 'never smoked', 'smokes', 'never smoked', 'never smoked', 'never smoked', 'never smoked', 'smokes', 'formerly smoked', 'never smoked', 'never smoked', 'smokes', 'formerly smoked', 'Unknown', 'never smoked', 'formerly smoked', 'never smoked', 'Unknown', 'Unknown', 'never smoked', 'never smoked', 'smokes', 'never smoked', 'smokes', 'never smoked', 'never smoked', 'never smoked', 'formerly smoked', 'never smoked', 'formerly smoked', 'smokes', 'formerly smoked', 'formerly smoked', 'never smoked', 'Unknown', 'never smoked', 'never smoked', 'never smoked', 'never smoked', 'never smoked', 'Unknown', 'never smoked', 'never smoked', 'never smoked', 'smokes', 'never smoked', 'never smoked', 'never smoked', 'Unknown', 'formerly smoked', 'smokes', 'Unknown', 'smokes', 'formerly smoked', 'formerly smoked', 'never smoked', 'smokes', 'never smoked', 'formerly smoked', 'never smoked', 'Unknown', 'Unknown', 'never smoked', 'never smoked', 'Unknown', 'formerly smoked', 'smokes', 'formerly smoked', 'Unknown', 'never smoked', 'formerly smoked', 'never smoked', 'never smoked', 'never smoked', 'never smoked', 'smokes', 'Unknown', 'formerly smoked', 'never smoked', 'never smoked', 'formerly smoked', 'never smoked', 'never smoked', 'never smoked', 'smokes', 'never smoked', 'formerly smoked', 'formerly smoked', 'never smoked', 'Unknown', 'smokes', 'formerly smoked', 'formerly smoked', 'never smoked', 'never smoked', 'never smoked', 'never smoked', 'never smoked', 'smokes', 'Unknown', 'Unknown', 'never smoked', 'never smoked', 'never smoked', 'never smoked', 'never smoked', 'never smoked', 'never smoked', 'Unknown', 'Unknown', 'never smoked', 'smokes', 'smokes', 'formerly smoked', 'smokes', 'never smoked', 'Unknown', 'never smoked', 'formerly smoked', 'never smoked', 'formerly smoked', 'never smoked', 'never smoked', 'Unknown', 'never smoked', 'Unknown', 'never smoked', 'never smoked', 'never smoked', 'never smoked', 'never smoked', 'formerly smoked', 'never smoked', 'Unknown', 'formerly smoked', 'never smoked', 'formerly smoked', 'Unknown', 'never smoked', 'Unknown', 'never smoked', 'smokes', 'never smoked', 'never smoked', 'smokes', 'never smoked', 'never smoked', 'never smoked', 'never smoked', 'never smoked', 'Unknown', 'Unknown', 'never smoked', 'never smoked', 'Unknown', 'Unknown', 'never smoked', 'never smoked', 'never smoked', 'formerly smoked', 'formerly smoked', 'never smoked', 'never smoked', 'never smoked', 'smokes', 'never smoked', 'never smoked', 'never smoked', 'never smoked', 'never smoked', 'never smoked', 'smokes', 'formerly smoked', 'never smoked', 'never smoked', 'Unknown', 'never smoked', 'formerly smoked', 'Unknown', 'Unknown', 'never smoked', 'never smoked', 'formerly smoked', 'never smoked', 'formerly smoked', 'formerly smoked', 'never smoked', 'never smoked', 'Unknown', 'never smoked', 'never smoked', 'never smoked', 'never smoked', 'formerly smoked', 'formerly smoked', 'smokes', 'smokes', 'never smoked', 'never smoked', 'never smoked', 'smokes', 'formerly smoked', 'never smoked', 'smokes', 'never smoked', 'smokes', 'Unknown', 'never smoked', 'never smoked', 'never smoked', 'never smoked', 'Unknown', 'Unknown', 'formerly smoked', 'formerly smoked', 'never smoked', 'Unknown', 'never smoked', 'formerly smoked', 'never smoked', 'never smoked', 'never smoked', 'never smoked', 'Unknown', 'formerly smoked', 'Unknown', 'never smoked', 'never smoked', 'smokes', 'smokes', 'never smoked', 'never smoked', 'never smoked', 'smokes', 'never smoked', 'formerly smoked', 'formerly smoked', 'never smoked', 'never smoked', 'smokes', 'formerly smoked', 'never smoked', 'Unknown', 'never smoked', 'never smoked', 'smokes', 'never smoked', 'never smoked', 'formerly smoked', 'never smoked', 'never smoked', 'smokes', 'Unknown', 'Unknown', 'never smoked', 'Unknown', 'never smoked', 'never smoked', 'smokes', 'never smoked', 'formerly smoked', 'never smoked', 'smokes', 'never smoked', 'Unknown', 'Unknown', 'smokes', 'never smoked', 'never smoked', 'smokes', 'smokes', 'Unknown', 'never smoked', 'never smoked', 'never smoked', 'never smoked', 'Unknown', 'never smoked', 'smokes', 'never smoked', 'Unknown', 'never smoked', 'never smoked', 'never smoked', 'formerly smoked', 'formerly smoked', 'formerly smoked', 'formerly smoked', 'never smoked', 'never smoked', 'never smoked', 'smokes', 'formerly smoked', 'never smoked', 'smokes', 'never smoked', 'never smoked', 'never smoked', 'never smoked', 'never smoked', 'never smoked', 'never smoked', 'never smoked', 'never smoked', 'never smoked', 'smokes', 'never smoked', 'never smoked', 'smokes', 'never smoked', 'formerly smoked', 'formerly smoked', 'never smoked', 'Unknown', 'never smoked', 'never smoked', 'Unknown', 'formerly smoked', 'never smoked', 'smokes', 'Unknown', 'Unknown', 'never smoked', 'never smoked', 'formerly smoked', 'never smoked', 'smokes', 'never smoked', 'never smoked', 'never smoked', 'never smoked', 'formerly smoked', 'formerly smoked', 'never smoked', 'never smoked', 'never smoked', 'formerly smoked', 'never smoked', 'never smoked', 'never smoked', 'Unknown', 'Unknown', 'never smoked', 'never smoked', 'never smoked', 'formerly smoked', 'never smoked', 'Unknown', 'formerly smoked', 'Unknown', 'never smoked', 'smokes', 'never smoked', 'never smoked', 'formerly smoked', 'Unknown', 'formerly smoked', 'Unknown', 'Unknown', 'formerly smoked', 'Unknown', 'smokes', 'smokes', 'smokes', 'smokes', 'never smoked', 'never smoked', 'never smoked', 'never smoked', 'smokes', 'never smoked', 'formerly smoked', 'smokes', 'formerly smoked', 'never smoked', 'smokes', 'Unknown', 'smokes', 'Unknown', 'smokes', 'Unknown', 'smokes', 'never smoked', 'formerly smoked', 'never smoked', 'never smoked', 'never smoked', 'never smoked', 'smokes', 'never smoked', 'smokes', 'Unknown', 'smokes', 'never smoked', 'never smoked', 'formerly smoked', 'smokes', 'never smoked', 'Unknown', 'never smoked', 'never smoked', 'Unknown', 'never smoked', 'smokes', 'smokes', 'never smoked', 'never smoked', 'never smoked', 'never smoked', 'never smoked', 'Unknown', 'never smoked', 'formerly smoked', 'never smoked', 'never smoked', 'formerly smoked', 'never smoked', 'Unknown', 'smokes', 'smokes', 'Unknown', 'smokes', 'formerly smoked', 'never smoked', 'never smoked', 'formerly smoked', 'never smoked', 'formerly smoked', 'never smoked', 'formerly smoked', 'never smoked', 'never smoked', 'never smoked', 'never smoked', 'never smoked', 'never smoked', 'formerly smoked', 'smokes', 'never smoked', 'Unknown', 'never smoked', 'never smoked', 'never smoked', 'never smoked', 'never smoked', 'never smoked', 'never smoked', 'Unknown', 'never smoked', 'never smoked', 'Unknown', 'never smoked', 'smokes', 'Unknown', 'formerly smoked', 'never smoked', 'Unknown', 'smokes', 'Unknown', 'smokes', 'never smoked', 'Unknown', 'Unknown', 'never smoked', 'formerly smoked', 'never smoked', 'smokes', 'Unknown', 'formerly smoked', 'Unknown', 'never smoked', 'never smoked', 'Unknown', 'Unknown', 'never smoked', 'never smoked', 'formerly smoked', 'smokes', 'smokes', 'formerly smoked', 'Unknown', 'formerly smoked', 'never smoked', 'never smoked', 'never smoked', 'smokes', 'formerly smoked', 'never smoked', 'formerly smoked', 'smokes', 'formerly smoked', 'Unknown', 'never smoked', 'formerly smoked', 'never smoked', 'formerly smoked', 'never smoked', 'formerly smoked', 'never smoked', 'never smoked', 'never smoked', 'never smoked', 'smokes', 'Unknown', 'smokes', 'smokes', 'smokes', 'formerly smoked', 'never smoked', 'Unknown', 'never smoked', 'smokes', 'formerly smoked', 'never smoked', 'never smoked', 'never smoked', 'never smoked', 'never smoked', 'smokes', 'never smoked', 'Unknown', 'Unknown', 'Unknown', 'formerly smoked', 'never smoked', 'formerly smoked', 'never smoked', 'smokes', 'formerly smoked', 'never smoked', 'formerly smoked', 'Unknown', 'formerly smoked', 'formerly smoked', 'formerly smoked', 'never smoked', 'smokes', 'formerly smoked', 'smokes', 'never smoked', 'never smoked', 'never smoked', 'smokes', 'never smoked', 'Unknown', 'never smoked', 'formerly smoked', 'Unknown', 'smokes', 'smokes', 'formerly smoked', 'Unknown', 'never smoked', 'never smoked', 'never smoked', 'never smoked', 'never smoked', 'formerly smoked', 'Unknown', 'never smoked', 'Unknown', 'smokes', 'never smoked', 'never smoked', 'Unknown', 'never smoked', 'Unknown', 'Unknown', 'never smoked', 'formerly smoked', 'formerly smoked', 'Unknown', 'Unknown', 'never smoked', 'formerly smoked', 'never smoked', 'smokes', 'Unknown', 'formerly smoked', 'never smoked', 'never smoked', 'smokes', 'smokes', 'formerly smoked', 'smokes', 'formerly smoked', 'formerly smoked', 'smokes', 'never smoked', 'formerly smoked', 'Unknown', 'never smoked', 'never smoked', 'never smoked', 'never smoked', 'never smoked', 'never smoked', 'smokes', 'smokes', 'never smoked', 'smokes', 'formerly smoked', 'formerly smoked', 'smokes', 'formerly smoked', 'never smoked', 'Unknown', 'smokes', 'Unknown', 'never smoked', 'formerly smoked', 'never smoked', 'formerly smoked', 'Unknown', 'never smoked', 'Unknown', 'never smoked', 'smokes', 'never smoked', 'smokes', 'never smoked', 'smokes', 'never smoked', 'Unknown', 'Unknown', 'formerly smoked', 'never smoked', 'smokes', 'never smoked', 'never smoked', 'smokes', 'never smoked', 'never smoked', 'never smoked', 'never smoked', 'Unknown', 'formerly smoked', 'formerly smoked', 'never smoked', 'Unknown', 'never smoked', 'never smoked', 'never smoked', 'formerly smoked', 'formerly smoked', 'never smoked', 'formerly smoked', 'Unknown', 'never smoked', 'never smoked', 'Unknown', 'smokes', 'never smoked', 'formerly smoked', 'never smoked', 'never smoked', 'Unknown', 'never smoked', 'smokes', 'never smoked', 'never smoked', 'Unknown', 'Unknown', 'Unknown', 'never smoked', 'Unknown', 'smokes', 'Unknown', 'formerly smoked', 'smokes', 'formerly smoked', 'never smoked', 'Unknown', 'Unknown', 'never smoked', 'never smoked', 'never smoked', 'never smoked', 'never smoked', 'formerly smoked', 'Unknown', 'never smoked', 'never smoked', 'smokes', 'formerly smoked', 'smokes', 'never smoked', 'smokes', 'smokes', 'smokes', 'Unknown', 'never smoked', 'never smoked', 'Unknown', 'formerly smoked', 'Unknown', 'Unknown', 'never smoked', 'never smoked', 'Unknown', 'never smoked', 'never smoked', 'never smoked', 'Unknown', 'smokes', 'never smoked', 'smokes', 'smokes', 'never smoked', 'never smoked', 'Unknown', 'formerly smoked', 'never smoked', 'smokes', 'never smoked', 'smokes', 'never smoked', 'formerly smoked', 'Unknown', 'Unknown', 'Unknown', 'smokes', 'smokes', 'smokes', 'never smoked', 'Unknown', 'formerly smoked', 'never smoked', 'never smoked', 'formerly smoked', 'never smoked', 'never smoked', 'Unknown', 'smokes', 'formerly smoked', 'smokes', 'smokes', 'never smoked', 'formerly smoked', 'never smoked', 'formerly smoked', 'never smoked', 'formerly smoked', 'never smoked', 'never smoked', 'Unknown', 'never smoked', 'smokes', 'Unknown', 'never smoked', 'never smoked', 'never smoked', 'never smoked', 'never smoked', 'smokes', 'Unknown', 'never smoked', 'formerly smoked', 'formerly smoked', 'never smoked', 'Unknown', 'never smoked', 'formerly smoked', 'never smoked', 'never smoked', 'never smoked', 'never smoked', 'smokes', 'never smoked', 'smokes', 'never smoked', 'formerly smoked', 'smokes', 'never smoked', 'Unknown', 'never smoked', 'formerly smoked', 'never smoked', 'never smoked', 'never smoked', 'never smoked', 'never smoked', 'Unknown', 'never smoked', 'Unknown', 'never smoked', 'smokes', 'never smoked', 'never smoked', 'never smoked', 'Unknown', 'never smoked', 'never smoked', 'never smoked', 'formerly smoked', 'never smoked', 'never smoked', 'smokes', 'never smoked', 'never smoked', 'never smoked', 'never smoked', 'Unknown', 'formerly smoked', 'never smoked', 'formerly smoked', 'never smoked', 'never smoked', 'never smoked', 'never smoked', 'never smoked', 'Unknown', 'never smoked', 'formerly smoked', 'never smoked', 'smokes', 'never smoked', 'Unknown', 'formerly smoked', 'smokes', 'formerly smoked', 'formerly smoked', 'Unknown', 'never smoked', 'Unknown', 'Unknown', 'never smoked', 'never smoked', 'never smoked', 'formerly smoked', 'never smoked', 'never smoked', 'smokes', 'never smoked', 'never smoked', 'Unknown', 'Unknown', 'never smoked', 'Unknown', 'Unknown', 'Unknown', 'never smoked', 'formerly smoked', 'smokes', 'Unknown', 'never smoked', 'never smoked', 'Unknown', 'smokes', 'formerly smoked', 'never smoked', 'never smoked', 'formerly smoked', 'never smoked', 'Unknown', 'never smoked', 'never smoked', 'smokes', 'Unknown', 'never smoked', 'never smoked', 'Unknown', 'formerly smoked', 'never smoked', 'smokes', 'smokes', 'never smoked', 'never smoked', 'formerly smoked', 'smokes', 'never smoked', 'smokes', 'Unknown', 'Unknown', 'Unknown', 'Unknown', 'formerly smoked', 'Unknown', 'Unknown', 'never smoked', 'Unknown', 'never smoked', 'Unknown', 'never smoked', 'smokes', 'never smoked', 'smokes', 'never smoked', 'never smoked', 'Unknown', 'smokes', 'Unknown', 'smokes', 'never smoked', 'Unknown', 'Unknown', 'never smoked', 'Unknown', 'smokes', 'never smoked', 'never smoked', 'never smoked', 'never smoked', 'smokes', 'never smoked', 'never smoked', 'never smoked', 'never smoked', 'never smoked', 'never smoked', 'formerly smoked', 'never smoked', 'Unknown', 'never smoked', 'formerly smoked', 'never smoked', 'never smoked', 'Unknown', 'formerly smoked', 'never smoked', 'smokes', 'smokes', 'never smoked', 'formerly smoked', 'never smoked', 'never smoked', 'smokes', 'never smoked', 'never smoked', 'formerly smoked', 'never smoked', 'never smoked', 'formerly smoked', 'smokes', 'smokes', 'never smoked', 'formerly smoked', 'never smoked', 'smokes', 'never smoked', 'never smoked', 'never smoked', 'never smoked', 'never smoked', 'never smoked', 'Unknown', 'never smoked', 'smokes', 'Unknown', 'formerly smoked', 'Unknown', 'never smoked', 'Unknown', 'formerly smoked', 'formerly smoked', 'never smoked', 'formerly smoked', 'formerly smoked', 'formerly smoked', 'smokes', 'smokes', 'formerly smoked', 'formerly smoked', 'formerly smoked', 'formerly smoked', 'Unknown', 'never smoked', 'never smoked', 'never smoked', 'smokes', 'formerly smoked', 'smokes', 'never smoked', 'smokes', 'Unknown', 'Unknown', 'never smoked', 'never smoked', 'smokes', 'Unknown', 'formerly smoked', 'never smoked', 'never smoked', 'formerly smoked', 'Unknown', 'Unknown', 'smokes', 'Unknown', 'Unknown', 'formerly smoked', 'formerly smoked', 'formerly smoked', 'never smoked', 'never smoked', 'Unknown', 'smokes', 'never smoked', 'never smoked', 'never smoked', 'never smoked', 'never smoked', 'Unknown', 'smokes', 'never smoked', 'Unknown', 'never smoked', 'formerly smoked', 'never smoked', 'never smoked', 'formerly smoked', 'never smoked', 'smokes', 'never smoked', 'Unknown', 'never smoked', 'smokes', 'never smoked', 'Unknown', 'formerly smoked', 'formerly smoked', 'never smoked', 'Unknown', 'never smoked', 'formerly smoked', 'smokes', 'formerly smoked', 'never smoked', 'formerly smoked', 'never smoked', 'formerly smoked', 'never smoked', 'never smoked', 'smokes', 'smokes', 'Unknown', 'smokes', 'formerly smoked', 'never smoked', 'never smoked', 'never smoked', 'never smoked', 'smokes', 'never smoked', 'never smoked', 'never smoked', 'never smoked', 'never smoked', 'formerly smoked', 'never smoked', 'smokes', 'never smoked', 'smokes', 'never smoked', 'never smoked', 'never smoked', 'never smoked', 'smokes', 'smokes', 'Unknown', 'formerly smoked', 'never smoked', 'formerly smoked', 'formerly smoked', 'Unknown', 'never smoked', 'formerly smoked', 'Unknown', 'never smoked', 'never smoked', 'Unknown', 'never smoked', 'never smoked', 'never smoked', 'never smoked', 'Unknown', 'formerly smoked', 'formerly smoked', 'formerly smoked', 'never smoked', 'never smoked', 'smokes', 'never smoked', 'Unknown', 'never smoked', 'smokes', 'never smoked', 'never smoked', 'never smoked', 'never smoked', 'Unknown', 'never smoked', 'never smoked', 'never smoked', 'never smoked', 'smokes', 'never smoked', 'never smoked', 'never smoked', 'never smoked', 'never smoked', 'never smoked', 'never smoked', 'never smoked', 'never smoked', 'never smoked', 'never smoked', 'formerly smoked', 'smokes', 'never smoked', 'never smoked', 'Unknown', 'Unknown', 'formerly smoked', 'never smoked', 'smokes', 'formerly smoked', 'formerly smoked', 'Unknown', 'never smoked', 'never smoked', 'Unknown', 'never smoked', 'never smoked', 'smokes', 'never smoked', 'never smoked', 'never smoked', 'Unknown', 'formerly smoked', 'formerly smoked', 'Unknown', 'formerly smoked', 'never smoked', 'never smoked', 'never smoked', 'never smoked', 'smokes', 'Unknown', 'never smoked', 'smokes', 'never smoked', 'never smoked', 'never smoked', 'never smoked', 'smokes', 'smokes', 'never smoked', 'formerly smoked', 'smokes', 'never smoked', 'Unknown', 'never smoked', 'smokes', 'formerly smoked', 'smokes', 'never smoked', 'never smoked', 'Unknown', 'smokes', 'never smoked', 'formerly smoked', 'never smoked', 'never smoked', 'never smoked', 'never smoked', 'smokes', 'Unknown', 'smokes', 'smokes', 'formerly smoked', 'never smoked', 'smokes', 'Unknown', 'smokes', 'smokes', 'smokes', 'Unknown', 'never smoked', 'formerly smoked', 'never smoked', 'never smoked', 'Unknown', 'formerly smoked', 'smokes', 'never smoked', 'smokes', 'formerly smoked', 'never smoked', 'never smoked', 'smokes', 'never smoked', 'Unknown', 'never smoked', 'Unknown', 'never smoked', 'never smoked', 'formerly smoked', 'never smoked', 'never smoked', 'never smoked', 'never smoked', 'never smoked', 'formerly smoked', 'formerly smoked', 'never smoked', 'never smoked', 'smokes', 'smokes', 'Unknown', 'never smoked', 'smokes', 'formerly smoked', 'Unknown', 'smokes', 'smokes', 'never smoked', 'Unknown', 'Unknown', 'formerly smoked', 'Unknown', 'formerly smoked', 'never smoked', 'smokes', 'smokes', 'never smoked', 'Unknown', 'never smoked', 'formerly smoked', 'Unknown', 'Unknown', 'Unknown', 'never smoked', 'never smoked', 'never smoked', 'Unknown', 'smokes', 'never smoked', 'formerly smoked', 'never smoked', 'never smoked', 'never smoked', 'Unknown', 'Unknown', 'never smoked', 'Unknown', 'Unknown', 'formerly smoked', 'smokes', 'never smoked', 'never smoked', 'never smoked', 'smokes', 'Unknown', 'Unknown', 'never smoked', 'smokes', 'never smoked', 'Unknown', 'never smoked', 'never smoked', 'Unknown', 'never smoked', 'never smoked', 'never smoked', 'smokes', 'smokes', 'smokes', 'smokes', 'never smoked', 'Unknown', 'smokes', 'formerly smoked', 'smokes', 'never smoked', 'never smoked', 'never smoked', 'never smoked', 'never smoked', 'never smoked', 'never smoked', 'Unknown', 'formerly smoked', 'smokes', 'never smoked', 'smokes', 'never smoked', 'never smoked', 'never smoked', 'never smoked', 'smokes', 'smokes', 'never smoked', 'smokes', 'Unknown', 'never smoked', 'never smoked', 'never smoked', 'never smoked', 'never smoked', 'Unknown', 'never smoked', 'formerly smoked', 'never smoked', 'never smoked', 'formerly smoked', 'smokes', 'never smoked', 'smokes', 'never smoked', 'never smoked', 'never smoked', 'Unknown', 'never smoked', 'never smoked', 'never smoked', 'formerly smoked', 'smokes', 'Unknown', 'formerly smoked', 'Unknown', 'Unknown', 'never smoked', 'never smoked', 'never smoked', 'formerly smoked', 'never smoked', 'never smoked', 'never smoked', 'Unknown', 'never smoked', 'never smoked', 'never smoked', 'never smoked', 'never smoked', 'Unknown', 'never smoked', 'formerly smoked', 'never smoked', 'smokes', 'never smoked', 'smokes', 'never smoked', 'never smoked', 'Unknown', 'formerly smoked', 'smokes', 'Unknown', 'never smoked', 'never smoked', 'never smoked', 'Unknown', 'never smoked', 'never smoked', 'never smoked', 'never smoked', 'smokes', 'never smoked', 'formerly smoked', 'smokes', 'Unknown', 'never smoked', 'formerly smoked', 'formerly smoked', 'smokes', 'smokes', 'Unknown', 'never smoked', 'never smoked', 'smokes', 'formerly smoked', 'formerly smoked', 'formerly smoked', 'smokes', 'smokes', 'Unknown', 'Unknown', 'smokes', 'formerly smoked', 'formerly smoked', 'never smoked', 'smokes', 'never smoked', 'never smoked', 'Unknown', 'formerly smoked', 'never smoked', 'Unknown', 'smokes', 'formerly smoked', 'never smoked', 'never smoked', 'never smoked', 'never smoked', 'never smoked', 'never smoked', 'smokes', 'Unknown', 'never smoked', 'never smoked', 'smokes', 'formerly smoked', 'formerly smoked', 'never smoked', 'formerly smoked', 'never smoked', 'never smoked', 'Unknown', 'Unknown', 'never smoked', 'smokes', 'never smoked', 'never smoked', 'never smoked', 'Unknown', 'never smoked', 'never smoked', 'formerly smoked', 'never smoked', 'formerly smoked', 'never smoked', 'Unknown', 'never smoked', 'never smoked', 'formerly smoked', 'never smoked', 'Unknown', 'never smoked', 'never smoked', 'never smoked', 'smokes', 'never smoked', 'never smoked', 'never smoked', 'never smoked', 'never smoked', 'Unknown', 'never smoked', 'Unknown', 'never smoked', 'never smoked', 'never smoked', 'never smoked', 'Unknown', 'never smoked', 'never smoked', 'Unknown', 'never smoked', 'Unknown', 'never smoked', 'never smoked', 'never smoked', 'formerly smoked', 'formerly smoked', 'formerly smoked', 'formerly smoked', 'formerly smoked', 'never smoked', 'Unknown', 'formerly smoked', 'never smoked', 'never smoked', 'smokes', 'Unknown', 'never smoked', 'never smoked', 'formerly smoked', 'Unknown', 'smokes', 'never smoked', 'Unknown', 'never smoked', 'never smoked', 'smokes', 'formerly smoked', 'Unknown', 'formerly smoked', 'Unknown', 'smokes', 'never smoked', 'smokes', 'formerly smoked', 'never smoked', 'never smoked', 'formerly smoked', 'never smoked', 'Unknown', 'formerly smoked', 'never smoked', 'formerly smoked', 'smokes', 'Unknown', 'smokes', 'never smoked', 'never smoked', 'Unknown', 'smokes', 'never smoked', 'smokes', 'smokes', 'smokes', 'Unknown', 'Unknown', 'never smoked', 'never smoked', 'never smoked', 'smokes', 'Unknown', 'formerly smoked', 'never smoked', 'smokes', 'never smoked', 'never smoked', 'Unknown', 'never smoked', 'never smoked', 'never smoked', 'smokes', 'formerly smoked', 'never smoked', 'formerly smoked', 'never smoked', 'formerly smoked', 'Unknown', 'formerly smoked', 'formerly smoked', 'never smoked', 'formerly smoked', 'never smoked', 'Unknown', 'formerly smoked', 'never smoked', 'never smoked', 'never smoked', 'formerly smoked', 'Unknown', 'Unknown', 'Unknown', 'smokes', 'never smoked', 'Unknown', 'smokes', 'never smoked', 'smokes', 'never smoked', 'never smoked', 'Unknown', 'never smoked', 'Unknown', 'never smoked', 'Unknown', 'formerly smoked', 'formerly smoked', 'never smoked', 'never smoked', 'never smoked', 'smokes', 'smokes', 'formerly smoked', 'never smoked', 'never smoked', 'smokes', 'never smoked', 'formerly smoked', 'formerly smoked', 'never smoked', 'Unknown', 'never smoked', 'Unknown', 'never smoked', 'never smoked', 'formerly smoked', 'formerly smoked', 'never smoked', 'formerly smoked', 'smokes', 'smokes', 'never smoked', 'formerly smoked', 'formerly smoked', 'smokes', 'never smoked', 'smokes', 'never smoked', 'never smoked', 'never smoked', 'smokes', 'formerly smoked', 'never smoked', 'never smoked', 'smokes', 'never smoked', 'Unknown', 'never smoked', 'formerly smoked', 'never smoked', 'Unknown', 'Unknown', 'never smoked', 'never smoked', 'smokes', 'never smoked', 'formerly smoked', 'formerly smoked', 'smokes', 'never smoked', 'Unknown', 'never smoked', 'never smoked', 'Unknown', 'Unknown', 'never smoked', 'never smoked', 'formerly smoked', 'Unknown', 'Unknown', 'never smoked', 'never smoked', 'never smoked', 'formerly smoked', 'Unknown', 'formerly smoked', 'never smoked', 'formerly smoked', 'formerly smoked', 'formerly smoked', 'Unknown', 'formerly smoked', 'never smoked', 'formerly smoked', 'never smoked', 'never smoked', 'smokes', 'never smoked', 'never smoked', 'never smoked', 'Unknown', 'Unknown', 'formerly smoked', 'smokes', 'never smoked', 'smokes', 'never smoked', 'Unknown', 'never smoked', 'smokes', 'never smoked', 'never smoked', 'formerly smoked', 'Unknown', 'Unknown', 'never smoked', 'never smoked', 'never smoked', 'never smoked', 'never smoked', 'Unknown', 'Unknown', 'smokes', 'never smoked', 'never smoked', 'Unknown', 'never smoked', 'smokes', 'never smoked', 'never smoked', 'formerly smoked', 'never smoked', 'formerly smoked', 'never smoked', 'smokes', 'never smoked', 'never smoked', 'Unknown', 'smokes', 'Unknown', 'never smoked', 'smokes', 'Unknown', 'never smoked', 'formerly smoked', 'smokes', 'formerly smoked', 'smokes', 'smokes', 'smokes', 'Unknown', 'never smoked', 'Unknown', 'never smoked', 'never smoked', 'never smoked', 'Unknown', 'never smoked', 'smokes', 'Unknown', 'smokes', 'never smoked', 'never smoked', 'formerly smoked', 'formerly smoked', 'never smoked', 'never smoked', 'Unknown', 'Unknown', 'never smoked', 'never smoked', 'smokes', 'Unknown', 'Unknown', 'never smoked', 'never smoked', 'smokes', 'never smoked', 'never smoked', 'formerly smoked', 'never smoked', 'never smoked', 'never smoked', 'Unknown', 'formerly smoked', 'smokes', 'never smoked', 'never smoked', 'Unknown', 'smokes', 'Unknown', 'never smoked', 'formerly smoked', 'Unknown', 'never smoked', 'smokes', 'never smoked', 'Unknown', 'smokes', 'formerly smoked', 'formerly smoked', 'formerly smoked', 'never smoked', 'Unknown', 'Unknown', 'never smoked', 'Unknown', 'formerly smoked', 'never smoked', 'never smoked', 'never smoked', 'never smoked', 'smokes', 'never smoked', 'never smoked', 'never smoked', 'never smoked', 'formerly smoked', 'never smoked', 'Unknown', 'never smoked', 'smokes', 'formerly smoked', 'never smoked', 'never smoked', 'never smoked', 'smokes', 'never smoked', 'never smoked', 'never smoked', 'smokes', 'formerly smoked', 'never smoked', 'Unknown', 'smokes', 'smokes', 'never smoked', 'never smoked', 'smokes', 'never smoked', 'never smoked', 'Unknown', 'never smoked', 'never smoked', 'never smoked', 'never smoked', 'formerly smoked', 'never smoked', 'Unknown', 'never smoked', 'formerly smoked', 'never smoked', 'Unknown', 'never smoked', 'formerly smoked', 'formerly smoked', 'formerly smoked', 'Unknown', 'Unknown', 'never smoked', 'never smoked', 'never smoked', 'never smoked', 'never smoked', 'formerly smoked', 'smokes', 'smokes', 'smokes', 'Unknown', 'smokes', 'Unknown', 'never smoked', 'never smoked', 'never smoked', 'never smoked', 'Unknown', 'formerly smoked', 'smokes', 'formerly smoked', 'smokes', 'smokes', 'Unknown', 'never smoked', 'Unknown', 'never smoked', 'smokes', 'Unknown', 'formerly smoked', 'never smoked', 'smokes', 'formerly smoked', 'never smoked', 'smokes', 'Unknown', 'smokes', 'formerly smoked', 'smokes', 'Unknown', 'never smoked', 'formerly smoked', 'never smoked', 'never smoked', 'formerly smoked', 'Unknown', 'never smoked', 'never smoked', 'formerly smoked', 'never smoked', 'never smoked', 'formerly smoked', 'never smoked', 'formerly smoked', 'smokes', 'formerly smoked', 'formerly smoked', 'never smoked', 'formerly smoked', 'formerly smoked', 'never smoked', 'never smoked', 'never smoked', 'formerly smoked', 'Unknown', 'never smoked', 'never smoked', 'never smoked', 'smokes', 'formerly smoked', 'smokes', 'Unknown', 'formerly smoked', 'Unknown', 'smokes', 'formerly smoked', 'Unknown', 'formerly smoked', 'Unknown', 'formerly smoked', 'smokes', 'never smoked', 'smokes', 'Unknown', 'Unknown', 'never smoked', 'smokes', 'formerly smoked', 'Unknown', 'never smoked', 'formerly smoked', 'Unknown', 'Unknown', 'smokes', 'Unknown', 'never smoked', 'Unknown', 'never smoked', 'formerly smoked', 'never smoked', 'never smoked', 'Unknown', 'formerly smoked', 'smokes', 'formerly smoked', 'never smoked', 'smokes', 'formerly smoked', 'never smoked', 'never smoked', 'never smoked', 'never smoked', 'Unknown', 'never smoked', 'never smoked', 'never smoked', 'never smoked', 'Unknown', 'never smoked', 'formerly smoked', 'never smoked', 'never smoked', 'never smoked', 'Unknown', 'never smoked', 'formerly smoked', 'never smoked', 'never smoked', 'never smoked', 'never smoked', 'smokes', 'never smoked', 'never smoked', 'smokes', 'never smoked', 'never smoked', 'formerly smoked', 'never smoked', 'never smoked', 'formerly smoked', 'Unknown', 'never smoked', 'never smoked', 'never smoked', 'never smoked', 'never smoked', 'smokes', 'never smoked', 'Unknown', 'Unknown', 'never smoked', 'smokes', 'never smoked', 'Unknown', 'never smoked', 'never smoked', 'formerly smoked', 'smokes', 'smokes', 'never smoked', 'formerly smoked', 'Unknown', 'smokes', 'smokes', 'Unknown', 'never smoked', 'never smoked', 'smokes', 'never smoked', 'formerly smoked', 'smokes', 'never smoked', 'Unknown', 'never smoked', 'formerly smoked', 'never smoked', 'never smoked', 'Unknown', 'never smoked', 'Unknown', 'smokes', 'never smoked', 'never smoked', 'never smoked', 'formerly smoked', 'formerly smoked', 'never smoked', 'never smoked', 'never smoked', 'Unknown', 'never smoked', 'never smoked', 'never smoked', 'Unknown', 'smokes', 'never smoked', 'Unknown', 'formerly smoked', 'Unknown', 'smokes', 'Unknown', 'never smoked', 'Unknown', 'never smoked', 'never smoked', 'never smoked', 'Unknown', 'formerly smoked', 'smokes', 'never smoked', 'formerly smoked', 'Unknown', 'formerly smoked', 'formerly smoked', 'never smoked', 'never smoked', 'formerly smoked', 'formerly smoked', 'never smoked', 'Unknown', 'Unknown', 'smokes', 'smokes', 'Unknown', 'formerly smoked', 'formerly smoked', 'smokes', 'Unknown', 'Unknown', 'Unknown', 'never smoked', 'Unknown', 'Unknown', 'never smoked', 'smokes', 'smokes', 'Unknown', 'smokes', 'never smoked', 'smokes', 'never smoked', 'Unknown', 'formerly smoked', 'smokes', 'formerly smoked', 'smokes', 'never smoked', 'never smoked', 'never smoked', 'never smoked', 'never smoked', 'formerly smoked', 'Unknown', 'formerly smoked', 'never smoked', 'Unknown', 'never smoked', 'never smoked', 'never smoked', 'formerly smoked', 'Unknown', 'formerly smoked', 'never smoked', 'smokes', 'formerly smoked', 'formerly smoked', 'never smoked', 'formerly smoked', 'smokes', 'never smoked', 'formerly smoked', 'Unknown', 'formerly smoked', 'Unknown', 'never smoked', 'Unknown', 'never smoked', 'never smoked', 'never smoked', 'formerly smoked', 'Unknown', 'formerly smoked', 'never smoked', 'Unknown', 'never smoked', 'formerly smoked', 'formerly smoked', 'never smoked', 'never smoked', 'smokes', 'formerly smoked', 'never smoked', 'formerly smoked', 'never smoked', 'formerly smoked', 'never smoked', 'never smoked', 'never smoked', 'never smoked', 'formerly smoked', 'Unknown', 'formerly smoked', 'Unknown', 'formerly smoked', 'formerly smoked', 'formerly smoked', 'smokes', 'Unknown', 'never smoked', 'never smoked', 'Unknown', 'smokes', 'smokes', 'formerly smoked', 'Unknown', 'formerly smoked', 'never smoked', 'never smoked', 'Unknown', 'never smoked', 'smokes', 'formerly smoked', 'formerly smoked', 'never smoked', 'smokes', 'never smoked', 'never smoked', 'never smoked', 'smokes', 'formerly smoked', 'formerly smoked', 'smokes', 'formerly smoked', 'never smoked', 'Unknown', 'never smoked', 'never smoked', 'Unknown', 'Unknown', 'never smoked', 'never smoked', 'never smoked', 'never smoked', 'smokes', 'never smoked', 'formerly smoked', 'formerly smoked', 'never smoked', 'never smoked', 'never smoked', 'never smoked', 'Unknown', 'smokes', 'never smoked', 'never smoked', 'never smoked', 'never smoked', 'never smoked', 'never smoked', 'never smoked', 'Unknown', 'Unknown', 'never smoked', 'Unknown', 'smokes', 'Unknown', 'formerly smoked', 'never smoked', 'Unknown', 'never smoked', 'smokes', 'never smoked', 'never smoked', 'never smoked', 'formerly smoked', 'never smoked', 'never smoked', 'never smoked', 'never smoked', 'never smoked', 'formerly smoked', 'never smoked', 'never smoked', 'formerly smoked', 'formerly smoked', 'never smoked', 'smokes', 'Unknown', 'never smoked', 'never smoked', 'Unknown', 'never smoked', 'never smoked', 'Unknown', 'never smoked', 'smokes', 'never smoked', 'Unknown', 'never smoked', 'Unknown', 'smokes', 'never smoked', 'Unknown', 'formerly smoked', 'never smoked', 'never smoked', 'Unknown', 'smokes', 'never smoked', 'Unknown', 'formerly smoked', 'Unknown', 'never smoked', 'never smoked', 'formerly smoked', 'never smoked', 'Unknown', 'never smoked', 'formerly smoked', 'Unknown', 'Unknown', 'smokes', 'formerly smoked', 'Unknown', 'never smoked', 'Unknown', 'Unknown', 'formerly smoked', 'never smoked', 'never smoked', 'formerly smoked', 'Unknown', 'Unknown', 'never smoked', 'never smoked', 'never smoked', 'never smoked', 'formerly smoked', 'never smoked', 'smokes', 'smokes', 'never smoked', 'smokes', 'never smoked', 'smokes', 'never smoked', 'formerly smoked', 'never smoked', 'never smoked', 'never smoked', 'never smoked', 'never smoked', 'never smoked', 'never smoked', 'smokes', 'never smoked', 'never smoked', 'smokes', 'never smoked', 'Unknown', 'never smoked', 'never smoked', 'Unknown', 'formerly smoked', 'smokes', 'never smoked', 'never smoked', 'smokes', 'never smoked', 'never smoked', 'never smoked', 'never smoked', 'Unknown', 'never smoked', 'formerly smoked', 'never smoked', 'Unknown', 'formerly smoked', 'never smoked', 'never smoked', 'Unknown', 'never smoked', 'formerly smoked', 'formerly smoked', 'never smoked', 'Unknown', 'never smoked', 'never smoked', 'Unknown', 'Unknown', 'Unknown', 'never smoked', 'Unknown', 'never smoked', 'smokes', 'never smoked', 'never smoked', 'Unknown', 'never smoked', 'smokes', 'smokes', 'never smoked', 'formerly smoked', 'never smoked', 'never smoked', 'never smoked', 'never smoked', 'never smoked', 'formerly smoked', 'never smoked', 'never smoked', 'never smoked', 'Unknown', 'never smoked', 'never smoked', 'never smoked', 'Unknown', 'never smoked', 'never smoked', 'never smoked', 'formerly smoked', 'never smoked', 'never smoked', 'never smoked', 'never smoked', 'smokes', 'never smoked', 'formerly smoked', 'Unknown', 'formerly smoked', 'never smoked', 'never smoked', 'formerly smoked', 'smokes', 'smokes', 'never smoked', 'never smoked', 'formerly smoked', 'formerly smoked', 'formerly smoked', 'Unknown', 'never smoked', 'never smoked', 'never smoked', 'Unknown', 'smokes', 'never smoked', 'never smoked', 'formerly smoked', 'Unknown', 'Unknown', 'never smoked', 'smokes', 'formerly smoked', 'smokes', 'smokes', 'never smoked', 'never smoked', 'formerly smoked', 'Unknown', 'Unknown', 'formerly smoked', 'formerly smoked', 'never smoked', 'never smoked', 'formerly smoked', 'never smoked', 'never smoked', 'never smoked', 'smokes', 'Unknown', 'smokes', 'Unknown', 'formerly smoked', 'smokes', 'Unknown', 'Unknown', 'formerly smoked', 'Unknown', 'never smoked', 'formerly smoked', 'never smoked', 'never smoked', 'smokes', 'Unknown', 'never smoked', 'never smoked', 'never smoked', 'Unknown', 'never smoked', 'Unknown', 'never smoked', 'never smoked', 'Unknown', 'never smoked', 'never smoked', 'smokes', 'never smoked', 'smokes', 'never smoked', 'never smoked', 'never smoked', 'never smoked', 'never smoked', 'never smoked', 'never smoked', 'never smoked', 'smokes', 'never smoked', 'never smoked', 'Unknown', 'formerly smoked', 'never smoked', 'never smoked', 'never smoked', 'formerly smoked', 'never smoked', 'never smoked', 'never smoked', 'smokes', 'Unknown', 'Unknown', 'Unknown', 'never smoked', 'never smoked', 'never smoked', 'smokes', 'never smoked', 'never smoked', 'never smoked', 'never smoked', 'never smoked', 'formerly smoked', 'Unknown', 'formerly smoked', 'never smoked', 'never smoked', 'never smoked', 'never smoked', 'Unknown', 'Unknown', 'formerly smoked', 'never smoked', 'never smoked', 'never smoked', 'formerly smoked', 'never smoked', 'never smoked', 'formerly smoked', 'never smoked', 'never smoked', 'formerly smoked', 'never smoked', 'smokes', 'never smoked', 'never smoked', 'never smoked', 'formerly smoked', 'formerly smoked', 'Unknown', 'never smoked', 'smokes', 'smokes', 'never smoked', 'Unknown', 'formerly smoked', 'never smoked', 'Unknown', 'never smoked', 'Unknown', 'never smoked', 'formerly smoked', 'smokes', 'smokes', 'Unknown', 'never smoked', 'never smoked', 'never smoked', 'never smoked', 'never smoked', 'Unknown', 'Unknown', 'never smoked', 'formerly smoked', 'never smoked', 'smokes', 'never smoked', 'smokes', 'never smoked', 'never smoked', 'Unknown', 'Unknown', 'formerly smoked', 'never smoked', 'never smoked', 'formerly smoked', 'Unknown', 'never smoked', 'Unknown', 'never smoked', 'formerly smoked', 'formerly smoked', 'formerly smoked', 'smokes', 'never smoked', 'never smoked', 'never smoked', 'never smoked', 'never smoked', 'never smoked', 'never smoked', 'never smoked', 'Unknown', 'never smoked', 'never smoked', 'never smoked', 'formerly smoked', 'never smoked', 'never smoked', 'never smoked', 'never smoked', 'never smoked', 'Unknown', 'never smoked', 'never smoked', 'never smoked', 'never smoked', 'never smoked', 'never smoked', 'never smoked', 'never smoked', 'never smoked', 'formerly smoked', 'formerly smoked', 'never smoked', 'formerly smoked', 'never smoked', 'smokes', 'formerly smoked', 'Unknown', 'never smoked', 'Unknown', 'never smoked', 'never smoked', 'Unknown', 'never smoked', 'formerly smoked', 'formerly smoked', 'never smoked', 'smokes', 'never smoked', 'smokes', 'smokes', 'never smoked', 'never smoked', 'formerly smoked', 'smokes', 'never smoked', 'never smoked', 'smokes', 'smokes', 'never smoked', 'Unknown', 'never smoked', 'never smoked', 'formerly smoked', 'formerly smoked', 'never smoked', 'formerly smoked', 'never smoked', 'Unknown', 'never smoked', 'never smoked', 'never smoked', 'smokes', 'formerly smoked', 'never smoked', 'never smoked', 'never smoked', 'never smoked', 'Unknown', 'formerly smoked', 'Unknown', 'never smoked', 'never smoked', 'Unknown', 'never smoked', 'Unknown', 'smokes', 'never smoked', 'smokes', 'Unknown', 'never smoked', 'never smoked', 'Unknown', 'Unknown', 'formerly smoked', 'never smoked', 'never smoked', 'Unknown', 'formerly smoked', 'smokes', 'never smoked', 'never smoked', 'never smoked', 'never smoked', 'formerly smoked', 'never smoked', 'Unknown', 'never smoked', 'smokes', 'never smoked', 'Unknown', 'never smoked', 'never smoked', 'never smoked', 'never smoked', 'never smoked', 'never smoked', 'Unknown', 'never smoked', 'never smoked', 'smokes', 'Unknown', 'smokes', 'smokes', 'Unknown', 'smokes', 'Unknown', 'formerly smoked', 'formerly smoked', 'never smoked', 'never smoked', 'Unknown', 'Unknown', 'never smoked', 'smokes', 'never smoked', 'Unknown', 'never smoked', 'never smoked', 'formerly smoked', 'never smoked', 'never smoked', 'never smoked', 'never smoked', 'never smoked', 'never smoked', 'smokes', 'never smoked', 'Unknown', 'never smoked', 'never smoked', 'never smoked', 'formerly smoked', 'Unknown', 'never smoked', 'never smoked', 'Unknown', 'never smoked', 'never smoked', 'never smoked', 'smokes', 'smokes', 'Unknown', 'never smoked', 'formerly smoked', 'never smoked', 'Unknown', 'never smoked', 'Unknown', 'Unknown', 'never smoked', 'formerly smoked', 'Unknown', 'never smoked', 'smokes', 'never smoked', 'never smoked', 'smokes', 'never smoked', 'formerly smoked', 'never smoked', 'smokes', 'never smoked', 'never smoked', 'never smoked', 'never smoked', 'never smoked', 'never smoked', 'never smoked', 'never smoked', 'never smoked', 'Unknown', 'never smoked', 'never smoked', 'formerly smoked', 'Unknown', 'formerly smoked', 'Unknown', 'never smoked', 'Unknown', 'never smoked', 'never smoked', 'never smoked', 'never smoked', 'never smoked', 'never smoked', 'smokes', 'never smoked', 'never smoked', 'never smoked', 'smokes', 'Unknown', 'smokes', 'smokes', 'never smoked', 'never smoked', 'never smoked', 'Unknown', 'smokes', 'formerly smoked', 'never smoked', 'smokes', 'never smoked', 'smokes', 'never smoked', 'never smoked', 'never smoked', 'formerly smoked', 'formerly smoked', 'smokes', 'smokes', 'never smoked', 'never smoked', 'Unknown', 'Unknown', 'smokes', 'Unknown', 'smokes', 'formerly smoked', 'never smoked', 'never smoked', 'smokes', 'never smoked', 'smokes', 'never smoked', 'formerly smoked', 'formerly smoked', 'Unknown', 'Unknown', 'smokes', 'never smoked', 'never smoked', 'smokes', 'never smoked', 'Unknown', 'never smoked', 'never smoked', 'never smoked', 'smokes', 'never smoked', 'never smoked', 'formerly smoked', 'Unknown', 'Unknown', 'never smoked', 'Unknown', 'formerly smoked', 'Unknown', 'never smoked', 'smokes', 'never smoked', 'formerly smoked', 'smokes', 'never smoked', 'smokes', 'Unknown', 'smokes', 'never smoked', 'never smoked', 'never smoked', 'never smoked', 'smokes', 'Unknown', 'Unknown', 'never smoked', 'never smoked', 'never smoked', 'formerly smoked', 'never smoked', 'formerly smoked', 'never smoked', 'Unknown', 'smokes', 'never smoked', 'never smoked', 'never smoked', 'never smoked', 'Unknown', 'never smoked', 'smokes', 'Unknown', 'smokes', 'never smoked', 'formerly smoked', 'never smoked', 'Unknown', 'Unknown', 'never smoked', 'formerly smoked', 'formerly smoked', 'formerly smoked', 'never smoked', 'Unknown', 'never smoked', 'smokes', 'formerly smoked', 'smokes', 'never smoked', 'never smoked', 'never smoked', 'never smoked', 'smokes', 'Unknown', 'Unknown', 'never smoked', 'formerly smoked', 'never smoked', 'smokes', 'Unknown', 'never smoked', 'never smoked', 'Unknown', 'Unknown', 'formerly smoked', 'never smoked', 'never smoked', 'smokes', 'Unknown', 'Unknown', 'formerly smoked', 'never smoked', 'Unknown', 'never smoked', 'Unknown', 'formerly smoked', 'Unknown', 'formerly smoked', 'never smoked', 'formerly smoked', 'formerly smoked', 'formerly smoked', 'smokes', 'never smoked', 'smokes', 'never smoked', 'formerly smoked', 'never smoked', 'never smoked', 'never smoked', 'Unknown', 'Unknown', 'never smoked', 'never smoked', 'never smoked', 'never smoked', 'smokes', 'never smoked', 'never smoked', 'never smoked', 'never smoked', 'never smoked', 'formerly smoked', 'formerly smoked', 'smokes', 'never smoked', 'never smoked', 'never smoked', 'never smoked', 'never smoked', 'formerly smoked', 'never smoked', 'never smoked', 'formerly smoked', 'never smoked', 'smokes', 'never smoked', 'never smoked', 'never smoked', 'Unknown', 'smokes', 'smokes', 'smokes', 'smokes', 'smokes', 'never smoked', 'never smoked', 'never smoked', 'never smoked', 'Unknown', 'never smoked', 'smokes', 'never smoked', 'never smoked', 'formerly smoked', 'formerly smoked', 'never smoked', 'never smoked', 'never smoked', 'formerly smoked', 'never smoked', 'formerly smoked', 'never smoked', 'never smoked', 'smokes', 'Unknown', 'smokes', 'never smoked', 'Unknown', 'formerly smoked', 'Unknown', 'smokes', 'never smoked', 'Unknown', 'never smoked', 'never smoked', 'smokes', 'smokes', 'formerly smoked', 'formerly smoked', 'formerly smoked', 'never smoked', 'never smoked', 'Unknown', 'never smoked', 'formerly smoked', 'formerly smoked', 'formerly smoked', 'never smoked', 'never smoked', 'Unknown', 'never smoked', 'never smoked', 'never smoked', 'never smoked', 'Unknown', 'Unknown', 'never smoked', 'Unknown', 'smokes', 'never smoked', 'formerly smoked', 'never smoked', 'formerly smoked', 'formerly smoked', 'formerly smoked', 'Unknown', 'never smoked', 'Unknown', 'never smoked', 'Unknown', 'never smoked', 'smokes', 'never smoked', 'Unknown', 'Unknown', 'Unknown', 'Unknown', 'never smoked', 'never smoked', 'Unknown', 'smokes', 'formerly smoked', 'never smoked', 'never smoked', 'never smoked', 'never smoked', 'never smoked', 'never smoked', 'never smoked', 'Unknown', 'never smoked', 'formerly smoked', 'Unknown', 'never smoked', 'never smoked', 'formerly smoked', 'smokes', 'never smoked', 'Unknown', 'never smoked', 'never smoked', 'smokes', 'smokes', 'smokes', 'never smoked', 'never smoked', 'Unknown', 'never smoked', 'never smoked', 'Unknown', 'formerly smoked', 'Unknown', 'never smoked', 'never smoked', 'never smoked', 'formerly smoked', 'formerly smoked', 'never smoked', 'smokes', 'formerly smoked', 'Unknown', 'never smoked', 'never smoked', 'never smoked', 'never smoked', 'never smoked', 'never smoked', 'smokes', 'smokes', 'Unknown', 'formerly smoked', 'smokes', 'formerly smoked', 'never smoked', 'Unknown', 'smokes', 'never smoked', 'formerly smoked', 'never smoked', 'never smoked', 'never smoked', 'Unknown', 'never smoked', 'smokes', 'never smoked', 'never smoked', 'smokes', 'smokes', 'never smoked', 'never smoked', 'never smoked', 'never smoked', 'never smoked', 'never smoked', 'never smoked', 'never smoked', 'never smoked', 'never smoked', 'smokes', 'Unknown', 'smokes', 'Unknown', 'never smoked', 'smokes', 'formerly smoked', 'formerly smoked', 'Unknown', 'formerly smoked', 'Unknown', 'never smoked', 'smokes', 'Unknown', 'never smoked', 'Unknown', 'never smoked', 'never smoked', 'never smoked', 'Unknown', 'never smoked', 'smokes', 'never smoked', 'never smoked', 'never smoked', 'never smoked', 'never smoked', 'formerly smoked', 'never smoked', 'never smoked', 'Unknown', 'Unknown', 'formerly smoked', 'Unknown', 'smokes', 'never smoked', 'smokes', 'formerly smoked', 'formerly smoked', 'never smoked', 'never smoked', 'never smoked', 'formerly smoked', 'never smoked', 'smokes', 'never smoked', 'smokes', 'formerly smoked', 'smokes', 'Unknown', 'never smoked', 'Unknown', 'never smoked', 'Unknown', 'never smoked', 'Unknown', 'formerly smoked', 'smokes', 'smokes', 'never smoked', 'never smoked', 'never smoked', 'never smoked', 'smokes', 'never smoked', 'never smoked', 'Unknown', 'never smoked', 'Unknown', 'never smoked', 'never smoked', 'never smoked', 'never smoked', 'Unknown', 'formerly smoked', 'never smoked', 'smokes', 'never smoked', 'smokes', 'formerly smoked', 'Unknown', 'never smoked', 'never smoked', 'never smoked', 'Unknown', 'never smoked', 'smokes', 'never smoked', 'Unknown', 'smokes', 'formerly smoked', 'formerly smoked', 'formerly smoked', 'Unknown', 'never smoked', 'never smoked', 'Unknown', 'formerly smoked', 'never smoked', 'never smoked', 'smokes', 'never smoked', 'never smoked', 'Unknown', 'formerly smoked', 'never smoked', 'never smoked', 'never smoked', 'never smoked', 'Unknown', 'never smoked', 'never smoked', 'never smoked', 'formerly smoked', 'Unknown', 'smokes', 'formerly smoked', 'smokes', 'never smoked', 'never smoked', 'never smoked', 'Unknown', 'never smoked', 'formerly smoked', 'Unknown', 'formerly smoked', 'smokes', 'Unknown', 'never smoked', 'formerly smoked', 'never smoked', 'never smoked', 'formerly smoked', 'formerly smoked', 'never smoked', 'smokes', 'never smoked', 'never smoked', 'smokes', 'formerly smoked', 'never smoked', 'formerly smoked', 'smokes', 'smokes', 'Unknown', 'formerly smoked', 'smokes', 'never smoked', 'Unknown', 'never smoked', 'never smoked', 'never smoked', 'never smoked', 'never smoked', 'never smoked', 'never smoked', 'never smoked', 'smokes', 'Unknown', 'never smoked', 'Unknown', 'formerly smoked', 'never smoked', 'never smoked', 'smokes', 'formerly smoked', 'smokes', 'Unknown', 'formerly smoked', 'formerly smoked', 'smokes', 'never smoked', 'never smoked', 'Unknown', 'formerly smoked', 'never smoked', 'smokes', 'Unknown', 'never smoked', 'Unknown', 'Unknown', 'never smoked', 'never smoked', 'never smoked', 'never smoked', 'Unknown', 'never smoked', 'never smoked', 'never smoked', 'Unknown', 'never smoked', 'never smoked', 'smokes', 'never smoked', 'never smoked', 'never smoked', 'formerly smoked', 'Unknown', 'Unknown', 'smokes', 'never smoked', 'smokes', 'Unknown', 'Unknown', 'smokes', 'formerly smoked', 'never smoked', 'never smoked', 'smokes', 'Unknown', 'never smoked', 'Unknown', 'never smoked', 'Unknown', 'never smoked', 'formerly smoked', 'never smoked', 'never smoked', 'Unknown', 'never smoked', 'never smoked', 'Unknown', 'Unknown', 'never smoked', 'never smoked', 'Unknown', 'never smoked', 'never smoked', 'Unknown', 'formerly smoked', 'never smoked', 'never smoked', 'never smoked', 'Unknown', 'never smoked', 'never smoked', 'smokes', 'smokes', 'formerly smoked', 'never smoked', 'never smoked', 'never smoked', 'never smoked', 'never smoked', 'never smoked', 'never smoked', 'never smoked', 'never smoked', 'Unknown', 'formerly smoked', 'formerly smoked', 'never smoked', 'never smoked', 'never smoked', 'never smoked', 'never smoked', 'formerly smoked', 'formerly smoked', 'formerly smoked', 'smokes', 'formerly smoked', 'never smoked', 'Unknown', 'never smoked', 'never smoked', 'formerly smoked', 'never smoked', 'never smoked', 'smokes', 'never smoked', 'never smoked', 'smokes', 'never smoked', 'never smoked', 'never smoked', 'never smoked', 'never smoked', 'smokes', 'formerly smoked', 'never smoked', 'never smoked', 'formerly smoked', 'never smoked', 'never smoked', 'smokes', 'smokes', 'never smoked', 'Unknown', 'smokes', 'never smoked', 'never smoked', 'smokes', 'never smoked', 'never smoked', 'formerly smoked', 'formerly smoked', 'Unknown', 'Unknown', 'smokes', 'Unknown', 'never smoked', 'Unknown', 'formerly smoked', 'never smoked', 'formerly smoked', 'formerly smoked', 'never smoked', 'never smoked', 'formerly smoked', 'never smoked', 'never smoked', 'never smoked', 'never smoked', 'never smoked', 'never smoked', 'never smoked', 'never smoked', 'never smoked', 'never smoked', 'smokes', 'smokes', 'formerly smoked', 'never smoked', 'never smoked', 'never smoked', 'Unknown', 'smokes', 'never smoked', 'never smoked', 'never smoked', 'smokes', 'never smoked', 'never smoked', 'never smoked', 'Unknown', 'never smoked', 'formerly smoked', 'never smoked', 'Unknown', 'never smoked', 'smokes', 'never smoked', 'never smoked', 'formerly smoked', 'Unknown', 'smokes', 'never smoked', 'never smoked', 'never smoked', 'formerly smoked', 'smokes', 'never smoked', 'never smoked', 'never smoked', 'never smoked', 'formerly smoked', 'formerly smoked', 'never smoked', 'never smoked', 'never smoked', 'never smoked', 'never smoked', 'formerly smoked', 'smokes', 'smokes', 'never smoked', 'smokes', 'Unknown', 'formerly smoked', 'formerly smoked', 'never smoked', 'never smoked', 'Unknown', 'formerly smoked', 'Unknown', 'never smoked', 'never smoked', 'never smoked', 'never smoked', 'Unknown', 'never smoked', 'never smoked', 'Unknown', 'smokes', 'smokes', 'never smoked', 'never smoked', 'smokes', 'never smoked', 'never smoked', 'smokes', 'Unknown', 'Unknown', 'never smoked', 'never smoked', 'never smoked', 'Unknown', 'Unknown', 'never smoked', 'formerly smoked', 'never smoked', 'never smoked', 'Unknown', 'Unknown', 'never smoked', 'formerly smoked', 'never smoked', 'formerly smoked', 'never smoked', 'never smoked', 'Unknown', 'formerly smoked', 'never smoked', 'formerly smoked', 'never smoked', 'formerly smoked', 'formerly smoked', 'never smoked', 'smokes', 'never smoked', 'never smoked', 'never smoked', 'Unknown', 'formerly smoked', 'Unknown', 'formerly smoked', 'never smoked', 'Unknown', 'never smoked', 'never smoked', 'Unknown', 'never smoked', 'Unknown', 'Unknown', 'smokes', 'never smoked', 'never smoked', 'never smoked', 'never smoked', 'Unknown', 'never smoked', 'smokes', 'Unknown', 'Unknown', 'never smoked', 'formerly smoked', 'formerly smoked', 'smokes', 'never smoked', 'Unknown', 'never smoked', 'never smoked', 'smokes', 'never smoked', 'Unknown', 'formerly smoked', 'never smoked', 'never smoked', 'formerly smoked', 'Unknown', 'formerly smoked', 'formerly smoked', 'Unknown', 'never smoked', 'smokes', 'never smoked', 'formerly smoked', 'smokes', 'never smoked', 'formerly smoked', 'never smoked', 'Unknown', 'never smoked', 'smokes', 'formerly smoked', 'formerly smoked', 'formerly smoked', 'smokes', 'never smoked', 'Unknown', 'never smoked', 'formerly smoked', 'never smoked', 'never smoked', 'smokes', 'formerly smoked', 'never smoked', 'never smoked', 'never smoked', 'formerly smoked', 'never smoked', 'never smoked', 'never smoked', 'never smoked', 'never smoked', 'never smoked', 'Unknown', 'smokes', 'never smoked', 'formerly smoked', 'formerly smoked', 'never smoked', 'never smoked', 'never smoked', 'formerly smoked', 'formerly smoked', 'formerly smoked', 'smokes', 'smokes', 'never smoked', 'never smoked', 'Unknown', 'never smoked', 'never smoked', 'never smoked', 'formerly smoked', 'never smoked', 'never smoked', 'never smoked', 'never smoked', 'never smoked', 'Unknown', 'never smoked', 'Unknown', 'never smoked', 'never smoked', 'Unknown', 'never smoked', 'Unknown', 'formerly smoked', 'never smoked', 'smokes', 'never smoked', 'Unknown', 'smokes', 'formerly smoked', 'smokes', 'formerly smoked', 'never smoked', 'never smoked', 'never smoked', 'formerly smoked', 'never smoked', 'Unknown', 'never smoked', 'never smoked', 'formerly smoked', 'smokes', 'formerly smoked', 'formerly smoked', 'never smoked', 'Unknown', 'Unknown', 'never smoked', 'smokes', 'never smoked', 'formerly smoked', 'smokes', 'smokes', 'never smoked', 'never smoked', 'smokes', 'never smoked', 'Unknown', 'never smoked', 'never smoked', 'formerly smoked', 'smokes', 'never smoked', 'never smoked', 'never smoked', 'formerly smoked', 'never smoked', 'never smoked', 'never smoked', 'never smoked', 'formerly smoked', 'never smoked', 'Unknown', 'Unknown', 'Unknown', 'formerly smoked', 'never smoked', 'never smoked', 'formerly smoked', 'never smoked', 'smokes', 'never smoked', 'Unknown', 'never smoked', 'smokes', 'never smoked', 'smokes', 'never smoked', 'never smoked', 'formerly smoked', 'never smoked', 'formerly smoked', 'smokes', 'smokes', 'never smoked', 'smokes', 'never smoked', 'Unknown', 'never smoked', 'never smoked', 'never smoked', 'never smoked', 'never smoked', 'never smoked', 'never smoked', 'never smoked', 'never smoked', 'never smoked', 'never smoked', 'smokes', 'never smoked', 'formerly smoked', 'smokes', 'never smoked', 'smokes', 'Unknown', 'Unknown', 'Unknown', 'formerly smoked', 'formerly smoked', 'formerly smoked', 'never smoked', 'Unknown', 'never smoked', 'never smoked', 'never smoked', 'Unknown', 'never smoked', 'formerly smoked', 'never smoked', 'smokes', 'formerly smoked', 'smokes', 'never smoked', 'never smoked', 'smokes', 'smokes', 'formerly smoked', 'Unknown', 'smokes', 'Unknown', 'never smoked', 'Unknown', 'never smoked', 'never smoked', 'Unknown', 'never smoked', 'never smoked', 'never smoked', 'never smoked', 'never smoked', 'formerly smoked', 'never smoked', 'formerly smoked', 'formerly smoked', 'never smoked', 'smokes', 'formerly smoked', 'Unknown', 'never smoked', 'smokes', 'Unknown', 'never smoked', 'smokes', 'Unknown', 'never smoked', 'never smoked', 'never smoked', 'smokes', 'formerly smoked', 'formerly smoked', 'never smoked', 'never smoked', 'never smoked', 'never smoked', 'formerly smoked', 'never smoked', 'never smoked', 'smokes', 'formerly smoked', 'never smoked', 'never smoked', 'smokes', 'never smoked', 'never smoked', 'never smoked', 'smokes', 'Unknown', 'never smoked', 'never smoked', 'formerly smoked', 'smokes', 'never smoked', 'never smoked', 'smokes', 'never smoked', 'never smoked', 'never smoked', 'never smoked', 'never smoked', 'never smoked', 'formerly smoked', 'never smoked', 'never smoked', 'Unknown', 'Unknown', 'never smoked', 'smokes', 'never smoked', 'formerly smoked', 'Unknown', 'smokes', 'never smoked', 'smokes', 'formerly smoked', 'never smoked', 'never smoked', 'Unknown', 'smokes', 'Unknown', 'Unknown', 'never smoked', 'Unknown', 'smokes', 'formerly smoked', 'never smoked', 'smokes', 'formerly smoked', 'never smoked', 'never smoked', 'never smoked', 'never smoked', 'never smoked', 'smokes', 'smokes', 'never smoked', 'never smoked', 'never smoked', 'formerly smoked', 'smokes', 'formerly smoked', 'never smoked', 'never smoked', 'never smoked', 'never smoked', 'formerly smoked', 'never smoked', 'never smoked', 'never smoked', 'smokes', 'never smoked', 'never smoked', 'never smoked', 'never smoked', 'never smoked', 'Unknown', 'never smoked', 'formerly smoked', 'never smoked', 'never smoked', 'never smoked', 'never smoked', 'smokes', 'never smoked', 'Unknown', 'formerly smoked', 'never smoked', 'never smoked', 'formerly smoked', 'never smoked', 'never smoked', 'never smoked', 'smokes', 'never smoked', 'Unknown', 'smokes', 'never smoked', 'Unknown', 'formerly smoked', 'never smoked', 'never smoked', 'Unknown', 'never smoked', 'Unknown', 'never smoked', 'never smoked', 'smokes', 'Unknown', 'smokes', 'Unknown', 'formerly smoked', 'never smoked', 'never smoked', 'never smoked', 'never smoked', 'Unknown', 'never smoked', 'Unknown', 'never smoked', 'never smoked', 'never smoked', 'Unknown', 'never smoked', 'never smoked', 'formerly smoked', 'Unknown', 'Unknown', 'never smoked', 'formerly smoked', 'formerly smoked', 'never smoked', 'formerly smoked', 'formerly smoked', 'smokes', 'smokes', 'never smoked', 'formerly smoked', 'smokes', 'never smoked', 'Unknown', 'formerly smoked', 'never smoked', 'never smoked', 'never smoked', 'Unknown', 'never smoked', 'never smoked', 'Unknown', 'smokes', 'never smoked', 'never smoked', 'never smoked', 'never smoked', 'never smoked', 'never smoked', 'formerly smoked', 'formerly smoked', 'formerly smoked', 'never smoked', 'never smoked', 'Unknown', 'formerly smoked', 'Unknown', 'smokes', 'formerly smoked', 'Unknown', 'never smoked', 'never smoked', 'Unknown', 'formerly smoked', 'smokes', 'never smoked', 'never smoked', 'never smoked', 'never smoked', 'never smoked', 'never smoked', 'smokes', 'formerly smoked', 'never smoked', 'never smoked', 'Unknown', 'formerly smoked', 'never smoked', 'never smoked', 'Unknown', 'Unknown', 'never smoked', 'never smoked', 'never smoked', 'formerly smoked', 'never smoked', 'never smoked', 'Unknown', 'smokes', 'never smoked', 'smokes', 'Unknown', 'never smoked', 'Unknown', 'never smoked', 'never smoked', 'never smoked', 'formerly smoked', 'smokes', 'Unknown', 'smokes', 'formerly smoked', 'Unknown', 'formerly smoked', 'Unknown', 'never smoked', 'smokes', 'never smoked', 'never smoked', 'smokes', 'never smoked', 'never smoked', 'never smoked', 'Unknown', 'never smoked', 'smokes', 'never smoked', 'Unknown', 'never smoked', 'Unknown', 'never smoked', 'never smoked', 'never smoked', 'never smoked', 'formerly smoked', 'Unknown']\n"
          ]
        },
        {
          "output_type": "execute_result",
          "data": {
            "text/plain": [
              "5110"
            ]
          },
          "metadata": {},
          "execution_count": 10
        }
      ]
    },
    {
      "cell_type": "code",
      "metadata": {
        "id": "19nS8TBvCCa6"
      },
      "source": [
        "data['smoking_status1']=m"
      ],
      "execution_count": 11,
      "outputs": []
    },
    {
      "cell_type": "code",
      "metadata": {
        "colab": {
          "base_uri": "https://localhost:8080/"
        },
        "id": "9t_mHSB7FWr7",
        "outputId": "3c15e177-12a0-42b3-eede-1c1755ff4951"
      },
      "source": [
        "print(data.smoking_status1.value_counts())\n",
        "print()\n",
        "print(data.smoking_status.value_counts())"
      ],
      "execution_count": 12,
      "outputs": [
        {
          "output_type": "stream",
          "name": "stdout",
          "text": [
            "never smoked       2510\n",
            "Unknown             926\n",
            "formerly smoked     885\n",
            "smokes              789\n",
            "Name: smoking_status1, dtype: int64\n",
            "\n",
            "never smoked       1892\n",
            "Unknown            1544\n",
            "formerly smoked     885\n",
            "smokes              789\n",
            "Name: smoking_status, dtype: int64\n"
          ]
        }
      ]
    },
    {
      "cell_type": "code",
      "metadata": {
        "colab": {
          "base_uri": "https://localhost:8080/"
        },
        "id": "KiwQBPqHFYTL",
        "outputId": "6aac80bd-1dc2-47dd-c1b6-40a9537db7d9"
      },
      "source": [
        "data.smoking_status1[data.age<20].value_counts()"
      ],
      "execution_count": 13,
      "outputs": [
        {
          "output_type": "execute_result",
          "data": {
            "text/plain": [
              "never smoked       805\n",
              "Unknown            113\n",
              "formerly smoked     29\n",
              "smokes              19\n",
              "Name: smoking_status1, dtype: int64"
            ]
          },
          "metadata": {},
          "execution_count": 13
        }
      ]
    },
    {
      "cell_type": "code",
      "metadata": {
        "colab": {
          "base_uri": "https://localhost:8080/"
        },
        "id": "nTzRtJR4IQoa",
        "outputId": "55ebd2b6-1629-4bdc-f94f-12000923236d"
      },
      "source": [
        "m=[]\n",
        "for i,x in enumerate(data.smoking_status1):\n",
        "  if data.age.iloc[i] < 20 and x=='Unknown':\n",
        "    m.append('never smoked')\n",
        "  else:\n",
        "    m.append(x)\n",
        "print(m)\n",
        "len(m)"
      ],
      "execution_count": 14,
      "outputs": [
        {
          "output_type": "stream",
          "name": "stdout",
          "text": [
            "['formerly smoked', 'never smoked', 'never smoked', 'smokes', 'never smoked', 'formerly smoked', 'never smoked', 'never smoked', 'Unknown', 'Unknown', 'never smoked', 'smokes', 'smokes', 'Unknown', 'never smoked', 'never smoked', 'smokes', 'smokes', 'never smoked', 'Unknown', 'smokes', 'never smoked', 'never smoked', 'Unknown', 'formerly smoked', 'never smoked', 'formerly smoked', 'Unknown', 'smokes', 'formerly smoked', 'smokes', 'Unknown', 'never smoked', 'formerly smoked', 'never smoked', 'formerly smoked', 'formerly smoked', 'formerly smoked', 'Unknown', 'never smoked', 'formerly smoked', 'never smoked', 'smokes', 'formerly smoked', 'smokes', 'never smoked', 'Unknown', 'formerly smoked', 'never smoked', 'smokes', 'Unknown', 'formerly smoked', 'never smoked', 'never smoked', 'never smoked', 'formerly smoked', 'never smoked', 'formerly smoked', 'never smoked', 'never smoked', 'formerly smoked', 'never smoked', 'smokes', 'formerly smoked', 'Unknown', 'never smoked', 'never smoked', 'Unknown', 'formerly smoked', 'never smoked', 'formerly smoked', 'formerly smoked', 'formerly smoked', 'never smoked', 'never smoked', 'formerly smoked', 'never smoked', 'formerly smoked', 'never smoked', 'Unknown', 'Unknown', 'Unknown', 'never smoked', 'never smoked', 'Unknown', 'smokes', 'smokes', 'formerly smoked', 'formerly smoked', 'Unknown', 'never smoked', 'never smoked', 'never smoked', 'Unknown', 'never smoked', 'never smoked', 'formerly smoked', 'smokes', 'formerly smoked', 'never smoked', 'Unknown', 'never smoked', 'formerly smoked', 'Unknown', 'Unknown', 'smokes', 'formerly smoked', 'smokes', 'never smoked', 'never smoked', 'formerly smoked', 'smokes', 'formerly smoked', 'never smoked', 'Unknown', 'never smoked', 'smokes', 'smokes', 'formerly smoked', 'never smoked', 'formerly smoked', 'Unknown', 'smokes', 'never smoked', 'Unknown', 'never smoked', 'formerly smoked', 'Unknown', 'formerly smoked', 'Unknown', 'never smoked', 'never smoked', 'never smoked', 'formerly smoked', 'never smoked', 'never smoked', 'formerly smoked', 'Unknown', 'formerly smoked', 'Unknown', 'never smoked', 'smokes', 'never smoked', 'never smoked', 'never smoked', 'formerly smoked', 'formerly smoked', 'never smoked', 'never smoked', 'never smoked', 'Unknown', 'formerly smoked', 'never smoked', 'smokes', 'never smoked', 'never smoked', 'smokes', 'smokes', 'formerly smoked', 'never smoked', 'formerly smoked', 'smokes', 'never smoked', 'never smoked', 'formerly smoked', 'formerly smoked', 'Unknown', 'never smoked', 'formerly smoked', 'never smoked', 'formerly smoked', 'never smoked', 'smokes', 'formerly smoked', 'formerly smoked', 'never smoked', 'never smoked', 'formerly smoked', 'Unknown', 'Unknown', 'never smoked', 'formerly smoked', 'smokes', 'Unknown', 'smokes', 'formerly smoked', 'formerly smoked', 'formerly smoked', 'formerly smoked', 'Unknown', 'formerly smoked', 'formerly smoked', 'smokes', 'smokes', 'smokes', 'formerly smoked', 'formerly smoked', 'Unknown', 'formerly smoked', 'never smoked', 'Unknown', 'formerly smoked', 'never smoked', 'never smoked', 'smokes', 'formerly smoked', 'never smoked', 'never smoked', 'Unknown', 'Unknown', 'never smoked', 'formerly smoked', 'never smoked', 'never smoked', 'never smoked', 'smokes', 'never smoked', 'smokes', 'smokes', 'never smoked', 'smokes', 'never smoked', 'formerly smoked', 'smokes', 'smokes', 'Unknown', 'never smoked', 'never smoked', 'smokes', 'never smoked', 'never smoked', 'smokes', 'never smoked', 'formerly smoked', 'Unknown', 'Unknown', 'Unknown', 'formerly smoked', 'never smoked', 'smokes', 'formerly smoked', 'formerly smoked', 'never smoked', 'formerly smoked', 'Unknown', 'never smoked', 'formerly smoked', 'Unknown', 'Unknown', 'never smoked', 'never smoked', 'never smoked', 'formerly smoked', 'never smoked', 'Unknown', 'formerly smoked', 'never smoked', 'smokes', 'never smoked', 'Unknown', 'formerly smoked', 'never smoked', 'formerly smoked', 'never smoked', 'never smoked', 'smokes', 'never smoked', 'smokes', 'smokes', 'Unknown', 'smokes', 'smokes', 'formerly smoked', 'never smoked', 'never smoked', 'smokes', 'never smoked', 'never smoked', 'never smoked', 'Unknown', 'Unknown', 'smokes', 'never smoked', 'Unknown', 'never smoked', 'formerly smoked', 'never smoked', 'Unknown', 'never smoked', 'smokes', 'never smoked', 'never smoked', 'never smoked', 'formerly smoked', 'Unknown', 'smokes', 'never smoked', 'smokes', 'never smoked', 'Unknown', 'Unknown', 'formerly smoked', 'never smoked', 'smokes', 'smokes', 'smokes', 'never smoked', 'Unknown', 'smokes', 'formerly smoked', 'Unknown', 'Unknown', 'Unknown', 'smokes', 'never smoked', 'formerly smoked', 'formerly smoked', 'never smoked', 'formerly smoked', 'never smoked', 'Unknown', 'never smoked', 'Unknown', 'Unknown', 'formerly smoked', 'formerly smoked', 'never smoked', 'never smoked', 'smokes', 'smokes', 'never smoked', 'formerly smoked', 'smokes', 'formerly smoked', 'Unknown', 'never smoked', 'Unknown', 'never smoked', 'never smoked', 'never smoked', 'never smoked', 'formerly smoked', 'formerly smoked', 'formerly smoked', 'never smoked', 'never smoked', 'never smoked', 'formerly smoked', 'never smoked', 'smokes', 'formerly smoked', 'never smoked', 'never smoked', 'never smoked', 'smokes', 'never smoked', 'smokes', 'never smoked', 'never smoked', 'smokes', 'never smoked', 'never smoked', 'formerly smoked', 'never smoked', 'Unknown', 'formerly smoked', 'never smoked', 'never smoked', 'never smoked', 'never smoked', 'never smoked', 'never smoked', 'never smoked', 'formerly smoked', 'smokes', 'never smoked', 'never smoked', 'Unknown', 'never smoked', 'formerly smoked', 'never smoked', 'never smoked', 'never smoked', 'never smoked', 'never smoked', 'never smoked', 'never smoked', 'never smoked', 'formerly smoked', 'formerly smoked', 'never smoked', 'smokes', 'never smoked', 'never smoked', 'never smoked', 'never smoked', 'never smoked', 'never smoked', 'smokes', 'formerly smoked', 'never smoked', 'never smoked', 'Unknown', 'smokes', 'Unknown', 'never smoked', 'Unknown', 'never smoked', 'never smoked', 'Unknown', 'never smoked', 'never smoked', 'smokes', 'Unknown', 'never smoked', 'smokes', 'never smoked', 'never smoked', 'never smoked', 'never smoked', 'Unknown', 'never smoked', 'Unknown', 'formerly smoked', 'never smoked', 'never smoked', 'never smoked', 'smokes', 'smokes', 'formerly smoked', 'never smoked', 'formerly smoked', 'smokes', 'never smoked', 'never smoked', 'never smoked', 'formerly smoked', 'never smoked', 'formerly smoked', 'never smoked', 'never smoked', 'never smoked', 'Unknown', 'Unknown', 'Unknown', 'never smoked', 'Unknown', 'never smoked', 'Unknown', 'never smoked', 'smokes', 'never smoked', 'never smoked', 'Unknown', 'never smoked', 'never smoked', 'formerly smoked', 'smokes', 'Unknown', 'never smoked', 'never smoked', 'never smoked', 'formerly smoked', 'never smoked', 'never smoked', 'smokes', 'smokes', 'never smoked', 'never smoked', 'Unknown', 'never smoked', 'never smoked', 'smokes', 'never smoked', 'smokes', 'never smoked', 'Unknown', 'Unknown', 'formerly smoked', 'smokes', 'never smoked', 'Unknown', 'Unknown', 'never smoked', 'smokes', 'never smoked', 'never smoked', 'Unknown', 'formerly smoked', 'Unknown', 'Unknown', 'formerly smoked', 'Unknown', 'never smoked', 'formerly smoked', 'never smoked', 'never smoked', 'never smoked', 'never smoked', 'smokes', 'formerly smoked', 'formerly smoked', 'never smoked', 'Unknown', 'smokes', 'smokes', 'formerly smoked', 'Unknown', 'Unknown', 'never smoked', 'formerly smoked', 'smokes', 'smokes', 'smokes', 'smokes', 'smokes', 'never smoked', 'formerly smoked', 'Unknown', 'never smoked', 'never smoked', 'never smoked', 'smokes', 'never smoked', 'never smoked', 'never smoked', 'never smoked', 'never smoked', 'formerly smoked', 'Unknown', 'formerly smoked', 'never smoked', 'Unknown', 'never smoked', 'Unknown', 'never smoked', 'never smoked', 'Unknown', 'never smoked', 'Unknown', 'never smoked', 'formerly smoked', 'formerly smoked', 'Unknown', 'never smoked', 'never smoked', 'never smoked', 'smokes', 'never smoked', 'never smoked', 'never smoked', 'formerly smoked', 'Unknown', 'never smoked', 'never smoked', 'never smoked', 'never smoked', 'Unknown', 'never smoked', 'never smoked', 'never smoked', 'never smoked', 'never smoked', 'never smoked', 'never smoked', 'never smoked', 'Unknown', 'formerly smoked', 'Unknown', 'never smoked', 'never smoked', 'formerly smoked', 'formerly smoked', 'smokes', 'never smoked', 'never smoked', 'smokes', 'smokes', 'formerly smoked', 'never smoked', 'formerly smoked', 'never smoked', 'Unknown', 'formerly smoked', 'never smoked', 'formerly smoked', 'Unknown', 'never smoked', 'formerly smoked', 'smokes', 'Unknown', 'smokes', 'never smoked', 'never smoked', 'smokes', 'smokes', 'formerly smoked', 'never smoked', 'never smoked', 'never smoked', 'never smoked', 'never smoked', 'never smoked', 'never smoked', 'smokes', 'never smoked', 'never smoked', 'never smoked', 'smokes', 'never smoked', 'Unknown', 'never smoked', 'Unknown', 'smokes', 'never smoked', 'Unknown', 'never smoked', 'smokes', 'formerly smoked', 'smokes', 'never smoked', 'never smoked', 'never smoked', 'Unknown', 'smokes', 'never smoked', 'smokes', 'never smoked', 'never smoked', 'smokes', 'never smoked', 'never smoked', 'never smoked', 'Unknown', 'Unknown', 'never smoked', 'formerly smoked', 'never smoked', 'formerly smoked', 'Unknown', 'never smoked', 'never smoked', 'formerly smoked', 'never smoked', 'never smoked', 'Unknown', 'formerly smoked', 'formerly smoked', 'smokes', 'never smoked', 'never smoked', 'formerly smoked', 'formerly smoked', 'formerly smoked', 'formerly smoked', 'never smoked', 'never smoked', 'never smoked', 'never smoked', 'smokes', 'Unknown', 'never smoked', 'Unknown', 'never smoked', 'never smoked', 'never smoked', 'never smoked', 'never smoked', 'formerly smoked', 'Unknown', 'never smoked', 'never smoked', 'never smoked', 'never smoked', 'never smoked', 'never smoked', 'formerly smoked', 'smokes', 'Unknown', 'never smoked', 'never smoked', 'never smoked', 'never smoked', 'never smoked', 'never smoked', 'Unknown', 'formerly smoked', 'formerly smoked', 'never smoked', 'never smoked', 'never smoked', 'Unknown', 'never smoked', 'never smoked', 'formerly smoked', 'never smoked', 'never smoked', 'Unknown', 'smokes', 'never smoked', 'never smoked', 'never smoked', 'never smoked', 'smokes', 'never smoked', 'smokes', 'smokes', 'formerly smoked', 'formerly smoked', 'formerly smoked', 'Unknown', 'formerly smoked', 'never smoked', 'formerly smoked', 'Unknown', 'never smoked', 'smokes', 'never smoked', 'never smoked', 'formerly smoked', 'formerly smoked', 'Unknown', 'never smoked', 'smokes', 'smokes', 'smokes', 'smokes', 'never smoked', 'never smoked', 'never smoked', 'never smoked', 'never smoked', 'formerly smoked', 'never smoked', 'smokes', 'never smoked', 'never smoked', 'smokes', 'Unknown', 'smokes', 'never smoked', 'never smoked', 'never smoked', 'smokes', 'never smoked', 'never smoked', 'smokes', 'never smoked', 'never smoked', 'never smoked', 'never smoked', 'formerly smoked', 'Unknown', 'never smoked', 'Unknown', 'Unknown', 'never smoked', 'never smoked', 'never smoked', 'formerly smoked', 'Unknown', 'never smoked', 'smokes', 'never smoked', 'smokes', 'never smoked', 'never smoked', 'Unknown', 'smokes', 'smokes', 'never smoked', 'never smoked', 'Unknown', 'never smoked', 'formerly smoked', 'never smoked', 'never smoked', 'formerly smoked', 'never smoked', 'never smoked', 'never smoked', 'formerly smoked', 'never smoked', 'never smoked', 'never smoked', 'Unknown', 'formerly smoked', 'never smoked', 'never smoked', 'never smoked', 'never smoked', 'never smoked', 'never smoked', 'never smoked', 'smokes', 'formerly smoked', 'never smoked', 'never smoked', 'smokes', 'never smoked', 'smokes', 'never smoked', 'formerly smoked', 'formerly smoked', 'Unknown', 'Unknown', 'never smoked', 'never smoked', 'Unknown', 'never smoked', 'never smoked', 'Unknown', 'never smoked', 'never smoked', 'never smoked', 'smokes', 'never smoked', 'never smoked', 'formerly smoked', 'never smoked', 'Unknown', 'formerly smoked', 'formerly smoked', 'never smoked', 'never smoked', 'smokes', 'never smoked', 'never smoked', 'Unknown', 'never smoked', 'never smoked', 'never smoked', 'Unknown', 'never smoked', 'smokes', 'formerly smoked', 'formerly smoked', 'never smoked', 'never smoked', 'never smoked', 'never smoked', 'never smoked', 'formerly smoked', 'never smoked', 'never smoked', 'never smoked', 'never smoked', 'never smoked', 'Unknown', 'formerly smoked', 'never smoked', 'smokes', 'never smoked', 'never smoked', 'never smoked', 'smokes', 'never smoked', 'never smoked', 'smokes', 'smokes', 'smokes', 'never smoked', 'smokes', 'formerly smoked', 'never smoked', 'smokes', 'never smoked', 'never smoked', 'Unknown', 'never smoked', 'formerly smoked', 'never smoked', 'never smoked', 'never smoked', 'never smoked', 'formerly smoked', 'never smoked', 'never smoked', 'never smoked', 'formerly smoked', 'never smoked', 'formerly smoked', 'smokes', 'never smoked', 'formerly smoked', 'formerly smoked', 'never smoked', 'never smoked', 'never smoked', 'formerly smoked', 'smokes', 'never smoked', 'never smoked', 'never smoked', 'formerly smoked', 'Unknown', 'smokes', 'never smoked', 'Unknown', 'never smoked', 'never smoked', 'smokes', 'Unknown', 'smokes', 'formerly smoked', 'never smoked', 'formerly smoked', 'never smoked', 'smokes', 'Unknown', 'Unknown', 'smokes', 'formerly smoked', 'never smoked', 'smokes', 'formerly smoked', 'formerly smoked', 'formerly smoked', 'Unknown', 'never smoked', 'smokes', 'never smoked', 'never smoked', 'smokes', 'never smoked', 'never smoked', 'never smoked', 'Unknown', 'smokes', 'formerly smoked', 'never smoked', 'never smoked', 'never smoked', 'never smoked', 'never smoked', 'never smoked', 'never smoked', 'never smoked', 'never smoked', 'never smoked', 'never smoked', 'never smoked', 'never smoked', 'never smoked', 'Unknown', 'never smoked', 'never smoked', 'smokes', 'smokes', 'never smoked', 'never smoked', 'never smoked', 'smokes', 'never smoked', 'never smoked', 'smokes', 'never smoked', 'never smoked', 'smokes', 'never smoked', 'never smoked', 'never smoked', 'Unknown', 'never smoked', 'never smoked', 'formerly smoked', 'never smoked', 'never smoked', 'smokes', 'never smoked', 'formerly smoked', 'never smoked', 'never smoked', 'Unknown', 'never smoked', 'smokes', 'formerly smoked', 'never smoked', 'never smoked', 'smokes', 'never smoked', 'never smoked', 'never smoked', 'smokes', 'never smoked', 'never smoked', 'never smoked', 'formerly smoked', 'Unknown', 'Unknown', 'formerly smoked', 'Unknown', 'formerly smoked', 'Unknown', 'never smoked', 'never smoked', 'never smoked', 'never smoked', 'Unknown', 'never smoked', 'never smoked', 'never smoked', 'never smoked', 'never smoked', 'formerly smoked', 'smokes', 'never smoked', 'Unknown', 'Unknown', 'never smoked', 'never smoked', 'formerly smoked', 'never smoked', 'Unknown', 'Unknown', 'smokes', 'formerly smoked', 'never smoked', 'Unknown', 'never smoked', 'Unknown', 'never smoked', 'never smoked', 'never smoked', 'never smoked', 'Unknown', 'formerly smoked', 'smokes', 'never smoked', 'never smoked', 'smokes', 'never smoked', 'never smoked', 'smokes', 'smokes', 'formerly smoked', 'never smoked', 'never smoked', 'never smoked', 'never smoked', 'Unknown', 'smokes', 'never smoked', 'formerly smoked', 'never smoked', 'never smoked', 'Unknown', 'never smoked', 'formerly smoked', 'never smoked', 'smokes', 'never smoked', 'formerly smoked', 'never smoked', 'formerly smoked', 'never smoked', 'never smoked', 'never smoked', 'never smoked', 'formerly smoked', 'never smoked', 'formerly smoked', 'Unknown', 'smokes', 'Unknown', 'formerly smoked', 'never smoked', 'never smoked', 'Unknown', 'never smoked', 'never smoked', 'Unknown', 'never smoked', 'never smoked', 'never smoked', 'never smoked', 'never smoked', 'formerly smoked', 'never smoked', 'smokes', 'never smoked', 'Unknown', 'never smoked', 'formerly smoked', 'never smoked', 'never smoked', 'Unknown', 'never smoked', 'formerly smoked', 'Unknown', 'never smoked', 'Unknown', 'formerly smoked', 'never smoked', 'smokes', 'never smoked', 'Unknown', 'formerly smoked', 'Unknown', 'Unknown', 'never smoked', 'never smoked', 'smokes', 'Unknown', 'Unknown', 'never smoked', 'never smoked', 'never smoked', 'Unknown', 'never smoked', 'formerly smoked', 'never smoked', 'Unknown', 'smokes', 'never smoked', 'never smoked', 'smokes', 'formerly smoked', 'smokes', 'Unknown', 'never smoked', 'never smoked', 'formerly smoked', 'never smoked', 'never smoked', 'never smoked', 'Unknown', 'never smoked', 'formerly smoked', 'never smoked', 'formerly smoked', 'never smoked', 'never smoked', 'smokes', 'never smoked', 'Unknown', 'Unknown', 'never smoked', 'formerly smoked', 'never smoked', 'never smoked', 'Unknown', 'smokes', 'never smoked', 'never smoked', 'never smoked', 'Unknown', 'never smoked', 'formerly smoked', 'never smoked', 'never smoked', 'smokes', 'never smoked', 'never smoked', 'never smoked', 'never smoked', 'smokes', 'formerly smoked', 'never smoked', 'never smoked', 'smokes', 'formerly smoked', 'Unknown', 'never smoked', 'formerly smoked', 'never smoked', 'Unknown', 'Unknown', 'never smoked', 'never smoked', 'smokes', 'never smoked', 'smokes', 'never smoked', 'never smoked', 'never smoked', 'formerly smoked', 'never smoked', 'formerly smoked', 'smokes', 'formerly smoked', 'formerly smoked', 'never smoked', 'Unknown', 'never smoked', 'never smoked', 'never smoked', 'never smoked', 'never smoked', 'Unknown', 'never smoked', 'never smoked', 'never smoked', 'smokes', 'never smoked', 'never smoked', 'never smoked', 'never smoked', 'formerly smoked', 'smokes', 'Unknown', 'smokes', 'formerly smoked', 'formerly smoked', 'never smoked', 'smokes', 'never smoked', 'formerly smoked', 'never smoked', 'Unknown', 'Unknown', 'never smoked', 'never smoked', 'Unknown', 'formerly smoked', 'smokes', 'formerly smoked', 'Unknown', 'never smoked', 'formerly smoked', 'never smoked', 'never smoked', 'never smoked', 'never smoked', 'smokes', 'Unknown', 'formerly smoked', 'never smoked', 'never smoked', 'formerly smoked', 'never smoked', 'never smoked', 'never smoked', 'smokes', 'never smoked', 'formerly smoked', 'formerly smoked', 'never smoked', 'Unknown', 'smokes', 'formerly smoked', 'formerly smoked', 'never smoked', 'never smoked', 'never smoked', 'never smoked', 'never smoked', 'smokes', 'Unknown', 'never smoked', 'never smoked', 'never smoked', 'never smoked', 'never smoked', 'never smoked', 'never smoked', 'never smoked', 'Unknown', 'Unknown', 'never smoked', 'smokes', 'smokes', 'formerly smoked', 'smokes', 'never smoked', 'never smoked', 'never smoked', 'formerly smoked', 'never smoked', 'formerly smoked', 'never smoked', 'never smoked', 'Unknown', 'never smoked', 'Unknown', 'never smoked', 'never smoked', 'never smoked', 'never smoked', 'never smoked', 'formerly smoked', 'never smoked', 'Unknown', 'formerly smoked', 'never smoked', 'formerly smoked', 'Unknown', 'never smoked', 'Unknown', 'never smoked', 'smokes', 'never smoked', 'never smoked', 'smokes', 'never smoked', 'never smoked', 'never smoked', 'never smoked', 'never smoked', 'Unknown', 'Unknown', 'never smoked', 'never smoked', 'Unknown', 'Unknown', 'never smoked', 'never smoked', 'never smoked', 'formerly smoked', 'formerly smoked', 'never smoked', 'never smoked', 'never smoked', 'smokes', 'never smoked', 'never smoked', 'never smoked', 'never smoked', 'never smoked', 'never smoked', 'smokes', 'formerly smoked', 'never smoked', 'never smoked', 'Unknown', 'never smoked', 'formerly smoked', 'Unknown', 'Unknown', 'never smoked', 'never smoked', 'formerly smoked', 'never smoked', 'formerly smoked', 'formerly smoked', 'never smoked', 'never smoked', 'Unknown', 'never smoked', 'never smoked', 'never smoked', 'never smoked', 'formerly smoked', 'formerly smoked', 'smokes', 'smokes', 'never smoked', 'never smoked', 'never smoked', 'smokes', 'formerly smoked', 'never smoked', 'smokes', 'never smoked', 'smokes', 'Unknown', 'never smoked', 'never smoked', 'never smoked', 'never smoked', 'Unknown', 'Unknown', 'formerly smoked', 'formerly smoked', 'never smoked', 'Unknown', 'never smoked', 'formerly smoked', 'never smoked', 'never smoked', 'never smoked', 'never smoked', 'Unknown', 'formerly smoked', 'Unknown', 'never smoked', 'never smoked', 'smokes', 'smokes', 'never smoked', 'never smoked', 'never smoked', 'smokes', 'never smoked', 'formerly smoked', 'formerly smoked', 'never smoked', 'never smoked', 'smokes', 'formerly smoked', 'never smoked', 'Unknown', 'never smoked', 'never smoked', 'smokes', 'never smoked', 'never smoked', 'formerly smoked', 'never smoked', 'never smoked', 'smokes', 'Unknown', 'Unknown', 'never smoked', 'Unknown', 'never smoked', 'never smoked', 'smokes', 'never smoked', 'formerly smoked', 'never smoked', 'smokes', 'never smoked', 'Unknown', 'Unknown', 'smokes', 'never smoked', 'never smoked', 'smokes', 'smokes', 'Unknown', 'never smoked', 'never smoked', 'never smoked', 'never smoked', 'never smoked', 'never smoked', 'smokes', 'never smoked', 'never smoked', 'never smoked', 'never smoked', 'never smoked', 'formerly smoked', 'formerly smoked', 'formerly smoked', 'formerly smoked', 'never smoked', 'never smoked', 'never smoked', 'smokes', 'formerly smoked', 'never smoked', 'smokes', 'never smoked', 'never smoked', 'never smoked', 'never smoked', 'never smoked', 'never smoked', 'never smoked', 'never smoked', 'never smoked', 'never smoked', 'smokes', 'never smoked', 'never smoked', 'smokes', 'never smoked', 'formerly smoked', 'formerly smoked', 'never smoked', 'never smoked', 'never smoked', 'never smoked', 'Unknown', 'formerly smoked', 'never smoked', 'smokes', 'never smoked', 'never smoked', 'never smoked', 'never smoked', 'formerly smoked', 'never smoked', 'smokes', 'never smoked', 'never smoked', 'never smoked', 'never smoked', 'formerly smoked', 'formerly smoked', 'never smoked', 'never smoked', 'never smoked', 'formerly smoked', 'never smoked', 'never smoked', 'never smoked', 'Unknown', 'Unknown', 'never smoked', 'never smoked', 'never smoked', 'formerly smoked', 'never smoked', 'Unknown', 'formerly smoked', 'Unknown', 'never smoked', 'smokes', 'never smoked', 'never smoked', 'formerly smoked', 'Unknown', 'formerly smoked', 'Unknown', 'Unknown', 'formerly smoked', 'Unknown', 'smokes', 'smokes', 'smokes', 'smokes', 'never smoked', 'never smoked', 'never smoked', 'never smoked', 'smokes', 'never smoked', 'formerly smoked', 'smokes', 'formerly smoked', 'never smoked', 'smokes', 'Unknown', 'smokes', 'Unknown', 'smokes', 'Unknown', 'smokes', 'never smoked', 'formerly smoked', 'never smoked', 'never smoked', 'never smoked', 'never smoked', 'smokes', 'never smoked', 'smokes', 'Unknown', 'smokes', 'never smoked', 'never smoked', 'formerly smoked', 'smokes', 'never smoked', 'Unknown', 'never smoked', 'never smoked', 'Unknown', 'never smoked', 'smokes', 'smokes', 'never smoked', 'never smoked', 'never smoked', 'never smoked', 'never smoked', 'Unknown', 'never smoked', 'formerly smoked', 'never smoked', 'never smoked', 'formerly smoked', 'never smoked', 'Unknown', 'smokes', 'smokes', 'Unknown', 'smokes', 'formerly smoked', 'never smoked', 'never smoked', 'formerly smoked', 'never smoked', 'formerly smoked', 'never smoked', 'formerly smoked', 'never smoked', 'never smoked', 'never smoked', 'never smoked', 'never smoked', 'never smoked', 'formerly smoked', 'smokes', 'never smoked', 'Unknown', 'never smoked', 'never smoked', 'never smoked', 'never smoked', 'never smoked', 'never smoked', 'never smoked', 'Unknown', 'never smoked', 'never smoked', 'Unknown', 'never smoked', 'smokes', 'Unknown', 'formerly smoked', 'never smoked', 'Unknown', 'smokes', 'Unknown', 'smokes', 'never smoked', 'never smoked', 'Unknown', 'never smoked', 'formerly smoked', 'never smoked', 'smokes', 'Unknown', 'formerly smoked', 'Unknown', 'never smoked', 'never smoked', 'Unknown', 'Unknown', 'never smoked', 'never smoked', 'formerly smoked', 'smokes', 'smokes', 'formerly smoked', 'Unknown', 'formerly smoked', 'never smoked', 'never smoked', 'never smoked', 'smokes', 'formerly smoked', 'never smoked', 'formerly smoked', 'smokes', 'formerly smoked', 'Unknown', 'never smoked', 'formerly smoked', 'never smoked', 'formerly smoked', 'never smoked', 'formerly smoked', 'never smoked', 'never smoked', 'never smoked', 'never smoked', 'smokes', 'Unknown', 'smokes', 'smokes', 'smokes', 'formerly smoked', 'never smoked', 'Unknown', 'never smoked', 'smokes', 'formerly smoked', 'never smoked', 'never smoked', 'never smoked', 'never smoked', 'never smoked', 'smokes', 'never smoked', 'Unknown', 'Unknown', 'Unknown', 'formerly smoked', 'never smoked', 'formerly smoked', 'never smoked', 'smokes', 'formerly smoked', 'never smoked', 'formerly smoked', 'Unknown', 'formerly smoked', 'formerly smoked', 'formerly smoked', 'never smoked', 'smokes', 'formerly smoked', 'smokes', 'never smoked', 'never smoked', 'never smoked', 'smokes', 'never smoked', 'Unknown', 'never smoked', 'formerly smoked', 'Unknown', 'smokes', 'smokes', 'formerly smoked', 'Unknown', 'never smoked', 'never smoked', 'never smoked', 'never smoked', 'never smoked', 'formerly smoked', 'Unknown', 'never smoked', 'Unknown', 'smokes', 'never smoked', 'never smoked', 'Unknown', 'never smoked', 'Unknown', 'Unknown', 'never smoked', 'formerly smoked', 'formerly smoked', 'Unknown', 'Unknown', 'never smoked', 'formerly smoked', 'never smoked', 'smokes', 'never smoked', 'formerly smoked', 'never smoked', 'never smoked', 'smokes', 'smokes', 'formerly smoked', 'smokes', 'formerly smoked', 'formerly smoked', 'smokes', 'never smoked', 'formerly smoked', 'never smoked', 'never smoked', 'never smoked', 'never smoked', 'never smoked', 'never smoked', 'never smoked', 'smokes', 'smokes', 'never smoked', 'smokes', 'formerly smoked', 'formerly smoked', 'smokes', 'formerly smoked', 'never smoked', 'Unknown', 'smokes', 'Unknown', 'never smoked', 'formerly smoked', 'never smoked', 'formerly smoked', 'Unknown', 'never smoked', 'Unknown', 'never smoked', 'smokes', 'never smoked', 'smokes', 'never smoked', 'smokes', 'never smoked', 'Unknown', 'Unknown', 'formerly smoked', 'never smoked', 'smokes', 'never smoked', 'never smoked', 'smokes', 'never smoked', 'never smoked', 'never smoked', 'never smoked', 'Unknown', 'formerly smoked', 'formerly smoked', 'never smoked', 'Unknown', 'never smoked', 'never smoked', 'never smoked', 'formerly smoked', 'formerly smoked', 'never smoked', 'formerly smoked', 'Unknown', 'never smoked', 'never smoked', 'Unknown', 'smokes', 'never smoked', 'formerly smoked', 'never smoked', 'never smoked', 'Unknown', 'never smoked', 'smokes', 'never smoked', 'never smoked', 'Unknown', 'Unknown', 'Unknown', 'never smoked', 'Unknown', 'smokes', 'Unknown', 'formerly smoked', 'smokes', 'formerly smoked', 'never smoked', 'never smoked', 'Unknown', 'never smoked', 'never smoked', 'never smoked', 'never smoked', 'never smoked', 'formerly smoked', 'Unknown', 'never smoked', 'never smoked', 'smokes', 'formerly smoked', 'smokes', 'never smoked', 'smokes', 'smokes', 'smokes', 'Unknown', 'never smoked', 'never smoked', 'Unknown', 'formerly smoked', 'Unknown', 'Unknown', 'never smoked', 'never smoked', 'Unknown', 'never smoked', 'never smoked', 'never smoked', 'Unknown', 'smokes', 'never smoked', 'smokes', 'smokes', 'never smoked', 'never smoked', 'Unknown', 'formerly smoked', 'never smoked', 'smokes', 'never smoked', 'smokes', 'never smoked', 'formerly smoked', 'Unknown', 'Unknown', 'Unknown', 'smokes', 'smokes', 'smokes', 'never smoked', 'Unknown', 'formerly smoked', 'never smoked', 'never smoked', 'formerly smoked', 'never smoked', 'never smoked', 'Unknown', 'smokes', 'formerly smoked', 'smokes', 'smokes', 'never smoked', 'formerly smoked', 'never smoked', 'formerly smoked', 'never smoked', 'formerly smoked', 'never smoked', 'never smoked', 'Unknown', 'never smoked', 'smokes', 'never smoked', 'never smoked', 'never smoked', 'never smoked', 'never smoked', 'never smoked', 'smokes', 'Unknown', 'never smoked', 'formerly smoked', 'formerly smoked', 'never smoked', 'Unknown', 'never smoked', 'formerly smoked', 'never smoked', 'never smoked', 'never smoked', 'never smoked', 'smokes', 'never smoked', 'smokes', 'never smoked', 'formerly smoked', 'smokes', 'never smoked', 'Unknown', 'never smoked', 'formerly smoked', 'never smoked', 'never smoked', 'never smoked', 'never smoked', 'never smoked', 'Unknown', 'never smoked', 'Unknown', 'never smoked', 'smokes', 'never smoked', 'never smoked', 'never smoked', 'Unknown', 'never smoked', 'never smoked', 'never smoked', 'formerly smoked', 'never smoked', 'never smoked', 'smokes', 'never smoked', 'never smoked', 'never smoked', 'never smoked', 'Unknown', 'formerly smoked', 'never smoked', 'formerly smoked', 'never smoked', 'never smoked', 'never smoked', 'never smoked', 'never smoked', 'never smoked', 'never smoked', 'formerly smoked', 'never smoked', 'smokes', 'never smoked', 'Unknown', 'formerly smoked', 'smokes', 'formerly smoked', 'formerly smoked', 'Unknown', 'never smoked', 'never smoked', 'Unknown', 'never smoked', 'never smoked', 'never smoked', 'formerly smoked', 'never smoked', 'never smoked', 'smokes', 'never smoked', 'never smoked', 'Unknown', 'Unknown', 'never smoked', 'never smoked', 'Unknown', 'Unknown', 'never smoked', 'formerly smoked', 'smokes', 'Unknown', 'never smoked', 'never smoked', 'Unknown', 'smokes', 'formerly smoked', 'never smoked', 'never smoked', 'formerly smoked', 'never smoked', 'Unknown', 'never smoked', 'never smoked', 'smokes', 'Unknown', 'never smoked', 'never smoked', 'Unknown', 'formerly smoked', 'never smoked', 'smokes', 'smokes', 'never smoked', 'never smoked', 'formerly smoked', 'smokes', 'never smoked', 'smokes', 'Unknown', 'Unknown', 'Unknown', 'Unknown', 'formerly smoked', 'Unknown', 'Unknown', 'never smoked', 'Unknown', 'never smoked', 'Unknown', 'never smoked', 'smokes', 'never smoked', 'smokes', 'never smoked', 'never smoked', 'Unknown', 'smokes', 'Unknown', 'smokes', 'never smoked', 'never smoked', 'Unknown', 'never smoked', 'Unknown', 'smokes', 'never smoked', 'never smoked', 'never smoked', 'never smoked', 'smokes', 'never smoked', 'never smoked', 'never smoked', 'never smoked', 'never smoked', 'never smoked', 'formerly smoked', 'never smoked', 'Unknown', 'never smoked', 'formerly smoked', 'never smoked', 'never smoked', 'Unknown', 'formerly smoked', 'never smoked', 'smokes', 'smokes', 'never smoked', 'formerly smoked', 'never smoked', 'never smoked', 'smokes', 'never smoked', 'never smoked', 'formerly smoked', 'never smoked', 'never smoked', 'formerly smoked', 'smokes', 'smokes', 'never smoked', 'formerly smoked', 'never smoked', 'smokes', 'never smoked', 'never smoked', 'never smoked', 'never smoked', 'never smoked', 'never smoked', 'Unknown', 'never smoked', 'smokes', 'Unknown', 'formerly smoked', 'Unknown', 'never smoked', 'Unknown', 'formerly smoked', 'formerly smoked', 'never smoked', 'formerly smoked', 'formerly smoked', 'formerly smoked', 'smokes', 'smokes', 'formerly smoked', 'formerly smoked', 'formerly smoked', 'formerly smoked', 'Unknown', 'never smoked', 'never smoked', 'never smoked', 'smokes', 'formerly smoked', 'smokes', 'never smoked', 'smokes', 'Unknown', 'Unknown', 'never smoked', 'never smoked', 'smokes', 'never smoked', 'formerly smoked', 'never smoked', 'never smoked', 'formerly smoked', 'never smoked', 'Unknown', 'smokes', 'Unknown', 'Unknown', 'formerly smoked', 'formerly smoked', 'formerly smoked', 'never smoked', 'never smoked', 'Unknown', 'smokes', 'never smoked', 'never smoked', 'never smoked', 'never smoked', 'never smoked', 'Unknown', 'smokes', 'never smoked', 'Unknown', 'never smoked', 'formerly smoked', 'never smoked', 'never smoked', 'formerly smoked', 'never smoked', 'smokes', 'never smoked', 'Unknown', 'never smoked', 'smokes', 'never smoked', 'Unknown', 'formerly smoked', 'formerly smoked', 'never smoked', 'Unknown', 'never smoked', 'formerly smoked', 'smokes', 'formerly smoked', 'never smoked', 'formerly smoked', 'never smoked', 'formerly smoked', 'never smoked', 'never smoked', 'smokes', 'smokes', 'never smoked', 'smokes', 'formerly smoked', 'never smoked', 'never smoked', 'never smoked', 'never smoked', 'smokes', 'never smoked', 'never smoked', 'never smoked', 'never smoked', 'never smoked', 'formerly smoked', 'never smoked', 'smokes', 'never smoked', 'smokes', 'never smoked', 'never smoked', 'never smoked', 'never smoked', 'smokes', 'smokes', 'Unknown', 'formerly smoked', 'never smoked', 'formerly smoked', 'formerly smoked', 'Unknown', 'never smoked', 'formerly smoked', 'Unknown', 'never smoked', 'never smoked', 'Unknown', 'never smoked', 'never smoked', 'never smoked', 'never smoked', 'Unknown', 'formerly smoked', 'formerly smoked', 'formerly smoked', 'never smoked', 'never smoked', 'smokes', 'never smoked', 'Unknown', 'never smoked', 'smokes', 'never smoked', 'never smoked', 'never smoked', 'never smoked', 'Unknown', 'never smoked', 'never smoked', 'never smoked', 'never smoked', 'smokes', 'never smoked', 'never smoked', 'never smoked', 'never smoked', 'never smoked', 'never smoked', 'never smoked', 'never smoked', 'never smoked', 'never smoked', 'never smoked', 'formerly smoked', 'smokes', 'never smoked', 'never smoked', 'never smoked', 'Unknown', 'formerly smoked', 'never smoked', 'smokes', 'formerly smoked', 'formerly smoked', 'Unknown', 'never smoked', 'never smoked', 'Unknown', 'never smoked', 'never smoked', 'smokes', 'never smoked', 'never smoked', 'never smoked', 'never smoked', 'formerly smoked', 'formerly smoked', 'Unknown', 'formerly smoked', 'never smoked', 'never smoked', 'never smoked', 'never smoked', 'smokes', 'Unknown', 'never smoked', 'smokes', 'never smoked', 'never smoked', 'never smoked', 'never smoked', 'smokes', 'smokes', 'never smoked', 'formerly smoked', 'smokes', 'never smoked', 'Unknown', 'never smoked', 'smokes', 'formerly smoked', 'smokes', 'never smoked', 'never smoked', 'Unknown', 'smokes', 'never smoked', 'formerly smoked', 'never smoked', 'never smoked', 'never smoked', 'never smoked', 'smokes', 'Unknown', 'smokes', 'smokes', 'formerly smoked', 'never smoked', 'smokes', 'Unknown', 'smokes', 'smokes', 'smokes', 'Unknown', 'never smoked', 'formerly smoked', 'never smoked', 'never smoked', 'Unknown', 'formerly smoked', 'smokes', 'never smoked', 'smokes', 'formerly smoked', 'never smoked', 'never smoked', 'smokes', 'never smoked', 'never smoked', 'never smoked', 'Unknown', 'never smoked', 'never smoked', 'formerly smoked', 'never smoked', 'never smoked', 'never smoked', 'never smoked', 'never smoked', 'formerly smoked', 'formerly smoked', 'never smoked', 'never smoked', 'smokes', 'smokes', 'Unknown', 'never smoked', 'smokes', 'formerly smoked', 'Unknown', 'smokes', 'smokes', 'never smoked', 'Unknown', 'Unknown', 'formerly smoked', 'Unknown', 'formerly smoked', 'never smoked', 'smokes', 'smokes', 'never smoked', 'Unknown', 'never smoked', 'formerly smoked', 'Unknown', 'Unknown', 'never smoked', 'never smoked', 'never smoked', 'never smoked', 'Unknown', 'smokes', 'never smoked', 'formerly smoked', 'never smoked', 'never smoked', 'never smoked', 'Unknown', 'never smoked', 'never smoked', 'Unknown', 'never smoked', 'formerly smoked', 'smokes', 'never smoked', 'never smoked', 'never smoked', 'smokes', 'Unknown', 'Unknown', 'never smoked', 'smokes', 'never smoked', 'Unknown', 'never smoked', 'never smoked', 'Unknown', 'never smoked', 'never smoked', 'never smoked', 'smokes', 'smokes', 'smokes', 'smokes', 'never smoked', 'Unknown', 'smokes', 'formerly smoked', 'smokes', 'never smoked', 'never smoked', 'never smoked', 'never smoked', 'never smoked', 'never smoked', 'never smoked', 'never smoked', 'formerly smoked', 'smokes', 'never smoked', 'smokes', 'never smoked', 'never smoked', 'never smoked', 'never smoked', 'smokes', 'smokes', 'never smoked', 'smokes', 'Unknown', 'never smoked', 'never smoked', 'never smoked', 'never smoked', 'never smoked', 'Unknown', 'never smoked', 'formerly smoked', 'never smoked', 'never smoked', 'formerly smoked', 'smokes', 'never smoked', 'smokes', 'never smoked', 'never smoked', 'never smoked', 'Unknown', 'never smoked', 'never smoked', 'never smoked', 'formerly smoked', 'smokes', 'Unknown', 'formerly smoked', 'Unknown', 'Unknown', 'never smoked', 'never smoked', 'never smoked', 'formerly smoked', 'never smoked', 'never smoked', 'never smoked', 'Unknown', 'never smoked', 'never smoked', 'never smoked', 'never smoked', 'never smoked', 'Unknown', 'never smoked', 'formerly smoked', 'never smoked', 'smokes', 'never smoked', 'smokes', 'never smoked', 'never smoked', 'Unknown', 'formerly smoked', 'smokes', 'Unknown', 'never smoked', 'never smoked', 'never smoked', 'Unknown', 'never smoked', 'never smoked', 'never smoked', 'never smoked', 'smokes', 'never smoked', 'formerly smoked', 'smokes', 'Unknown', 'never smoked', 'formerly smoked', 'formerly smoked', 'smokes', 'smokes', 'never smoked', 'never smoked', 'never smoked', 'smokes', 'formerly smoked', 'formerly smoked', 'formerly smoked', 'smokes', 'smokes', 'Unknown', 'Unknown', 'smokes', 'formerly smoked', 'formerly smoked', 'never smoked', 'smokes', 'never smoked', 'never smoked', 'Unknown', 'formerly smoked', 'never smoked', 'Unknown', 'smokes', 'formerly smoked', 'never smoked', 'never smoked', 'never smoked', 'never smoked', 'never smoked', 'never smoked', 'smokes', 'Unknown', 'never smoked', 'never smoked', 'smokes', 'formerly smoked', 'formerly smoked', 'never smoked', 'formerly smoked', 'never smoked', 'never smoked', 'Unknown', 'Unknown', 'never smoked', 'smokes', 'never smoked', 'never smoked', 'never smoked', 'Unknown', 'never smoked', 'never smoked', 'formerly smoked', 'never smoked', 'formerly smoked', 'never smoked', 'Unknown', 'never smoked', 'never smoked', 'formerly smoked', 'never smoked', 'Unknown', 'never smoked', 'never smoked', 'never smoked', 'smokes', 'never smoked', 'never smoked', 'never smoked', 'never smoked', 'never smoked', 'Unknown', 'never smoked', 'Unknown', 'never smoked', 'never smoked', 'never smoked', 'never smoked', 'Unknown', 'never smoked', 'never smoked', 'Unknown', 'never smoked', 'Unknown', 'never smoked', 'never smoked', 'never smoked', 'formerly smoked', 'formerly smoked', 'formerly smoked', 'formerly smoked', 'formerly smoked', 'never smoked', 'Unknown', 'formerly smoked', 'never smoked', 'never smoked', 'smokes', 'Unknown', 'never smoked', 'never smoked', 'formerly smoked', 'Unknown', 'smokes', 'never smoked', 'Unknown', 'never smoked', 'never smoked', 'smokes', 'formerly smoked', 'Unknown', 'formerly smoked', 'Unknown', 'smokes', 'never smoked', 'smokes', 'formerly smoked', 'never smoked', 'never smoked', 'formerly smoked', 'never smoked', 'Unknown', 'formerly smoked', 'never smoked', 'formerly smoked', 'smokes', 'Unknown', 'smokes', 'never smoked', 'never smoked', 'Unknown', 'smokes', 'never smoked', 'smokes', 'smokes', 'smokes', 'never smoked', 'Unknown', 'never smoked', 'never smoked', 'never smoked', 'smokes', 'Unknown', 'formerly smoked', 'never smoked', 'smokes', 'never smoked', 'never smoked', 'Unknown', 'never smoked', 'never smoked', 'never smoked', 'smokes', 'formerly smoked', 'never smoked', 'formerly smoked', 'never smoked', 'formerly smoked', 'Unknown', 'formerly smoked', 'formerly smoked', 'never smoked', 'formerly smoked', 'never smoked', 'Unknown', 'formerly smoked', 'never smoked', 'never smoked', 'never smoked', 'formerly smoked', 'Unknown', 'Unknown', 'Unknown', 'smokes', 'never smoked', 'Unknown', 'smokes', 'never smoked', 'smokes', 'never smoked', 'never smoked', 'Unknown', 'never smoked', 'Unknown', 'never smoked', 'Unknown', 'formerly smoked', 'formerly smoked', 'never smoked', 'never smoked', 'never smoked', 'smokes', 'smokes', 'formerly smoked', 'never smoked', 'never smoked', 'smokes', 'never smoked', 'formerly smoked', 'formerly smoked', 'never smoked', 'never smoked', 'never smoked', 'never smoked', 'never smoked', 'never smoked', 'formerly smoked', 'formerly smoked', 'never smoked', 'formerly smoked', 'smokes', 'smokes', 'never smoked', 'formerly smoked', 'formerly smoked', 'smokes', 'never smoked', 'smokes', 'never smoked', 'never smoked', 'never smoked', 'smokes', 'formerly smoked', 'never smoked', 'never smoked', 'smokes', 'never smoked', 'never smoked', 'never smoked', 'formerly smoked', 'never smoked', 'never smoked', 'never smoked', 'never smoked', 'never smoked', 'smokes', 'never smoked', 'formerly smoked', 'formerly smoked', 'smokes', 'never smoked', 'Unknown', 'never smoked', 'never smoked', 'Unknown', 'Unknown', 'never smoked', 'never smoked', 'formerly smoked', 'never smoked', 'Unknown', 'never smoked', 'never smoked', 'never smoked', 'formerly smoked', 'Unknown', 'formerly smoked', 'never smoked', 'formerly smoked', 'formerly smoked', 'formerly smoked', 'Unknown', 'formerly smoked', 'never smoked', 'formerly smoked', 'never smoked', 'never smoked', 'smokes', 'never smoked', 'never smoked', 'never smoked', 'Unknown', 'Unknown', 'formerly smoked', 'smokes', 'never smoked', 'smokes', 'never smoked', 'Unknown', 'never smoked', 'smokes', 'never smoked', 'never smoked', 'formerly smoked', 'Unknown', 'Unknown', 'never smoked', 'never smoked', 'never smoked', 'never smoked', 'never smoked', 'Unknown', 'never smoked', 'smokes', 'never smoked', 'never smoked', 'Unknown', 'never smoked', 'smokes', 'never smoked', 'never smoked', 'formerly smoked', 'never smoked', 'formerly smoked', 'never smoked', 'smokes', 'never smoked', 'never smoked', 'Unknown', 'smokes', 'Unknown', 'never smoked', 'smokes', 'Unknown', 'never smoked', 'formerly smoked', 'smokes', 'formerly smoked', 'smokes', 'smokes', 'smokes', 'Unknown', 'never smoked', 'Unknown', 'never smoked', 'never smoked', 'never smoked', 'Unknown', 'never smoked', 'smokes', 'never smoked', 'smokes', 'never smoked', 'never smoked', 'formerly smoked', 'formerly smoked', 'never smoked', 'never smoked', 'Unknown', 'Unknown', 'never smoked', 'never smoked', 'smokes', 'never smoked', 'Unknown', 'never smoked', 'never smoked', 'smokes', 'never smoked', 'never smoked', 'formerly smoked', 'never smoked', 'never smoked', 'never smoked', 'Unknown', 'formerly smoked', 'smokes', 'never smoked', 'never smoked', 'Unknown', 'smokes', 'Unknown', 'never smoked', 'formerly smoked', 'Unknown', 'never smoked', 'smokes', 'never smoked', 'Unknown', 'smokes', 'formerly smoked', 'formerly smoked', 'formerly smoked', 'never smoked', 'never smoked', 'Unknown', 'never smoked', 'Unknown', 'formerly smoked', 'never smoked', 'never smoked', 'never smoked', 'never smoked', 'smokes', 'never smoked', 'never smoked', 'never smoked', 'never smoked', 'formerly smoked', 'never smoked', 'Unknown', 'never smoked', 'smokes', 'formerly smoked', 'never smoked', 'never smoked', 'never smoked', 'smokes', 'never smoked', 'never smoked', 'never smoked', 'smokes', 'formerly smoked', 'never smoked', 'never smoked', 'smokes', 'smokes', 'never smoked', 'never smoked', 'smokes', 'never smoked', 'never smoked', 'Unknown', 'never smoked', 'never smoked', 'never smoked', 'never smoked', 'formerly smoked', 'never smoked', 'Unknown', 'never smoked', 'formerly smoked', 'never smoked', 'never smoked', 'never smoked', 'formerly smoked', 'formerly smoked', 'formerly smoked', 'Unknown', 'never smoked', 'never smoked', 'never smoked', 'never smoked', 'never smoked', 'never smoked', 'formerly smoked', 'smokes', 'smokes', 'smokes', 'Unknown', 'smokes', 'never smoked', 'never smoked', 'never smoked', 'never smoked', 'never smoked', 'Unknown', 'formerly smoked', 'smokes', 'formerly smoked', 'smokes', 'smokes', 'Unknown', 'never smoked', 'Unknown', 'never smoked', 'smokes', 'Unknown', 'formerly smoked', 'never smoked', 'smokes', 'formerly smoked', 'never smoked', 'smokes', 'Unknown', 'smokes', 'formerly smoked', 'smokes', 'Unknown', 'never smoked', 'formerly smoked', 'never smoked', 'never smoked', 'formerly smoked', 'never smoked', 'never smoked', 'never smoked', 'formerly smoked', 'never smoked', 'never smoked', 'formerly smoked', 'never smoked', 'formerly smoked', 'smokes', 'formerly smoked', 'formerly smoked', 'never smoked', 'formerly smoked', 'formerly smoked', 'never smoked', 'never smoked', 'never smoked', 'formerly smoked', 'Unknown', 'never smoked', 'never smoked', 'never smoked', 'smokes', 'formerly smoked', 'smokes', 'Unknown', 'formerly smoked', 'Unknown', 'smokes', 'formerly smoked', 'Unknown', 'formerly smoked', 'Unknown', 'formerly smoked', 'smokes', 'never smoked', 'smokes', 'never smoked', 'Unknown', 'never smoked', 'smokes', 'formerly smoked', 'Unknown', 'never smoked', 'formerly smoked', 'Unknown', 'Unknown', 'smokes', 'Unknown', 'never smoked', 'never smoked', 'never smoked', 'formerly smoked', 'never smoked', 'never smoked', 'Unknown', 'formerly smoked', 'smokes', 'formerly smoked', 'never smoked', 'smokes', 'formerly smoked', 'never smoked', 'never smoked', 'never smoked', 'never smoked', 'Unknown', 'never smoked', 'never smoked', 'never smoked', 'never smoked', 'Unknown', 'never smoked', 'formerly smoked', 'never smoked', 'never smoked', 'never smoked', 'Unknown', 'never smoked', 'formerly smoked', 'never smoked', 'never smoked', 'never smoked', 'never smoked', 'smokes', 'never smoked', 'never smoked', 'smokes', 'never smoked', 'never smoked', 'formerly smoked', 'never smoked', 'never smoked', 'formerly smoked', 'Unknown', 'never smoked', 'never smoked', 'never smoked', 'never smoked', 'never smoked', 'smokes', 'never smoked', 'Unknown', 'Unknown', 'never smoked', 'smokes', 'never smoked', 'Unknown', 'never smoked', 'never smoked', 'formerly smoked', 'smokes', 'smokes', 'never smoked', 'formerly smoked', 'Unknown', 'smokes', 'smokes', 'Unknown', 'never smoked', 'never smoked', 'smokes', 'never smoked', 'formerly smoked', 'smokes', 'never smoked', 'Unknown', 'never smoked', 'formerly smoked', 'never smoked', 'never smoked', 'Unknown', 'never smoked', 'Unknown', 'smokes', 'never smoked', 'never smoked', 'never smoked', 'formerly smoked', 'formerly smoked', 'never smoked', 'never smoked', 'never smoked', 'never smoked', 'never smoked', 'never smoked', 'never smoked', 'Unknown', 'smokes', 'never smoked', 'Unknown', 'formerly smoked', 'Unknown', 'smokes', 'Unknown', 'never smoked', 'Unknown', 'never smoked', 'never smoked', 'never smoked', 'Unknown', 'formerly smoked', 'smokes', 'never smoked', 'formerly smoked', 'Unknown', 'formerly smoked', 'formerly smoked', 'never smoked', 'never smoked', 'formerly smoked', 'formerly smoked', 'never smoked', 'Unknown', 'Unknown', 'smokes', 'smokes', 'Unknown', 'formerly smoked', 'formerly smoked', 'smokes', 'Unknown', 'never smoked', 'Unknown', 'never smoked', 'Unknown', 'Unknown', 'never smoked', 'smokes', 'smokes', 'Unknown', 'smokes', 'never smoked', 'smokes', 'never smoked', 'Unknown', 'formerly smoked', 'smokes', 'formerly smoked', 'smokes', 'never smoked', 'never smoked', 'never smoked', 'never smoked', 'never smoked', 'formerly smoked', 'Unknown', 'formerly smoked', 'never smoked', 'Unknown', 'never smoked', 'never smoked', 'never smoked', 'formerly smoked', 'Unknown', 'formerly smoked', 'never smoked', 'smokes', 'formerly smoked', 'formerly smoked', 'never smoked', 'formerly smoked', 'smokes', 'never smoked', 'formerly smoked', 'Unknown', 'formerly smoked', 'Unknown', 'never smoked', 'Unknown', 'never smoked', 'never smoked', 'never smoked', 'formerly smoked', 'Unknown', 'formerly smoked', 'never smoked', 'Unknown', 'never smoked', 'formerly smoked', 'formerly smoked', 'never smoked', 'never smoked', 'smokes', 'formerly smoked', 'never smoked', 'formerly smoked', 'never smoked', 'formerly smoked', 'never smoked', 'never smoked', 'never smoked', 'never smoked', 'formerly smoked', 'Unknown', 'formerly smoked', 'Unknown', 'formerly smoked', 'formerly smoked', 'formerly smoked', 'smokes', 'Unknown', 'never smoked', 'never smoked', 'Unknown', 'smokes', 'smokes', 'formerly smoked', 'never smoked', 'formerly smoked', 'never smoked', 'never smoked', 'Unknown', 'never smoked', 'smokes', 'formerly smoked', 'formerly smoked', 'never smoked', 'smokes', 'never smoked', 'never smoked', 'never smoked', 'smokes', 'formerly smoked', 'formerly smoked', 'smokes', 'formerly smoked', 'never smoked', 'Unknown', 'never smoked', 'never smoked', 'Unknown', 'Unknown', 'never smoked', 'never smoked', 'never smoked', 'never smoked', 'smokes', 'never smoked', 'formerly smoked', 'formerly smoked', 'never smoked', 'never smoked', 'never smoked', 'never smoked', 'Unknown', 'smokes', 'never smoked', 'never smoked', 'never smoked', 'never smoked', 'never smoked', 'never smoked', 'never smoked', 'Unknown', 'Unknown', 'never smoked', 'Unknown', 'smokes', 'Unknown', 'formerly smoked', 'never smoked', 'Unknown', 'never smoked', 'smokes', 'never smoked', 'never smoked', 'never smoked', 'formerly smoked', 'never smoked', 'never smoked', 'never smoked', 'never smoked', 'never smoked', 'formerly smoked', 'never smoked', 'never smoked', 'formerly smoked', 'formerly smoked', 'never smoked', 'smokes', 'Unknown', 'never smoked', 'never smoked', 'Unknown', 'never smoked', 'never smoked', 'Unknown', 'never smoked', 'smokes', 'never smoked', 'Unknown', 'never smoked', 'Unknown', 'smokes', 'never smoked', 'Unknown', 'formerly smoked', 'never smoked', 'never smoked', 'never smoked', 'smokes', 'never smoked', 'Unknown', 'formerly smoked', 'Unknown', 'never smoked', 'never smoked', 'formerly smoked', 'never smoked', 'Unknown', 'never smoked', 'formerly smoked', 'Unknown', 'Unknown', 'smokes', 'formerly smoked', 'Unknown', 'never smoked', 'Unknown', 'Unknown', 'formerly smoked', 'never smoked', 'never smoked', 'formerly smoked', 'Unknown', 'never smoked', 'never smoked', 'never smoked', 'never smoked', 'never smoked', 'formerly smoked', 'never smoked', 'smokes', 'smokes', 'never smoked', 'smokes', 'never smoked', 'smokes', 'never smoked', 'formerly smoked', 'never smoked', 'never smoked', 'never smoked', 'never smoked', 'never smoked', 'never smoked', 'never smoked', 'smokes', 'never smoked', 'never smoked', 'smokes', 'never smoked', 'never smoked', 'never smoked', 'never smoked', 'Unknown', 'formerly smoked', 'smokes', 'never smoked', 'never smoked', 'smokes', 'never smoked', 'never smoked', 'never smoked', 'never smoked', 'never smoked', 'never smoked', 'formerly smoked', 'never smoked', 'Unknown', 'formerly smoked', 'never smoked', 'never smoked', 'Unknown', 'never smoked', 'formerly smoked', 'formerly smoked', 'never smoked', 'Unknown', 'never smoked', 'never smoked', 'Unknown', 'Unknown', 'Unknown', 'never smoked', 'never smoked', 'never smoked', 'smokes', 'never smoked', 'never smoked', 'Unknown', 'never smoked', 'smokes', 'smokes', 'never smoked', 'formerly smoked', 'never smoked', 'never smoked', 'never smoked', 'never smoked', 'never smoked', 'formerly smoked', 'never smoked', 'never smoked', 'never smoked', 'Unknown', 'never smoked', 'never smoked', 'never smoked', 'Unknown', 'never smoked', 'never smoked', 'never smoked', 'formerly smoked', 'never smoked', 'never smoked', 'never smoked', 'never smoked', 'smokes', 'never smoked', 'formerly smoked', 'Unknown', 'formerly smoked', 'never smoked', 'never smoked', 'formerly smoked', 'smokes', 'smokes', 'never smoked', 'never smoked', 'formerly smoked', 'formerly smoked', 'formerly smoked', 'Unknown', 'never smoked', 'never smoked', 'never smoked', 'never smoked', 'smokes', 'never smoked', 'never smoked', 'formerly smoked', 'Unknown', 'Unknown', 'never smoked', 'smokes', 'formerly smoked', 'smokes', 'smokes', 'never smoked', 'never smoked', 'formerly smoked', 'never smoked', 'Unknown', 'formerly smoked', 'formerly smoked', 'never smoked', 'never smoked', 'formerly smoked', 'never smoked', 'never smoked', 'never smoked', 'smokes', 'Unknown', 'smokes', 'Unknown', 'formerly smoked', 'smokes', 'Unknown', 'Unknown', 'formerly smoked', 'never smoked', 'never smoked', 'formerly smoked', 'never smoked', 'never smoked', 'smokes', 'Unknown', 'never smoked', 'never smoked', 'never smoked', 'Unknown', 'never smoked', 'never smoked', 'never smoked', 'never smoked', 'Unknown', 'never smoked', 'never smoked', 'smokes', 'never smoked', 'smokes', 'never smoked', 'never smoked', 'never smoked', 'never smoked', 'never smoked', 'never smoked', 'never smoked', 'never smoked', 'smokes', 'never smoked', 'never smoked', 'Unknown', 'formerly smoked', 'never smoked', 'never smoked', 'never smoked', 'formerly smoked', 'never smoked', 'never smoked', 'never smoked', 'smokes', 'Unknown', 'Unknown', 'Unknown', 'never smoked', 'never smoked', 'never smoked', 'smokes', 'never smoked', 'never smoked', 'never smoked', 'never smoked', 'never smoked', 'formerly smoked', 'Unknown', 'formerly smoked', 'never smoked', 'never smoked', 'never smoked', 'never smoked', 'Unknown', 'Unknown', 'formerly smoked', 'never smoked', 'never smoked', 'never smoked', 'formerly smoked', 'never smoked', 'never smoked', 'formerly smoked', 'never smoked', 'never smoked', 'formerly smoked', 'never smoked', 'smokes', 'never smoked', 'never smoked', 'never smoked', 'formerly smoked', 'formerly smoked', 'Unknown', 'never smoked', 'smokes', 'smokes', 'never smoked', 'Unknown', 'formerly smoked', 'never smoked', 'never smoked', 'never smoked', 'Unknown', 'never smoked', 'formerly smoked', 'smokes', 'smokes', 'never smoked', 'never smoked', 'never smoked', 'never smoked', 'never smoked', 'never smoked', 'Unknown', 'never smoked', 'never smoked', 'formerly smoked', 'never smoked', 'smokes', 'never smoked', 'smokes', 'never smoked', 'never smoked', 'Unknown', 'Unknown', 'formerly smoked', 'never smoked', 'never smoked', 'formerly smoked', 'Unknown', 'never smoked', 'Unknown', 'never smoked', 'formerly smoked', 'formerly smoked', 'formerly smoked', 'smokes', 'never smoked', 'never smoked', 'never smoked', 'never smoked', 'never smoked', 'never smoked', 'never smoked', 'never smoked', 'Unknown', 'never smoked', 'never smoked', 'never smoked', 'formerly smoked', 'never smoked', 'never smoked', 'never smoked', 'never smoked', 'never smoked', 'Unknown', 'never smoked', 'never smoked', 'never smoked', 'never smoked', 'never smoked', 'never smoked', 'never smoked', 'never smoked', 'never smoked', 'formerly smoked', 'formerly smoked', 'never smoked', 'formerly smoked', 'never smoked', 'smokes', 'formerly smoked', 'never smoked', 'never smoked', 'Unknown', 'never smoked', 'never smoked', 'Unknown', 'never smoked', 'formerly smoked', 'formerly smoked', 'never smoked', 'smokes', 'never smoked', 'smokes', 'smokes', 'never smoked', 'never smoked', 'formerly smoked', 'smokes', 'never smoked', 'never smoked', 'smokes', 'smokes', 'never smoked', 'Unknown', 'never smoked', 'never smoked', 'formerly smoked', 'formerly smoked', 'never smoked', 'formerly smoked', 'never smoked', 'never smoked', 'never smoked', 'never smoked', 'never smoked', 'smokes', 'formerly smoked', 'never smoked', 'never smoked', 'never smoked', 'never smoked', 'Unknown', 'formerly smoked', 'Unknown', 'never smoked', 'never smoked', 'Unknown', 'never smoked', 'Unknown', 'smokes', 'never smoked', 'smokes', 'Unknown', 'never smoked', 'never smoked', 'Unknown', 'Unknown', 'formerly smoked', 'never smoked', 'never smoked', 'Unknown', 'formerly smoked', 'smokes', 'never smoked', 'never smoked', 'never smoked', 'never smoked', 'formerly smoked', 'never smoked', 'Unknown', 'never smoked', 'smokes', 'never smoked', 'Unknown', 'never smoked', 'never smoked', 'never smoked', 'never smoked', 'never smoked', 'never smoked', 'Unknown', 'never smoked', 'never smoked', 'smokes', 'Unknown', 'smokes', 'smokes', 'Unknown', 'smokes', 'Unknown', 'formerly smoked', 'formerly smoked', 'never smoked', 'never smoked', 'Unknown', 'never smoked', 'never smoked', 'smokes', 'never smoked', 'Unknown', 'never smoked', 'never smoked', 'formerly smoked', 'never smoked', 'never smoked', 'never smoked', 'never smoked', 'never smoked', 'never smoked', 'smokes', 'never smoked', 'Unknown', 'never smoked', 'never smoked', 'never smoked', 'formerly smoked', 'Unknown', 'never smoked', 'never smoked', 'never smoked', 'never smoked', 'never smoked', 'never smoked', 'smokes', 'smokes', 'never smoked', 'never smoked', 'formerly smoked', 'never smoked', 'Unknown', 'never smoked', 'Unknown', 'Unknown', 'never smoked', 'formerly smoked', 'Unknown', 'never smoked', 'smokes', 'never smoked', 'never smoked', 'smokes', 'never smoked', 'formerly smoked', 'never smoked', 'smokes', 'never smoked', 'never smoked', 'never smoked', 'never smoked', 'never smoked', 'never smoked', 'never smoked', 'never smoked', 'never smoked', 'never smoked', 'never smoked', 'never smoked', 'formerly smoked', 'Unknown', 'formerly smoked', 'Unknown', 'never smoked', 'Unknown', 'never smoked', 'never smoked', 'never smoked', 'never smoked', 'never smoked', 'never smoked', 'smokes', 'never smoked', 'never smoked', 'never smoked', 'smokes', 'Unknown', 'smokes', 'smokes', 'never smoked', 'never smoked', 'never smoked', 'Unknown', 'smokes', 'formerly smoked', 'never smoked', 'smokes', 'never smoked', 'smokes', 'never smoked', 'never smoked', 'never smoked', 'formerly smoked', 'formerly smoked', 'smokes', 'smokes', 'never smoked', 'never smoked', 'Unknown', 'Unknown', 'smokes', 'Unknown', 'smokes', 'formerly smoked', 'never smoked', 'never smoked', 'smokes', 'never smoked', 'smokes', 'never smoked', 'formerly smoked', 'formerly smoked', 'Unknown', 'Unknown', 'smokes', 'never smoked', 'never smoked', 'smokes', 'never smoked', 'Unknown', 'never smoked', 'never smoked', 'never smoked', 'smokes', 'never smoked', 'never smoked', 'formerly smoked', 'Unknown', 'Unknown', 'never smoked', 'Unknown', 'formerly smoked', 'Unknown', 'never smoked', 'smokes', 'never smoked', 'formerly smoked', 'smokes', 'never smoked', 'smokes', 'Unknown', 'smokes', 'never smoked', 'never smoked', 'never smoked', 'never smoked', 'smokes', 'Unknown', 'Unknown', 'never smoked', 'never smoked', 'never smoked', 'formerly smoked', 'never smoked', 'formerly smoked', 'never smoked', 'Unknown', 'smokes', 'never smoked', 'never smoked', 'never smoked', 'never smoked', 'Unknown', 'never smoked', 'smokes', 'Unknown', 'smokes', 'never smoked', 'formerly smoked', 'never smoked', 'Unknown', 'Unknown', 'never smoked', 'formerly smoked', 'formerly smoked', 'formerly smoked', 'never smoked', 'Unknown', 'never smoked', 'smokes', 'formerly smoked', 'smokes', 'never smoked', 'never smoked', 'never smoked', 'never smoked', 'smokes', 'Unknown', 'Unknown', 'never smoked', 'formerly smoked', 'never smoked', 'smokes', 'never smoked', 'never smoked', 'never smoked', 'Unknown', 'Unknown', 'formerly smoked', 'never smoked', 'never smoked', 'smokes', 'Unknown', 'Unknown', 'formerly smoked', 'never smoked', 'Unknown', 'never smoked', 'Unknown', 'formerly smoked', 'Unknown', 'formerly smoked', 'never smoked', 'formerly smoked', 'formerly smoked', 'formerly smoked', 'smokes', 'never smoked', 'smokes', 'never smoked', 'formerly smoked', 'never smoked', 'never smoked', 'never smoked', 'Unknown', 'Unknown', 'never smoked', 'never smoked', 'never smoked', 'never smoked', 'smokes', 'never smoked', 'never smoked', 'never smoked', 'never smoked', 'never smoked', 'formerly smoked', 'formerly smoked', 'smokes', 'never smoked', 'never smoked', 'never smoked', 'never smoked', 'never smoked', 'formerly smoked', 'never smoked', 'never smoked', 'formerly smoked', 'never smoked', 'smokes', 'never smoked', 'never smoked', 'never smoked', 'Unknown', 'smokes', 'smokes', 'smokes', 'smokes', 'smokes', 'never smoked', 'never smoked', 'never smoked', 'never smoked', 'never smoked', 'never smoked', 'smokes', 'never smoked', 'never smoked', 'formerly smoked', 'formerly smoked', 'never smoked', 'never smoked', 'never smoked', 'formerly smoked', 'never smoked', 'formerly smoked', 'never smoked', 'never smoked', 'smokes', 'never smoked', 'smokes', 'never smoked', 'Unknown', 'formerly smoked', 'Unknown', 'smokes', 'never smoked', 'Unknown', 'never smoked', 'never smoked', 'smokes', 'smokes', 'formerly smoked', 'formerly smoked', 'formerly smoked', 'never smoked', 'never smoked', 'Unknown', 'never smoked', 'formerly smoked', 'formerly smoked', 'formerly smoked', 'never smoked', 'never smoked', 'Unknown', 'never smoked', 'never smoked', 'never smoked', 'never smoked', 'Unknown', 'Unknown', 'never smoked', 'Unknown', 'smokes', 'never smoked', 'formerly smoked', 'never smoked', 'formerly smoked', 'formerly smoked', 'formerly smoked', 'Unknown', 'never smoked', 'Unknown', 'never smoked', 'never smoked', 'never smoked', 'smokes', 'never smoked', 'Unknown', 'Unknown', 'Unknown', 'Unknown', 'never smoked', 'never smoked', 'Unknown', 'smokes', 'formerly smoked', 'never smoked', 'never smoked', 'never smoked', 'never smoked', 'never smoked', 'never smoked', 'never smoked', 'Unknown', 'never smoked', 'formerly smoked', 'Unknown', 'never smoked', 'never smoked', 'formerly smoked', 'smokes', 'never smoked', 'Unknown', 'never smoked', 'never smoked', 'smokes', 'smokes', 'smokes', 'never smoked', 'never smoked', 'Unknown', 'never smoked', 'never smoked', 'Unknown', 'formerly smoked', 'Unknown', 'never smoked', 'never smoked', 'never smoked', 'formerly smoked', 'formerly smoked', 'never smoked', 'smokes', 'formerly smoked', 'Unknown', 'never smoked', 'never smoked', 'never smoked', 'never smoked', 'never smoked', 'never smoked', 'smokes', 'smokes', 'Unknown', 'formerly smoked', 'smokes', 'formerly smoked', 'never smoked', 'Unknown', 'smokes', 'never smoked', 'formerly smoked', 'never smoked', 'never smoked', 'never smoked', 'Unknown', 'never smoked', 'smokes', 'never smoked', 'never smoked', 'smokes', 'smokes', 'never smoked', 'never smoked', 'never smoked', 'never smoked', 'never smoked', 'never smoked', 'never smoked', 'never smoked', 'never smoked', 'never smoked', 'smokes', 'Unknown', 'smokes', 'never smoked', 'never smoked', 'smokes', 'formerly smoked', 'formerly smoked', 'Unknown', 'formerly smoked', 'Unknown', 'never smoked', 'smokes', 'Unknown', 'never smoked', 'Unknown', 'never smoked', 'never smoked', 'never smoked', 'Unknown', 'never smoked', 'smokes', 'never smoked', 'never smoked', 'never smoked', 'never smoked', 'never smoked', 'formerly smoked', 'never smoked', 'never smoked', 'Unknown', 'Unknown', 'formerly smoked', 'Unknown', 'smokes', 'never smoked', 'smokes', 'formerly smoked', 'formerly smoked', 'never smoked', 'never smoked', 'never smoked', 'formerly smoked', 'never smoked', 'smokes', 'never smoked', 'smokes', 'formerly smoked', 'smokes', 'Unknown', 'never smoked', 'never smoked', 'never smoked', 'Unknown', 'never smoked', 'Unknown', 'formerly smoked', 'smokes', 'smokes', 'never smoked', 'never smoked', 'never smoked', 'never smoked', 'smokes', 'never smoked', 'never smoked', 'Unknown', 'never smoked', 'Unknown', 'never smoked', 'never smoked', 'never smoked', 'never smoked', 'Unknown', 'formerly smoked', 'never smoked', 'smokes', 'never smoked', 'smokes', 'formerly smoked', 'never smoked', 'never smoked', 'never smoked', 'never smoked', 'Unknown', 'never smoked', 'smokes', 'never smoked', 'never smoked', 'smokes', 'formerly smoked', 'formerly smoked', 'formerly smoked', 'Unknown', 'never smoked', 'never smoked', 'Unknown', 'formerly smoked', 'never smoked', 'never smoked', 'smokes', 'never smoked', 'never smoked', 'Unknown', 'formerly smoked', 'never smoked', 'never smoked', 'never smoked', 'never smoked', 'Unknown', 'never smoked', 'never smoked', 'never smoked', 'formerly smoked', 'Unknown', 'smokes', 'formerly smoked', 'smokes', 'never smoked', 'never smoked', 'never smoked', 'Unknown', 'never smoked', 'formerly smoked', 'Unknown', 'formerly smoked', 'smokes', 'never smoked', 'never smoked', 'formerly smoked', 'never smoked', 'never smoked', 'formerly smoked', 'formerly smoked', 'never smoked', 'smokes', 'never smoked', 'never smoked', 'smokes', 'formerly smoked', 'never smoked', 'formerly smoked', 'smokes', 'smokes', 'Unknown', 'formerly smoked', 'smokes', 'never smoked', 'Unknown', 'never smoked', 'never smoked', 'never smoked', 'never smoked', 'never smoked', 'never smoked', 'never smoked', 'never smoked', 'smokes', 'Unknown', 'never smoked', 'Unknown', 'formerly smoked', 'never smoked', 'never smoked', 'smokes', 'formerly smoked', 'smokes', 'Unknown', 'formerly smoked', 'formerly smoked', 'smokes', 'never smoked', 'never smoked', 'Unknown', 'formerly smoked', 'never smoked', 'smokes', 'Unknown', 'never smoked', 'Unknown', 'Unknown', 'never smoked', 'never smoked', 'never smoked', 'never smoked', 'Unknown', 'never smoked', 'never smoked', 'never smoked', 'Unknown', 'never smoked', 'never smoked', 'smokes', 'never smoked', 'never smoked', 'never smoked', 'formerly smoked', 'Unknown', 'Unknown', 'smokes', 'never smoked', 'smokes', 'Unknown', 'Unknown', 'smokes', 'formerly smoked', 'never smoked', 'never smoked', 'smokes', 'Unknown', 'never smoked', 'never smoked', 'never smoked', 'Unknown', 'never smoked', 'formerly smoked', 'never smoked', 'never smoked', 'never smoked', 'never smoked', 'never smoked', 'Unknown', 'Unknown', 'never smoked', 'never smoked', 'Unknown', 'never smoked', 'never smoked', 'Unknown', 'formerly smoked', 'never smoked', 'never smoked', 'never smoked', 'Unknown', 'never smoked', 'never smoked', 'smokes', 'smokes', 'formerly smoked', 'never smoked', 'never smoked', 'never smoked', 'never smoked', 'never smoked', 'never smoked', 'never smoked', 'never smoked', 'never smoked', 'Unknown', 'formerly smoked', 'formerly smoked', 'never smoked', 'never smoked', 'never smoked', 'never smoked', 'never smoked', 'formerly smoked', 'formerly smoked', 'formerly smoked', 'smokes', 'formerly smoked', 'never smoked', 'never smoked', 'never smoked', 'never smoked', 'formerly smoked', 'never smoked', 'never smoked', 'smokes', 'never smoked', 'never smoked', 'smokes', 'never smoked', 'never smoked', 'never smoked', 'never smoked', 'never smoked', 'smokes', 'formerly smoked', 'never smoked', 'never smoked', 'formerly smoked', 'never smoked', 'never smoked', 'smokes', 'smokes', 'never smoked', 'Unknown', 'smokes', 'never smoked', 'never smoked', 'smokes', 'never smoked', 'never smoked', 'formerly smoked', 'formerly smoked', 'Unknown', 'Unknown', 'smokes', 'Unknown', 'never smoked', 'Unknown', 'formerly smoked', 'never smoked', 'formerly smoked', 'formerly smoked', 'never smoked', 'never smoked', 'formerly smoked', 'never smoked', 'never smoked', 'never smoked', 'never smoked', 'never smoked', 'never smoked', 'never smoked', 'never smoked', 'never smoked', 'never smoked', 'smokes', 'smokes', 'formerly smoked', 'never smoked', 'never smoked', 'never smoked', 'Unknown', 'smokes', 'never smoked', 'never smoked', 'never smoked', 'smokes', 'never smoked', 'never smoked', 'never smoked', 'Unknown', 'never smoked', 'formerly smoked', 'never smoked', 'Unknown', 'never smoked', 'smokes', 'never smoked', 'never smoked', 'formerly smoked', 'Unknown', 'smokes', 'never smoked', 'never smoked', 'never smoked', 'formerly smoked', 'smokes', 'never smoked', 'never smoked', 'never smoked', 'never smoked', 'formerly smoked', 'formerly smoked', 'never smoked', 'never smoked', 'never smoked', 'never smoked', 'never smoked', 'formerly smoked', 'smokes', 'smokes', 'never smoked', 'smokes', 'Unknown', 'formerly smoked', 'formerly smoked', 'never smoked', 'never smoked', 'Unknown', 'formerly smoked', 'Unknown', 'never smoked', 'never smoked', 'never smoked', 'never smoked', 'Unknown', 'never smoked', 'never smoked', 'Unknown', 'smokes', 'smokes', 'never smoked', 'never smoked', 'smokes', 'never smoked', 'never smoked', 'smokes', 'Unknown', 'Unknown', 'never smoked', 'never smoked', 'never smoked', 'Unknown', 'Unknown', 'never smoked', 'formerly smoked', 'never smoked', 'never smoked', 'never smoked', 'Unknown', 'never smoked', 'formerly smoked', 'never smoked', 'formerly smoked', 'never smoked', 'never smoked', 'Unknown', 'formerly smoked', 'never smoked', 'formerly smoked', 'never smoked', 'formerly smoked', 'formerly smoked', 'never smoked', 'smokes', 'never smoked', 'never smoked', 'never smoked', 'Unknown', 'formerly smoked', 'Unknown', 'formerly smoked', 'never smoked', 'Unknown', 'never smoked', 'never smoked', 'Unknown', 'never smoked', 'Unknown', 'Unknown', 'smokes', 'never smoked', 'never smoked', 'never smoked', 'never smoked', 'Unknown', 'never smoked', 'smokes', 'Unknown', 'Unknown', 'never smoked', 'formerly smoked', 'formerly smoked', 'smokes', 'never smoked', 'Unknown', 'never smoked', 'never smoked', 'smokes', 'never smoked', 'Unknown', 'formerly smoked', 'never smoked', 'never smoked', 'formerly smoked', 'Unknown', 'formerly smoked', 'formerly smoked', 'Unknown', 'never smoked', 'smokes', 'never smoked', 'formerly smoked', 'smokes', 'never smoked', 'formerly smoked', 'never smoked', 'Unknown', 'never smoked', 'smokes', 'formerly smoked', 'formerly smoked', 'formerly smoked', 'smokes', 'never smoked', 'never smoked', 'never smoked', 'formerly smoked', 'never smoked', 'never smoked', 'smokes', 'formerly smoked', 'never smoked', 'never smoked', 'never smoked', 'formerly smoked', 'never smoked', 'never smoked', 'never smoked', 'never smoked', 'never smoked', 'never smoked', 'Unknown', 'smokes', 'never smoked', 'formerly smoked', 'formerly smoked', 'never smoked', 'never smoked', 'never smoked', 'formerly smoked', 'formerly smoked', 'formerly smoked', 'smokes', 'smokes', 'never smoked', 'never smoked', 'Unknown', 'never smoked', 'never smoked', 'never smoked', 'formerly smoked', 'never smoked', 'never smoked', 'never smoked', 'never smoked', 'never smoked', 'Unknown', 'never smoked', 'Unknown', 'never smoked', 'never smoked', 'Unknown', 'never smoked', 'Unknown', 'formerly smoked', 'never smoked', 'smokes', 'never smoked', 'Unknown', 'smokes', 'formerly smoked', 'smokes', 'formerly smoked', 'never smoked', 'never smoked', 'never smoked', 'formerly smoked', 'never smoked', 'never smoked', 'never smoked', 'never smoked', 'formerly smoked', 'smokes', 'formerly smoked', 'formerly smoked', 'never smoked', 'Unknown', 'Unknown', 'never smoked', 'smokes', 'never smoked', 'formerly smoked', 'smokes', 'smokes', 'never smoked', 'never smoked', 'smokes', 'never smoked', 'Unknown', 'never smoked', 'never smoked', 'formerly smoked', 'smokes', 'never smoked', 'never smoked', 'never smoked', 'formerly smoked', 'never smoked', 'never smoked', 'never smoked', 'never smoked', 'formerly smoked', 'never smoked', 'Unknown', 'never smoked', 'never smoked', 'formerly smoked', 'never smoked', 'never smoked', 'formerly smoked', 'never smoked', 'smokes', 'never smoked', 'Unknown', 'never smoked', 'smokes', 'never smoked', 'smokes', 'never smoked', 'never smoked', 'formerly smoked', 'never smoked', 'formerly smoked', 'smokes', 'smokes', 'never smoked', 'smokes', 'never smoked', 'Unknown', 'never smoked', 'never smoked', 'never smoked', 'never smoked', 'never smoked', 'never smoked', 'never smoked', 'never smoked', 'never smoked', 'never smoked', 'never smoked', 'smokes', 'never smoked', 'formerly smoked', 'smokes', 'never smoked', 'smokes', 'never smoked', 'never smoked', 'never smoked', 'formerly smoked', 'formerly smoked', 'formerly smoked', 'never smoked', 'Unknown', 'never smoked', 'never smoked', 'never smoked', 'Unknown', 'never smoked', 'formerly smoked', 'never smoked', 'smokes', 'formerly smoked', 'smokes', 'never smoked', 'never smoked', 'smokes', 'smokes', 'formerly smoked', 'Unknown', 'smokes', 'Unknown', 'never smoked', 'Unknown', 'never smoked', 'never smoked', 'Unknown', 'never smoked', 'never smoked', 'never smoked', 'never smoked', 'never smoked', 'formerly smoked', 'never smoked', 'formerly smoked', 'formerly smoked', 'never smoked', 'smokes', 'formerly smoked', 'Unknown', 'never smoked', 'smokes', 'Unknown', 'never smoked', 'smokes', 'Unknown', 'never smoked', 'never smoked', 'never smoked', 'smokes', 'formerly smoked', 'formerly smoked', 'never smoked', 'never smoked', 'never smoked', 'never smoked', 'formerly smoked', 'never smoked', 'never smoked', 'smokes', 'formerly smoked', 'never smoked', 'never smoked', 'smokes', 'never smoked', 'never smoked', 'never smoked', 'smokes', 'Unknown', 'never smoked', 'never smoked', 'formerly smoked', 'smokes', 'never smoked', 'never smoked', 'smokes', 'never smoked', 'never smoked', 'never smoked', 'never smoked', 'never smoked', 'never smoked', 'formerly smoked', 'never smoked', 'never smoked', 'Unknown', 'never smoked', 'never smoked', 'smokes', 'never smoked', 'formerly smoked', 'Unknown', 'smokes', 'never smoked', 'smokes', 'formerly smoked', 'never smoked', 'never smoked', 'Unknown', 'smokes', 'Unknown', 'Unknown', 'never smoked', 'Unknown', 'smokes', 'formerly smoked', 'never smoked', 'smokes', 'formerly smoked', 'never smoked', 'never smoked', 'never smoked', 'never smoked', 'never smoked', 'smokes', 'smokes', 'never smoked', 'never smoked', 'never smoked', 'formerly smoked', 'smokes', 'formerly smoked', 'never smoked', 'never smoked', 'never smoked', 'never smoked', 'formerly smoked', 'never smoked', 'never smoked', 'never smoked', 'smokes', 'never smoked', 'never smoked', 'never smoked', 'never smoked', 'never smoked', 'Unknown', 'never smoked', 'formerly smoked', 'never smoked', 'never smoked', 'never smoked', 'never smoked', 'smokes', 'never smoked', 'Unknown', 'formerly smoked', 'never smoked', 'never smoked', 'formerly smoked', 'never smoked', 'never smoked', 'never smoked', 'smokes', 'never smoked', 'Unknown', 'smokes', 'never smoked', 'Unknown', 'formerly smoked', 'never smoked', 'never smoked', 'Unknown', 'never smoked', 'never smoked', 'never smoked', 'never smoked', 'smokes', 'Unknown', 'smokes', 'Unknown', 'formerly smoked', 'never smoked', 'never smoked', 'never smoked', 'never smoked', 'Unknown', 'never smoked', 'Unknown', 'never smoked', 'never smoked', 'never smoked', 'never smoked', 'never smoked', 'never smoked', 'formerly smoked', 'never smoked', 'never smoked', 'never smoked', 'formerly smoked', 'formerly smoked', 'never smoked', 'formerly smoked', 'formerly smoked', 'smokes', 'smokes', 'never smoked', 'formerly smoked', 'smokes', 'never smoked', 'Unknown', 'formerly smoked', 'never smoked', 'never smoked', 'never smoked', 'Unknown', 'never smoked', 'never smoked', 'Unknown', 'smokes', 'never smoked', 'never smoked', 'never smoked', 'never smoked', 'never smoked', 'never smoked', 'formerly smoked', 'formerly smoked', 'formerly smoked', 'never smoked', 'never smoked', 'Unknown', 'formerly smoked', 'Unknown', 'smokes', 'formerly smoked', 'Unknown', 'never smoked', 'never smoked', 'Unknown', 'formerly smoked', 'smokes', 'never smoked', 'never smoked', 'never smoked', 'never smoked', 'never smoked', 'never smoked', 'smokes', 'formerly smoked', 'never smoked', 'never smoked', 'Unknown', 'formerly smoked', 'never smoked', 'never smoked', 'Unknown', 'Unknown', 'never smoked', 'never smoked', 'never smoked', 'formerly smoked', 'never smoked', 'never smoked', 'Unknown', 'smokes', 'never smoked', 'smokes', 'Unknown', 'never smoked', 'never smoked', 'never smoked', 'never smoked', 'never smoked', 'formerly smoked', 'smokes', 'never smoked', 'smokes', 'formerly smoked', 'Unknown', 'formerly smoked', 'Unknown', 'never smoked', 'smokes', 'never smoked', 'never smoked', 'smokes', 'never smoked', 'never smoked', 'never smoked', 'Unknown', 'never smoked', 'smokes', 'never smoked', 'Unknown', 'never smoked', 'never smoked', 'never smoked', 'never smoked', 'never smoked', 'never smoked', 'formerly smoked', 'Unknown']\n"
          ]
        },
        {
          "output_type": "execute_result",
          "data": {
            "text/plain": [
              "5110"
            ]
          },
          "metadata": {},
          "execution_count": 14
        }
      ]
    },
    {
      "cell_type": "code",
      "metadata": {
        "colab": {
          "base_uri": "https://localhost:8080/"
        },
        "id": "HOBxKFX6IxYE",
        "outputId": "e281109c-6c5b-4280-cee7-a1dce39590e9"
      },
      "source": [
        "data['smoking_status1']=m\n",
        "data.smoking_status1.value_counts()"
      ],
      "execution_count": 15,
      "outputs": [
        {
          "output_type": "execute_result",
          "data": {
            "text/plain": [
              "never smoked       2623\n",
              "formerly smoked     885\n",
              "Unknown             813\n",
              "smokes              789\n",
              "Name: smoking_status1, dtype: int64"
            ]
          },
          "metadata": {},
          "execution_count": 15
        }
      ]
    },
    {
      "cell_type": "code",
      "metadata": {
        "colab": {
          "base_uri": "https://localhost:8080/"
        },
        "id": "IHZKuhEdJts3",
        "outputId": "116d840a-d0ad-4790-b72b-55b77b1ba636"
      },
      "source": [
        "data.work_type.value_counts()"
      ],
      "execution_count": 16,
      "outputs": [
        {
          "output_type": "execute_result",
          "data": {
            "text/plain": [
              "Private          2925\n",
              "Self-employed     819\n",
              "children          687\n",
              "Govt_job          657\n",
              "Never_worked       22\n",
              "Name: work_type, dtype: int64"
            ]
          },
          "metadata": {},
          "execution_count": 16
        }
      ]
    },
    {
      "cell_type": "code",
      "metadata": {
        "colab": {
          "base_uri": "https://localhost:8080/"
        },
        "id": "pIKPG3oaJtwy",
        "outputId": "2ea0faa4-f652-4216-d447-fa9b02cc955e"
      },
      "source": [
        "data.smoking_status1[data.work_type=='Private'].value_counts()"
      ],
      "execution_count": 17,
      "outputs": [
        {
          "output_type": "execute_result",
          "data": {
            "text/plain": [
              "never smoked       1304\n",
              "Unknown             547\n",
              "smokes              543\n",
              "formerly smoked     531\n",
              "Name: smoking_status1, dtype: int64"
            ]
          },
          "metadata": {},
          "execution_count": 17
        }
      ]
    },
    {
      "cell_type": "code",
      "metadata": {
        "colab": {
          "base_uri": "https://localhost:8080/"
        },
        "id": "kH3XzH9sJt0T",
        "outputId": "852dd77c-233c-418f-ed5c-3883dd8df3d7"
      },
      "source": [
        "m=[]\n",
        "for i,x in enumerate(data.smoking_status1):\n",
        "  if data.work_type.iloc[i] =='Private' and x=='Unknown':\n",
        "    m.append('smokes')\n",
        "  else:\n",
        "    m.append(x)\n",
        "print(m)\n",
        "len(m)"
      ],
      "execution_count": 18,
      "outputs": [
        {
          "output_type": "stream",
          "name": "stdout",
          "text": [
            "['formerly smoked', 'never smoked', 'never smoked', 'smokes', 'never smoked', 'formerly smoked', 'never smoked', 'never smoked', 'smokes', 'smokes', 'never smoked', 'smokes', 'smokes', 'smokes', 'never smoked', 'never smoked', 'smokes', 'smokes', 'never smoked', 'Unknown', 'smokes', 'never smoked', 'never smoked', 'smokes', 'formerly smoked', 'never smoked', 'formerly smoked', 'smokes', 'smokes', 'formerly smoked', 'smokes', 'smokes', 'never smoked', 'formerly smoked', 'never smoked', 'formerly smoked', 'formerly smoked', 'formerly smoked', 'smokes', 'never smoked', 'formerly smoked', 'never smoked', 'smokes', 'formerly smoked', 'smokes', 'never smoked', 'Unknown', 'formerly smoked', 'never smoked', 'smokes', 'smokes', 'formerly smoked', 'never smoked', 'never smoked', 'never smoked', 'formerly smoked', 'never smoked', 'formerly smoked', 'never smoked', 'never smoked', 'formerly smoked', 'never smoked', 'smokes', 'formerly smoked', 'smokes', 'never smoked', 'never smoked', 'smokes', 'formerly smoked', 'never smoked', 'formerly smoked', 'formerly smoked', 'formerly smoked', 'never smoked', 'never smoked', 'formerly smoked', 'never smoked', 'formerly smoked', 'never smoked', 'Unknown', 'smokes', 'Unknown', 'never smoked', 'never smoked', 'smokes', 'smokes', 'smokes', 'formerly smoked', 'formerly smoked', 'smokes', 'never smoked', 'never smoked', 'never smoked', 'Unknown', 'never smoked', 'never smoked', 'formerly smoked', 'smokes', 'formerly smoked', 'never smoked', 'Unknown', 'never smoked', 'formerly smoked', 'Unknown', 'Unknown', 'smokes', 'formerly smoked', 'smokes', 'never smoked', 'never smoked', 'formerly smoked', 'smokes', 'formerly smoked', 'never smoked', 'Unknown', 'never smoked', 'smokes', 'smokes', 'formerly smoked', 'never smoked', 'formerly smoked', 'smokes', 'smokes', 'never smoked', 'smokes', 'never smoked', 'formerly smoked', 'smokes', 'formerly smoked', 'Unknown', 'never smoked', 'never smoked', 'never smoked', 'formerly smoked', 'never smoked', 'never smoked', 'formerly smoked', 'smokes', 'formerly smoked', 'smokes', 'never smoked', 'smokes', 'never smoked', 'never smoked', 'never smoked', 'formerly smoked', 'formerly smoked', 'never smoked', 'never smoked', 'never smoked', 'smokes', 'formerly smoked', 'never smoked', 'smokes', 'never smoked', 'never smoked', 'smokes', 'smokes', 'formerly smoked', 'never smoked', 'formerly smoked', 'smokes', 'never smoked', 'never smoked', 'formerly smoked', 'formerly smoked', 'Unknown', 'never smoked', 'formerly smoked', 'never smoked', 'formerly smoked', 'never smoked', 'smokes', 'formerly smoked', 'formerly smoked', 'never smoked', 'never smoked', 'formerly smoked', 'Unknown', 'smokes', 'never smoked', 'formerly smoked', 'smokes', 'smokes', 'smokes', 'formerly smoked', 'formerly smoked', 'formerly smoked', 'formerly smoked', 'smokes', 'formerly smoked', 'formerly smoked', 'smokes', 'smokes', 'smokes', 'formerly smoked', 'formerly smoked', 'smokes', 'formerly smoked', 'never smoked', 'smokes', 'formerly smoked', 'never smoked', 'never smoked', 'smokes', 'formerly smoked', 'never smoked', 'never smoked', 'Unknown', 'Unknown', 'never smoked', 'formerly smoked', 'never smoked', 'never smoked', 'never smoked', 'smokes', 'never smoked', 'smokes', 'smokes', 'never smoked', 'smokes', 'never smoked', 'formerly smoked', 'smokes', 'smokes', 'smokes', 'never smoked', 'never smoked', 'smokes', 'never smoked', 'never smoked', 'smokes', 'never smoked', 'formerly smoked', 'Unknown', 'smokes', 'smokes', 'formerly smoked', 'never smoked', 'smokes', 'formerly smoked', 'formerly smoked', 'never smoked', 'formerly smoked', 'smokes', 'never smoked', 'formerly smoked', 'Unknown', 'smokes', 'never smoked', 'never smoked', 'never smoked', 'formerly smoked', 'never smoked', 'smokes', 'formerly smoked', 'never smoked', 'smokes', 'never smoked', 'Unknown', 'formerly smoked', 'never smoked', 'formerly smoked', 'never smoked', 'never smoked', 'smokes', 'never smoked', 'smokes', 'smokes', 'smokes', 'smokes', 'smokes', 'formerly smoked', 'never smoked', 'never smoked', 'smokes', 'never smoked', 'never smoked', 'never smoked', 'Unknown', 'smokes', 'smokes', 'never smoked', 'smokes', 'never smoked', 'formerly smoked', 'never smoked', 'smokes', 'never smoked', 'smokes', 'never smoked', 'never smoked', 'never smoked', 'formerly smoked', 'smokes', 'smokes', 'never smoked', 'smokes', 'never smoked', 'smokes', 'Unknown', 'formerly smoked', 'never smoked', 'smokes', 'smokes', 'smokes', 'never smoked', 'Unknown', 'smokes', 'formerly smoked', 'Unknown', 'smokes', 'smokes', 'smokes', 'never smoked', 'formerly smoked', 'formerly smoked', 'never smoked', 'formerly smoked', 'never smoked', 'smokes', 'never smoked', 'smokes', 'smokes', 'formerly smoked', 'formerly smoked', 'never smoked', 'never smoked', 'smokes', 'smokes', 'never smoked', 'formerly smoked', 'smokes', 'formerly smoked', 'Unknown', 'never smoked', 'smokes', 'never smoked', 'never smoked', 'never smoked', 'never smoked', 'formerly smoked', 'formerly smoked', 'formerly smoked', 'never smoked', 'never smoked', 'never smoked', 'formerly smoked', 'never smoked', 'smokes', 'formerly smoked', 'never smoked', 'never smoked', 'never smoked', 'smokes', 'never smoked', 'smokes', 'never smoked', 'never smoked', 'smokes', 'never smoked', 'never smoked', 'formerly smoked', 'never smoked', 'smokes', 'formerly smoked', 'never smoked', 'never smoked', 'never smoked', 'never smoked', 'never smoked', 'never smoked', 'never smoked', 'formerly smoked', 'smokes', 'never smoked', 'never smoked', 'smokes', 'never smoked', 'formerly smoked', 'never smoked', 'never smoked', 'never smoked', 'never smoked', 'never smoked', 'never smoked', 'never smoked', 'never smoked', 'formerly smoked', 'formerly smoked', 'never smoked', 'smokes', 'never smoked', 'never smoked', 'never smoked', 'never smoked', 'never smoked', 'never smoked', 'smokes', 'formerly smoked', 'never smoked', 'never smoked', 'smokes', 'smokes', 'Unknown', 'never smoked', 'smokes', 'never smoked', 'never smoked', 'smokes', 'never smoked', 'never smoked', 'smokes', 'Unknown', 'never smoked', 'smokes', 'never smoked', 'never smoked', 'never smoked', 'never smoked', 'Unknown', 'never smoked', 'smokes', 'formerly smoked', 'never smoked', 'never smoked', 'never smoked', 'smokes', 'smokes', 'formerly smoked', 'never smoked', 'formerly smoked', 'smokes', 'never smoked', 'never smoked', 'never smoked', 'formerly smoked', 'never smoked', 'formerly smoked', 'never smoked', 'never smoked', 'never smoked', 'smokes', 'Unknown', 'Unknown', 'never smoked', 'Unknown', 'never smoked', 'smokes', 'never smoked', 'smokes', 'never smoked', 'never smoked', 'Unknown', 'never smoked', 'never smoked', 'formerly smoked', 'smokes', 'smokes', 'never smoked', 'never smoked', 'never smoked', 'formerly smoked', 'never smoked', 'never smoked', 'smokes', 'smokes', 'never smoked', 'never smoked', 'smokes', 'never smoked', 'never smoked', 'smokes', 'never smoked', 'smokes', 'never smoked', 'smokes', 'Unknown', 'formerly smoked', 'smokes', 'never smoked', 'Unknown', 'Unknown', 'never smoked', 'smokes', 'never smoked', 'never smoked', 'smokes', 'formerly smoked', 'smokes', 'smokes', 'formerly smoked', 'Unknown', 'never smoked', 'formerly smoked', 'never smoked', 'never smoked', 'never smoked', 'never smoked', 'smokes', 'formerly smoked', 'formerly smoked', 'never smoked', 'Unknown', 'smokes', 'smokes', 'formerly smoked', 'smokes', 'smokes', 'never smoked', 'formerly smoked', 'smokes', 'smokes', 'smokes', 'smokes', 'smokes', 'never smoked', 'formerly smoked', 'smokes', 'never smoked', 'never smoked', 'never smoked', 'smokes', 'never smoked', 'never smoked', 'never smoked', 'never smoked', 'never smoked', 'formerly smoked', 'smokes', 'formerly smoked', 'never smoked', 'smokes', 'never smoked', 'smokes', 'never smoked', 'never smoked', 'Unknown', 'never smoked', 'smokes', 'never smoked', 'formerly smoked', 'formerly smoked', 'Unknown', 'never smoked', 'never smoked', 'never smoked', 'smokes', 'never smoked', 'never smoked', 'never smoked', 'formerly smoked', 'smokes', 'never smoked', 'never smoked', 'never smoked', 'never smoked', 'smokes', 'never smoked', 'never smoked', 'never smoked', 'never smoked', 'never smoked', 'never smoked', 'never smoked', 'never smoked', 'smokes', 'formerly smoked', 'Unknown', 'never smoked', 'never smoked', 'formerly smoked', 'formerly smoked', 'smokes', 'never smoked', 'never smoked', 'smokes', 'smokes', 'formerly smoked', 'never smoked', 'formerly smoked', 'never smoked', 'smokes', 'formerly smoked', 'never smoked', 'formerly smoked', 'smokes', 'never smoked', 'formerly smoked', 'smokes', 'smokes', 'smokes', 'never smoked', 'never smoked', 'smokes', 'smokes', 'formerly smoked', 'never smoked', 'never smoked', 'never smoked', 'never smoked', 'never smoked', 'never smoked', 'never smoked', 'smokes', 'never smoked', 'never smoked', 'never smoked', 'smokes', 'never smoked', 'smokes', 'never smoked', 'smokes', 'smokes', 'never smoked', 'smokes', 'never smoked', 'smokes', 'formerly smoked', 'smokes', 'never smoked', 'never smoked', 'never smoked', 'smokes', 'smokes', 'never smoked', 'smokes', 'never smoked', 'never smoked', 'smokes', 'never smoked', 'never smoked', 'never smoked', 'Unknown', 'smokes', 'never smoked', 'formerly smoked', 'never smoked', 'formerly smoked', 'smokes', 'never smoked', 'never smoked', 'formerly smoked', 'never smoked', 'never smoked', 'Unknown', 'formerly smoked', 'formerly smoked', 'smokes', 'never smoked', 'never smoked', 'formerly smoked', 'formerly smoked', 'formerly smoked', 'formerly smoked', 'never smoked', 'never smoked', 'never smoked', 'never smoked', 'smokes', 'smokes', 'never smoked', 'smokes', 'never smoked', 'never smoked', 'never smoked', 'never smoked', 'never smoked', 'formerly smoked', 'Unknown', 'never smoked', 'never smoked', 'never smoked', 'never smoked', 'never smoked', 'never smoked', 'formerly smoked', 'smokes', 'smokes', 'never smoked', 'never smoked', 'never smoked', 'never smoked', 'never smoked', 'never smoked', 'smokes', 'formerly smoked', 'formerly smoked', 'never smoked', 'never smoked', 'never smoked', 'Unknown', 'never smoked', 'never smoked', 'formerly smoked', 'never smoked', 'never smoked', 'smokes', 'smokes', 'never smoked', 'never smoked', 'never smoked', 'never smoked', 'smokes', 'never smoked', 'smokes', 'smokes', 'formerly smoked', 'formerly smoked', 'formerly smoked', 'Unknown', 'formerly smoked', 'never smoked', 'formerly smoked', 'smokes', 'never smoked', 'smokes', 'never smoked', 'never smoked', 'formerly smoked', 'formerly smoked', 'smokes', 'never smoked', 'smokes', 'smokes', 'smokes', 'smokes', 'never smoked', 'never smoked', 'never smoked', 'never smoked', 'never smoked', 'formerly smoked', 'never smoked', 'smokes', 'never smoked', 'never smoked', 'smokes', 'Unknown', 'smokes', 'never smoked', 'never smoked', 'never smoked', 'smokes', 'never smoked', 'never smoked', 'smokes', 'never smoked', 'never smoked', 'never smoked', 'never smoked', 'formerly smoked', 'smokes', 'never smoked', 'smokes', 'smokes', 'never smoked', 'never smoked', 'never smoked', 'formerly smoked', 'smokes', 'never smoked', 'smokes', 'never smoked', 'smokes', 'never smoked', 'never smoked', 'smokes', 'smokes', 'smokes', 'never smoked', 'never smoked', 'smokes', 'never smoked', 'formerly smoked', 'never smoked', 'never smoked', 'formerly smoked', 'never smoked', 'never smoked', 'never smoked', 'formerly smoked', 'never smoked', 'never smoked', 'never smoked', 'smokes', 'formerly smoked', 'never smoked', 'never smoked', 'never smoked', 'never smoked', 'never smoked', 'never smoked', 'never smoked', 'smokes', 'formerly smoked', 'never smoked', 'never smoked', 'smokes', 'never smoked', 'smokes', 'never smoked', 'formerly smoked', 'formerly smoked', 'smokes', 'smokes', 'never smoked', 'never smoked', 'Unknown', 'never smoked', 'never smoked', 'smokes', 'never smoked', 'never smoked', 'never smoked', 'smokes', 'never smoked', 'never smoked', 'formerly smoked', 'never smoked', 'smokes', 'formerly smoked', 'formerly smoked', 'never smoked', 'never smoked', 'smokes', 'never smoked', 'never smoked', 'Unknown', 'never smoked', 'never smoked', 'never smoked', 'smokes', 'never smoked', 'smokes', 'formerly smoked', 'formerly smoked', 'never smoked', 'never smoked', 'never smoked', 'never smoked', 'never smoked', 'formerly smoked', 'never smoked', 'never smoked', 'never smoked', 'never smoked', 'never smoked', 'Unknown', 'formerly smoked', 'never smoked', 'smokes', 'never smoked', 'never smoked', 'never smoked', 'smokes', 'never smoked', 'never smoked', 'smokes', 'smokes', 'smokes', 'never smoked', 'smokes', 'formerly smoked', 'never smoked', 'smokes', 'never smoked', 'never smoked', 'smokes', 'never smoked', 'formerly smoked', 'never smoked', 'never smoked', 'never smoked', 'never smoked', 'formerly smoked', 'never smoked', 'never smoked', 'never smoked', 'formerly smoked', 'never smoked', 'formerly smoked', 'smokes', 'never smoked', 'formerly smoked', 'formerly smoked', 'never smoked', 'never smoked', 'never smoked', 'formerly smoked', 'smokes', 'never smoked', 'never smoked', 'never smoked', 'formerly smoked', 'smokes', 'smokes', 'never smoked', 'Unknown', 'never smoked', 'never smoked', 'smokes', 'Unknown', 'smokes', 'formerly smoked', 'never smoked', 'formerly smoked', 'never smoked', 'smokes', 'smokes', 'smokes', 'smokes', 'formerly smoked', 'never smoked', 'smokes', 'formerly smoked', 'formerly smoked', 'formerly smoked', 'smokes', 'never smoked', 'smokes', 'never smoked', 'never smoked', 'smokes', 'never smoked', 'never smoked', 'never smoked', 'smokes', 'smokes', 'formerly smoked', 'never smoked', 'never smoked', 'never smoked', 'never smoked', 'never smoked', 'never smoked', 'never smoked', 'never smoked', 'never smoked', 'never smoked', 'never smoked', 'never smoked', 'never smoked', 'never smoked', 'Unknown', 'never smoked', 'never smoked', 'smokes', 'smokes', 'never smoked', 'never smoked', 'never smoked', 'smokes', 'never smoked', 'never smoked', 'smokes', 'never smoked', 'never smoked', 'smokes', 'never smoked', 'never smoked', 'never smoked', 'smokes', 'never smoked', 'never smoked', 'formerly smoked', 'never smoked', 'never smoked', 'smokes', 'never smoked', 'formerly smoked', 'never smoked', 'never smoked', 'smokes', 'never smoked', 'smokes', 'formerly smoked', 'never smoked', 'never smoked', 'smokes', 'never smoked', 'never smoked', 'never smoked', 'smokes', 'never smoked', 'never smoked', 'never smoked', 'formerly smoked', 'smokes', 'smokes', 'formerly smoked', 'smokes', 'formerly smoked', 'smokes', 'never smoked', 'never smoked', 'never smoked', 'never smoked', 'smokes', 'never smoked', 'never smoked', 'never smoked', 'never smoked', 'never smoked', 'formerly smoked', 'smokes', 'never smoked', 'smokes', 'smokes', 'never smoked', 'never smoked', 'formerly smoked', 'never smoked', 'Unknown', 'Unknown', 'smokes', 'formerly smoked', 'never smoked', 'Unknown', 'never smoked', 'smokes', 'never smoked', 'never smoked', 'never smoked', 'never smoked', 'smokes', 'formerly smoked', 'smokes', 'never smoked', 'never smoked', 'smokes', 'never smoked', 'never smoked', 'smokes', 'smokes', 'formerly smoked', 'never smoked', 'never smoked', 'never smoked', 'never smoked', 'smokes', 'smokes', 'never smoked', 'formerly smoked', 'never smoked', 'never smoked', 'smokes', 'never smoked', 'formerly smoked', 'never smoked', 'smokes', 'never smoked', 'formerly smoked', 'never smoked', 'formerly smoked', 'never smoked', 'never smoked', 'never smoked', 'never smoked', 'formerly smoked', 'never smoked', 'formerly smoked', 'smokes', 'smokes', 'Unknown', 'formerly smoked', 'never smoked', 'never smoked', 'smokes', 'never smoked', 'never smoked', 'smokes', 'never smoked', 'never smoked', 'never smoked', 'never smoked', 'never smoked', 'formerly smoked', 'never smoked', 'smokes', 'never smoked', 'smokes', 'never smoked', 'formerly smoked', 'never smoked', 'never smoked', 'smokes', 'never smoked', 'formerly smoked', 'smokes', 'never smoked', 'smokes', 'formerly smoked', 'never smoked', 'smokes', 'never smoked', 'smokes', 'formerly smoked', 'smokes', 'smokes', 'never smoked', 'never smoked', 'smokes', 'smokes', 'Unknown', 'never smoked', 'never smoked', 'never smoked', 'Unknown', 'never smoked', 'formerly smoked', 'never smoked', 'smokes', 'smokes', 'never smoked', 'never smoked', 'smokes', 'formerly smoked', 'smokes', 'smokes', 'never smoked', 'never smoked', 'formerly smoked', 'never smoked', 'never smoked', 'never smoked', 'smokes', 'never smoked', 'formerly smoked', 'never smoked', 'formerly smoked', 'never smoked', 'never smoked', 'smokes', 'never smoked', 'smokes', 'Unknown', 'never smoked', 'formerly smoked', 'never smoked', 'never smoked', 'smokes', 'smokes', 'never smoked', 'never smoked', 'never smoked', 'smokes', 'never smoked', 'formerly smoked', 'never smoked', 'never smoked', 'smokes', 'never smoked', 'never smoked', 'never smoked', 'never smoked', 'smokes', 'formerly smoked', 'never smoked', 'never smoked', 'smokes', 'formerly smoked', 'smokes', 'never smoked', 'formerly smoked', 'never smoked', 'smokes', 'smokes', 'never smoked', 'never smoked', 'smokes', 'never smoked', 'smokes', 'never smoked', 'never smoked', 'never smoked', 'formerly smoked', 'never smoked', 'formerly smoked', 'smokes', 'formerly smoked', 'formerly smoked', 'never smoked', 'Unknown', 'never smoked', 'never smoked', 'never smoked', 'never smoked', 'never smoked', 'Unknown', 'never smoked', 'never smoked', 'never smoked', 'smokes', 'never smoked', 'never smoked', 'never smoked', 'never smoked', 'formerly smoked', 'smokes', 'smokes', 'smokes', 'formerly smoked', 'formerly smoked', 'never smoked', 'smokes', 'never smoked', 'formerly smoked', 'never smoked', 'smokes', 'smokes', 'never smoked', 'never smoked', 'Unknown', 'formerly smoked', 'smokes', 'formerly smoked', 'smokes', 'never smoked', 'formerly smoked', 'never smoked', 'never smoked', 'never smoked', 'never smoked', 'smokes', 'smokes', 'formerly smoked', 'never smoked', 'never smoked', 'formerly smoked', 'never smoked', 'never smoked', 'never smoked', 'smokes', 'never smoked', 'formerly smoked', 'formerly smoked', 'never smoked', 'smokes', 'smokes', 'formerly smoked', 'formerly smoked', 'never smoked', 'never smoked', 'never smoked', 'never smoked', 'never smoked', 'smokes', 'smokes', 'never smoked', 'never smoked', 'never smoked', 'never smoked', 'never smoked', 'never smoked', 'never smoked', 'never smoked', 'smokes', 'smokes', 'never smoked', 'smokes', 'smokes', 'formerly smoked', 'smokes', 'never smoked', 'never smoked', 'never smoked', 'formerly smoked', 'never smoked', 'formerly smoked', 'never smoked', 'never smoked', 'smokes', 'never smoked', 'Unknown', 'never smoked', 'never smoked', 'never smoked', 'never smoked', 'never smoked', 'formerly smoked', 'never smoked', 'smokes', 'formerly smoked', 'never smoked', 'formerly smoked', 'Unknown', 'never smoked', 'smokes', 'never smoked', 'smokes', 'never smoked', 'never smoked', 'smokes', 'never smoked', 'never smoked', 'never smoked', 'never smoked', 'never smoked', 'Unknown', 'smokes', 'never smoked', 'never smoked', 'Unknown', 'smokes', 'never smoked', 'never smoked', 'never smoked', 'formerly smoked', 'formerly smoked', 'never smoked', 'never smoked', 'never smoked', 'smokes', 'never smoked', 'never smoked', 'never smoked', 'never smoked', 'never smoked', 'never smoked', 'smokes', 'formerly smoked', 'never smoked', 'never smoked', 'Unknown', 'never smoked', 'formerly smoked', 'smokes', 'smokes', 'never smoked', 'never smoked', 'formerly smoked', 'never smoked', 'formerly smoked', 'formerly smoked', 'never smoked', 'never smoked', 'smokes', 'never smoked', 'never smoked', 'never smoked', 'never smoked', 'formerly smoked', 'formerly smoked', 'smokes', 'smokes', 'never smoked', 'never smoked', 'never smoked', 'smokes', 'formerly smoked', 'never smoked', 'smokes', 'never smoked', 'smokes', 'Unknown', 'never smoked', 'never smoked', 'never smoked', 'never smoked', 'smokes', 'smokes', 'formerly smoked', 'formerly smoked', 'never smoked', 'Unknown', 'never smoked', 'formerly smoked', 'never smoked', 'never smoked', 'never smoked', 'never smoked', 'smokes', 'formerly smoked', 'Unknown', 'never smoked', 'never smoked', 'smokes', 'smokes', 'never smoked', 'never smoked', 'never smoked', 'smokes', 'never smoked', 'formerly smoked', 'formerly smoked', 'never smoked', 'never smoked', 'smokes', 'formerly smoked', 'never smoked', 'Unknown', 'never smoked', 'never smoked', 'smokes', 'never smoked', 'never smoked', 'formerly smoked', 'never smoked', 'never smoked', 'smokes', 'smokes', 'smokes', 'never smoked', 'smokes', 'never smoked', 'never smoked', 'smokes', 'never smoked', 'formerly smoked', 'never smoked', 'smokes', 'never smoked', 'smokes', 'Unknown', 'smokes', 'never smoked', 'never smoked', 'smokes', 'smokes', 'smokes', 'never smoked', 'never smoked', 'never smoked', 'never smoked', 'never smoked', 'never smoked', 'smokes', 'never smoked', 'never smoked', 'never smoked', 'never smoked', 'never smoked', 'formerly smoked', 'formerly smoked', 'formerly smoked', 'formerly smoked', 'never smoked', 'never smoked', 'never smoked', 'smokes', 'formerly smoked', 'never smoked', 'smokes', 'never smoked', 'never smoked', 'never smoked', 'never smoked', 'never smoked', 'never smoked', 'never smoked', 'never smoked', 'never smoked', 'never smoked', 'smokes', 'never smoked', 'never smoked', 'smokes', 'never smoked', 'formerly smoked', 'formerly smoked', 'never smoked', 'never smoked', 'never smoked', 'never smoked', 'smokes', 'formerly smoked', 'never smoked', 'smokes', 'never smoked', 'never smoked', 'never smoked', 'never smoked', 'formerly smoked', 'never smoked', 'smokes', 'never smoked', 'never smoked', 'never smoked', 'never smoked', 'formerly smoked', 'formerly smoked', 'never smoked', 'never smoked', 'never smoked', 'formerly smoked', 'never smoked', 'never smoked', 'never smoked', 'smokes', 'Unknown', 'never smoked', 'never smoked', 'never smoked', 'formerly smoked', 'never smoked', 'Unknown', 'formerly smoked', 'smokes', 'never smoked', 'smokes', 'never smoked', 'never smoked', 'formerly smoked', 'Unknown', 'formerly smoked', 'Unknown', 'Unknown', 'formerly smoked', 'smokes', 'smokes', 'smokes', 'smokes', 'smokes', 'never smoked', 'never smoked', 'never smoked', 'never smoked', 'smokes', 'never smoked', 'formerly smoked', 'smokes', 'formerly smoked', 'never smoked', 'smokes', 'smokes', 'smokes', 'Unknown', 'smokes', 'smokes', 'smokes', 'never smoked', 'formerly smoked', 'never smoked', 'never smoked', 'never smoked', 'never smoked', 'smokes', 'never smoked', 'smokes', 'smokes', 'smokes', 'never smoked', 'never smoked', 'formerly smoked', 'smokes', 'never smoked', 'Unknown', 'never smoked', 'never smoked', 'Unknown', 'never smoked', 'smokes', 'smokes', 'never smoked', 'never smoked', 'never smoked', 'never smoked', 'never smoked', 'smokes', 'never smoked', 'formerly smoked', 'never smoked', 'never smoked', 'formerly smoked', 'never smoked', 'Unknown', 'smokes', 'smokes', 'smokes', 'smokes', 'formerly smoked', 'never smoked', 'never smoked', 'formerly smoked', 'never smoked', 'formerly smoked', 'never smoked', 'formerly smoked', 'never smoked', 'never smoked', 'never smoked', 'never smoked', 'never smoked', 'never smoked', 'formerly smoked', 'smokes', 'never smoked', 'smokes', 'never smoked', 'never smoked', 'never smoked', 'never smoked', 'never smoked', 'never smoked', 'never smoked', 'smokes', 'never smoked', 'never smoked', 'smokes', 'never smoked', 'smokes', 'Unknown', 'formerly smoked', 'never smoked', 'Unknown', 'smokes', 'smokes', 'smokes', 'never smoked', 'never smoked', 'smokes', 'never smoked', 'formerly smoked', 'never smoked', 'smokes', 'Unknown', 'formerly smoked', 'smokes', 'never smoked', 'never smoked', 'Unknown', 'smokes', 'never smoked', 'never smoked', 'formerly smoked', 'smokes', 'smokes', 'formerly smoked', 'smokes', 'formerly smoked', 'never smoked', 'never smoked', 'never smoked', 'smokes', 'formerly smoked', 'never smoked', 'formerly smoked', 'smokes', 'formerly smoked', 'smokes', 'never smoked', 'formerly smoked', 'never smoked', 'formerly smoked', 'never smoked', 'formerly smoked', 'never smoked', 'never smoked', 'never smoked', 'never smoked', 'smokes', 'smokes', 'smokes', 'smokes', 'smokes', 'formerly smoked', 'never smoked', 'smokes', 'never smoked', 'smokes', 'formerly smoked', 'never smoked', 'never smoked', 'never smoked', 'never smoked', 'never smoked', 'smokes', 'never smoked', 'smokes', 'smokes', 'smokes', 'formerly smoked', 'never smoked', 'formerly smoked', 'never smoked', 'smokes', 'formerly smoked', 'never smoked', 'formerly smoked', 'smokes', 'formerly smoked', 'formerly smoked', 'formerly smoked', 'never smoked', 'smokes', 'formerly smoked', 'smokes', 'never smoked', 'never smoked', 'never smoked', 'smokes', 'never smoked', 'smokes', 'never smoked', 'formerly smoked', 'Unknown', 'smokes', 'smokes', 'formerly smoked', 'smokes', 'never smoked', 'never smoked', 'never smoked', 'never smoked', 'never smoked', 'formerly smoked', 'smokes', 'never smoked', 'smokes', 'smokes', 'never smoked', 'never smoked', 'smokes', 'never smoked', 'smokes', 'smokes', 'never smoked', 'formerly smoked', 'formerly smoked', 'Unknown', 'Unknown', 'never smoked', 'formerly smoked', 'never smoked', 'smokes', 'never smoked', 'formerly smoked', 'never smoked', 'never smoked', 'smokes', 'smokes', 'formerly smoked', 'smokes', 'formerly smoked', 'formerly smoked', 'smokes', 'never smoked', 'formerly smoked', 'never smoked', 'never smoked', 'never smoked', 'never smoked', 'never smoked', 'never smoked', 'never smoked', 'smokes', 'smokes', 'never smoked', 'smokes', 'formerly smoked', 'formerly smoked', 'smokes', 'formerly smoked', 'never smoked', 'Unknown', 'smokes', 'smokes', 'never smoked', 'formerly smoked', 'never smoked', 'formerly smoked', 'smokes', 'never smoked', 'Unknown', 'never smoked', 'smokes', 'never smoked', 'smokes', 'never smoked', 'smokes', 'never smoked', 'smokes', 'smokes', 'formerly smoked', 'never smoked', 'smokes', 'never smoked', 'never smoked', 'smokes', 'never smoked', 'never smoked', 'never smoked', 'never smoked', 'smokes', 'formerly smoked', 'formerly smoked', 'never smoked', 'Unknown', 'never smoked', 'never smoked', 'never smoked', 'formerly smoked', 'formerly smoked', 'never smoked', 'formerly smoked', 'smokes', 'never smoked', 'never smoked', 'smokes', 'smokes', 'never smoked', 'formerly smoked', 'never smoked', 'never smoked', 'smokes', 'never smoked', 'smokes', 'never smoked', 'never smoked', 'Unknown', 'smokes', 'smokes', 'never smoked', 'Unknown', 'smokes', 'Unknown', 'formerly smoked', 'smokes', 'formerly smoked', 'never smoked', 'never smoked', 'smokes', 'never smoked', 'never smoked', 'never smoked', 'never smoked', 'never smoked', 'formerly smoked', 'smokes', 'never smoked', 'never smoked', 'smokes', 'formerly smoked', 'smokes', 'never smoked', 'smokes', 'smokes', 'smokes', 'Unknown', 'never smoked', 'never smoked', 'smokes', 'formerly smoked', 'smokes', 'smokes', 'never smoked', 'never smoked', 'smokes', 'never smoked', 'never smoked', 'never smoked', 'smokes', 'smokes', 'never smoked', 'smokes', 'smokes', 'never smoked', 'never smoked', 'Unknown', 'formerly smoked', 'never smoked', 'smokes', 'never smoked', 'smokes', 'never smoked', 'formerly smoked', 'smokes', 'Unknown', 'smokes', 'smokes', 'smokes', 'smokes', 'never smoked', 'smokes', 'formerly smoked', 'never smoked', 'never smoked', 'formerly smoked', 'never smoked', 'never smoked', 'Unknown', 'smokes', 'formerly smoked', 'smokes', 'smokes', 'never smoked', 'formerly smoked', 'never smoked', 'formerly smoked', 'never smoked', 'formerly smoked', 'never smoked', 'never smoked', 'smokes', 'never smoked', 'smokes', 'never smoked', 'never smoked', 'never smoked', 'never smoked', 'never smoked', 'never smoked', 'smokes', 'smokes', 'never smoked', 'formerly smoked', 'formerly smoked', 'never smoked', 'smokes', 'never smoked', 'formerly smoked', 'never smoked', 'never smoked', 'never smoked', 'never smoked', 'smokes', 'never smoked', 'smokes', 'never smoked', 'formerly smoked', 'smokes', 'never smoked', 'Unknown', 'never smoked', 'formerly smoked', 'never smoked', 'never smoked', 'never smoked', 'never smoked', 'never smoked', 'smokes', 'never smoked', 'smokes', 'never smoked', 'smokes', 'never smoked', 'never smoked', 'never smoked', 'Unknown', 'never smoked', 'never smoked', 'never smoked', 'formerly smoked', 'never smoked', 'never smoked', 'smokes', 'never smoked', 'never smoked', 'never smoked', 'never smoked', 'smokes', 'formerly smoked', 'never smoked', 'formerly smoked', 'never smoked', 'never smoked', 'never smoked', 'never smoked', 'never smoked', 'never smoked', 'never smoked', 'formerly smoked', 'never smoked', 'smokes', 'never smoked', 'smokes', 'formerly smoked', 'smokes', 'formerly smoked', 'formerly smoked', 'Unknown', 'never smoked', 'never smoked', 'smokes', 'never smoked', 'never smoked', 'never smoked', 'formerly smoked', 'never smoked', 'never smoked', 'smokes', 'never smoked', 'never smoked', 'smokes', 'smokes', 'never smoked', 'never smoked', 'smokes', 'smokes', 'never smoked', 'formerly smoked', 'smokes', 'smokes', 'never smoked', 'never smoked', 'smokes', 'smokes', 'formerly smoked', 'never smoked', 'never smoked', 'formerly smoked', 'never smoked', 'Unknown', 'never smoked', 'never smoked', 'smokes', 'smokes', 'never smoked', 'never smoked', 'smokes', 'formerly smoked', 'never smoked', 'smokes', 'smokes', 'never smoked', 'never smoked', 'formerly smoked', 'smokes', 'never smoked', 'smokes', 'smokes', 'smokes', 'smokes', 'Unknown', 'formerly smoked', 'Unknown', 'smokes', 'never smoked', 'smokes', 'never smoked', 'smokes', 'never smoked', 'smokes', 'never smoked', 'smokes', 'never smoked', 'never smoked', 'smokes', 'smokes', 'smokes', 'smokes', 'never smoked', 'never smoked', 'smokes', 'never smoked', 'smokes', 'smokes', 'never smoked', 'never smoked', 'never smoked', 'never smoked', 'smokes', 'never smoked', 'never smoked', 'never smoked', 'never smoked', 'never smoked', 'never smoked', 'formerly smoked', 'never smoked', 'Unknown', 'never smoked', 'formerly smoked', 'never smoked', 'never smoked', 'smokes', 'formerly smoked', 'never smoked', 'smokes', 'smokes', 'never smoked', 'formerly smoked', 'never smoked', 'never smoked', 'smokes', 'never smoked', 'never smoked', 'formerly smoked', 'never smoked', 'never smoked', 'formerly smoked', 'smokes', 'smokes', 'never smoked', 'formerly smoked', 'never smoked', 'smokes', 'never smoked', 'never smoked', 'never smoked', 'never smoked', 'never smoked', 'never smoked', 'Unknown', 'never smoked', 'smokes', 'smokes', 'formerly smoked', 'smokes', 'never smoked', 'smokes', 'formerly smoked', 'formerly smoked', 'never smoked', 'formerly smoked', 'formerly smoked', 'formerly smoked', 'smokes', 'smokes', 'formerly smoked', 'formerly smoked', 'formerly smoked', 'formerly smoked', 'smokes', 'never smoked', 'never smoked', 'never smoked', 'smokes', 'formerly smoked', 'smokes', 'never smoked', 'smokes', 'smokes', 'smokes', 'never smoked', 'never smoked', 'smokes', 'never smoked', 'formerly smoked', 'never smoked', 'never smoked', 'formerly smoked', 'never smoked', 'Unknown', 'smokes', 'smokes', 'smokes', 'formerly smoked', 'formerly smoked', 'formerly smoked', 'never smoked', 'never smoked', 'Unknown', 'smokes', 'never smoked', 'never smoked', 'never smoked', 'never smoked', 'never smoked', 'smokes', 'smokes', 'never smoked', 'Unknown', 'never smoked', 'formerly smoked', 'never smoked', 'never smoked', 'formerly smoked', 'never smoked', 'smokes', 'never smoked', 'Unknown', 'never smoked', 'smokes', 'never smoked', 'smokes', 'formerly smoked', 'formerly smoked', 'never smoked', 'smokes', 'never smoked', 'formerly smoked', 'smokes', 'formerly smoked', 'never smoked', 'formerly smoked', 'never smoked', 'formerly smoked', 'never smoked', 'never smoked', 'smokes', 'smokes', 'never smoked', 'smokes', 'formerly smoked', 'never smoked', 'never smoked', 'never smoked', 'never smoked', 'smokes', 'never smoked', 'never smoked', 'never smoked', 'never smoked', 'never smoked', 'formerly smoked', 'never smoked', 'smokes', 'never smoked', 'smokes', 'never smoked', 'never smoked', 'never smoked', 'never smoked', 'smokes', 'smokes', 'Unknown', 'formerly smoked', 'never smoked', 'formerly smoked', 'formerly smoked', 'smokes', 'never smoked', 'formerly smoked', 'smokes', 'never smoked', 'never smoked', 'Unknown', 'never smoked', 'never smoked', 'never smoked', 'never smoked', 'smokes', 'formerly smoked', 'formerly smoked', 'formerly smoked', 'never smoked', 'never smoked', 'smokes', 'never smoked', 'smokes', 'never smoked', 'smokes', 'never smoked', 'never smoked', 'never smoked', 'never smoked', 'smokes', 'never smoked', 'never smoked', 'never smoked', 'never smoked', 'smokes', 'never smoked', 'never smoked', 'never smoked', 'never smoked', 'never smoked', 'never smoked', 'never smoked', 'never smoked', 'never smoked', 'never smoked', 'never smoked', 'formerly smoked', 'smokes', 'never smoked', 'never smoked', 'never smoked', 'smokes', 'formerly smoked', 'never smoked', 'smokes', 'formerly smoked', 'formerly smoked', 'Unknown', 'never smoked', 'never smoked', 'smokes', 'never smoked', 'never smoked', 'smokes', 'never smoked', 'never smoked', 'never smoked', 'never smoked', 'formerly smoked', 'formerly smoked', 'smokes', 'formerly smoked', 'never smoked', 'never smoked', 'never smoked', 'never smoked', 'smokes', 'smokes', 'never smoked', 'smokes', 'never smoked', 'never smoked', 'never smoked', 'never smoked', 'smokes', 'smokes', 'never smoked', 'formerly smoked', 'smokes', 'never smoked', 'smokes', 'never smoked', 'smokes', 'formerly smoked', 'smokes', 'never smoked', 'never smoked', 'smokes', 'smokes', 'never smoked', 'formerly smoked', 'never smoked', 'never smoked', 'never smoked', 'never smoked', 'smokes', 'Unknown', 'smokes', 'smokes', 'formerly smoked', 'never smoked', 'smokes', 'Unknown', 'smokes', 'smokes', 'smokes', 'smokes', 'never smoked', 'formerly smoked', 'never smoked', 'never smoked', 'smokes', 'formerly smoked', 'smokes', 'never smoked', 'smokes', 'formerly smoked', 'never smoked', 'never smoked', 'smokes', 'never smoked', 'never smoked', 'never smoked', 'Unknown', 'never smoked', 'never smoked', 'formerly smoked', 'never smoked', 'never smoked', 'never smoked', 'never smoked', 'never smoked', 'formerly smoked', 'formerly smoked', 'never smoked', 'never smoked', 'smokes', 'smokes', 'smokes', 'never smoked', 'smokes', 'formerly smoked', 'smokes', 'smokes', 'smokes', 'never smoked', 'smokes', 'Unknown', 'formerly smoked', 'smokes', 'formerly smoked', 'never smoked', 'smokes', 'smokes', 'never smoked', 'Unknown', 'never smoked', 'formerly smoked', 'smokes', 'smokes', 'never smoked', 'never smoked', 'never smoked', 'never smoked', 'smokes', 'smokes', 'never smoked', 'formerly smoked', 'never smoked', 'never smoked', 'never smoked', 'smokes', 'never smoked', 'never smoked', 'smokes', 'never smoked', 'formerly smoked', 'smokes', 'never smoked', 'never smoked', 'never smoked', 'smokes', 'smokes', 'smokes', 'never smoked', 'smokes', 'never smoked', 'smokes', 'never smoked', 'never smoked', 'Unknown', 'never smoked', 'never smoked', 'never smoked', 'smokes', 'smokes', 'smokes', 'smokes', 'never smoked', 'Unknown', 'smokes', 'formerly smoked', 'smokes', 'never smoked', 'never smoked', 'never smoked', 'never smoked', 'never smoked', 'never smoked', 'never smoked', 'never smoked', 'formerly smoked', 'smokes', 'never smoked', 'smokes', 'never smoked', 'never smoked', 'never smoked', 'never smoked', 'smokes', 'smokes', 'never smoked', 'smokes', 'Unknown', 'never smoked', 'never smoked', 'never smoked', 'never smoked', 'never smoked', 'smokes', 'never smoked', 'formerly smoked', 'never smoked', 'never smoked', 'formerly smoked', 'smokes', 'never smoked', 'smokes', 'never smoked', 'never smoked', 'never smoked', 'smokes', 'never smoked', 'never smoked', 'never smoked', 'formerly smoked', 'smokes', 'Unknown', 'formerly smoked', 'Unknown', 'smokes', 'never smoked', 'never smoked', 'never smoked', 'formerly smoked', 'never smoked', 'never smoked', 'never smoked', 'Unknown', 'never smoked', 'never smoked', 'never smoked', 'never smoked', 'never smoked', 'Unknown', 'never smoked', 'formerly smoked', 'never smoked', 'smokes', 'never smoked', 'smokes', 'never smoked', 'never smoked', 'Unknown', 'formerly smoked', 'smokes', 'smokes', 'never smoked', 'never smoked', 'never smoked', 'Unknown', 'never smoked', 'never smoked', 'never smoked', 'never smoked', 'smokes', 'never smoked', 'formerly smoked', 'smokes', 'smokes', 'never smoked', 'formerly smoked', 'formerly smoked', 'smokes', 'smokes', 'never smoked', 'never smoked', 'never smoked', 'smokes', 'formerly smoked', 'formerly smoked', 'formerly smoked', 'smokes', 'smokes', 'smokes', 'smokes', 'smokes', 'formerly smoked', 'formerly smoked', 'never smoked', 'smokes', 'never smoked', 'never smoked', 'smokes', 'formerly smoked', 'never smoked', 'smokes', 'smokes', 'formerly smoked', 'never smoked', 'never smoked', 'never smoked', 'never smoked', 'never smoked', 'never smoked', 'smokes', 'smokes', 'never smoked', 'never smoked', 'smokes', 'formerly smoked', 'formerly smoked', 'never smoked', 'formerly smoked', 'never smoked', 'never smoked', 'Unknown', 'smokes', 'never smoked', 'smokes', 'never smoked', 'never smoked', 'never smoked', 'smokes', 'never smoked', 'never smoked', 'formerly smoked', 'never smoked', 'formerly smoked', 'never smoked', 'smokes', 'never smoked', 'never smoked', 'formerly smoked', 'never smoked', 'smokes', 'never smoked', 'never smoked', 'never smoked', 'smokes', 'never smoked', 'never smoked', 'never smoked', 'never smoked', 'never smoked', 'smokes', 'never smoked', 'Unknown', 'never smoked', 'never smoked', 'never smoked', 'never smoked', 'Unknown', 'never smoked', 'never smoked', 'smokes', 'never smoked', 'smokes', 'never smoked', 'never smoked', 'never smoked', 'formerly smoked', 'formerly smoked', 'formerly smoked', 'formerly smoked', 'formerly smoked', 'never smoked', 'Unknown', 'formerly smoked', 'never smoked', 'never smoked', 'smokes', 'smokes', 'never smoked', 'never smoked', 'formerly smoked', 'smokes', 'smokes', 'never smoked', 'smokes', 'never smoked', 'never smoked', 'smokes', 'formerly smoked', 'smokes', 'formerly smoked', 'smokes', 'smokes', 'never smoked', 'smokes', 'formerly smoked', 'never smoked', 'never smoked', 'formerly smoked', 'never smoked', 'smokes', 'formerly smoked', 'never smoked', 'formerly smoked', 'smokes', 'smokes', 'smokes', 'never smoked', 'never smoked', 'smokes', 'smokes', 'never smoked', 'smokes', 'smokes', 'smokes', 'never smoked', 'Unknown', 'never smoked', 'never smoked', 'never smoked', 'smokes', 'Unknown', 'formerly smoked', 'never smoked', 'smokes', 'never smoked', 'never smoked', 'smokes', 'never smoked', 'never smoked', 'never smoked', 'smokes', 'formerly smoked', 'never smoked', 'formerly smoked', 'never smoked', 'formerly smoked', 'Unknown', 'formerly smoked', 'formerly smoked', 'never smoked', 'formerly smoked', 'never smoked', 'smokes', 'formerly smoked', 'never smoked', 'never smoked', 'never smoked', 'formerly smoked', 'smokes', 'smokes', 'Unknown', 'smokes', 'never smoked', 'Unknown', 'smokes', 'never smoked', 'smokes', 'never smoked', 'never smoked', 'Unknown', 'never smoked', 'smokes', 'never smoked', 'smokes', 'formerly smoked', 'formerly smoked', 'never smoked', 'never smoked', 'never smoked', 'smokes', 'smokes', 'formerly smoked', 'never smoked', 'never smoked', 'smokes', 'never smoked', 'formerly smoked', 'formerly smoked', 'never smoked', 'never smoked', 'never smoked', 'never smoked', 'never smoked', 'never smoked', 'formerly smoked', 'formerly smoked', 'never smoked', 'formerly smoked', 'smokes', 'smokes', 'never smoked', 'formerly smoked', 'formerly smoked', 'smokes', 'never smoked', 'smokes', 'never smoked', 'never smoked', 'never smoked', 'smokes', 'formerly smoked', 'never smoked', 'never smoked', 'smokes', 'never smoked', 'never smoked', 'never smoked', 'formerly smoked', 'never smoked', 'never smoked', 'never smoked', 'never smoked', 'never smoked', 'smokes', 'never smoked', 'formerly smoked', 'formerly smoked', 'smokes', 'never smoked', 'Unknown', 'never smoked', 'never smoked', 'smokes', 'smokes', 'never smoked', 'never smoked', 'formerly smoked', 'never smoked', 'smokes', 'never smoked', 'never smoked', 'never smoked', 'formerly smoked', 'smokes', 'formerly smoked', 'never smoked', 'formerly smoked', 'formerly smoked', 'formerly smoked', 'smokes', 'formerly smoked', 'never smoked', 'formerly smoked', 'never smoked', 'never smoked', 'smokes', 'never smoked', 'never smoked', 'never smoked', 'smokes', 'smokes', 'formerly smoked', 'smokes', 'never smoked', 'smokes', 'never smoked', 'Unknown', 'never smoked', 'smokes', 'never smoked', 'never smoked', 'formerly smoked', 'smokes', 'smokes', 'never smoked', 'never smoked', 'never smoked', 'never smoked', 'never smoked', 'Unknown', 'never smoked', 'smokes', 'never smoked', 'never smoked', 'smokes', 'never smoked', 'smokes', 'never smoked', 'never smoked', 'formerly smoked', 'never smoked', 'formerly smoked', 'never smoked', 'smokes', 'never smoked', 'never smoked', 'Unknown', 'smokes', 'smokes', 'never smoked', 'smokes', 'Unknown', 'never smoked', 'formerly smoked', 'smokes', 'formerly smoked', 'smokes', 'smokes', 'smokes', 'smokes', 'never smoked', 'smokes', 'never smoked', 'never smoked', 'never smoked', 'smokes', 'never smoked', 'smokes', 'never smoked', 'smokes', 'never smoked', 'never smoked', 'formerly smoked', 'formerly smoked', 'never smoked', 'never smoked', 'smokes', 'Unknown', 'never smoked', 'never smoked', 'smokes', 'never smoked', 'smokes', 'never smoked', 'never smoked', 'smokes', 'never smoked', 'never smoked', 'formerly smoked', 'never smoked', 'never smoked', 'never smoked', 'smokes', 'formerly smoked', 'smokes', 'never smoked', 'never smoked', 'Unknown', 'smokes', 'smokes', 'never smoked', 'formerly smoked', 'smokes', 'never smoked', 'smokes', 'never smoked', 'Unknown', 'smokes', 'formerly smoked', 'formerly smoked', 'formerly smoked', 'never smoked', 'never smoked', 'Unknown', 'never smoked', 'smokes', 'formerly smoked', 'never smoked', 'never smoked', 'never smoked', 'never smoked', 'smokes', 'never smoked', 'never smoked', 'never smoked', 'never smoked', 'formerly smoked', 'never smoked', 'smokes', 'never smoked', 'smokes', 'formerly smoked', 'never smoked', 'never smoked', 'never smoked', 'smokes', 'never smoked', 'never smoked', 'never smoked', 'smokes', 'formerly smoked', 'never smoked', 'never smoked', 'smokes', 'smokes', 'never smoked', 'never smoked', 'smokes', 'never smoked', 'never smoked', 'Unknown', 'never smoked', 'never smoked', 'never smoked', 'never smoked', 'formerly smoked', 'never smoked', 'smokes', 'never smoked', 'formerly smoked', 'never smoked', 'never smoked', 'never smoked', 'formerly smoked', 'formerly smoked', 'formerly smoked', 'Unknown', 'never smoked', 'never smoked', 'never smoked', 'never smoked', 'never smoked', 'never smoked', 'formerly smoked', 'smokes', 'smokes', 'smokes', 'Unknown', 'smokes', 'never smoked', 'never smoked', 'never smoked', 'never smoked', 'never smoked', 'smokes', 'formerly smoked', 'smokes', 'formerly smoked', 'smokes', 'smokes', 'smokes', 'never smoked', 'Unknown', 'never smoked', 'smokes', 'smokes', 'formerly smoked', 'never smoked', 'smokes', 'formerly smoked', 'never smoked', 'smokes', 'Unknown', 'smokes', 'formerly smoked', 'smokes', 'smokes', 'never smoked', 'formerly smoked', 'never smoked', 'never smoked', 'formerly smoked', 'never smoked', 'never smoked', 'never smoked', 'formerly smoked', 'never smoked', 'never smoked', 'formerly smoked', 'never smoked', 'formerly smoked', 'smokes', 'formerly smoked', 'formerly smoked', 'never smoked', 'formerly smoked', 'formerly smoked', 'never smoked', 'never smoked', 'never smoked', 'formerly smoked', 'smokes', 'never smoked', 'never smoked', 'never smoked', 'smokes', 'formerly smoked', 'smokes', 'Unknown', 'formerly smoked', 'smokes', 'smokes', 'formerly smoked', 'smokes', 'formerly smoked', 'smokes', 'formerly smoked', 'smokes', 'never smoked', 'smokes', 'never smoked', 'smokes', 'never smoked', 'smokes', 'formerly smoked', 'smokes', 'never smoked', 'formerly smoked', 'smokes', 'smokes', 'smokes', 'smokes', 'never smoked', 'never smoked', 'never smoked', 'formerly smoked', 'never smoked', 'never smoked', 'smokes', 'formerly smoked', 'smokes', 'formerly smoked', 'never smoked', 'smokes', 'formerly smoked', 'never smoked', 'never smoked', 'never smoked', 'never smoked', 'Unknown', 'never smoked', 'never smoked', 'never smoked', 'never smoked', 'smokes', 'never smoked', 'formerly smoked', 'never smoked', 'never smoked', 'never smoked', 'smokes', 'never smoked', 'formerly smoked', 'never smoked', 'never smoked', 'never smoked', 'never smoked', 'smokes', 'never smoked', 'never smoked', 'smokes', 'never smoked', 'never smoked', 'formerly smoked', 'never smoked', 'never smoked', 'formerly smoked', 'smokes', 'never smoked', 'never smoked', 'never smoked', 'never smoked', 'never smoked', 'smokes', 'never smoked', 'Unknown', 'smokes', 'never smoked', 'smokes', 'never smoked', 'smokes', 'never smoked', 'never smoked', 'formerly smoked', 'smokes', 'smokes', 'never smoked', 'formerly smoked', 'smokes', 'smokes', 'smokes', 'smokes', 'never smoked', 'never smoked', 'smokes', 'never smoked', 'formerly smoked', 'smokes', 'never smoked', 'Unknown', 'never smoked', 'formerly smoked', 'never smoked', 'never smoked', 'smokes', 'never smoked', 'smokes', 'smokes', 'never smoked', 'never smoked', 'never smoked', 'formerly smoked', 'formerly smoked', 'never smoked', 'never smoked', 'never smoked', 'never smoked', 'never smoked', 'never smoked', 'never smoked', 'smokes', 'smokes', 'never smoked', 'smokes', 'formerly smoked', 'Unknown', 'smokes', 'Unknown', 'never smoked', 'Unknown', 'never smoked', 'never smoked', 'never smoked', 'Unknown', 'formerly smoked', 'smokes', 'never smoked', 'formerly smoked', 'smokes', 'formerly smoked', 'formerly smoked', 'never smoked', 'never smoked', 'formerly smoked', 'formerly smoked', 'never smoked', 'smokes', 'Unknown', 'smokes', 'smokes', 'smokes', 'formerly smoked', 'formerly smoked', 'smokes', 'smokes', 'never smoked', 'Unknown', 'never smoked', 'smokes', 'smokes', 'never smoked', 'smokes', 'smokes', 'smokes', 'smokes', 'never smoked', 'smokes', 'never smoked', 'Unknown', 'formerly smoked', 'smokes', 'formerly smoked', 'smokes', 'never smoked', 'never smoked', 'never smoked', 'never smoked', 'never smoked', 'formerly smoked', 'smokes', 'formerly smoked', 'never smoked', 'Unknown', 'never smoked', 'never smoked', 'never smoked', 'formerly smoked', 'Unknown', 'formerly smoked', 'never smoked', 'smokes', 'formerly smoked', 'formerly smoked', 'never smoked', 'formerly smoked', 'smokes', 'never smoked', 'formerly smoked', 'Unknown', 'formerly smoked', 'smokes', 'never smoked', 'smokes', 'never smoked', 'never smoked', 'never smoked', 'formerly smoked', 'smokes', 'formerly smoked', 'never smoked', 'Unknown', 'never smoked', 'formerly smoked', 'formerly smoked', 'never smoked', 'never smoked', 'smokes', 'formerly smoked', 'never smoked', 'formerly smoked', 'never smoked', 'formerly smoked', 'never smoked', 'never smoked', 'never smoked', 'never smoked', 'formerly smoked', 'smokes', 'formerly smoked', 'smokes', 'formerly smoked', 'formerly smoked', 'formerly smoked', 'smokes', 'Unknown', 'never smoked', 'never smoked', 'smokes', 'smokes', 'smokes', 'formerly smoked', 'never smoked', 'formerly smoked', 'never smoked', 'never smoked', 'Unknown', 'never smoked', 'smokes', 'formerly smoked', 'formerly smoked', 'never smoked', 'smokes', 'never smoked', 'never smoked', 'never smoked', 'smokes', 'formerly smoked', 'formerly smoked', 'smokes', 'formerly smoked', 'never smoked', 'Unknown', 'never smoked', 'never smoked', 'smokes', 'smokes', 'never smoked', 'never smoked', 'never smoked', 'never smoked', 'smokes', 'never smoked', 'formerly smoked', 'formerly smoked', 'never smoked', 'never smoked', 'never smoked', 'never smoked', 'smokes', 'smokes', 'never smoked', 'never smoked', 'never smoked', 'never smoked', 'never smoked', 'never smoked', 'never smoked', 'smokes', 'Unknown', 'never smoked', 'smokes', 'smokes', 'Unknown', 'formerly smoked', 'never smoked', 'smokes', 'never smoked', 'smokes', 'never smoked', 'never smoked', 'never smoked', 'formerly smoked', 'never smoked', 'never smoked', 'never smoked', 'never smoked', 'never smoked', 'formerly smoked', 'never smoked', 'never smoked', 'formerly smoked', 'formerly smoked', 'never smoked', 'smokes', 'smokes', 'never smoked', 'never smoked', 'smokes', 'never smoked', 'never smoked', 'smokes', 'never smoked', 'smokes', 'never smoked', 'Unknown', 'never smoked', 'smokes', 'smokes', 'never smoked', 'smokes', 'formerly smoked', 'never smoked', 'never smoked', 'never smoked', 'smokes', 'never smoked', 'smokes', 'formerly smoked', 'smokes', 'never smoked', 'never smoked', 'formerly smoked', 'never smoked', 'Unknown', 'never smoked', 'formerly smoked', 'smokes', 'smokes', 'smokes', 'formerly smoked', 'smokes', 'never smoked', 'Unknown', 'smokes', 'formerly smoked', 'never smoked', 'never smoked', 'formerly smoked', 'Unknown', 'never smoked', 'never smoked', 'never smoked', 'never smoked', 'never smoked', 'formerly smoked', 'never smoked', 'smokes', 'smokes', 'never smoked', 'smokes', 'never smoked', 'smokes', 'never smoked', 'formerly smoked', 'never smoked', 'never smoked', 'never smoked', 'never smoked', 'never smoked', 'never smoked', 'never smoked', 'smokes', 'never smoked', 'never smoked', 'smokes', 'never smoked', 'never smoked', 'never smoked', 'never smoked', 'smokes', 'formerly smoked', 'smokes', 'never smoked', 'never smoked', 'smokes', 'never smoked', 'never smoked', 'never smoked', 'never smoked', 'never smoked', 'never smoked', 'formerly smoked', 'never smoked', 'smokes', 'formerly smoked', 'never smoked', 'never smoked', 'Unknown', 'never smoked', 'formerly smoked', 'formerly smoked', 'never smoked', 'smokes', 'never smoked', 'never smoked', 'Unknown', 'smokes', 'Unknown', 'never smoked', 'never smoked', 'never smoked', 'smokes', 'never smoked', 'never smoked', 'Unknown', 'never smoked', 'smokes', 'smokes', 'never smoked', 'formerly smoked', 'never smoked', 'never smoked', 'never smoked', 'never smoked', 'never smoked', 'formerly smoked', 'never smoked', 'never smoked', 'never smoked', 'smokes', 'never smoked', 'never smoked', 'never smoked', 'smokes', 'never smoked', 'never smoked', 'never smoked', 'formerly smoked', 'never smoked', 'never smoked', 'never smoked', 'never smoked', 'smokes', 'never smoked', 'formerly smoked', 'Unknown', 'formerly smoked', 'never smoked', 'never smoked', 'formerly smoked', 'smokes', 'smokes', 'never smoked', 'never smoked', 'formerly smoked', 'formerly smoked', 'formerly smoked', 'Unknown', 'never smoked', 'never smoked', 'never smoked', 'never smoked', 'smokes', 'never smoked', 'never smoked', 'formerly smoked', 'smokes', 'smokes', 'never smoked', 'smokes', 'formerly smoked', 'smokes', 'smokes', 'never smoked', 'never smoked', 'formerly smoked', 'never smoked', 'Unknown', 'formerly smoked', 'formerly smoked', 'never smoked', 'never smoked', 'formerly smoked', 'never smoked', 'never smoked', 'never smoked', 'smokes', 'smokes', 'smokes', 'smokes', 'formerly smoked', 'smokes', 'smokes', 'smokes', 'formerly smoked', 'never smoked', 'never smoked', 'formerly smoked', 'never smoked', 'never smoked', 'smokes', 'Unknown', 'never smoked', 'never smoked', 'never smoked', 'smokes', 'never smoked', 'never smoked', 'never smoked', 'never smoked', 'smokes', 'never smoked', 'never smoked', 'smokes', 'never smoked', 'smokes', 'never smoked', 'never smoked', 'never smoked', 'never smoked', 'never smoked', 'never smoked', 'never smoked', 'never smoked', 'smokes', 'never smoked', 'never smoked', 'smokes', 'formerly smoked', 'never smoked', 'never smoked', 'never smoked', 'formerly smoked', 'never smoked', 'never smoked', 'never smoked', 'smokes', 'Unknown', 'smokes', 'smokes', 'never smoked', 'never smoked', 'never smoked', 'smokes', 'never smoked', 'never smoked', 'never smoked', 'never smoked', 'never smoked', 'formerly smoked', 'smokes', 'formerly smoked', 'never smoked', 'never smoked', 'never smoked', 'never smoked', 'smokes', 'Unknown', 'formerly smoked', 'never smoked', 'never smoked', 'never smoked', 'formerly smoked', 'never smoked', 'never smoked', 'formerly smoked', 'never smoked', 'never smoked', 'formerly smoked', 'never smoked', 'smokes', 'never smoked', 'never smoked', 'never smoked', 'formerly smoked', 'formerly smoked', 'smokes', 'never smoked', 'smokes', 'smokes', 'never smoked', 'Unknown', 'formerly smoked', 'never smoked', 'never smoked', 'never smoked', 'smokes', 'never smoked', 'formerly smoked', 'smokes', 'smokes', 'never smoked', 'never smoked', 'never smoked', 'never smoked', 'never smoked', 'never smoked', 'smokes', 'never smoked', 'never smoked', 'formerly smoked', 'never smoked', 'smokes', 'never smoked', 'smokes', 'never smoked', 'never smoked', 'Unknown', 'smokes', 'formerly smoked', 'never smoked', 'never smoked', 'formerly smoked', 'Unknown', 'never smoked', 'Unknown', 'never smoked', 'formerly smoked', 'formerly smoked', 'formerly smoked', 'smokes', 'never smoked', 'never smoked', 'never smoked', 'never smoked', 'never smoked', 'never smoked', 'never smoked', 'never smoked', 'smokes', 'never smoked', 'never smoked', 'never smoked', 'formerly smoked', 'never smoked', 'never smoked', 'never smoked', 'never smoked', 'never smoked', 'smokes', 'never smoked', 'never smoked', 'never smoked', 'never smoked', 'never smoked', 'never smoked', 'never smoked', 'never smoked', 'never smoked', 'formerly smoked', 'formerly smoked', 'never smoked', 'formerly smoked', 'never smoked', 'smokes', 'formerly smoked', 'never smoked', 'never smoked', 'Unknown', 'never smoked', 'never smoked', 'Unknown', 'never smoked', 'formerly smoked', 'formerly smoked', 'never smoked', 'smokes', 'never smoked', 'smokes', 'smokes', 'never smoked', 'never smoked', 'formerly smoked', 'smokes', 'never smoked', 'never smoked', 'smokes', 'smokes', 'never smoked', 'smokes', 'never smoked', 'never smoked', 'formerly smoked', 'formerly smoked', 'never smoked', 'formerly smoked', 'never smoked', 'never smoked', 'never smoked', 'never smoked', 'never smoked', 'smokes', 'formerly smoked', 'never smoked', 'never smoked', 'never smoked', 'never smoked', 'smokes', 'formerly smoked', 'Unknown', 'never smoked', 'never smoked', 'smokes', 'never smoked', 'smokes', 'smokes', 'never smoked', 'smokes', 'smokes', 'never smoked', 'never smoked', 'Unknown', 'Unknown', 'formerly smoked', 'never smoked', 'never smoked', 'smokes', 'formerly smoked', 'smokes', 'never smoked', 'never smoked', 'never smoked', 'never smoked', 'formerly smoked', 'never smoked', 'smokes', 'never smoked', 'smokes', 'never smoked', 'Unknown', 'never smoked', 'never smoked', 'never smoked', 'never smoked', 'never smoked', 'never smoked', 'smokes', 'never smoked', 'never smoked', 'smokes', 'smokes', 'smokes', 'smokes', 'smokes', 'smokes', 'Unknown', 'formerly smoked', 'formerly smoked', 'never smoked', 'never smoked', 'smokes', 'never smoked', 'never smoked', 'smokes', 'never smoked', 'smokes', 'never smoked', 'never smoked', 'formerly smoked', 'never smoked', 'never smoked', 'never smoked', 'never smoked', 'never smoked', 'never smoked', 'smokes', 'never smoked', 'smokes', 'never smoked', 'never smoked', 'never smoked', 'formerly smoked', 'smokes', 'never smoked', 'never smoked', 'never smoked', 'never smoked', 'never smoked', 'never smoked', 'smokes', 'smokes', 'never smoked', 'never smoked', 'formerly smoked', 'never smoked', 'smokes', 'never smoked', 'Unknown', 'Unknown', 'never smoked', 'formerly smoked', 'Unknown', 'never smoked', 'smokes', 'never smoked', 'never smoked', 'smokes', 'never smoked', 'formerly smoked', 'never smoked', 'smokes', 'never smoked', 'never smoked', 'never smoked', 'never smoked', 'never smoked', 'never smoked', 'never smoked', 'never smoked', 'never smoked', 'never smoked', 'never smoked', 'never smoked', 'formerly smoked', 'Unknown', 'formerly smoked', 'smokes', 'never smoked', 'smokes', 'never smoked', 'never smoked', 'never smoked', 'never smoked', 'never smoked', 'never smoked', 'smokes', 'never smoked', 'never smoked', 'never smoked', 'smokes', 'Unknown', 'smokes', 'smokes', 'never smoked', 'never smoked', 'never smoked', 'smokes', 'smokes', 'formerly smoked', 'never smoked', 'smokes', 'never smoked', 'smokes', 'never smoked', 'never smoked', 'never smoked', 'formerly smoked', 'formerly smoked', 'smokes', 'smokes', 'never smoked', 'never smoked', 'smokes', 'smokes', 'smokes', 'smokes', 'smokes', 'formerly smoked', 'never smoked', 'never smoked', 'smokes', 'never smoked', 'smokes', 'never smoked', 'formerly smoked', 'formerly smoked', 'Unknown', 'Unknown', 'smokes', 'never smoked', 'never smoked', 'smokes', 'never smoked', 'smokes', 'never smoked', 'never smoked', 'never smoked', 'smokes', 'never smoked', 'never smoked', 'formerly smoked', 'Unknown', 'smokes', 'never smoked', 'smokes', 'formerly smoked', 'smokes', 'never smoked', 'smokes', 'never smoked', 'formerly smoked', 'smokes', 'never smoked', 'smokes', 'smokes', 'smokes', 'never smoked', 'never smoked', 'never smoked', 'never smoked', 'smokes', 'smokes', 'smokes', 'never smoked', 'never smoked', 'never smoked', 'formerly smoked', 'never smoked', 'formerly smoked', 'never smoked', 'Unknown', 'smokes', 'never smoked', 'never smoked', 'never smoked', 'never smoked', 'smokes', 'never smoked', 'smokes', 'smokes', 'smokes', 'never smoked', 'formerly smoked', 'never smoked', 'smokes', 'smokes', 'never smoked', 'formerly smoked', 'formerly smoked', 'formerly smoked', 'never smoked', 'smokes', 'never smoked', 'smokes', 'formerly smoked', 'smokes', 'never smoked', 'never smoked', 'never smoked', 'never smoked', 'smokes', 'smokes', 'smokes', 'never smoked', 'formerly smoked', 'never smoked', 'smokes', 'never smoked', 'never smoked', 'never smoked', 'Unknown', 'smokes', 'formerly smoked', 'never smoked', 'never smoked', 'smokes', 'Unknown', 'smokes', 'formerly smoked', 'never smoked', 'Unknown', 'never smoked', 'Unknown', 'formerly smoked', 'smokes', 'formerly smoked', 'never smoked', 'formerly smoked', 'formerly smoked', 'formerly smoked', 'smokes', 'never smoked', 'smokes', 'never smoked', 'formerly smoked', 'never smoked', 'never smoked', 'never smoked', 'smokes', 'Unknown', 'never smoked', 'never smoked', 'never smoked', 'never smoked', 'smokes', 'never smoked', 'never smoked', 'never smoked', 'never smoked', 'never smoked', 'formerly smoked', 'formerly smoked', 'smokes', 'never smoked', 'never smoked', 'never smoked', 'never smoked', 'never smoked', 'formerly smoked', 'never smoked', 'never smoked', 'formerly smoked', 'never smoked', 'smokes', 'never smoked', 'never smoked', 'never smoked', 'smokes', 'smokes', 'smokes', 'smokes', 'smokes', 'smokes', 'never smoked', 'never smoked', 'never smoked', 'never smoked', 'never smoked', 'never smoked', 'smokes', 'never smoked', 'never smoked', 'formerly smoked', 'formerly smoked', 'never smoked', 'never smoked', 'never smoked', 'formerly smoked', 'never smoked', 'formerly smoked', 'never smoked', 'never smoked', 'smokes', 'never smoked', 'smokes', 'never smoked', 'Unknown', 'formerly smoked', 'smokes', 'smokes', 'never smoked', 'Unknown', 'never smoked', 'never smoked', 'smokes', 'smokes', 'formerly smoked', 'formerly smoked', 'formerly smoked', 'never smoked', 'never smoked', 'smokes', 'never smoked', 'formerly smoked', 'formerly smoked', 'formerly smoked', 'never smoked', 'never smoked', 'Unknown', 'never smoked', 'never smoked', 'never smoked', 'never smoked', 'Unknown', 'Unknown', 'never smoked', 'Unknown', 'smokes', 'never smoked', 'formerly smoked', 'never smoked', 'formerly smoked', 'formerly smoked', 'formerly smoked', 'smokes', 'never smoked', 'smokes', 'never smoked', 'never smoked', 'never smoked', 'smokes', 'never smoked', 'Unknown', 'smokes', 'smokes', 'Unknown', 'never smoked', 'never smoked', 'smokes', 'smokes', 'formerly smoked', 'never smoked', 'never smoked', 'never smoked', 'never smoked', 'never smoked', 'never smoked', 'never smoked', 'smokes', 'never smoked', 'formerly smoked', 'smokes', 'never smoked', 'never smoked', 'formerly smoked', 'smokes', 'never smoked', 'smokes', 'never smoked', 'never smoked', 'smokes', 'smokes', 'smokes', 'never smoked', 'never smoked', 'smokes', 'never smoked', 'never smoked', 'smokes', 'formerly smoked', 'smokes', 'never smoked', 'never smoked', 'never smoked', 'formerly smoked', 'formerly smoked', 'never smoked', 'smokes', 'formerly smoked', 'smokes', 'never smoked', 'never smoked', 'never smoked', 'never smoked', 'never smoked', 'never smoked', 'smokes', 'smokes', 'smokes', 'formerly smoked', 'smokes', 'formerly smoked', 'never smoked', 'smokes', 'smokes', 'never smoked', 'formerly smoked', 'never smoked', 'never smoked', 'never smoked', 'smokes', 'never smoked', 'smokes', 'never smoked', 'never smoked', 'smokes', 'smokes', 'never smoked', 'never smoked', 'never smoked', 'never smoked', 'never smoked', 'never smoked', 'never smoked', 'never smoked', 'never smoked', 'never smoked', 'smokes', 'smokes', 'smokes', 'never smoked', 'never smoked', 'smokes', 'formerly smoked', 'formerly smoked', 'Unknown', 'formerly smoked', 'smokes', 'never smoked', 'smokes', 'smokes', 'never smoked', 'smokes', 'never smoked', 'never smoked', 'never smoked', 'Unknown', 'never smoked', 'smokes', 'never smoked', 'never smoked', 'never smoked', 'never smoked', 'never smoked', 'formerly smoked', 'never smoked', 'never smoked', 'smokes', 'Unknown', 'formerly smoked', 'smokes', 'smokes', 'never smoked', 'smokes', 'formerly smoked', 'formerly smoked', 'never smoked', 'never smoked', 'never smoked', 'formerly smoked', 'never smoked', 'smokes', 'never smoked', 'smokes', 'formerly smoked', 'smokes', 'Unknown', 'never smoked', 'never smoked', 'never smoked', 'smokes', 'never smoked', 'smokes', 'formerly smoked', 'smokes', 'smokes', 'never smoked', 'never smoked', 'never smoked', 'never smoked', 'smokes', 'never smoked', 'never smoked', 'Unknown', 'never smoked', 'smokes', 'never smoked', 'never smoked', 'never smoked', 'never smoked', 'smokes', 'formerly smoked', 'never smoked', 'smokes', 'never smoked', 'smokes', 'formerly smoked', 'never smoked', 'never smoked', 'never smoked', 'never smoked', 'Unknown', 'never smoked', 'smokes', 'never smoked', 'never smoked', 'smokes', 'formerly smoked', 'formerly smoked', 'formerly smoked', 'smokes', 'never smoked', 'never smoked', 'Unknown', 'formerly smoked', 'never smoked', 'never smoked', 'smokes', 'never smoked', 'never smoked', 'Unknown', 'formerly smoked', 'never smoked', 'never smoked', 'never smoked', 'never smoked', 'smokes', 'never smoked', 'never smoked', 'never smoked', 'formerly smoked', 'Unknown', 'smokes', 'formerly smoked', 'smokes', 'never smoked', 'never smoked', 'never smoked', 'smokes', 'never smoked', 'formerly smoked', 'smokes', 'formerly smoked', 'smokes', 'never smoked', 'never smoked', 'formerly smoked', 'never smoked', 'never smoked', 'formerly smoked', 'formerly smoked', 'never smoked', 'smokes', 'never smoked', 'never smoked', 'smokes', 'formerly smoked', 'never smoked', 'formerly smoked', 'smokes', 'smokes', 'smokes', 'formerly smoked', 'smokes', 'never smoked', 'Unknown', 'never smoked', 'never smoked', 'never smoked', 'never smoked', 'never smoked', 'never smoked', 'never smoked', 'never smoked', 'smokes', 'Unknown', 'never smoked', 'Unknown', 'formerly smoked', 'never smoked', 'never smoked', 'smokes', 'formerly smoked', 'smokes', 'smokes', 'formerly smoked', 'formerly smoked', 'smokes', 'never smoked', 'never smoked', 'smokes', 'formerly smoked', 'never smoked', 'smokes', 'Unknown', 'never smoked', 'Unknown', 'smokes', 'never smoked', 'never smoked', 'never smoked', 'never smoked', 'Unknown', 'never smoked', 'never smoked', 'never smoked', 'Unknown', 'never smoked', 'never smoked', 'smokes', 'never smoked', 'never smoked', 'never smoked', 'formerly smoked', 'smokes', 'smokes', 'smokes', 'never smoked', 'smokes', 'smokes', 'Unknown', 'smokes', 'formerly smoked', 'never smoked', 'never smoked', 'smokes', 'Unknown', 'never smoked', 'never smoked', 'never smoked', 'smokes', 'never smoked', 'formerly smoked', 'never smoked', 'never smoked', 'never smoked', 'never smoked', 'never smoked', 'smokes', 'smokes', 'never smoked', 'never smoked', 'Unknown', 'never smoked', 'never smoked', 'smokes', 'formerly smoked', 'never smoked', 'never smoked', 'never smoked', 'smokes', 'never smoked', 'never smoked', 'smokes', 'smokes', 'formerly smoked', 'never smoked', 'never smoked', 'never smoked', 'never smoked', 'never smoked', 'never smoked', 'never smoked', 'never smoked', 'never smoked', 'smokes', 'formerly smoked', 'formerly smoked', 'never smoked', 'never smoked', 'never smoked', 'never smoked', 'never smoked', 'formerly smoked', 'formerly smoked', 'formerly smoked', 'smokes', 'formerly smoked', 'never smoked', 'never smoked', 'never smoked', 'never smoked', 'formerly smoked', 'never smoked', 'never smoked', 'smokes', 'never smoked', 'never smoked', 'smokes', 'never smoked', 'never smoked', 'never smoked', 'never smoked', 'never smoked', 'smokes', 'formerly smoked', 'never smoked', 'never smoked', 'formerly smoked', 'never smoked', 'never smoked', 'smokes', 'smokes', 'never smoked', 'smokes', 'smokes', 'never smoked', 'never smoked', 'smokes', 'never smoked', 'never smoked', 'formerly smoked', 'formerly smoked', 'Unknown', 'Unknown', 'smokes', 'Unknown', 'never smoked', 'Unknown', 'formerly smoked', 'never smoked', 'formerly smoked', 'formerly smoked', 'never smoked', 'never smoked', 'formerly smoked', 'never smoked', 'never smoked', 'never smoked', 'never smoked', 'never smoked', 'never smoked', 'never smoked', 'never smoked', 'never smoked', 'never smoked', 'smokes', 'smokes', 'formerly smoked', 'never smoked', 'never smoked', 'never smoked', 'smokes', 'smokes', 'never smoked', 'never smoked', 'never smoked', 'smokes', 'never smoked', 'never smoked', 'never smoked', 'smokes', 'never smoked', 'formerly smoked', 'never smoked', 'Unknown', 'never smoked', 'smokes', 'never smoked', 'never smoked', 'formerly smoked', 'smokes', 'smokes', 'never smoked', 'never smoked', 'never smoked', 'formerly smoked', 'smokes', 'never smoked', 'never smoked', 'never smoked', 'never smoked', 'formerly smoked', 'formerly smoked', 'never smoked', 'never smoked', 'never smoked', 'never smoked', 'never smoked', 'formerly smoked', 'smokes', 'smokes', 'never smoked', 'smokes', 'smokes', 'formerly smoked', 'formerly smoked', 'never smoked', 'never smoked', 'smokes', 'formerly smoked', 'smokes', 'never smoked', 'never smoked', 'never smoked', 'never smoked', 'smokes', 'never smoked', 'never smoked', 'smokes', 'smokes', 'smokes', 'never smoked', 'never smoked', 'smokes', 'never smoked', 'never smoked', 'smokes', 'Unknown', 'smokes', 'never smoked', 'never smoked', 'never smoked', 'smokes', 'smokes', 'never smoked', 'formerly smoked', 'never smoked', 'never smoked', 'never smoked', 'Unknown', 'never smoked', 'formerly smoked', 'never smoked', 'formerly smoked', 'never smoked', 'never smoked', 'smokes', 'formerly smoked', 'never smoked', 'formerly smoked', 'never smoked', 'formerly smoked', 'formerly smoked', 'never smoked', 'smokes', 'never smoked', 'never smoked', 'never smoked', 'Unknown', 'formerly smoked', 'smokes', 'formerly smoked', 'never smoked', 'smokes', 'never smoked', 'never smoked', 'smokes', 'never smoked', 'smokes', 'Unknown', 'smokes', 'never smoked', 'never smoked', 'never smoked', 'never smoked', 'Unknown', 'never smoked', 'smokes', 'smokes', 'Unknown', 'never smoked', 'formerly smoked', 'formerly smoked', 'smokes', 'never smoked', 'Unknown', 'never smoked', 'never smoked', 'smokes', 'never smoked', 'Unknown', 'formerly smoked', 'never smoked', 'never smoked', 'formerly smoked', 'smokes', 'formerly smoked', 'formerly smoked', 'smokes', 'never smoked', 'smokes', 'never smoked', 'formerly smoked', 'smokes', 'never smoked', 'formerly smoked', 'never smoked', 'smokes', 'never smoked', 'smokes', 'formerly smoked', 'formerly smoked', 'formerly smoked', 'smokes', 'never smoked', 'never smoked', 'never smoked', 'formerly smoked', 'never smoked', 'never smoked', 'smokes', 'formerly smoked', 'never smoked', 'never smoked', 'never smoked', 'formerly smoked', 'never smoked', 'never smoked', 'never smoked', 'never smoked', 'never smoked', 'never smoked', 'Unknown', 'smokes', 'never smoked', 'formerly smoked', 'formerly smoked', 'never smoked', 'never smoked', 'never smoked', 'formerly smoked', 'formerly smoked', 'formerly smoked', 'smokes', 'smokes', 'never smoked', 'never smoked', 'Unknown', 'never smoked', 'never smoked', 'never smoked', 'formerly smoked', 'never smoked', 'never smoked', 'never smoked', 'never smoked', 'never smoked', 'Unknown', 'never smoked', 'smokes', 'never smoked', 'never smoked', 'smokes', 'never smoked', 'smokes', 'formerly smoked', 'never smoked', 'smokes', 'never smoked', 'smokes', 'smokes', 'formerly smoked', 'smokes', 'formerly smoked', 'never smoked', 'never smoked', 'never smoked', 'formerly smoked', 'never smoked', 'never smoked', 'never smoked', 'never smoked', 'formerly smoked', 'smokes', 'formerly smoked', 'formerly smoked', 'never smoked', 'Unknown', 'smokes', 'never smoked', 'smokes', 'never smoked', 'formerly smoked', 'smokes', 'smokes', 'never smoked', 'never smoked', 'smokes', 'never smoked', 'smokes', 'never smoked', 'never smoked', 'formerly smoked', 'smokes', 'never smoked', 'never smoked', 'never smoked', 'formerly smoked', 'never smoked', 'never smoked', 'never smoked', 'never smoked', 'formerly smoked', 'never smoked', 'smokes', 'never smoked', 'never smoked', 'formerly smoked', 'never smoked', 'never smoked', 'formerly smoked', 'never smoked', 'smokes', 'never smoked', 'smokes', 'never smoked', 'smokes', 'never smoked', 'smokes', 'never smoked', 'never smoked', 'formerly smoked', 'never smoked', 'formerly smoked', 'smokes', 'smokes', 'never smoked', 'smokes', 'never smoked', 'Unknown', 'never smoked', 'never smoked', 'never smoked', 'never smoked', 'never smoked', 'never smoked', 'never smoked', 'never smoked', 'never smoked', 'never smoked', 'never smoked', 'smokes', 'never smoked', 'formerly smoked', 'smokes', 'never smoked', 'smokes', 'never smoked', 'never smoked', 'never smoked', 'formerly smoked', 'formerly smoked', 'formerly smoked', 'never smoked', 'Unknown', 'never smoked', 'never smoked', 'never smoked', 'smokes', 'never smoked', 'formerly smoked', 'never smoked', 'smokes', 'formerly smoked', 'smokes', 'never smoked', 'never smoked', 'smokes', 'smokes', 'formerly smoked', 'Unknown', 'smokes', 'smokes', 'never smoked', 'smokes', 'never smoked', 'never smoked', 'smokes', 'never smoked', 'never smoked', 'never smoked', 'never smoked', 'never smoked', 'formerly smoked', 'never smoked', 'formerly smoked', 'formerly smoked', 'never smoked', 'smokes', 'formerly smoked', 'smokes', 'never smoked', 'smokes', 'smokes', 'never smoked', 'smokes', 'smokes', 'never smoked', 'never smoked', 'never smoked', 'smokes', 'formerly smoked', 'formerly smoked', 'never smoked', 'never smoked', 'never smoked', 'never smoked', 'formerly smoked', 'never smoked', 'never smoked', 'smokes', 'formerly smoked', 'never smoked', 'never smoked', 'smokes', 'never smoked', 'never smoked', 'never smoked', 'smokes', 'smokes', 'never smoked', 'never smoked', 'formerly smoked', 'smokes', 'never smoked', 'never smoked', 'smokes', 'never smoked', 'never smoked', 'never smoked', 'never smoked', 'never smoked', 'never smoked', 'formerly smoked', 'never smoked', 'never smoked', 'smokes', 'never smoked', 'never smoked', 'smokes', 'never smoked', 'formerly smoked', 'Unknown', 'smokes', 'never smoked', 'smokes', 'formerly smoked', 'never smoked', 'never smoked', 'Unknown', 'smokes', 'smokes', 'Unknown', 'never smoked', 'smokes', 'smokes', 'formerly smoked', 'never smoked', 'smokes', 'formerly smoked', 'never smoked', 'never smoked', 'never smoked', 'never smoked', 'never smoked', 'smokes', 'smokes', 'never smoked', 'never smoked', 'never smoked', 'formerly smoked', 'smokes', 'formerly smoked', 'never smoked', 'never smoked', 'never smoked', 'never smoked', 'formerly smoked', 'never smoked', 'never smoked', 'never smoked', 'smokes', 'never smoked', 'never smoked', 'never smoked', 'never smoked', 'never smoked', 'smokes', 'never smoked', 'formerly smoked', 'never smoked', 'never smoked', 'never smoked', 'never smoked', 'smokes', 'never smoked', 'smokes', 'formerly smoked', 'never smoked', 'never smoked', 'formerly smoked', 'never smoked', 'never smoked', 'never smoked', 'smokes', 'never smoked', 'smokes', 'smokes', 'never smoked', 'smokes', 'formerly smoked', 'never smoked', 'never smoked', 'smokes', 'never smoked', 'never smoked', 'never smoked', 'never smoked', 'smokes', 'Unknown', 'smokes', 'smokes', 'formerly smoked', 'never smoked', 'never smoked', 'never smoked', 'never smoked', 'Unknown', 'never smoked', 'smokes', 'never smoked', 'never smoked', 'never smoked', 'never smoked', 'never smoked', 'never smoked', 'formerly smoked', 'never smoked', 'never smoked', 'never smoked', 'formerly smoked', 'formerly smoked', 'never smoked', 'formerly smoked', 'formerly smoked', 'smokes', 'smokes', 'never smoked', 'formerly smoked', 'smokes', 'never smoked', 'Unknown', 'formerly smoked', 'never smoked', 'never smoked', 'never smoked', 'smokes', 'never smoked', 'never smoked', 'smokes', 'smokes', 'never smoked', 'never smoked', 'never smoked', 'never smoked', 'never smoked', 'never smoked', 'formerly smoked', 'formerly smoked', 'formerly smoked', 'never smoked', 'never smoked', 'Unknown', 'formerly smoked', 'smokes', 'smokes', 'formerly smoked', 'smokes', 'never smoked', 'never smoked', 'smokes', 'formerly smoked', 'smokes', 'never smoked', 'never smoked', 'never smoked', 'never smoked', 'never smoked', 'never smoked', 'smokes', 'formerly smoked', 'never smoked', 'never smoked', 'Unknown', 'formerly smoked', 'never smoked', 'never smoked', 'smokes', 'Unknown', 'never smoked', 'never smoked', 'never smoked', 'formerly smoked', 'never smoked', 'never smoked', 'smokes', 'smokes', 'never smoked', 'smokes', 'smokes', 'never smoked', 'never smoked', 'never smoked', 'never smoked', 'never smoked', 'formerly smoked', 'smokes', 'never smoked', 'smokes', 'formerly smoked', 'smokes', 'formerly smoked', 'Unknown', 'never smoked', 'smokes', 'never smoked', 'never smoked', 'smokes', 'never smoked', 'never smoked', 'never smoked', 'Unknown', 'never smoked', 'smokes', 'never smoked', 'smokes', 'never smoked', 'never smoked', 'never smoked', 'never smoked', 'never smoked', 'never smoked', 'formerly smoked', 'Unknown']\n"
          ]
        },
        {
          "output_type": "execute_result",
          "data": {
            "text/plain": [
              "5110"
            ]
          },
          "metadata": {},
          "execution_count": 18
        }
      ]
    },
    {
      "cell_type": "code",
      "metadata": {
        "colab": {
          "base_uri": "https://localhost:8080/"
        },
        "id": "iXEBmhWBJt38",
        "outputId": "b983f3a4-90d7-453d-ec54-ea0708b8fc55"
      },
      "source": [
        "data['smoking_status1']=m\n",
        "data.smoking_status1.value_counts()"
      ],
      "execution_count": 19,
      "outputs": [
        {
          "output_type": "execute_result",
          "data": {
            "text/plain": [
              "never smoked       2623\n",
              "smokes             1336\n",
              "formerly smoked     885\n",
              "Unknown             266\n",
              "Name: smoking_status1, dtype: int64"
            ]
          },
          "metadata": {},
          "execution_count": 19
        }
      ]
    },
    {
      "cell_type": "code",
      "metadata": {
        "colab": {
          "base_uri": "https://localhost:8080/"
        },
        "id": "PGOQmNgEK3Bn",
        "outputId": "2bc7e2b6-b077-41b6-dbb8-d7b9659ac2e7"
      },
      "source": [
        "m=[]\n",
        "for i,x in enumerate(data.smoking_status1):\n",
        "  if data.work_type.iloc[i] =='Self-employed' and x=='Unknown':\n",
        "    m.append('smokes')\n",
        "  else:\n",
        "    m.append(x)\n",
        "print(m)\n",
        "len(m)"
      ],
      "execution_count": 20,
      "outputs": [
        {
          "output_type": "stream",
          "name": "stdout",
          "text": [
            "['formerly smoked', 'never smoked', 'never smoked', 'smokes', 'never smoked', 'formerly smoked', 'never smoked', 'never smoked', 'smokes', 'smokes', 'never smoked', 'smokes', 'smokes', 'smokes', 'never smoked', 'never smoked', 'smokes', 'smokes', 'never smoked', 'Unknown', 'smokes', 'never smoked', 'never smoked', 'smokes', 'formerly smoked', 'never smoked', 'formerly smoked', 'smokes', 'smokes', 'formerly smoked', 'smokes', 'smokes', 'never smoked', 'formerly smoked', 'never smoked', 'formerly smoked', 'formerly smoked', 'formerly smoked', 'smokes', 'never smoked', 'formerly smoked', 'never smoked', 'smokes', 'formerly smoked', 'smokes', 'never smoked', 'smokes', 'formerly smoked', 'never smoked', 'smokes', 'smokes', 'formerly smoked', 'never smoked', 'never smoked', 'never smoked', 'formerly smoked', 'never smoked', 'formerly smoked', 'never smoked', 'never smoked', 'formerly smoked', 'never smoked', 'smokes', 'formerly smoked', 'smokes', 'never smoked', 'never smoked', 'smokes', 'formerly smoked', 'never smoked', 'formerly smoked', 'formerly smoked', 'formerly smoked', 'never smoked', 'never smoked', 'formerly smoked', 'never smoked', 'formerly smoked', 'never smoked', 'smokes', 'smokes', 'smokes', 'never smoked', 'never smoked', 'smokes', 'smokes', 'smokes', 'formerly smoked', 'formerly smoked', 'smokes', 'never smoked', 'never smoked', 'never smoked', 'smokes', 'never smoked', 'never smoked', 'formerly smoked', 'smokes', 'formerly smoked', 'never smoked', 'Unknown', 'never smoked', 'formerly smoked', 'smokes', 'Unknown', 'smokes', 'formerly smoked', 'smokes', 'never smoked', 'never smoked', 'formerly smoked', 'smokes', 'formerly smoked', 'never smoked', 'Unknown', 'never smoked', 'smokes', 'smokes', 'formerly smoked', 'never smoked', 'formerly smoked', 'smokes', 'smokes', 'never smoked', 'smokes', 'never smoked', 'formerly smoked', 'smokes', 'formerly smoked', 'Unknown', 'never smoked', 'never smoked', 'never smoked', 'formerly smoked', 'never smoked', 'never smoked', 'formerly smoked', 'smokes', 'formerly smoked', 'smokes', 'never smoked', 'smokes', 'never smoked', 'never smoked', 'never smoked', 'formerly smoked', 'formerly smoked', 'never smoked', 'never smoked', 'never smoked', 'smokes', 'formerly smoked', 'never smoked', 'smokes', 'never smoked', 'never smoked', 'smokes', 'smokes', 'formerly smoked', 'never smoked', 'formerly smoked', 'smokes', 'never smoked', 'never smoked', 'formerly smoked', 'formerly smoked', 'Unknown', 'never smoked', 'formerly smoked', 'never smoked', 'formerly smoked', 'never smoked', 'smokes', 'formerly smoked', 'formerly smoked', 'never smoked', 'never smoked', 'formerly smoked', 'Unknown', 'smokes', 'never smoked', 'formerly smoked', 'smokes', 'smokes', 'smokes', 'formerly smoked', 'formerly smoked', 'formerly smoked', 'formerly smoked', 'smokes', 'formerly smoked', 'formerly smoked', 'smokes', 'smokes', 'smokes', 'formerly smoked', 'formerly smoked', 'smokes', 'formerly smoked', 'never smoked', 'smokes', 'formerly smoked', 'never smoked', 'never smoked', 'smokes', 'formerly smoked', 'never smoked', 'never smoked', 'smokes', 'Unknown', 'never smoked', 'formerly smoked', 'never smoked', 'never smoked', 'never smoked', 'smokes', 'never smoked', 'smokes', 'smokes', 'never smoked', 'smokes', 'never smoked', 'formerly smoked', 'smokes', 'smokes', 'smokes', 'never smoked', 'never smoked', 'smokes', 'never smoked', 'never smoked', 'smokes', 'never smoked', 'formerly smoked', 'smokes', 'smokes', 'smokes', 'formerly smoked', 'never smoked', 'smokes', 'formerly smoked', 'formerly smoked', 'never smoked', 'formerly smoked', 'smokes', 'never smoked', 'formerly smoked', 'smokes', 'smokes', 'never smoked', 'never smoked', 'never smoked', 'formerly smoked', 'never smoked', 'smokes', 'formerly smoked', 'never smoked', 'smokes', 'never smoked', 'Unknown', 'formerly smoked', 'never smoked', 'formerly smoked', 'never smoked', 'never smoked', 'smokes', 'never smoked', 'smokes', 'smokes', 'smokes', 'smokes', 'smokes', 'formerly smoked', 'never smoked', 'never smoked', 'smokes', 'never smoked', 'never smoked', 'never smoked', 'smokes', 'smokes', 'smokes', 'never smoked', 'smokes', 'never smoked', 'formerly smoked', 'never smoked', 'smokes', 'never smoked', 'smokes', 'never smoked', 'never smoked', 'never smoked', 'formerly smoked', 'smokes', 'smokes', 'never smoked', 'smokes', 'never smoked', 'smokes', 'smokes', 'formerly smoked', 'never smoked', 'smokes', 'smokes', 'smokes', 'never smoked', 'Unknown', 'smokes', 'formerly smoked', 'smokes', 'smokes', 'smokes', 'smokes', 'never smoked', 'formerly smoked', 'formerly smoked', 'never smoked', 'formerly smoked', 'never smoked', 'smokes', 'never smoked', 'smokes', 'smokes', 'formerly smoked', 'formerly smoked', 'never smoked', 'never smoked', 'smokes', 'smokes', 'never smoked', 'formerly smoked', 'smokes', 'formerly smoked', 'smokes', 'never smoked', 'smokes', 'never smoked', 'never smoked', 'never smoked', 'never smoked', 'formerly smoked', 'formerly smoked', 'formerly smoked', 'never smoked', 'never smoked', 'never smoked', 'formerly smoked', 'never smoked', 'smokes', 'formerly smoked', 'never smoked', 'never smoked', 'never smoked', 'smokes', 'never smoked', 'smokes', 'never smoked', 'never smoked', 'smokes', 'never smoked', 'never smoked', 'formerly smoked', 'never smoked', 'smokes', 'formerly smoked', 'never smoked', 'never smoked', 'never smoked', 'never smoked', 'never smoked', 'never smoked', 'never smoked', 'formerly smoked', 'smokes', 'never smoked', 'never smoked', 'smokes', 'never smoked', 'formerly smoked', 'never smoked', 'never smoked', 'never smoked', 'never smoked', 'never smoked', 'never smoked', 'never smoked', 'never smoked', 'formerly smoked', 'formerly smoked', 'never smoked', 'smokes', 'never smoked', 'never smoked', 'never smoked', 'never smoked', 'never smoked', 'never smoked', 'smokes', 'formerly smoked', 'never smoked', 'never smoked', 'smokes', 'smokes', 'smokes', 'never smoked', 'smokes', 'never smoked', 'never smoked', 'smokes', 'never smoked', 'never smoked', 'smokes', 'smokes', 'never smoked', 'smokes', 'never smoked', 'never smoked', 'never smoked', 'never smoked', 'Unknown', 'never smoked', 'smokes', 'formerly smoked', 'never smoked', 'never smoked', 'never smoked', 'smokes', 'smokes', 'formerly smoked', 'never smoked', 'formerly smoked', 'smokes', 'never smoked', 'never smoked', 'never smoked', 'formerly smoked', 'never smoked', 'formerly smoked', 'never smoked', 'never smoked', 'never smoked', 'smokes', 'Unknown', 'smokes', 'never smoked', 'Unknown', 'never smoked', 'smokes', 'never smoked', 'smokes', 'never smoked', 'never smoked', 'smokes', 'never smoked', 'never smoked', 'formerly smoked', 'smokes', 'smokes', 'never smoked', 'never smoked', 'never smoked', 'formerly smoked', 'never smoked', 'never smoked', 'smokes', 'smokes', 'never smoked', 'never smoked', 'smokes', 'never smoked', 'never smoked', 'smokes', 'never smoked', 'smokes', 'never smoked', 'smokes', 'Unknown', 'formerly smoked', 'smokes', 'never smoked', 'smokes', 'smokes', 'never smoked', 'smokes', 'never smoked', 'never smoked', 'smokes', 'formerly smoked', 'smokes', 'smokes', 'formerly smoked', 'smokes', 'never smoked', 'formerly smoked', 'never smoked', 'never smoked', 'never smoked', 'never smoked', 'smokes', 'formerly smoked', 'formerly smoked', 'never smoked', 'smokes', 'smokes', 'smokes', 'formerly smoked', 'smokes', 'smokes', 'never smoked', 'formerly smoked', 'smokes', 'smokes', 'smokes', 'smokes', 'smokes', 'never smoked', 'formerly smoked', 'smokes', 'never smoked', 'never smoked', 'never smoked', 'smokes', 'never smoked', 'never smoked', 'never smoked', 'never smoked', 'never smoked', 'formerly smoked', 'smokes', 'formerly smoked', 'never smoked', 'smokes', 'never smoked', 'smokes', 'never smoked', 'never smoked', 'smokes', 'never smoked', 'smokes', 'never smoked', 'formerly smoked', 'formerly smoked', 'smokes', 'never smoked', 'never smoked', 'never smoked', 'smokes', 'never smoked', 'never smoked', 'never smoked', 'formerly smoked', 'smokes', 'never smoked', 'never smoked', 'never smoked', 'never smoked', 'smokes', 'never smoked', 'never smoked', 'never smoked', 'never smoked', 'never smoked', 'never smoked', 'never smoked', 'never smoked', 'smokes', 'formerly smoked', 'smokes', 'never smoked', 'never smoked', 'formerly smoked', 'formerly smoked', 'smokes', 'never smoked', 'never smoked', 'smokes', 'smokes', 'formerly smoked', 'never smoked', 'formerly smoked', 'never smoked', 'smokes', 'formerly smoked', 'never smoked', 'formerly smoked', 'smokes', 'never smoked', 'formerly smoked', 'smokes', 'smokes', 'smokes', 'never smoked', 'never smoked', 'smokes', 'smokes', 'formerly smoked', 'never smoked', 'never smoked', 'never smoked', 'never smoked', 'never smoked', 'never smoked', 'never smoked', 'smokes', 'never smoked', 'never smoked', 'never smoked', 'smokes', 'never smoked', 'smokes', 'never smoked', 'smokes', 'smokes', 'never smoked', 'smokes', 'never smoked', 'smokes', 'formerly smoked', 'smokes', 'never smoked', 'never smoked', 'never smoked', 'smokes', 'smokes', 'never smoked', 'smokes', 'never smoked', 'never smoked', 'smokes', 'never smoked', 'never smoked', 'never smoked', 'Unknown', 'smokes', 'never smoked', 'formerly smoked', 'never smoked', 'formerly smoked', 'smokes', 'never smoked', 'never smoked', 'formerly smoked', 'never smoked', 'never smoked', 'smokes', 'formerly smoked', 'formerly smoked', 'smokes', 'never smoked', 'never smoked', 'formerly smoked', 'formerly smoked', 'formerly smoked', 'formerly smoked', 'never smoked', 'never smoked', 'never smoked', 'never smoked', 'smokes', 'smokes', 'never smoked', 'smokes', 'never smoked', 'never smoked', 'never smoked', 'never smoked', 'never smoked', 'formerly smoked', 'Unknown', 'never smoked', 'never smoked', 'never smoked', 'never smoked', 'never smoked', 'never smoked', 'formerly smoked', 'smokes', 'smokes', 'never smoked', 'never smoked', 'never smoked', 'never smoked', 'never smoked', 'never smoked', 'smokes', 'formerly smoked', 'formerly smoked', 'never smoked', 'never smoked', 'never smoked', 'smokes', 'never smoked', 'never smoked', 'formerly smoked', 'never smoked', 'never smoked', 'smokes', 'smokes', 'never smoked', 'never smoked', 'never smoked', 'never smoked', 'smokes', 'never smoked', 'smokes', 'smokes', 'formerly smoked', 'formerly smoked', 'formerly smoked', 'smokes', 'formerly smoked', 'never smoked', 'formerly smoked', 'smokes', 'never smoked', 'smokes', 'never smoked', 'never smoked', 'formerly smoked', 'formerly smoked', 'smokes', 'never smoked', 'smokes', 'smokes', 'smokes', 'smokes', 'never smoked', 'never smoked', 'never smoked', 'never smoked', 'never smoked', 'formerly smoked', 'never smoked', 'smokes', 'never smoked', 'never smoked', 'smokes', 'Unknown', 'smokes', 'never smoked', 'never smoked', 'never smoked', 'smokes', 'never smoked', 'never smoked', 'smokes', 'never smoked', 'never smoked', 'never smoked', 'never smoked', 'formerly smoked', 'smokes', 'never smoked', 'smokes', 'smokes', 'never smoked', 'never smoked', 'never smoked', 'formerly smoked', 'smokes', 'never smoked', 'smokes', 'never smoked', 'smokes', 'never smoked', 'never smoked', 'smokes', 'smokes', 'smokes', 'never smoked', 'never smoked', 'smokes', 'never smoked', 'formerly smoked', 'never smoked', 'never smoked', 'formerly smoked', 'never smoked', 'never smoked', 'never smoked', 'formerly smoked', 'never smoked', 'never smoked', 'never smoked', 'smokes', 'formerly smoked', 'never smoked', 'never smoked', 'never smoked', 'never smoked', 'never smoked', 'never smoked', 'never smoked', 'smokes', 'formerly smoked', 'never smoked', 'never smoked', 'smokes', 'never smoked', 'smokes', 'never smoked', 'formerly smoked', 'formerly smoked', 'smokes', 'smokes', 'never smoked', 'never smoked', 'Unknown', 'never smoked', 'never smoked', 'smokes', 'never smoked', 'never smoked', 'never smoked', 'smokes', 'never smoked', 'never smoked', 'formerly smoked', 'never smoked', 'smokes', 'formerly smoked', 'formerly smoked', 'never smoked', 'never smoked', 'smokes', 'never smoked', 'never smoked', 'Unknown', 'never smoked', 'never smoked', 'never smoked', 'smokes', 'never smoked', 'smokes', 'formerly smoked', 'formerly smoked', 'never smoked', 'never smoked', 'never smoked', 'never smoked', 'never smoked', 'formerly smoked', 'never smoked', 'never smoked', 'never smoked', 'never smoked', 'never smoked', 'Unknown', 'formerly smoked', 'never smoked', 'smokes', 'never smoked', 'never smoked', 'never smoked', 'smokes', 'never smoked', 'never smoked', 'smokes', 'smokes', 'smokes', 'never smoked', 'smokes', 'formerly smoked', 'never smoked', 'smokes', 'never smoked', 'never smoked', 'smokes', 'never smoked', 'formerly smoked', 'never smoked', 'never smoked', 'never smoked', 'never smoked', 'formerly smoked', 'never smoked', 'never smoked', 'never smoked', 'formerly smoked', 'never smoked', 'formerly smoked', 'smokes', 'never smoked', 'formerly smoked', 'formerly smoked', 'never smoked', 'never smoked', 'never smoked', 'formerly smoked', 'smokes', 'never smoked', 'never smoked', 'never smoked', 'formerly smoked', 'smokes', 'smokes', 'never smoked', 'smokes', 'never smoked', 'never smoked', 'smokes', 'smokes', 'smokes', 'formerly smoked', 'never smoked', 'formerly smoked', 'never smoked', 'smokes', 'smokes', 'smokes', 'smokes', 'formerly smoked', 'never smoked', 'smokes', 'formerly smoked', 'formerly smoked', 'formerly smoked', 'smokes', 'never smoked', 'smokes', 'never smoked', 'never smoked', 'smokes', 'never smoked', 'never smoked', 'never smoked', 'smokes', 'smokes', 'formerly smoked', 'never smoked', 'never smoked', 'never smoked', 'never smoked', 'never smoked', 'never smoked', 'never smoked', 'never smoked', 'never smoked', 'never smoked', 'never smoked', 'never smoked', 'never smoked', 'never smoked', 'smokes', 'never smoked', 'never smoked', 'smokes', 'smokes', 'never smoked', 'never smoked', 'never smoked', 'smokes', 'never smoked', 'never smoked', 'smokes', 'never smoked', 'never smoked', 'smokes', 'never smoked', 'never smoked', 'never smoked', 'smokes', 'never smoked', 'never smoked', 'formerly smoked', 'never smoked', 'never smoked', 'smokes', 'never smoked', 'formerly smoked', 'never smoked', 'never smoked', 'smokes', 'never smoked', 'smokes', 'formerly smoked', 'never smoked', 'never smoked', 'smokes', 'never smoked', 'never smoked', 'never smoked', 'smokes', 'never smoked', 'never smoked', 'never smoked', 'formerly smoked', 'smokes', 'smokes', 'formerly smoked', 'smokes', 'formerly smoked', 'smokes', 'never smoked', 'never smoked', 'never smoked', 'never smoked', 'smokes', 'never smoked', 'never smoked', 'never smoked', 'never smoked', 'never smoked', 'formerly smoked', 'smokes', 'never smoked', 'smokes', 'smokes', 'never smoked', 'never smoked', 'formerly smoked', 'never smoked', 'smokes', 'Unknown', 'smokes', 'formerly smoked', 'never smoked', 'smokes', 'never smoked', 'smokes', 'never smoked', 'never smoked', 'never smoked', 'never smoked', 'smokes', 'formerly smoked', 'smokes', 'never smoked', 'never smoked', 'smokes', 'never smoked', 'never smoked', 'smokes', 'smokes', 'formerly smoked', 'never smoked', 'never smoked', 'never smoked', 'never smoked', 'smokes', 'smokes', 'never smoked', 'formerly smoked', 'never smoked', 'never smoked', 'smokes', 'never smoked', 'formerly smoked', 'never smoked', 'smokes', 'never smoked', 'formerly smoked', 'never smoked', 'formerly smoked', 'never smoked', 'never smoked', 'never smoked', 'never smoked', 'formerly smoked', 'never smoked', 'formerly smoked', 'smokes', 'smokes', 'smokes', 'formerly smoked', 'never smoked', 'never smoked', 'smokes', 'never smoked', 'never smoked', 'smokes', 'never smoked', 'never smoked', 'never smoked', 'never smoked', 'never smoked', 'formerly smoked', 'never smoked', 'smokes', 'never smoked', 'smokes', 'never smoked', 'formerly smoked', 'never smoked', 'never smoked', 'smokes', 'never smoked', 'formerly smoked', 'smokes', 'never smoked', 'smokes', 'formerly smoked', 'never smoked', 'smokes', 'never smoked', 'smokes', 'formerly smoked', 'smokes', 'smokes', 'never smoked', 'never smoked', 'smokes', 'smokes', 'Unknown', 'never smoked', 'never smoked', 'never smoked', 'Unknown', 'never smoked', 'formerly smoked', 'never smoked', 'smokes', 'smokes', 'never smoked', 'never smoked', 'smokes', 'formerly smoked', 'smokes', 'smokes', 'never smoked', 'never smoked', 'formerly smoked', 'never smoked', 'never smoked', 'never smoked', 'smokes', 'never smoked', 'formerly smoked', 'never smoked', 'formerly smoked', 'never smoked', 'never smoked', 'smokes', 'never smoked', 'smokes', 'Unknown', 'never smoked', 'formerly smoked', 'never smoked', 'never smoked', 'smokes', 'smokes', 'never smoked', 'never smoked', 'never smoked', 'smokes', 'never smoked', 'formerly smoked', 'never smoked', 'never smoked', 'smokes', 'never smoked', 'never smoked', 'never smoked', 'never smoked', 'smokes', 'formerly smoked', 'never smoked', 'never smoked', 'smokes', 'formerly smoked', 'smokes', 'never smoked', 'formerly smoked', 'never smoked', 'smokes', 'smokes', 'never smoked', 'never smoked', 'smokes', 'never smoked', 'smokes', 'never smoked', 'never smoked', 'never smoked', 'formerly smoked', 'never smoked', 'formerly smoked', 'smokes', 'formerly smoked', 'formerly smoked', 'never smoked', 'smokes', 'never smoked', 'never smoked', 'never smoked', 'never smoked', 'never smoked', 'smokes', 'never smoked', 'never smoked', 'never smoked', 'smokes', 'never smoked', 'never smoked', 'never smoked', 'never smoked', 'formerly smoked', 'smokes', 'smokes', 'smokes', 'formerly smoked', 'formerly smoked', 'never smoked', 'smokes', 'never smoked', 'formerly smoked', 'never smoked', 'smokes', 'smokes', 'never smoked', 'never smoked', 'smokes', 'formerly smoked', 'smokes', 'formerly smoked', 'smokes', 'never smoked', 'formerly smoked', 'never smoked', 'never smoked', 'never smoked', 'never smoked', 'smokes', 'smokes', 'formerly smoked', 'never smoked', 'never smoked', 'formerly smoked', 'never smoked', 'never smoked', 'never smoked', 'smokes', 'never smoked', 'formerly smoked', 'formerly smoked', 'never smoked', 'smokes', 'smokes', 'formerly smoked', 'formerly smoked', 'never smoked', 'never smoked', 'never smoked', 'never smoked', 'never smoked', 'smokes', 'smokes', 'never smoked', 'never smoked', 'never smoked', 'never smoked', 'never smoked', 'never smoked', 'never smoked', 'never smoked', 'smokes', 'smokes', 'never smoked', 'smokes', 'smokes', 'formerly smoked', 'smokes', 'never smoked', 'never smoked', 'never smoked', 'formerly smoked', 'never smoked', 'formerly smoked', 'never smoked', 'never smoked', 'smokes', 'never smoked', 'smokes', 'never smoked', 'never smoked', 'never smoked', 'never smoked', 'never smoked', 'formerly smoked', 'never smoked', 'smokes', 'formerly smoked', 'never smoked', 'formerly smoked', 'smokes', 'never smoked', 'smokes', 'never smoked', 'smokes', 'never smoked', 'never smoked', 'smokes', 'never smoked', 'never smoked', 'never smoked', 'never smoked', 'never smoked', 'smokes', 'smokes', 'never smoked', 'never smoked', 'smokes', 'smokes', 'never smoked', 'never smoked', 'never smoked', 'formerly smoked', 'formerly smoked', 'never smoked', 'never smoked', 'never smoked', 'smokes', 'never smoked', 'never smoked', 'never smoked', 'never smoked', 'never smoked', 'never smoked', 'smokes', 'formerly smoked', 'never smoked', 'never smoked', 'Unknown', 'never smoked', 'formerly smoked', 'smokes', 'smokes', 'never smoked', 'never smoked', 'formerly smoked', 'never smoked', 'formerly smoked', 'formerly smoked', 'never smoked', 'never smoked', 'smokes', 'never smoked', 'never smoked', 'never smoked', 'never smoked', 'formerly smoked', 'formerly smoked', 'smokes', 'smokes', 'never smoked', 'never smoked', 'never smoked', 'smokes', 'formerly smoked', 'never smoked', 'smokes', 'never smoked', 'smokes', 'smokes', 'never smoked', 'never smoked', 'never smoked', 'never smoked', 'smokes', 'smokes', 'formerly smoked', 'formerly smoked', 'never smoked', 'smokes', 'never smoked', 'formerly smoked', 'never smoked', 'never smoked', 'never smoked', 'never smoked', 'smokes', 'formerly smoked', 'Unknown', 'never smoked', 'never smoked', 'smokes', 'smokes', 'never smoked', 'never smoked', 'never smoked', 'smokes', 'never smoked', 'formerly smoked', 'formerly smoked', 'never smoked', 'never smoked', 'smokes', 'formerly smoked', 'never smoked', 'smokes', 'never smoked', 'never smoked', 'smokes', 'never smoked', 'never smoked', 'formerly smoked', 'never smoked', 'never smoked', 'smokes', 'smokes', 'smokes', 'never smoked', 'smokes', 'never smoked', 'never smoked', 'smokes', 'never smoked', 'formerly smoked', 'never smoked', 'smokes', 'never smoked', 'smokes', 'smokes', 'smokes', 'never smoked', 'never smoked', 'smokes', 'smokes', 'smokes', 'never smoked', 'never smoked', 'never smoked', 'never smoked', 'never smoked', 'never smoked', 'smokes', 'never smoked', 'never smoked', 'never smoked', 'never smoked', 'never smoked', 'formerly smoked', 'formerly smoked', 'formerly smoked', 'formerly smoked', 'never smoked', 'never smoked', 'never smoked', 'smokes', 'formerly smoked', 'never smoked', 'smokes', 'never smoked', 'never smoked', 'never smoked', 'never smoked', 'never smoked', 'never smoked', 'never smoked', 'never smoked', 'never smoked', 'never smoked', 'smokes', 'never smoked', 'never smoked', 'smokes', 'never smoked', 'formerly smoked', 'formerly smoked', 'never smoked', 'never smoked', 'never smoked', 'never smoked', 'smokes', 'formerly smoked', 'never smoked', 'smokes', 'never smoked', 'never smoked', 'never smoked', 'never smoked', 'formerly smoked', 'never smoked', 'smokes', 'never smoked', 'never smoked', 'never smoked', 'never smoked', 'formerly smoked', 'formerly smoked', 'never smoked', 'never smoked', 'never smoked', 'formerly smoked', 'never smoked', 'never smoked', 'never smoked', 'smokes', 'Unknown', 'never smoked', 'never smoked', 'never smoked', 'formerly smoked', 'never smoked', 'Unknown', 'formerly smoked', 'smokes', 'never smoked', 'smokes', 'never smoked', 'never smoked', 'formerly smoked', 'smokes', 'formerly smoked', 'smokes', 'Unknown', 'formerly smoked', 'smokes', 'smokes', 'smokes', 'smokes', 'smokes', 'never smoked', 'never smoked', 'never smoked', 'never smoked', 'smokes', 'never smoked', 'formerly smoked', 'smokes', 'formerly smoked', 'never smoked', 'smokes', 'smokes', 'smokes', 'Unknown', 'smokes', 'smokes', 'smokes', 'never smoked', 'formerly smoked', 'never smoked', 'never smoked', 'never smoked', 'never smoked', 'smokes', 'never smoked', 'smokes', 'smokes', 'smokes', 'never smoked', 'never smoked', 'formerly smoked', 'smokes', 'never smoked', 'smokes', 'never smoked', 'never smoked', 'smokes', 'never smoked', 'smokes', 'smokes', 'never smoked', 'never smoked', 'never smoked', 'never smoked', 'never smoked', 'smokes', 'never smoked', 'formerly smoked', 'never smoked', 'never smoked', 'formerly smoked', 'never smoked', 'smokes', 'smokes', 'smokes', 'smokes', 'smokes', 'formerly smoked', 'never smoked', 'never smoked', 'formerly smoked', 'never smoked', 'formerly smoked', 'never smoked', 'formerly smoked', 'never smoked', 'never smoked', 'never smoked', 'never smoked', 'never smoked', 'never smoked', 'formerly smoked', 'smokes', 'never smoked', 'smokes', 'never smoked', 'never smoked', 'never smoked', 'never smoked', 'never smoked', 'never smoked', 'never smoked', 'smokes', 'never smoked', 'never smoked', 'smokes', 'never smoked', 'smokes', 'Unknown', 'formerly smoked', 'never smoked', 'smokes', 'smokes', 'smokes', 'smokes', 'never smoked', 'never smoked', 'smokes', 'never smoked', 'formerly smoked', 'never smoked', 'smokes', 'smokes', 'formerly smoked', 'smokes', 'never smoked', 'never smoked', 'Unknown', 'smokes', 'never smoked', 'never smoked', 'formerly smoked', 'smokes', 'smokes', 'formerly smoked', 'smokes', 'formerly smoked', 'never smoked', 'never smoked', 'never smoked', 'smokes', 'formerly smoked', 'never smoked', 'formerly smoked', 'smokes', 'formerly smoked', 'smokes', 'never smoked', 'formerly smoked', 'never smoked', 'formerly smoked', 'never smoked', 'formerly smoked', 'never smoked', 'never smoked', 'never smoked', 'never smoked', 'smokes', 'smokes', 'smokes', 'smokes', 'smokes', 'formerly smoked', 'never smoked', 'smokes', 'never smoked', 'smokes', 'formerly smoked', 'never smoked', 'never smoked', 'never smoked', 'never smoked', 'never smoked', 'smokes', 'never smoked', 'smokes', 'smokes', 'smokes', 'formerly smoked', 'never smoked', 'formerly smoked', 'never smoked', 'smokes', 'formerly smoked', 'never smoked', 'formerly smoked', 'smokes', 'formerly smoked', 'formerly smoked', 'formerly smoked', 'never smoked', 'smokes', 'formerly smoked', 'smokes', 'never smoked', 'never smoked', 'never smoked', 'smokes', 'never smoked', 'smokes', 'never smoked', 'formerly smoked', 'Unknown', 'smokes', 'smokes', 'formerly smoked', 'smokes', 'never smoked', 'never smoked', 'never smoked', 'never smoked', 'never smoked', 'formerly smoked', 'smokes', 'never smoked', 'smokes', 'smokes', 'never smoked', 'never smoked', 'smokes', 'never smoked', 'smokes', 'smokes', 'never smoked', 'formerly smoked', 'formerly smoked', 'smokes', 'smokes', 'never smoked', 'formerly smoked', 'never smoked', 'smokes', 'never smoked', 'formerly smoked', 'never smoked', 'never smoked', 'smokes', 'smokes', 'formerly smoked', 'smokes', 'formerly smoked', 'formerly smoked', 'smokes', 'never smoked', 'formerly smoked', 'never smoked', 'never smoked', 'never smoked', 'never smoked', 'never smoked', 'never smoked', 'never smoked', 'smokes', 'smokes', 'never smoked', 'smokes', 'formerly smoked', 'formerly smoked', 'smokes', 'formerly smoked', 'never smoked', 'smokes', 'smokes', 'smokes', 'never smoked', 'formerly smoked', 'never smoked', 'formerly smoked', 'smokes', 'never smoked', 'Unknown', 'never smoked', 'smokes', 'never smoked', 'smokes', 'never smoked', 'smokes', 'never smoked', 'smokes', 'smokes', 'formerly smoked', 'never smoked', 'smokes', 'never smoked', 'never smoked', 'smokes', 'never smoked', 'never smoked', 'never smoked', 'never smoked', 'smokes', 'formerly smoked', 'formerly smoked', 'never smoked', 'Unknown', 'never smoked', 'never smoked', 'never smoked', 'formerly smoked', 'formerly smoked', 'never smoked', 'formerly smoked', 'smokes', 'never smoked', 'never smoked', 'smokes', 'smokes', 'never smoked', 'formerly smoked', 'never smoked', 'never smoked', 'smokes', 'never smoked', 'smokes', 'never smoked', 'never smoked', 'smokes', 'smokes', 'smokes', 'never smoked', 'Unknown', 'smokes', 'smokes', 'formerly smoked', 'smokes', 'formerly smoked', 'never smoked', 'never smoked', 'smokes', 'never smoked', 'never smoked', 'never smoked', 'never smoked', 'never smoked', 'formerly smoked', 'smokes', 'never smoked', 'never smoked', 'smokes', 'formerly smoked', 'smokes', 'never smoked', 'smokes', 'smokes', 'smokes', 'smokes', 'never smoked', 'never smoked', 'smokes', 'formerly smoked', 'smokes', 'smokes', 'never smoked', 'never smoked', 'smokes', 'never smoked', 'never smoked', 'never smoked', 'smokes', 'smokes', 'never smoked', 'smokes', 'smokes', 'never smoked', 'never smoked', 'Unknown', 'formerly smoked', 'never smoked', 'smokes', 'never smoked', 'smokes', 'never smoked', 'formerly smoked', 'smokes', 'Unknown', 'smokes', 'smokes', 'smokes', 'smokes', 'never smoked', 'smokes', 'formerly smoked', 'never smoked', 'never smoked', 'formerly smoked', 'never smoked', 'never smoked', 'smokes', 'smokes', 'formerly smoked', 'smokes', 'smokes', 'never smoked', 'formerly smoked', 'never smoked', 'formerly smoked', 'never smoked', 'formerly smoked', 'never smoked', 'never smoked', 'smokes', 'never smoked', 'smokes', 'never smoked', 'never smoked', 'never smoked', 'never smoked', 'never smoked', 'never smoked', 'smokes', 'smokes', 'never smoked', 'formerly smoked', 'formerly smoked', 'never smoked', 'smokes', 'never smoked', 'formerly smoked', 'never smoked', 'never smoked', 'never smoked', 'never smoked', 'smokes', 'never smoked', 'smokes', 'never smoked', 'formerly smoked', 'smokes', 'never smoked', 'smokes', 'never smoked', 'formerly smoked', 'never smoked', 'never smoked', 'never smoked', 'never smoked', 'never smoked', 'smokes', 'never smoked', 'smokes', 'never smoked', 'smokes', 'never smoked', 'never smoked', 'never smoked', 'Unknown', 'never smoked', 'never smoked', 'never smoked', 'formerly smoked', 'never smoked', 'never smoked', 'smokes', 'never smoked', 'never smoked', 'never smoked', 'never smoked', 'smokes', 'formerly smoked', 'never smoked', 'formerly smoked', 'never smoked', 'never smoked', 'never smoked', 'never smoked', 'never smoked', 'never smoked', 'never smoked', 'formerly smoked', 'never smoked', 'smokes', 'never smoked', 'smokes', 'formerly smoked', 'smokes', 'formerly smoked', 'formerly smoked', 'smokes', 'never smoked', 'never smoked', 'smokes', 'never smoked', 'never smoked', 'never smoked', 'formerly smoked', 'never smoked', 'never smoked', 'smokes', 'never smoked', 'never smoked', 'smokes', 'smokes', 'never smoked', 'never smoked', 'smokes', 'smokes', 'never smoked', 'formerly smoked', 'smokes', 'smokes', 'never smoked', 'never smoked', 'smokes', 'smokes', 'formerly smoked', 'never smoked', 'never smoked', 'formerly smoked', 'never smoked', 'Unknown', 'never smoked', 'never smoked', 'smokes', 'smokes', 'never smoked', 'never smoked', 'smokes', 'formerly smoked', 'never smoked', 'smokes', 'smokes', 'never smoked', 'never smoked', 'formerly smoked', 'smokes', 'never smoked', 'smokes', 'smokes', 'smokes', 'smokes', 'Unknown', 'formerly smoked', 'smokes', 'smokes', 'never smoked', 'smokes', 'never smoked', 'smokes', 'never smoked', 'smokes', 'never smoked', 'smokes', 'never smoked', 'never smoked', 'smokes', 'smokes', 'smokes', 'smokes', 'never smoked', 'never smoked', 'smokes', 'never smoked', 'smokes', 'smokes', 'never smoked', 'never smoked', 'never smoked', 'never smoked', 'smokes', 'never smoked', 'never smoked', 'never smoked', 'never smoked', 'never smoked', 'never smoked', 'formerly smoked', 'never smoked', 'smokes', 'never smoked', 'formerly smoked', 'never smoked', 'never smoked', 'smokes', 'formerly smoked', 'never smoked', 'smokes', 'smokes', 'never smoked', 'formerly smoked', 'never smoked', 'never smoked', 'smokes', 'never smoked', 'never smoked', 'formerly smoked', 'never smoked', 'never smoked', 'formerly smoked', 'smokes', 'smokes', 'never smoked', 'formerly smoked', 'never smoked', 'smokes', 'never smoked', 'never smoked', 'never smoked', 'never smoked', 'never smoked', 'never smoked', 'Unknown', 'never smoked', 'smokes', 'smokes', 'formerly smoked', 'smokes', 'never smoked', 'smokes', 'formerly smoked', 'formerly smoked', 'never smoked', 'formerly smoked', 'formerly smoked', 'formerly smoked', 'smokes', 'smokes', 'formerly smoked', 'formerly smoked', 'formerly smoked', 'formerly smoked', 'smokes', 'never smoked', 'never smoked', 'never smoked', 'smokes', 'formerly smoked', 'smokes', 'never smoked', 'smokes', 'smokes', 'smokes', 'never smoked', 'never smoked', 'smokes', 'never smoked', 'formerly smoked', 'never smoked', 'never smoked', 'formerly smoked', 'never smoked', 'smokes', 'smokes', 'smokes', 'smokes', 'formerly smoked', 'formerly smoked', 'formerly smoked', 'never smoked', 'never smoked', 'smokes', 'smokes', 'never smoked', 'never smoked', 'never smoked', 'never smoked', 'never smoked', 'smokes', 'smokes', 'never smoked', 'Unknown', 'never smoked', 'formerly smoked', 'never smoked', 'never smoked', 'formerly smoked', 'never smoked', 'smokes', 'never smoked', 'Unknown', 'never smoked', 'smokes', 'never smoked', 'smokes', 'formerly smoked', 'formerly smoked', 'never smoked', 'smokes', 'never smoked', 'formerly smoked', 'smokes', 'formerly smoked', 'never smoked', 'formerly smoked', 'never smoked', 'formerly smoked', 'never smoked', 'never smoked', 'smokes', 'smokes', 'never smoked', 'smokes', 'formerly smoked', 'never smoked', 'never smoked', 'never smoked', 'never smoked', 'smokes', 'never smoked', 'never smoked', 'never smoked', 'never smoked', 'never smoked', 'formerly smoked', 'never smoked', 'smokes', 'never smoked', 'smokes', 'never smoked', 'never smoked', 'never smoked', 'never smoked', 'smokes', 'smokes', 'Unknown', 'formerly smoked', 'never smoked', 'formerly smoked', 'formerly smoked', 'smokes', 'never smoked', 'formerly smoked', 'smokes', 'never smoked', 'never smoked', 'Unknown', 'never smoked', 'never smoked', 'never smoked', 'never smoked', 'smokes', 'formerly smoked', 'formerly smoked', 'formerly smoked', 'never smoked', 'never smoked', 'smokes', 'never smoked', 'smokes', 'never smoked', 'smokes', 'never smoked', 'never smoked', 'never smoked', 'never smoked', 'smokes', 'never smoked', 'never smoked', 'never smoked', 'never smoked', 'smokes', 'never smoked', 'never smoked', 'never smoked', 'never smoked', 'never smoked', 'never smoked', 'never smoked', 'never smoked', 'never smoked', 'never smoked', 'never smoked', 'formerly smoked', 'smokes', 'never smoked', 'never smoked', 'never smoked', 'smokes', 'formerly smoked', 'never smoked', 'smokes', 'formerly smoked', 'formerly smoked', 'smokes', 'never smoked', 'never smoked', 'smokes', 'never smoked', 'never smoked', 'smokes', 'never smoked', 'never smoked', 'never smoked', 'never smoked', 'formerly smoked', 'formerly smoked', 'smokes', 'formerly smoked', 'never smoked', 'never smoked', 'never smoked', 'never smoked', 'smokes', 'smokes', 'never smoked', 'smokes', 'never smoked', 'never smoked', 'never smoked', 'never smoked', 'smokes', 'smokes', 'never smoked', 'formerly smoked', 'smokes', 'never smoked', 'smokes', 'never smoked', 'smokes', 'formerly smoked', 'smokes', 'never smoked', 'never smoked', 'smokes', 'smokes', 'never smoked', 'formerly smoked', 'never smoked', 'never smoked', 'never smoked', 'never smoked', 'smokes', 'smokes', 'smokes', 'smokes', 'formerly smoked', 'never smoked', 'smokes', 'Unknown', 'smokes', 'smokes', 'smokes', 'smokes', 'never smoked', 'formerly smoked', 'never smoked', 'never smoked', 'smokes', 'formerly smoked', 'smokes', 'never smoked', 'smokes', 'formerly smoked', 'never smoked', 'never smoked', 'smokes', 'never smoked', 'never smoked', 'never smoked', 'smokes', 'never smoked', 'never smoked', 'formerly smoked', 'never smoked', 'never smoked', 'never smoked', 'never smoked', 'never smoked', 'formerly smoked', 'formerly smoked', 'never smoked', 'never smoked', 'smokes', 'smokes', 'smokes', 'never smoked', 'smokes', 'formerly smoked', 'smokes', 'smokes', 'smokes', 'never smoked', 'smokes', 'smokes', 'formerly smoked', 'smokes', 'formerly smoked', 'never smoked', 'smokes', 'smokes', 'never smoked', 'smokes', 'never smoked', 'formerly smoked', 'smokes', 'smokes', 'never smoked', 'never smoked', 'never smoked', 'never smoked', 'smokes', 'smokes', 'never smoked', 'formerly smoked', 'never smoked', 'never smoked', 'never smoked', 'smokes', 'never smoked', 'never smoked', 'smokes', 'never smoked', 'formerly smoked', 'smokes', 'never smoked', 'never smoked', 'never smoked', 'smokes', 'smokes', 'smokes', 'never smoked', 'smokes', 'never smoked', 'smokes', 'never smoked', 'never smoked', 'Unknown', 'never smoked', 'never smoked', 'never smoked', 'smokes', 'smokes', 'smokes', 'smokes', 'never smoked', 'smokes', 'smokes', 'formerly smoked', 'smokes', 'never smoked', 'never smoked', 'never smoked', 'never smoked', 'never smoked', 'never smoked', 'never smoked', 'never smoked', 'formerly smoked', 'smokes', 'never smoked', 'smokes', 'never smoked', 'never smoked', 'never smoked', 'never smoked', 'smokes', 'smokes', 'never smoked', 'smokes', 'smokes', 'never smoked', 'never smoked', 'never smoked', 'never smoked', 'never smoked', 'smokes', 'never smoked', 'formerly smoked', 'never smoked', 'never smoked', 'formerly smoked', 'smokes', 'never smoked', 'smokes', 'never smoked', 'never smoked', 'never smoked', 'smokes', 'never smoked', 'never smoked', 'never smoked', 'formerly smoked', 'smokes', 'Unknown', 'formerly smoked', 'smokes', 'smokes', 'never smoked', 'never smoked', 'never smoked', 'formerly smoked', 'never smoked', 'never smoked', 'never smoked', 'smokes', 'never smoked', 'never smoked', 'never smoked', 'never smoked', 'never smoked', 'Unknown', 'never smoked', 'formerly smoked', 'never smoked', 'smokes', 'never smoked', 'smokes', 'never smoked', 'never smoked', 'Unknown', 'formerly smoked', 'smokes', 'smokes', 'never smoked', 'never smoked', 'never smoked', 'smokes', 'never smoked', 'never smoked', 'never smoked', 'never smoked', 'smokes', 'never smoked', 'formerly smoked', 'smokes', 'smokes', 'never smoked', 'formerly smoked', 'formerly smoked', 'smokes', 'smokes', 'never smoked', 'never smoked', 'never smoked', 'smokes', 'formerly smoked', 'formerly smoked', 'formerly smoked', 'smokes', 'smokes', 'smokes', 'smokes', 'smokes', 'formerly smoked', 'formerly smoked', 'never smoked', 'smokes', 'never smoked', 'never smoked', 'smokes', 'formerly smoked', 'never smoked', 'smokes', 'smokes', 'formerly smoked', 'never smoked', 'never smoked', 'never smoked', 'never smoked', 'never smoked', 'never smoked', 'smokes', 'smokes', 'never smoked', 'never smoked', 'smokes', 'formerly smoked', 'formerly smoked', 'never smoked', 'formerly smoked', 'never smoked', 'never smoked', 'Unknown', 'smokes', 'never smoked', 'smokes', 'never smoked', 'never smoked', 'never smoked', 'smokes', 'never smoked', 'never smoked', 'formerly smoked', 'never smoked', 'formerly smoked', 'never smoked', 'smokes', 'never smoked', 'never smoked', 'formerly smoked', 'never smoked', 'smokes', 'never smoked', 'never smoked', 'never smoked', 'smokes', 'never smoked', 'never smoked', 'never smoked', 'never smoked', 'never smoked', 'smokes', 'never smoked', 'Unknown', 'never smoked', 'never smoked', 'never smoked', 'never smoked', 'Unknown', 'never smoked', 'never smoked', 'smokes', 'never smoked', 'smokes', 'never smoked', 'never smoked', 'never smoked', 'formerly smoked', 'formerly smoked', 'formerly smoked', 'formerly smoked', 'formerly smoked', 'never smoked', 'smokes', 'formerly smoked', 'never smoked', 'never smoked', 'smokes', 'smokes', 'never smoked', 'never smoked', 'formerly smoked', 'smokes', 'smokes', 'never smoked', 'smokes', 'never smoked', 'never smoked', 'smokes', 'formerly smoked', 'smokes', 'formerly smoked', 'smokes', 'smokes', 'never smoked', 'smokes', 'formerly smoked', 'never smoked', 'never smoked', 'formerly smoked', 'never smoked', 'smokes', 'formerly smoked', 'never smoked', 'formerly smoked', 'smokes', 'smokes', 'smokes', 'never smoked', 'never smoked', 'smokes', 'smokes', 'never smoked', 'smokes', 'smokes', 'smokes', 'never smoked', 'Unknown', 'never smoked', 'never smoked', 'never smoked', 'smokes', 'Unknown', 'formerly smoked', 'never smoked', 'smokes', 'never smoked', 'never smoked', 'smokes', 'never smoked', 'never smoked', 'never smoked', 'smokes', 'formerly smoked', 'never smoked', 'formerly smoked', 'never smoked', 'formerly smoked', 'Unknown', 'formerly smoked', 'formerly smoked', 'never smoked', 'formerly smoked', 'never smoked', 'smokes', 'formerly smoked', 'never smoked', 'never smoked', 'never smoked', 'formerly smoked', 'smokes', 'smokes', 'smokes', 'smokes', 'never smoked', 'Unknown', 'smokes', 'never smoked', 'smokes', 'never smoked', 'never smoked', 'Unknown', 'never smoked', 'smokes', 'never smoked', 'smokes', 'formerly smoked', 'formerly smoked', 'never smoked', 'never smoked', 'never smoked', 'smokes', 'smokes', 'formerly smoked', 'never smoked', 'never smoked', 'smokes', 'never smoked', 'formerly smoked', 'formerly smoked', 'never smoked', 'never smoked', 'never smoked', 'never smoked', 'never smoked', 'never smoked', 'formerly smoked', 'formerly smoked', 'never smoked', 'formerly smoked', 'smokes', 'smokes', 'never smoked', 'formerly smoked', 'formerly smoked', 'smokes', 'never smoked', 'smokes', 'never smoked', 'never smoked', 'never smoked', 'smokes', 'formerly smoked', 'never smoked', 'never smoked', 'smokes', 'never smoked', 'never smoked', 'never smoked', 'formerly smoked', 'never smoked', 'never smoked', 'never smoked', 'never smoked', 'never smoked', 'smokes', 'never smoked', 'formerly smoked', 'formerly smoked', 'smokes', 'never smoked', 'smokes', 'never smoked', 'never smoked', 'smokes', 'smokes', 'never smoked', 'never smoked', 'formerly smoked', 'never smoked', 'smokes', 'never smoked', 'never smoked', 'never smoked', 'formerly smoked', 'smokes', 'formerly smoked', 'never smoked', 'formerly smoked', 'formerly smoked', 'formerly smoked', 'smokes', 'formerly smoked', 'never smoked', 'formerly smoked', 'never smoked', 'never smoked', 'smokes', 'never smoked', 'never smoked', 'never smoked', 'smokes', 'smokes', 'formerly smoked', 'smokes', 'never smoked', 'smokes', 'never smoked', 'Unknown', 'never smoked', 'smokes', 'never smoked', 'never smoked', 'formerly smoked', 'smokes', 'smokes', 'never smoked', 'never smoked', 'never smoked', 'never smoked', 'never smoked', 'Unknown', 'never smoked', 'smokes', 'never smoked', 'never smoked', 'smokes', 'never smoked', 'smokes', 'never smoked', 'never smoked', 'formerly smoked', 'never smoked', 'formerly smoked', 'never smoked', 'smokes', 'never smoked', 'never smoked', 'smokes', 'smokes', 'smokes', 'never smoked', 'smokes', 'smokes', 'never smoked', 'formerly smoked', 'smokes', 'formerly smoked', 'smokes', 'smokes', 'smokes', 'smokes', 'never smoked', 'smokes', 'never smoked', 'never smoked', 'never smoked', 'smokes', 'never smoked', 'smokes', 'never smoked', 'smokes', 'never smoked', 'never smoked', 'formerly smoked', 'formerly smoked', 'never smoked', 'never smoked', 'smokes', 'smokes', 'never smoked', 'never smoked', 'smokes', 'never smoked', 'smokes', 'never smoked', 'never smoked', 'smokes', 'never smoked', 'never smoked', 'formerly smoked', 'never smoked', 'never smoked', 'never smoked', 'smokes', 'formerly smoked', 'smokes', 'never smoked', 'never smoked', 'smokes', 'smokes', 'smokes', 'never smoked', 'formerly smoked', 'smokes', 'never smoked', 'smokes', 'never smoked', 'smokes', 'smokes', 'formerly smoked', 'formerly smoked', 'formerly smoked', 'never smoked', 'never smoked', 'Unknown', 'never smoked', 'smokes', 'formerly smoked', 'never smoked', 'never smoked', 'never smoked', 'never smoked', 'smokes', 'never smoked', 'never smoked', 'never smoked', 'never smoked', 'formerly smoked', 'never smoked', 'smokes', 'never smoked', 'smokes', 'formerly smoked', 'never smoked', 'never smoked', 'never smoked', 'smokes', 'never smoked', 'never smoked', 'never smoked', 'smokes', 'formerly smoked', 'never smoked', 'never smoked', 'smokes', 'smokes', 'never smoked', 'never smoked', 'smokes', 'never smoked', 'never smoked', 'smokes', 'never smoked', 'never smoked', 'never smoked', 'never smoked', 'formerly smoked', 'never smoked', 'smokes', 'never smoked', 'formerly smoked', 'never smoked', 'never smoked', 'never smoked', 'formerly smoked', 'formerly smoked', 'formerly smoked', 'smokes', 'never smoked', 'never smoked', 'never smoked', 'never smoked', 'never smoked', 'never smoked', 'formerly smoked', 'smokes', 'smokes', 'smokes', 'Unknown', 'smokes', 'never smoked', 'never smoked', 'never smoked', 'never smoked', 'never smoked', 'smokes', 'formerly smoked', 'smokes', 'formerly smoked', 'smokes', 'smokes', 'smokes', 'never smoked', 'smokes', 'never smoked', 'smokes', 'smokes', 'formerly smoked', 'never smoked', 'smokes', 'formerly smoked', 'never smoked', 'smokes', 'Unknown', 'smokes', 'formerly smoked', 'smokes', 'smokes', 'never smoked', 'formerly smoked', 'never smoked', 'never smoked', 'formerly smoked', 'never smoked', 'never smoked', 'never smoked', 'formerly smoked', 'never smoked', 'never smoked', 'formerly smoked', 'never smoked', 'formerly smoked', 'smokes', 'formerly smoked', 'formerly smoked', 'never smoked', 'formerly smoked', 'formerly smoked', 'never smoked', 'never smoked', 'never smoked', 'formerly smoked', 'smokes', 'never smoked', 'never smoked', 'never smoked', 'smokes', 'formerly smoked', 'smokes', 'smokes', 'formerly smoked', 'smokes', 'smokes', 'formerly smoked', 'smokes', 'formerly smoked', 'smokes', 'formerly smoked', 'smokes', 'never smoked', 'smokes', 'never smoked', 'smokes', 'never smoked', 'smokes', 'formerly smoked', 'smokes', 'never smoked', 'formerly smoked', 'smokes', 'smokes', 'smokes', 'smokes', 'never smoked', 'never smoked', 'never smoked', 'formerly smoked', 'never smoked', 'never smoked', 'smokes', 'formerly smoked', 'smokes', 'formerly smoked', 'never smoked', 'smokes', 'formerly smoked', 'never smoked', 'never smoked', 'never smoked', 'never smoked', 'Unknown', 'never smoked', 'never smoked', 'never smoked', 'never smoked', 'smokes', 'never smoked', 'formerly smoked', 'never smoked', 'never smoked', 'never smoked', 'smokes', 'never smoked', 'formerly smoked', 'never smoked', 'never smoked', 'never smoked', 'never smoked', 'smokes', 'never smoked', 'never smoked', 'smokes', 'never smoked', 'never smoked', 'formerly smoked', 'never smoked', 'never smoked', 'formerly smoked', 'smokes', 'never smoked', 'never smoked', 'never smoked', 'never smoked', 'never smoked', 'smokes', 'never smoked', 'Unknown', 'smokes', 'never smoked', 'smokes', 'never smoked', 'smokes', 'never smoked', 'never smoked', 'formerly smoked', 'smokes', 'smokes', 'never smoked', 'formerly smoked', 'smokes', 'smokes', 'smokes', 'smokes', 'never smoked', 'never smoked', 'smokes', 'never smoked', 'formerly smoked', 'smokes', 'never smoked', 'Unknown', 'never smoked', 'formerly smoked', 'never smoked', 'never smoked', 'smokes', 'never smoked', 'smokes', 'smokes', 'never smoked', 'never smoked', 'never smoked', 'formerly smoked', 'formerly smoked', 'never smoked', 'never smoked', 'never smoked', 'never smoked', 'never smoked', 'never smoked', 'never smoked', 'smokes', 'smokes', 'never smoked', 'smokes', 'formerly smoked', 'smokes', 'smokes', 'Unknown', 'never smoked', 'smokes', 'never smoked', 'never smoked', 'never smoked', 'smokes', 'formerly smoked', 'smokes', 'never smoked', 'formerly smoked', 'smokes', 'formerly smoked', 'formerly smoked', 'never smoked', 'never smoked', 'formerly smoked', 'formerly smoked', 'never smoked', 'smokes', 'smokes', 'smokes', 'smokes', 'smokes', 'formerly smoked', 'formerly smoked', 'smokes', 'smokes', 'never smoked', 'smokes', 'never smoked', 'smokes', 'smokes', 'never smoked', 'smokes', 'smokes', 'smokes', 'smokes', 'never smoked', 'smokes', 'never smoked', 'Unknown', 'formerly smoked', 'smokes', 'formerly smoked', 'smokes', 'never smoked', 'never smoked', 'never smoked', 'never smoked', 'never smoked', 'formerly smoked', 'smokes', 'formerly smoked', 'never smoked', 'smokes', 'never smoked', 'never smoked', 'never smoked', 'formerly smoked', 'smokes', 'formerly smoked', 'never smoked', 'smokes', 'formerly smoked', 'formerly smoked', 'never smoked', 'formerly smoked', 'smokes', 'never smoked', 'formerly smoked', 'smokes', 'formerly smoked', 'smokes', 'never smoked', 'smokes', 'never smoked', 'never smoked', 'never smoked', 'formerly smoked', 'smokes', 'formerly smoked', 'never smoked', 'smokes', 'never smoked', 'formerly smoked', 'formerly smoked', 'never smoked', 'never smoked', 'smokes', 'formerly smoked', 'never smoked', 'formerly smoked', 'never smoked', 'formerly smoked', 'never smoked', 'never smoked', 'never smoked', 'never smoked', 'formerly smoked', 'smokes', 'formerly smoked', 'smokes', 'formerly smoked', 'formerly smoked', 'formerly smoked', 'smokes', 'smokes', 'never smoked', 'never smoked', 'smokes', 'smokes', 'smokes', 'formerly smoked', 'never smoked', 'formerly smoked', 'never smoked', 'never smoked', 'smokes', 'never smoked', 'smokes', 'formerly smoked', 'formerly smoked', 'never smoked', 'smokes', 'never smoked', 'never smoked', 'never smoked', 'smokes', 'formerly smoked', 'formerly smoked', 'smokes', 'formerly smoked', 'never smoked', 'smokes', 'never smoked', 'never smoked', 'smokes', 'smokes', 'never smoked', 'never smoked', 'never smoked', 'never smoked', 'smokes', 'never smoked', 'formerly smoked', 'formerly smoked', 'never smoked', 'never smoked', 'never smoked', 'never smoked', 'smokes', 'smokes', 'never smoked', 'never smoked', 'never smoked', 'never smoked', 'never smoked', 'never smoked', 'never smoked', 'smokes', 'Unknown', 'never smoked', 'smokes', 'smokes', 'smokes', 'formerly smoked', 'never smoked', 'smokes', 'never smoked', 'smokes', 'never smoked', 'never smoked', 'never smoked', 'formerly smoked', 'never smoked', 'never smoked', 'never smoked', 'never smoked', 'never smoked', 'formerly smoked', 'never smoked', 'never smoked', 'formerly smoked', 'formerly smoked', 'never smoked', 'smokes', 'smokes', 'never smoked', 'never smoked', 'smokes', 'never smoked', 'never smoked', 'smokes', 'never smoked', 'smokes', 'never smoked', 'Unknown', 'never smoked', 'smokes', 'smokes', 'never smoked', 'smokes', 'formerly smoked', 'never smoked', 'never smoked', 'never smoked', 'smokes', 'never smoked', 'smokes', 'formerly smoked', 'smokes', 'never smoked', 'never smoked', 'formerly smoked', 'never smoked', 'smokes', 'never smoked', 'formerly smoked', 'smokes', 'smokes', 'smokes', 'formerly smoked', 'smokes', 'never smoked', 'smokes', 'smokes', 'formerly smoked', 'never smoked', 'never smoked', 'formerly smoked', 'Unknown', 'never smoked', 'never smoked', 'never smoked', 'never smoked', 'never smoked', 'formerly smoked', 'never smoked', 'smokes', 'smokes', 'never smoked', 'smokes', 'never smoked', 'smokes', 'never smoked', 'formerly smoked', 'never smoked', 'never smoked', 'never smoked', 'never smoked', 'never smoked', 'never smoked', 'never smoked', 'smokes', 'never smoked', 'never smoked', 'smokes', 'never smoked', 'never smoked', 'never smoked', 'never smoked', 'smokes', 'formerly smoked', 'smokes', 'never smoked', 'never smoked', 'smokes', 'never smoked', 'never smoked', 'never smoked', 'never smoked', 'never smoked', 'never smoked', 'formerly smoked', 'never smoked', 'smokes', 'formerly smoked', 'never smoked', 'never smoked', 'smokes', 'never smoked', 'formerly smoked', 'formerly smoked', 'never smoked', 'smokes', 'never smoked', 'never smoked', 'smokes', 'smokes', 'smokes', 'never smoked', 'never smoked', 'never smoked', 'smokes', 'never smoked', 'never smoked', 'Unknown', 'never smoked', 'smokes', 'smokes', 'never smoked', 'formerly smoked', 'never smoked', 'never smoked', 'never smoked', 'never smoked', 'never smoked', 'formerly smoked', 'never smoked', 'never smoked', 'never smoked', 'smokes', 'never smoked', 'never smoked', 'never smoked', 'smokes', 'never smoked', 'never smoked', 'never smoked', 'formerly smoked', 'never smoked', 'never smoked', 'never smoked', 'never smoked', 'smokes', 'never smoked', 'formerly smoked', 'smokes', 'formerly smoked', 'never smoked', 'never smoked', 'formerly smoked', 'smokes', 'smokes', 'never smoked', 'never smoked', 'formerly smoked', 'formerly smoked', 'formerly smoked', 'Unknown', 'never smoked', 'never smoked', 'never smoked', 'never smoked', 'smokes', 'never smoked', 'never smoked', 'formerly smoked', 'smokes', 'smokes', 'never smoked', 'smokes', 'formerly smoked', 'smokes', 'smokes', 'never smoked', 'never smoked', 'formerly smoked', 'never smoked', 'smokes', 'formerly smoked', 'formerly smoked', 'never smoked', 'never smoked', 'formerly smoked', 'never smoked', 'never smoked', 'never smoked', 'smokes', 'smokes', 'smokes', 'smokes', 'formerly smoked', 'smokes', 'smokes', 'smokes', 'formerly smoked', 'never smoked', 'never smoked', 'formerly smoked', 'never smoked', 'never smoked', 'smokes', 'smokes', 'never smoked', 'never smoked', 'never smoked', 'smokes', 'never smoked', 'never smoked', 'never smoked', 'never smoked', 'smokes', 'never smoked', 'never smoked', 'smokes', 'never smoked', 'smokes', 'never smoked', 'never smoked', 'never smoked', 'never smoked', 'never smoked', 'never smoked', 'never smoked', 'never smoked', 'smokes', 'never smoked', 'never smoked', 'smokes', 'formerly smoked', 'never smoked', 'never smoked', 'never smoked', 'formerly smoked', 'never smoked', 'never smoked', 'never smoked', 'smokes', 'smokes', 'smokes', 'smokes', 'never smoked', 'never smoked', 'never smoked', 'smokes', 'never smoked', 'never smoked', 'never smoked', 'never smoked', 'never smoked', 'formerly smoked', 'smokes', 'formerly smoked', 'never smoked', 'never smoked', 'never smoked', 'never smoked', 'smokes', 'Unknown', 'formerly smoked', 'never smoked', 'never smoked', 'never smoked', 'formerly smoked', 'never smoked', 'never smoked', 'formerly smoked', 'never smoked', 'never smoked', 'formerly smoked', 'never smoked', 'smokes', 'never smoked', 'never smoked', 'never smoked', 'formerly smoked', 'formerly smoked', 'smokes', 'never smoked', 'smokes', 'smokes', 'never smoked', 'smokes', 'formerly smoked', 'never smoked', 'never smoked', 'never smoked', 'smokes', 'never smoked', 'formerly smoked', 'smokes', 'smokes', 'never smoked', 'never smoked', 'never smoked', 'never smoked', 'never smoked', 'never smoked', 'smokes', 'never smoked', 'never smoked', 'formerly smoked', 'never smoked', 'smokes', 'never smoked', 'smokes', 'never smoked', 'never smoked', 'smokes', 'smokes', 'formerly smoked', 'never smoked', 'never smoked', 'formerly smoked', 'smokes', 'never smoked', 'Unknown', 'never smoked', 'formerly smoked', 'formerly smoked', 'formerly smoked', 'smokes', 'never smoked', 'never smoked', 'never smoked', 'never smoked', 'never smoked', 'never smoked', 'never smoked', 'never smoked', 'smokes', 'never smoked', 'never smoked', 'never smoked', 'formerly smoked', 'never smoked', 'never smoked', 'never smoked', 'never smoked', 'never smoked', 'smokes', 'never smoked', 'never smoked', 'never smoked', 'never smoked', 'never smoked', 'never smoked', 'never smoked', 'never smoked', 'never smoked', 'formerly smoked', 'formerly smoked', 'never smoked', 'formerly smoked', 'never smoked', 'smokes', 'formerly smoked', 'never smoked', 'never smoked', 'smokes', 'never smoked', 'never smoked', 'smokes', 'never smoked', 'formerly smoked', 'formerly smoked', 'never smoked', 'smokes', 'never smoked', 'smokes', 'smokes', 'never smoked', 'never smoked', 'formerly smoked', 'smokes', 'never smoked', 'never smoked', 'smokes', 'smokes', 'never smoked', 'smokes', 'never smoked', 'never smoked', 'formerly smoked', 'formerly smoked', 'never smoked', 'formerly smoked', 'never smoked', 'never smoked', 'never smoked', 'never smoked', 'never smoked', 'smokes', 'formerly smoked', 'never smoked', 'never smoked', 'never smoked', 'never smoked', 'smokes', 'formerly smoked', 'smokes', 'never smoked', 'never smoked', 'smokes', 'never smoked', 'smokes', 'smokes', 'never smoked', 'smokes', 'smokes', 'never smoked', 'never smoked', 'Unknown', 'smokes', 'formerly smoked', 'never smoked', 'never smoked', 'smokes', 'formerly smoked', 'smokes', 'never smoked', 'never smoked', 'never smoked', 'never smoked', 'formerly smoked', 'never smoked', 'smokes', 'never smoked', 'smokes', 'never smoked', 'Unknown', 'never smoked', 'never smoked', 'never smoked', 'never smoked', 'never smoked', 'never smoked', 'smokes', 'never smoked', 'never smoked', 'smokes', 'smokes', 'smokes', 'smokes', 'smokes', 'smokes', 'Unknown', 'formerly smoked', 'formerly smoked', 'never smoked', 'never smoked', 'smokes', 'never smoked', 'never smoked', 'smokes', 'never smoked', 'smokes', 'never smoked', 'never smoked', 'formerly smoked', 'never smoked', 'never smoked', 'never smoked', 'never smoked', 'never smoked', 'never smoked', 'smokes', 'never smoked', 'smokes', 'never smoked', 'never smoked', 'never smoked', 'formerly smoked', 'smokes', 'never smoked', 'never smoked', 'never smoked', 'never smoked', 'never smoked', 'never smoked', 'smokes', 'smokes', 'never smoked', 'never smoked', 'formerly smoked', 'never smoked', 'smokes', 'never smoked', 'Unknown', 'Unknown', 'never smoked', 'formerly smoked', 'Unknown', 'never smoked', 'smokes', 'never smoked', 'never smoked', 'smokes', 'never smoked', 'formerly smoked', 'never smoked', 'smokes', 'never smoked', 'never smoked', 'never smoked', 'never smoked', 'never smoked', 'never smoked', 'never smoked', 'never smoked', 'never smoked', 'never smoked', 'never smoked', 'never smoked', 'formerly smoked', 'smokes', 'formerly smoked', 'smokes', 'never smoked', 'smokes', 'never smoked', 'never smoked', 'never smoked', 'never smoked', 'never smoked', 'never smoked', 'smokes', 'never smoked', 'never smoked', 'never smoked', 'smokes', 'Unknown', 'smokes', 'smokes', 'never smoked', 'never smoked', 'never smoked', 'smokes', 'smokes', 'formerly smoked', 'never smoked', 'smokes', 'never smoked', 'smokes', 'never smoked', 'never smoked', 'never smoked', 'formerly smoked', 'formerly smoked', 'smokes', 'smokes', 'never smoked', 'never smoked', 'smokes', 'smokes', 'smokes', 'smokes', 'smokes', 'formerly smoked', 'never smoked', 'never smoked', 'smokes', 'never smoked', 'smokes', 'never smoked', 'formerly smoked', 'formerly smoked', 'smokes', 'Unknown', 'smokes', 'never smoked', 'never smoked', 'smokes', 'never smoked', 'smokes', 'never smoked', 'never smoked', 'never smoked', 'smokes', 'never smoked', 'never smoked', 'formerly smoked', 'Unknown', 'smokes', 'never smoked', 'smokes', 'formerly smoked', 'smokes', 'never smoked', 'smokes', 'never smoked', 'formerly smoked', 'smokes', 'never smoked', 'smokes', 'smokes', 'smokes', 'never smoked', 'never smoked', 'never smoked', 'never smoked', 'smokes', 'smokes', 'smokes', 'never smoked', 'never smoked', 'never smoked', 'formerly smoked', 'never smoked', 'formerly smoked', 'never smoked', 'smokes', 'smokes', 'never smoked', 'never smoked', 'never smoked', 'never smoked', 'smokes', 'never smoked', 'smokes', 'smokes', 'smokes', 'never smoked', 'formerly smoked', 'never smoked', 'smokes', 'smokes', 'never smoked', 'formerly smoked', 'formerly smoked', 'formerly smoked', 'never smoked', 'smokes', 'never smoked', 'smokes', 'formerly smoked', 'smokes', 'never smoked', 'never smoked', 'never smoked', 'never smoked', 'smokes', 'smokes', 'smokes', 'never smoked', 'formerly smoked', 'never smoked', 'smokes', 'never smoked', 'never smoked', 'never smoked', 'smokes', 'smokes', 'formerly smoked', 'never smoked', 'never smoked', 'smokes', 'Unknown', 'smokes', 'formerly smoked', 'never smoked', 'smokes', 'never smoked', 'Unknown', 'formerly smoked', 'smokes', 'formerly smoked', 'never smoked', 'formerly smoked', 'formerly smoked', 'formerly smoked', 'smokes', 'never smoked', 'smokes', 'never smoked', 'formerly smoked', 'never smoked', 'never smoked', 'never smoked', 'smokes', 'Unknown', 'never smoked', 'never smoked', 'never smoked', 'never smoked', 'smokes', 'never smoked', 'never smoked', 'never smoked', 'never smoked', 'never smoked', 'formerly smoked', 'formerly smoked', 'smokes', 'never smoked', 'never smoked', 'never smoked', 'never smoked', 'never smoked', 'formerly smoked', 'never smoked', 'never smoked', 'formerly smoked', 'never smoked', 'smokes', 'never smoked', 'never smoked', 'never smoked', 'smokes', 'smokes', 'smokes', 'smokes', 'smokes', 'smokes', 'never smoked', 'never smoked', 'never smoked', 'never smoked', 'never smoked', 'never smoked', 'smokes', 'never smoked', 'never smoked', 'formerly smoked', 'formerly smoked', 'never smoked', 'never smoked', 'never smoked', 'formerly smoked', 'never smoked', 'formerly smoked', 'never smoked', 'never smoked', 'smokes', 'never smoked', 'smokes', 'never smoked', 'Unknown', 'formerly smoked', 'smokes', 'smokes', 'never smoked', 'smokes', 'never smoked', 'never smoked', 'smokes', 'smokes', 'formerly smoked', 'formerly smoked', 'formerly smoked', 'never smoked', 'never smoked', 'smokes', 'never smoked', 'formerly smoked', 'formerly smoked', 'formerly smoked', 'never smoked', 'never smoked', 'smokes', 'never smoked', 'never smoked', 'never smoked', 'never smoked', 'smokes', 'Unknown', 'never smoked', 'Unknown', 'smokes', 'never smoked', 'formerly smoked', 'never smoked', 'formerly smoked', 'formerly smoked', 'formerly smoked', 'smokes', 'never smoked', 'smokes', 'never smoked', 'never smoked', 'never smoked', 'smokes', 'never smoked', 'smokes', 'smokes', 'smokes', 'smokes', 'never smoked', 'never smoked', 'smokes', 'smokes', 'formerly smoked', 'never smoked', 'never smoked', 'never smoked', 'never smoked', 'never smoked', 'never smoked', 'never smoked', 'smokes', 'never smoked', 'formerly smoked', 'smokes', 'never smoked', 'never smoked', 'formerly smoked', 'smokes', 'never smoked', 'smokes', 'never smoked', 'never smoked', 'smokes', 'smokes', 'smokes', 'never smoked', 'never smoked', 'smokes', 'never smoked', 'never smoked', 'smokes', 'formerly smoked', 'smokes', 'never smoked', 'never smoked', 'never smoked', 'formerly smoked', 'formerly smoked', 'never smoked', 'smokes', 'formerly smoked', 'smokes', 'never smoked', 'never smoked', 'never smoked', 'never smoked', 'never smoked', 'never smoked', 'smokes', 'smokes', 'smokes', 'formerly smoked', 'smokes', 'formerly smoked', 'never smoked', 'smokes', 'smokes', 'never smoked', 'formerly smoked', 'never smoked', 'never smoked', 'never smoked', 'smokes', 'never smoked', 'smokes', 'never smoked', 'never smoked', 'smokes', 'smokes', 'never smoked', 'never smoked', 'never smoked', 'never smoked', 'never smoked', 'never smoked', 'never smoked', 'never smoked', 'never smoked', 'never smoked', 'smokes', 'smokes', 'smokes', 'never smoked', 'never smoked', 'smokes', 'formerly smoked', 'formerly smoked', 'smokes', 'formerly smoked', 'smokes', 'never smoked', 'smokes', 'smokes', 'never smoked', 'smokes', 'never smoked', 'never smoked', 'never smoked', 'smokes', 'never smoked', 'smokes', 'never smoked', 'never smoked', 'never smoked', 'never smoked', 'never smoked', 'formerly smoked', 'never smoked', 'never smoked', 'smokes', 'smokes', 'formerly smoked', 'smokes', 'smokes', 'never smoked', 'smokes', 'formerly smoked', 'formerly smoked', 'never smoked', 'never smoked', 'never smoked', 'formerly smoked', 'never smoked', 'smokes', 'never smoked', 'smokes', 'formerly smoked', 'smokes', 'smokes', 'never smoked', 'never smoked', 'never smoked', 'smokes', 'never smoked', 'smokes', 'formerly smoked', 'smokes', 'smokes', 'never smoked', 'never smoked', 'never smoked', 'never smoked', 'smokes', 'never smoked', 'never smoked', 'smokes', 'never smoked', 'smokes', 'never smoked', 'never smoked', 'never smoked', 'never smoked', 'smokes', 'formerly smoked', 'never smoked', 'smokes', 'never smoked', 'smokes', 'formerly smoked', 'never smoked', 'never smoked', 'never smoked', 'never smoked', 'smokes', 'never smoked', 'smokes', 'never smoked', 'never smoked', 'smokes', 'formerly smoked', 'formerly smoked', 'formerly smoked', 'smokes', 'never smoked', 'never smoked', 'Unknown', 'formerly smoked', 'never smoked', 'never smoked', 'smokes', 'never smoked', 'never smoked', 'Unknown', 'formerly smoked', 'never smoked', 'never smoked', 'never smoked', 'never smoked', 'smokes', 'never smoked', 'never smoked', 'never smoked', 'formerly smoked', 'Unknown', 'smokes', 'formerly smoked', 'smokes', 'never smoked', 'never smoked', 'never smoked', 'smokes', 'never smoked', 'formerly smoked', 'smokes', 'formerly smoked', 'smokes', 'never smoked', 'never smoked', 'formerly smoked', 'never smoked', 'never smoked', 'formerly smoked', 'formerly smoked', 'never smoked', 'smokes', 'never smoked', 'never smoked', 'smokes', 'formerly smoked', 'never smoked', 'formerly smoked', 'smokes', 'smokes', 'smokes', 'formerly smoked', 'smokes', 'never smoked', 'Unknown', 'never smoked', 'never smoked', 'never smoked', 'never smoked', 'never smoked', 'never smoked', 'never smoked', 'never smoked', 'smokes', 'smokes', 'never smoked', 'Unknown', 'formerly smoked', 'never smoked', 'never smoked', 'smokes', 'formerly smoked', 'smokes', 'smokes', 'formerly smoked', 'formerly smoked', 'smokes', 'never smoked', 'never smoked', 'smokes', 'formerly smoked', 'never smoked', 'smokes', 'Unknown', 'never smoked', 'Unknown', 'smokes', 'never smoked', 'never smoked', 'never smoked', 'never smoked', 'Unknown', 'never smoked', 'never smoked', 'never smoked', 'smokes', 'never smoked', 'never smoked', 'smokes', 'never smoked', 'never smoked', 'never smoked', 'formerly smoked', 'smokes', 'smokes', 'smokes', 'never smoked', 'smokes', 'smokes', 'smokes', 'smokes', 'formerly smoked', 'never smoked', 'never smoked', 'smokes', 'smokes', 'never smoked', 'never smoked', 'never smoked', 'smokes', 'never smoked', 'formerly smoked', 'never smoked', 'never smoked', 'never smoked', 'never smoked', 'never smoked', 'smokes', 'smokes', 'never smoked', 'never smoked', 'smokes', 'never smoked', 'never smoked', 'smokes', 'formerly smoked', 'never smoked', 'never smoked', 'never smoked', 'smokes', 'never smoked', 'never smoked', 'smokes', 'smokes', 'formerly smoked', 'never smoked', 'never smoked', 'never smoked', 'never smoked', 'never smoked', 'never smoked', 'never smoked', 'never smoked', 'never smoked', 'smokes', 'formerly smoked', 'formerly smoked', 'never smoked', 'never smoked', 'never smoked', 'never smoked', 'never smoked', 'formerly smoked', 'formerly smoked', 'formerly smoked', 'smokes', 'formerly smoked', 'never smoked', 'never smoked', 'never smoked', 'never smoked', 'formerly smoked', 'never smoked', 'never smoked', 'smokes', 'never smoked', 'never smoked', 'smokes', 'never smoked', 'never smoked', 'never smoked', 'never smoked', 'never smoked', 'smokes', 'formerly smoked', 'never smoked', 'never smoked', 'formerly smoked', 'never smoked', 'never smoked', 'smokes', 'smokes', 'never smoked', 'smokes', 'smokes', 'never smoked', 'never smoked', 'smokes', 'never smoked', 'never smoked', 'formerly smoked', 'formerly smoked', 'Unknown', 'smokes', 'smokes', 'smokes', 'never smoked', 'Unknown', 'formerly smoked', 'never smoked', 'formerly smoked', 'formerly smoked', 'never smoked', 'never smoked', 'formerly smoked', 'never smoked', 'never smoked', 'never smoked', 'never smoked', 'never smoked', 'never smoked', 'never smoked', 'never smoked', 'never smoked', 'never smoked', 'smokes', 'smokes', 'formerly smoked', 'never smoked', 'never smoked', 'never smoked', 'smokes', 'smokes', 'never smoked', 'never smoked', 'never smoked', 'smokes', 'never smoked', 'never smoked', 'never smoked', 'smokes', 'never smoked', 'formerly smoked', 'never smoked', 'Unknown', 'never smoked', 'smokes', 'never smoked', 'never smoked', 'formerly smoked', 'smokes', 'smokes', 'never smoked', 'never smoked', 'never smoked', 'formerly smoked', 'smokes', 'never smoked', 'never smoked', 'never smoked', 'never smoked', 'formerly smoked', 'formerly smoked', 'never smoked', 'never smoked', 'never smoked', 'never smoked', 'never smoked', 'formerly smoked', 'smokes', 'smokes', 'never smoked', 'smokes', 'smokes', 'formerly smoked', 'formerly smoked', 'never smoked', 'never smoked', 'smokes', 'formerly smoked', 'smokes', 'never smoked', 'never smoked', 'never smoked', 'never smoked', 'smokes', 'never smoked', 'never smoked', 'smokes', 'smokes', 'smokes', 'never smoked', 'never smoked', 'smokes', 'never smoked', 'never smoked', 'smokes', 'Unknown', 'smokes', 'never smoked', 'never smoked', 'never smoked', 'smokes', 'smokes', 'never smoked', 'formerly smoked', 'never smoked', 'never smoked', 'never smoked', 'Unknown', 'never smoked', 'formerly smoked', 'never smoked', 'formerly smoked', 'never smoked', 'never smoked', 'smokes', 'formerly smoked', 'never smoked', 'formerly smoked', 'never smoked', 'formerly smoked', 'formerly smoked', 'never smoked', 'smokes', 'never smoked', 'never smoked', 'never smoked', 'Unknown', 'formerly smoked', 'smokes', 'formerly smoked', 'never smoked', 'smokes', 'never smoked', 'never smoked', 'smokes', 'never smoked', 'smokes', 'Unknown', 'smokes', 'never smoked', 'never smoked', 'never smoked', 'never smoked', 'Unknown', 'never smoked', 'smokes', 'smokes', 'Unknown', 'never smoked', 'formerly smoked', 'formerly smoked', 'smokes', 'never smoked', 'Unknown', 'never smoked', 'never smoked', 'smokes', 'never smoked', 'smokes', 'formerly smoked', 'never smoked', 'never smoked', 'formerly smoked', 'smokes', 'formerly smoked', 'formerly smoked', 'smokes', 'never smoked', 'smokes', 'never smoked', 'formerly smoked', 'smokes', 'never smoked', 'formerly smoked', 'never smoked', 'smokes', 'never smoked', 'smokes', 'formerly smoked', 'formerly smoked', 'formerly smoked', 'smokes', 'never smoked', 'never smoked', 'never smoked', 'formerly smoked', 'never smoked', 'never smoked', 'smokes', 'formerly smoked', 'never smoked', 'never smoked', 'never smoked', 'formerly smoked', 'never smoked', 'never smoked', 'never smoked', 'never smoked', 'never smoked', 'never smoked', 'smokes', 'smokes', 'never smoked', 'formerly smoked', 'formerly smoked', 'never smoked', 'never smoked', 'never smoked', 'formerly smoked', 'formerly smoked', 'formerly smoked', 'smokes', 'smokes', 'never smoked', 'never smoked', 'Unknown', 'never smoked', 'never smoked', 'never smoked', 'formerly smoked', 'never smoked', 'never smoked', 'never smoked', 'never smoked', 'never smoked', 'smokes', 'never smoked', 'smokes', 'never smoked', 'never smoked', 'smokes', 'never smoked', 'smokes', 'formerly smoked', 'never smoked', 'smokes', 'never smoked', 'smokes', 'smokes', 'formerly smoked', 'smokes', 'formerly smoked', 'never smoked', 'never smoked', 'never smoked', 'formerly smoked', 'never smoked', 'never smoked', 'never smoked', 'never smoked', 'formerly smoked', 'smokes', 'formerly smoked', 'formerly smoked', 'never smoked', 'Unknown', 'smokes', 'never smoked', 'smokes', 'never smoked', 'formerly smoked', 'smokes', 'smokes', 'never smoked', 'never smoked', 'smokes', 'never smoked', 'smokes', 'never smoked', 'never smoked', 'formerly smoked', 'smokes', 'never smoked', 'never smoked', 'never smoked', 'formerly smoked', 'never smoked', 'never smoked', 'never smoked', 'never smoked', 'formerly smoked', 'never smoked', 'smokes', 'never smoked', 'never smoked', 'formerly smoked', 'never smoked', 'never smoked', 'formerly smoked', 'never smoked', 'smokes', 'never smoked', 'smokes', 'never smoked', 'smokes', 'never smoked', 'smokes', 'never smoked', 'never smoked', 'formerly smoked', 'never smoked', 'formerly smoked', 'smokes', 'smokes', 'never smoked', 'smokes', 'never smoked', 'smokes', 'never smoked', 'never smoked', 'never smoked', 'never smoked', 'never smoked', 'never smoked', 'never smoked', 'never smoked', 'never smoked', 'never smoked', 'never smoked', 'smokes', 'never smoked', 'formerly smoked', 'smokes', 'never smoked', 'smokes', 'never smoked', 'never smoked', 'never smoked', 'formerly smoked', 'formerly smoked', 'formerly smoked', 'never smoked', 'smokes', 'never smoked', 'never smoked', 'never smoked', 'smokes', 'never smoked', 'formerly smoked', 'never smoked', 'smokes', 'formerly smoked', 'smokes', 'never smoked', 'never smoked', 'smokes', 'smokes', 'formerly smoked', 'Unknown', 'smokes', 'smokes', 'never smoked', 'smokes', 'never smoked', 'never smoked', 'smokes', 'never smoked', 'never smoked', 'never smoked', 'never smoked', 'never smoked', 'formerly smoked', 'never smoked', 'formerly smoked', 'formerly smoked', 'never smoked', 'smokes', 'formerly smoked', 'smokes', 'never smoked', 'smokes', 'smokes', 'never smoked', 'smokes', 'smokes', 'never smoked', 'never smoked', 'never smoked', 'smokes', 'formerly smoked', 'formerly smoked', 'never smoked', 'never smoked', 'never smoked', 'never smoked', 'formerly smoked', 'never smoked', 'never smoked', 'smokes', 'formerly smoked', 'never smoked', 'never smoked', 'smokes', 'never smoked', 'never smoked', 'never smoked', 'smokes', 'smokes', 'never smoked', 'never smoked', 'formerly smoked', 'smokes', 'never smoked', 'never smoked', 'smokes', 'never smoked', 'never smoked', 'never smoked', 'never smoked', 'never smoked', 'never smoked', 'formerly smoked', 'never smoked', 'never smoked', 'smokes', 'never smoked', 'never smoked', 'smokes', 'never smoked', 'formerly smoked', 'smokes', 'smokes', 'never smoked', 'smokes', 'formerly smoked', 'never smoked', 'never smoked', 'Unknown', 'smokes', 'smokes', 'Unknown', 'never smoked', 'smokes', 'smokes', 'formerly smoked', 'never smoked', 'smokes', 'formerly smoked', 'never smoked', 'never smoked', 'never smoked', 'never smoked', 'never smoked', 'smokes', 'smokes', 'never smoked', 'never smoked', 'never smoked', 'formerly smoked', 'smokes', 'formerly smoked', 'never smoked', 'never smoked', 'never smoked', 'never smoked', 'formerly smoked', 'never smoked', 'never smoked', 'never smoked', 'smokes', 'never smoked', 'never smoked', 'never smoked', 'never smoked', 'never smoked', 'smokes', 'never smoked', 'formerly smoked', 'never smoked', 'never smoked', 'never smoked', 'never smoked', 'smokes', 'never smoked', 'smokes', 'formerly smoked', 'never smoked', 'never smoked', 'formerly smoked', 'never smoked', 'never smoked', 'never smoked', 'smokes', 'never smoked', 'smokes', 'smokes', 'never smoked', 'smokes', 'formerly smoked', 'never smoked', 'never smoked', 'smokes', 'never smoked', 'never smoked', 'never smoked', 'never smoked', 'smokes', 'Unknown', 'smokes', 'smokes', 'formerly smoked', 'never smoked', 'never smoked', 'never smoked', 'never smoked', 'Unknown', 'never smoked', 'smokes', 'never smoked', 'never smoked', 'never smoked', 'never smoked', 'never smoked', 'never smoked', 'formerly smoked', 'never smoked', 'never smoked', 'never smoked', 'formerly smoked', 'formerly smoked', 'never smoked', 'formerly smoked', 'formerly smoked', 'smokes', 'smokes', 'never smoked', 'formerly smoked', 'smokes', 'never smoked', 'Unknown', 'formerly smoked', 'never smoked', 'never smoked', 'never smoked', 'smokes', 'never smoked', 'never smoked', 'smokes', 'smokes', 'never smoked', 'never smoked', 'never smoked', 'never smoked', 'never smoked', 'never smoked', 'formerly smoked', 'formerly smoked', 'formerly smoked', 'never smoked', 'never smoked', 'Unknown', 'formerly smoked', 'smokes', 'smokes', 'formerly smoked', 'smokes', 'never smoked', 'never smoked', 'smokes', 'formerly smoked', 'smokes', 'never smoked', 'never smoked', 'never smoked', 'never smoked', 'never smoked', 'never smoked', 'smokes', 'formerly smoked', 'never smoked', 'never smoked', 'Unknown', 'formerly smoked', 'never smoked', 'never smoked', 'smokes', 'smokes', 'never smoked', 'never smoked', 'never smoked', 'formerly smoked', 'never smoked', 'never smoked', 'smokes', 'smokes', 'never smoked', 'smokes', 'smokes', 'never smoked', 'never smoked', 'never smoked', 'never smoked', 'never smoked', 'formerly smoked', 'smokes', 'never smoked', 'smokes', 'formerly smoked', 'smokes', 'formerly smoked', 'smokes', 'never smoked', 'smokes', 'never smoked', 'never smoked', 'smokes', 'never smoked', 'never smoked', 'never smoked', 'smokes', 'never smoked', 'smokes', 'never smoked', 'smokes', 'never smoked', 'never smoked', 'never smoked', 'never smoked', 'never smoked', 'never smoked', 'formerly smoked', 'Unknown']\n"
          ]
        },
        {
          "output_type": "execute_result",
          "data": {
            "text/plain": [
              "5110"
            ]
          },
          "metadata": {},
          "execution_count": 20
        }
      ]
    },
    {
      "cell_type": "code",
      "metadata": {
        "colab": {
          "base_uri": "https://localhost:8080/"
        },
        "id": "UP6pNVUiK3Fw",
        "outputId": "fa1fd32b-5a9c-4ce6-acdb-ea359af74c63"
      },
      "source": [
        "data['smoking_status1']=m\n",
        "data.smoking_status1.value_counts()"
      ],
      "execution_count": 21,
      "outputs": [
        {
          "output_type": "execute_result",
          "data": {
            "text/plain": [
              "never smoked       2623\n",
              "smokes             1482\n",
              "formerly smoked     885\n",
              "Unknown             120\n",
              "Name: smoking_status1, dtype: int64"
            ]
          },
          "metadata": {},
          "execution_count": 21
        }
      ]
    },
    {
      "cell_type": "code",
      "metadata": {
        "colab": {
          "base_uri": "https://localhost:8080/"
        },
        "id": "hacqXZw3MDMx",
        "outputId": "954969d4-bf33-48eb-e695-ebdff500eed1"
      },
      "source": [
        "m=[]\n",
        "for i,x in enumerate(data.smoking_status1):\n",
        "  if data.work_type.iloc[i] =='Govt_job' and x=='Unknown':\n",
        "    m.append('smokes')\n",
        "  else:\n",
        "    m.append(x)\n",
        "print(m)\n",
        "len(m)"
      ],
      "execution_count": 22,
      "outputs": [
        {
          "output_type": "stream",
          "name": "stdout",
          "text": [
            "['formerly smoked', 'never smoked', 'never smoked', 'smokes', 'never smoked', 'formerly smoked', 'never smoked', 'never smoked', 'smokes', 'smokes', 'never smoked', 'smokes', 'smokes', 'smokes', 'never smoked', 'never smoked', 'smokes', 'smokes', 'never smoked', 'smokes', 'smokes', 'never smoked', 'never smoked', 'smokes', 'formerly smoked', 'never smoked', 'formerly smoked', 'smokes', 'smokes', 'formerly smoked', 'smokes', 'smokes', 'never smoked', 'formerly smoked', 'never smoked', 'formerly smoked', 'formerly smoked', 'formerly smoked', 'smokes', 'never smoked', 'formerly smoked', 'never smoked', 'smokes', 'formerly smoked', 'smokes', 'never smoked', 'smokes', 'formerly smoked', 'never smoked', 'smokes', 'smokes', 'formerly smoked', 'never smoked', 'never smoked', 'never smoked', 'formerly smoked', 'never smoked', 'formerly smoked', 'never smoked', 'never smoked', 'formerly smoked', 'never smoked', 'smokes', 'formerly smoked', 'smokes', 'never smoked', 'never smoked', 'smokes', 'formerly smoked', 'never smoked', 'formerly smoked', 'formerly smoked', 'formerly smoked', 'never smoked', 'never smoked', 'formerly smoked', 'never smoked', 'formerly smoked', 'never smoked', 'smokes', 'smokes', 'smokes', 'never smoked', 'never smoked', 'smokes', 'smokes', 'smokes', 'formerly smoked', 'formerly smoked', 'smokes', 'never smoked', 'never smoked', 'never smoked', 'smokes', 'never smoked', 'never smoked', 'formerly smoked', 'smokes', 'formerly smoked', 'never smoked', 'smokes', 'never smoked', 'formerly smoked', 'smokes', 'smokes', 'smokes', 'formerly smoked', 'smokes', 'never smoked', 'never smoked', 'formerly smoked', 'smokes', 'formerly smoked', 'never smoked', 'smokes', 'never smoked', 'smokes', 'smokes', 'formerly smoked', 'never smoked', 'formerly smoked', 'smokes', 'smokes', 'never smoked', 'smokes', 'never smoked', 'formerly smoked', 'smokes', 'formerly smoked', 'smokes', 'never smoked', 'never smoked', 'never smoked', 'formerly smoked', 'never smoked', 'never smoked', 'formerly smoked', 'smokes', 'formerly smoked', 'smokes', 'never smoked', 'smokes', 'never smoked', 'never smoked', 'never smoked', 'formerly smoked', 'formerly smoked', 'never smoked', 'never smoked', 'never smoked', 'smokes', 'formerly smoked', 'never smoked', 'smokes', 'never smoked', 'never smoked', 'smokes', 'smokes', 'formerly smoked', 'never smoked', 'formerly smoked', 'smokes', 'never smoked', 'never smoked', 'formerly smoked', 'formerly smoked', 'smokes', 'never smoked', 'formerly smoked', 'never smoked', 'formerly smoked', 'never smoked', 'smokes', 'formerly smoked', 'formerly smoked', 'never smoked', 'never smoked', 'formerly smoked', 'smokes', 'smokes', 'never smoked', 'formerly smoked', 'smokes', 'smokes', 'smokes', 'formerly smoked', 'formerly smoked', 'formerly smoked', 'formerly smoked', 'smokes', 'formerly smoked', 'formerly smoked', 'smokes', 'smokes', 'smokes', 'formerly smoked', 'formerly smoked', 'smokes', 'formerly smoked', 'never smoked', 'smokes', 'formerly smoked', 'never smoked', 'never smoked', 'smokes', 'formerly smoked', 'never smoked', 'never smoked', 'smokes', 'smokes', 'never smoked', 'formerly smoked', 'never smoked', 'never smoked', 'never smoked', 'smokes', 'never smoked', 'smokes', 'smokes', 'never smoked', 'smokes', 'never smoked', 'formerly smoked', 'smokes', 'smokes', 'smokes', 'never smoked', 'never smoked', 'smokes', 'never smoked', 'never smoked', 'smokes', 'never smoked', 'formerly smoked', 'smokes', 'smokes', 'smokes', 'formerly smoked', 'never smoked', 'smokes', 'formerly smoked', 'formerly smoked', 'never smoked', 'formerly smoked', 'smokes', 'never smoked', 'formerly smoked', 'smokes', 'smokes', 'never smoked', 'never smoked', 'never smoked', 'formerly smoked', 'never smoked', 'smokes', 'formerly smoked', 'never smoked', 'smokes', 'never smoked', 'smokes', 'formerly smoked', 'never smoked', 'formerly smoked', 'never smoked', 'never smoked', 'smokes', 'never smoked', 'smokes', 'smokes', 'smokes', 'smokes', 'smokes', 'formerly smoked', 'never smoked', 'never smoked', 'smokes', 'never smoked', 'never smoked', 'never smoked', 'smokes', 'smokes', 'smokes', 'never smoked', 'smokes', 'never smoked', 'formerly smoked', 'never smoked', 'smokes', 'never smoked', 'smokes', 'never smoked', 'never smoked', 'never smoked', 'formerly smoked', 'smokes', 'smokes', 'never smoked', 'smokes', 'never smoked', 'smokes', 'smokes', 'formerly smoked', 'never smoked', 'smokes', 'smokes', 'smokes', 'never smoked', 'smokes', 'smokes', 'formerly smoked', 'smokes', 'smokes', 'smokes', 'smokes', 'never smoked', 'formerly smoked', 'formerly smoked', 'never smoked', 'formerly smoked', 'never smoked', 'smokes', 'never smoked', 'smokes', 'smokes', 'formerly smoked', 'formerly smoked', 'never smoked', 'never smoked', 'smokes', 'smokes', 'never smoked', 'formerly smoked', 'smokes', 'formerly smoked', 'smokes', 'never smoked', 'smokes', 'never smoked', 'never smoked', 'never smoked', 'never smoked', 'formerly smoked', 'formerly smoked', 'formerly smoked', 'never smoked', 'never smoked', 'never smoked', 'formerly smoked', 'never smoked', 'smokes', 'formerly smoked', 'never smoked', 'never smoked', 'never smoked', 'smokes', 'never smoked', 'smokes', 'never smoked', 'never smoked', 'smokes', 'never smoked', 'never smoked', 'formerly smoked', 'never smoked', 'smokes', 'formerly smoked', 'never smoked', 'never smoked', 'never smoked', 'never smoked', 'never smoked', 'never smoked', 'never smoked', 'formerly smoked', 'smokes', 'never smoked', 'never smoked', 'smokes', 'never smoked', 'formerly smoked', 'never smoked', 'never smoked', 'never smoked', 'never smoked', 'never smoked', 'never smoked', 'never smoked', 'never smoked', 'formerly smoked', 'formerly smoked', 'never smoked', 'smokes', 'never smoked', 'never smoked', 'never smoked', 'never smoked', 'never smoked', 'never smoked', 'smokes', 'formerly smoked', 'never smoked', 'never smoked', 'smokes', 'smokes', 'smokes', 'never smoked', 'smokes', 'never smoked', 'never smoked', 'smokes', 'never smoked', 'never smoked', 'smokes', 'smokes', 'never smoked', 'smokes', 'never smoked', 'never smoked', 'never smoked', 'never smoked', 'smokes', 'never smoked', 'smokes', 'formerly smoked', 'never smoked', 'never smoked', 'never smoked', 'smokes', 'smokes', 'formerly smoked', 'never smoked', 'formerly smoked', 'smokes', 'never smoked', 'never smoked', 'never smoked', 'formerly smoked', 'never smoked', 'formerly smoked', 'never smoked', 'never smoked', 'never smoked', 'smokes', 'smokes', 'smokes', 'never smoked', 'smokes', 'never smoked', 'smokes', 'never smoked', 'smokes', 'never smoked', 'never smoked', 'smokes', 'never smoked', 'never smoked', 'formerly smoked', 'smokes', 'smokes', 'never smoked', 'never smoked', 'never smoked', 'formerly smoked', 'never smoked', 'never smoked', 'smokes', 'smokes', 'never smoked', 'never smoked', 'smokes', 'never smoked', 'never smoked', 'smokes', 'never smoked', 'smokes', 'never smoked', 'smokes', 'smokes', 'formerly smoked', 'smokes', 'never smoked', 'smokes', 'smokes', 'never smoked', 'smokes', 'never smoked', 'never smoked', 'smokes', 'formerly smoked', 'smokes', 'smokes', 'formerly smoked', 'smokes', 'never smoked', 'formerly smoked', 'never smoked', 'never smoked', 'never smoked', 'never smoked', 'smokes', 'formerly smoked', 'formerly smoked', 'never smoked', 'smokes', 'smokes', 'smokes', 'formerly smoked', 'smokes', 'smokes', 'never smoked', 'formerly smoked', 'smokes', 'smokes', 'smokes', 'smokes', 'smokes', 'never smoked', 'formerly smoked', 'smokes', 'never smoked', 'never smoked', 'never smoked', 'smokes', 'never smoked', 'never smoked', 'never smoked', 'never smoked', 'never smoked', 'formerly smoked', 'smokes', 'formerly smoked', 'never smoked', 'smokes', 'never smoked', 'smokes', 'never smoked', 'never smoked', 'smokes', 'never smoked', 'smokes', 'never smoked', 'formerly smoked', 'formerly smoked', 'smokes', 'never smoked', 'never smoked', 'never smoked', 'smokes', 'never smoked', 'never smoked', 'never smoked', 'formerly smoked', 'smokes', 'never smoked', 'never smoked', 'never smoked', 'never smoked', 'smokes', 'never smoked', 'never smoked', 'never smoked', 'never smoked', 'never smoked', 'never smoked', 'never smoked', 'never smoked', 'smokes', 'formerly smoked', 'smokes', 'never smoked', 'never smoked', 'formerly smoked', 'formerly smoked', 'smokes', 'never smoked', 'never smoked', 'smokes', 'smokes', 'formerly smoked', 'never smoked', 'formerly smoked', 'never smoked', 'smokes', 'formerly smoked', 'never smoked', 'formerly smoked', 'smokes', 'never smoked', 'formerly smoked', 'smokes', 'smokes', 'smokes', 'never smoked', 'never smoked', 'smokes', 'smokes', 'formerly smoked', 'never smoked', 'never smoked', 'never smoked', 'never smoked', 'never smoked', 'never smoked', 'never smoked', 'smokes', 'never smoked', 'never smoked', 'never smoked', 'smokes', 'never smoked', 'smokes', 'never smoked', 'smokes', 'smokes', 'never smoked', 'smokes', 'never smoked', 'smokes', 'formerly smoked', 'smokes', 'never smoked', 'never smoked', 'never smoked', 'smokes', 'smokes', 'never smoked', 'smokes', 'never smoked', 'never smoked', 'smokes', 'never smoked', 'never smoked', 'never smoked', 'smokes', 'smokes', 'never smoked', 'formerly smoked', 'never smoked', 'formerly smoked', 'smokes', 'never smoked', 'never smoked', 'formerly smoked', 'never smoked', 'never smoked', 'smokes', 'formerly smoked', 'formerly smoked', 'smokes', 'never smoked', 'never smoked', 'formerly smoked', 'formerly smoked', 'formerly smoked', 'formerly smoked', 'never smoked', 'never smoked', 'never smoked', 'never smoked', 'smokes', 'smokes', 'never smoked', 'smokes', 'never smoked', 'never smoked', 'never smoked', 'never smoked', 'never smoked', 'formerly smoked', 'smokes', 'never smoked', 'never smoked', 'never smoked', 'never smoked', 'never smoked', 'never smoked', 'formerly smoked', 'smokes', 'smokes', 'never smoked', 'never smoked', 'never smoked', 'never smoked', 'never smoked', 'never smoked', 'smokes', 'formerly smoked', 'formerly smoked', 'never smoked', 'never smoked', 'never smoked', 'smokes', 'never smoked', 'never smoked', 'formerly smoked', 'never smoked', 'never smoked', 'smokes', 'smokes', 'never smoked', 'never smoked', 'never smoked', 'never smoked', 'smokes', 'never smoked', 'smokes', 'smokes', 'formerly smoked', 'formerly smoked', 'formerly smoked', 'smokes', 'formerly smoked', 'never smoked', 'formerly smoked', 'smokes', 'never smoked', 'smokes', 'never smoked', 'never smoked', 'formerly smoked', 'formerly smoked', 'smokes', 'never smoked', 'smokes', 'smokes', 'smokes', 'smokes', 'never smoked', 'never smoked', 'never smoked', 'never smoked', 'never smoked', 'formerly smoked', 'never smoked', 'smokes', 'never smoked', 'never smoked', 'smokes', 'smokes', 'smokes', 'never smoked', 'never smoked', 'never smoked', 'smokes', 'never smoked', 'never smoked', 'smokes', 'never smoked', 'never smoked', 'never smoked', 'never smoked', 'formerly smoked', 'smokes', 'never smoked', 'smokes', 'smokes', 'never smoked', 'never smoked', 'never smoked', 'formerly smoked', 'smokes', 'never smoked', 'smokes', 'never smoked', 'smokes', 'never smoked', 'never smoked', 'smokes', 'smokes', 'smokes', 'never smoked', 'never smoked', 'smokes', 'never smoked', 'formerly smoked', 'never smoked', 'never smoked', 'formerly smoked', 'never smoked', 'never smoked', 'never smoked', 'formerly smoked', 'never smoked', 'never smoked', 'never smoked', 'smokes', 'formerly smoked', 'never smoked', 'never smoked', 'never smoked', 'never smoked', 'never smoked', 'never smoked', 'never smoked', 'smokes', 'formerly smoked', 'never smoked', 'never smoked', 'smokes', 'never smoked', 'smokes', 'never smoked', 'formerly smoked', 'formerly smoked', 'smokes', 'smokes', 'never smoked', 'never smoked', 'smokes', 'never smoked', 'never smoked', 'smokes', 'never smoked', 'never smoked', 'never smoked', 'smokes', 'never smoked', 'never smoked', 'formerly smoked', 'never smoked', 'smokes', 'formerly smoked', 'formerly smoked', 'never smoked', 'never smoked', 'smokes', 'never smoked', 'never smoked', 'smokes', 'never smoked', 'never smoked', 'never smoked', 'smokes', 'never smoked', 'smokes', 'formerly smoked', 'formerly smoked', 'never smoked', 'never smoked', 'never smoked', 'never smoked', 'never smoked', 'formerly smoked', 'never smoked', 'never smoked', 'never smoked', 'never smoked', 'never smoked', 'smokes', 'formerly smoked', 'never smoked', 'smokes', 'never smoked', 'never smoked', 'never smoked', 'smokes', 'never smoked', 'never smoked', 'smokes', 'smokes', 'smokes', 'never smoked', 'smokes', 'formerly smoked', 'never smoked', 'smokes', 'never smoked', 'never smoked', 'smokes', 'never smoked', 'formerly smoked', 'never smoked', 'never smoked', 'never smoked', 'never smoked', 'formerly smoked', 'never smoked', 'never smoked', 'never smoked', 'formerly smoked', 'never smoked', 'formerly smoked', 'smokes', 'never smoked', 'formerly smoked', 'formerly smoked', 'never smoked', 'never smoked', 'never smoked', 'formerly smoked', 'smokes', 'never smoked', 'never smoked', 'never smoked', 'formerly smoked', 'smokes', 'smokes', 'never smoked', 'smokes', 'never smoked', 'never smoked', 'smokes', 'smokes', 'smokes', 'formerly smoked', 'never smoked', 'formerly smoked', 'never smoked', 'smokes', 'smokes', 'smokes', 'smokes', 'formerly smoked', 'never smoked', 'smokes', 'formerly smoked', 'formerly smoked', 'formerly smoked', 'smokes', 'never smoked', 'smokes', 'never smoked', 'never smoked', 'smokes', 'never smoked', 'never smoked', 'never smoked', 'smokes', 'smokes', 'formerly smoked', 'never smoked', 'never smoked', 'never smoked', 'never smoked', 'never smoked', 'never smoked', 'never smoked', 'never smoked', 'never smoked', 'never smoked', 'never smoked', 'never smoked', 'never smoked', 'never smoked', 'smokes', 'never smoked', 'never smoked', 'smokes', 'smokes', 'never smoked', 'never smoked', 'never smoked', 'smokes', 'never smoked', 'never smoked', 'smokes', 'never smoked', 'never smoked', 'smokes', 'never smoked', 'never smoked', 'never smoked', 'smokes', 'never smoked', 'never smoked', 'formerly smoked', 'never smoked', 'never smoked', 'smokes', 'never smoked', 'formerly smoked', 'never smoked', 'never smoked', 'smokes', 'never smoked', 'smokes', 'formerly smoked', 'never smoked', 'never smoked', 'smokes', 'never smoked', 'never smoked', 'never smoked', 'smokes', 'never smoked', 'never smoked', 'never smoked', 'formerly smoked', 'smokes', 'smokes', 'formerly smoked', 'smokes', 'formerly smoked', 'smokes', 'never smoked', 'never smoked', 'never smoked', 'never smoked', 'smokes', 'never smoked', 'never smoked', 'never smoked', 'never smoked', 'never smoked', 'formerly smoked', 'smokes', 'never smoked', 'smokes', 'smokes', 'never smoked', 'never smoked', 'formerly smoked', 'never smoked', 'smokes', 'smokes', 'smokes', 'formerly smoked', 'never smoked', 'smokes', 'never smoked', 'smokes', 'never smoked', 'never smoked', 'never smoked', 'never smoked', 'smokes', 'formerly smoked', 'smokes', 'never smoked', 'never smoked', 'smokes', 'never smoked', 'never smoked', 'smokes', 'smokes', 'formerly smoked', 'never smoked', 'never smoked', 'never smoked', 'never smoked', 'smokes', 'smokes', 'never smoked', 'formerly smoked', 'never smoked', 'never smoked', 'smokes', 'never smoked', 'formerly smoked', 'never smoked', 'smokes', 'never smoked', 'formerly smoked', 'never smoked', 'formerly smoked', 'never smoked', 'never smoked', 'never smoked', 'never smoked', 'formerly smoked', 'never smoked', 'formerly smoked', 'smokes', 'smokes', 'smokes', 'formerly smoked', 'never smoked', 'never smoked', 'smokes', 'never smoked', 'never smoked', 'smokes', 'never smoked', 'never smoked', 'never smoked', 'never smoked', 'never smoked', 'formerly smoked', 'never smoked', 'smokes', 'never smoked', 'smokes', 'never smoked', 'formerly smoked', 'never smoked', 'never smoked', 'smokes', 'never smoked', 'formerly smoked', 'smokes', 'never smoked', 'smokes', 'formerly smoked', 'never smoked', 'smokes', 'never smoked', 'smokes', 'formerly smoked', 'smokes', 'smokes', 'never smoked', 'never smoked', 'smokes', 'smokes', 'smokes', 'never smoked', 'never smoked', 'never smoked', 'smokes', 'never smoked', 'formerly smoked', 'never smoked', 'smokes', 'smokes', 'never smoked', 'never smoked', 'smokes', 'formerly smoked', 'smokes', 'smokes', 'never smoked', 'never smoked', 'formerly smoked', 'never smoked', 'never smoked', 'never smoked', 'smokes', 'never smoked', 'formerly smoked', 'never smoked', 'formerly smoked', 'never smoked', 'never smoked', 'smokes', 'never smoked', 'smokes', 'smokes', 'never smoked', 'formerly smoked', 'never smoked', 'never smoked', 'smokes', 'smokes', 'never smoked', 'never smoked', 'never smoked', 'smokes', 'never smoked', 'formerly smoked', 'never smoked', 'never smoked', 'smokes', 'never smoked', 'never smoked', 'never smoked', 'never smoked', 'smokes', 'formerly smoked', 'never smoked', 'never smoked', 'smokes', 'formerly smoked', 'smokes', 'never smoked', 'formerly smoked', 'never smoked', 'smokes', 'smokes', 'never smoked', 'never smoked', 'smokes', 'never smoked', 'smokes', 'never smoked', 'never smoked', 'never smoked', 'formerly smoked', 'never smoked', 'formerly smoked', 'smokes', 'formerly smoked', 'formerly smoked', 'never smoked', 'smokes', 'never smoked', 'never smoked', 'never smoked', 'never smoked', 'never smoked', 'smokes', 'never smoked', 'never smoked', 'never smoked', 'smokes', 'never smoked', 'never smoked', 'never smoked', 'never smoked', 'formerly smoked', 'smokes', 'smokes', 'smokes', 'formerly smoked', 'formerly smoked', 'never smoked', 'smokes', 'never smoked', 'formerly smoked', 'never smoked', 'smokes', 'smokes', 'never smoked', 'never smoked', 'smokes', 'formerly smoked', 'smokes', 'formerly smoked', 'smokes', 'never smoked', 'formerly smoked', 'never smoked', 'never smoked', 'never smoked', 'never smoked', 'smokes', 'smokes', 'formerly smoked', 'never smoked', 'never smoked', 'formerly smoked', 'never smoked', 'never smoked', 'never smoked', 'smokes', 'never smoked', 'formerly smoked', 'formerly smoked', 'never smoked', 'smokes', 'smokes', 'formerly smoked', 'formerly smoked', 'never smoked', 'never smoked', 'never smoked', 'never smoked', 'never smoked', 'smokes', 'smokes', 'never smoked', 'never smoked', 'never smoked', 'never smoked', 'never smoked', 'never smoked', 'never smoked', 'never smoked', 'smokes', 'smokes', 'never smoked', 'smokes', 'smokes', 'formerly smoked', 'smokes', 'never smoked', 'never smoked', 'never smoked', 'formerly smoked', 'never smoked', 'formerly smoked', 'never smoked', 'never smoked', 'smokes', 'never smoked', 'smokes', 'never smoked', 'never smoked', 'never smoked', 'never smoked', 'never smoked', 'formerly smoked', 'never smoked', 'smokes', 'formerly smoked', 'never smoked', 'formerly smoked', 'smokes', 'never smoked', 'smokes', 'never smoked', 'smokes', 'never smoked', 'never smoked', 'smokes', 'never smoked', 'never smoked', 'never smoked', 'never smoked', 'never smoked', 'smokes', 'smokes', 'never smoked', 'never smoked', 'smokes', 'smokes', 'never smoked', 'never smoked', 'never smoked', 'formerly smoked', 'formerly smoked', 'never smoked', 'never smoked', 'never smoked', 'smokes', 'never smoked', 'never smoked', 'never smoked', 'never smoked', 'never smoked', 'never smoked', 'smokes', 'formerly smoked', 'never smoked', 'never smoked', 'smokes', 'never smoked', 'formerly smoked', 'smokes', 'smokes', 'never smoked', 'never smoked', 'formerly smoked', 'never smoked', 'formerly smoked', 'formerly smoked', 'never smoked', 'never smoked', 'smokes', 'never smoked', 'never smoked', 'never smoked', 'never smoked', 'formerly smoked', 'formerly smoked', 'smokes', 'smokes', 'never smoked', 'never smoked', 'never smoked', 'smokes', 'formerly smoked', 'never smoked', 'smokes', 'never smoked', 'smokes', 'smokes', 'never smoked', 'never smoked', 'never smoked', 'never smoked', 'smokes', 'smokes', 'formerly smoked', 'formerly smoked', 'never smoked', 'smokes', 'never smoked', 'formerly smoked', 'never smoked', 'never smoked', 'never smoked', 'never smoked', 'smokes', 'formerly smoked', 'smokes', 'never smoked', 'never smoked', 'smokes', 'smokes', 'never smoked', 'never smoked', 'never smoked', 'smokes', 'never smoked', 'formerly smoked', 'formerly smoked', 'never smoked', 'never smoked', 'smokes', 'formerly smoked', 'never smoked', 'smokes', 'never smoked', 'never smoked', 'smokes', 'never smoked', 'never smoked', 'formerly smoked', 'never smoked', 'never smoked', 'smokes', 'smokes', 'smokes', 'never smoked', 'smokes', 'never smoked', 'never smoked', 'smokes', 'never smoked', 'formerly smoked', 'never smoked', 'smokes', 'never smoked', 'smokes', 'smokes', 'smokes', 'never smoked', 'never smoked', 'smokes', 'smokes', 'smokes', 'never smoked', 'never smoked', 'never smoked', 'never smoked', 'never smoked', 'never smoked', 'smokes', 'never smoked', 'never smoked', 'never smoked', 'never smoked', 'never smoked', 'formerly smoked', 'formerly smoked', 'formerly smoked', 'formerly smoked', 'never smoked', 'never smoked', 'never smoked', 'smokes', 'formerly smoked', 'never smoked', 'smokes', 'never smoked', 'never smoked', 'never smoked', 'never smoked', 'never smoked', 'never smoked', 'never smoked', 'never smoked', 'never smoked', 'never smoked', 'smokes', 'never smoked', 'never smoked', 'smokes', 'never smoked', 'formerly smoked', 'formerly smoked', 'never smoked', 'never smoked', 'never smoked', 'never smoked', 'smokes', 'formerly smoked', 'never smoked', 'smokes', 'never smoked', 'never smoked', 'never smoked', 'never smoked', 'formerly smoked', 'never smoked', 'smokes', 'never smoked', 'never smoked', 'never smoked', 'never smoked', 'formerly smoked', 'formerly smoked', 'never smoked', 'never smoked', 'never smoked', 'formerly smoked', 'never smoked', 'never smoked', 'never smoked', 'smokes', 'smokes', 'never smoked', 'never smoked', 'never smoked', 'formerly smoked', 'never smoked', 'smokes', 'formerly smoked', 'smokes', 'never smoked', 'smokes', 'never smoked', 'never smoked', 'formerly smoked', 'smokes', 'formerly smoked', 'smokes', 'smokes', 'formerly smoked', 'smokes', 'smokes', 'smokes', 'smokes', 'smokes', 'never smoked', 'never smoked', 'never smoked', 'never smoked', 'smokes', 'never smoked', 'formerly smoked', 'smokes', 'formerly smoked', 'never smoked', 'smokes', 'smokes', 'smokes', 'smokes', 'smokes', 'smokes', 'smokes', 'never smoked', 'formerly smoked', 'never smoked', 'never smoked', 'never smoked', 'never smoked', 'smokes', 'never smoked', 'smokes', 'smokes', 'smokes', 'never smoked', 'never smoked', 'formerly smoked', 'smokes', 'never smoked', 'smokes', 'never smoked', 'never smoked', 'smokes', 'never smoked', 'smokes', 'smokes', 'never smoked', 'never smoked', 'never smoked', 'never smoked', 'never smoked', 'smokes', 'never smoked', 'formerly smoked', 'never smoked', 'never smoked', 'formerly smoked', 'never smoked', 'smokes', 'smokes', 'smokes', 'smokes', 'smokes', 'formerly smoked', 'never smoked', 'never smoked', 'formerly smoked', 'never smoked', 'formerly smoked', 'never smoked', 'formerly smoked', 'never smoked', 'never smoked', 'never smoked', 'never smoked', 'never smoked', 'never smoked', 'formerly smoked', 'smokes', 'never smoked', 'smokes', 'never smoked', 'never smoked', 'never smoked', 'never smoked', 'never smoked', 'never smoked', 'never smoked', 'smokes', 'never smoked', 'never smoked', 'smokes', 'never smoked', 'smokes', 'smokes', 'formerly smoked', 'never smoked', 'smokes', 'smokes', 'smokes', 'smokes', 'never smoked', 'never smoked', 'smokes', 'never smoked', 'formerly smoked', 'never smoked', 'smokes', 'smokes', 'formerly smoked', 'smokes', 'never smoked', 'never smoked', 'smokes', 'smokes', 'never smoked', 'never smoked', 'formerly smoked', 'smokes', 'smokes', 'formerly smoked', 'smokes', 'formerly smoked', 'never smoked', 'never smoked', 'never smoked', 'smokes', 'formerly smoked', 'never smoked', 'formerly smoked', 'smokes', 'formerly smoked', 'smokes', 'never smoked', 'formerly smoked', 'never smoked', 'formerly smoked', 'never smoked', 'formerly smoked', 'never smoked', 'never smoked', 'never smoked', 'never smoked', 'smokes', 'smokes', 'smokes', 'smokes', 'smokes', 'formerly smoked', 'never smoked', 'smokes', 'never smoked', 'smokes', 'formerly smoked', 'never smoked', 'never smoked', 'never smoked', 'never smoked', 'never smoked', 'smokes', 'never smoked', 'smokes', 'smokes', 'smokes', 'formerly smoked', 'never smoked', 'formerly smoked', 'never smoked', 'smokes', 'formerly smoked', 'never smoked', 'formerly smoked', 'smokes', 'formerly smoked', 'formerly smoked', 'formerly smoked', 'never smoked', 'smokes', 'formerly smoked', 'smokes', 'never smoked', 'never smoked', 'never smoked', 'smokes', 'never smoked', 'smokes', 'never smoked', 'formerly smoked', 'smokes', 'smokes', 'smokes', 'formerly smoked', 'smokes', 'never smoked', 'never smoked', 'never smoked', 'never smoked', 'never smoked', 'formerly smoked', 'smokes', 'never smoked', 'smokes', 'smokes', 'never smoked', 'never smoked', 'smokes', 'never smoked', 'smokes', 'smokes', 'never smoked', 'formerly smoked', 'formerly smoked', 'smokes', 'smokes', 'never smoked', 'formerly smoked', 'never smoked', 'smokes', 'never smoked', 'formerly smoked', 'never smoked', 'never smoked', 'smokes', 'smokes', 'formerly smoked', 'smokes', 'formerly smoked', 'formerly smoked', 'smokes', 'never smoked', 'formerly smoked', 'never smoked', 'never smoked', 'never smoked', 'never smoked', 'never smoked', 'never smoked', 'never smoked', 'smokes', 'smokes', 'never smoked', 'smokes', 'formerly smoked', 'formerly smoked', 'smokes', 'formerly smoked', 'never smoked', 'smokes', 'smokes', 'smokes', 'never smoked', 'formerly smoked', 'never smoked', 'formerly smoked', 'smokes', 'never smoked', 'smokes', 'never smoked', 'smokes', 'never smoked', 'smokes', 'never smoked', 'smokes', 'never smoked', 'smokes', 'smokes', 'formerly smoked', 'never smoked', 'smokes', 'never smoked', 'never smoked', 'smokes', 'never smoked', 'never smoked', 'never smoked', 'never smoked', 'smokes', 'formerly smoked', 'formerly smoked', 'never smoked', 'smokes', 'never smoked', 'never smoked', 'never smoked', 'formerly smoked', 'formerly smoked', 'never smoked', 'formerly smoked', 'smokes', 'never smoked', 'never smoked', 'smokes', 'smokes', 'never smoked', 'formerly smoked', 'never smoked', 'never smoked', 'smokes', 'never smoked', 'smokes', 'never smoked', 'never smoked', 'smokes', 'smokes', 'smokes', 'never smoked', 'smokes', 'smokes', 'smokes', 'formerly smoked', 'smokes', 'formerly smoked', 'never smoked', 'never smoked', 'smokes', 'never smoked', 'never smoked', 'never smoked', 'never smoked', 'never smoked', 'formerly smoked', 'smokes', 'never smoked', 'never smoked', 'smokes', 'formerly smoked', 'smokes', 'never smoked', 'smokes', 'smokes', 'smokes', 'smokes', 'never smoked', 'never smoked', 'smokes', 'formerly smoked', 'smokes', 'smokes', 'never smoked', 'never smoked', 'smokes', 'never smoked', 'never smoked', 'never smoked', 'smokes', 'smokes', 'never smoked', 'smokes', 'smokes', 'never smoked', 'never smoked', 'smokes', 'formerly smoked', 'never smoked', 'smokes', 'never smoked', 'smokes', 'never smoked', 'formerly smoked', 'smokes', 'smokes', 'smokes', 'smokes', 'smokes', 'smokes', 'never smoked', 'smokes', 'formerly smoked', 'never smoked', 'never smoked', 'formerly smoked', 'never smoked', 'never smoked', 'smokes', 'smokes', 'formerly smoked', 'smokes', 'smokes', 'never smoked', 'formerly smoked', 'never smoked', 'formerly smoked', 'never smoked', 'formerly smoked', 'never smoked', 'never smoked', 'smokes', 'never smoked', 'smokes', 'never smoked', 'never smoked', 'never smoked', 'never smoked', 'never smoked', 'never smoked', 'smokes', 'smokes', 'never smoked', 'formerly smoked', 'formerly smoked', 'never smoked', 'smokes', 'never smoked', 'formerly smoked', 'never smoked', 'never smoked', 'never smoked', 'never smoked', 'smokes', 'never smoked', 'smokes', 'never smoked', 'formerly smoked', 'smokes', 'never smoked', 'smokes', 'never smoked', 'formerly smoked', 'never smoked', 'never smoked', 'never smoked', 'never smoked', 'never smoked', 'smokes', 'never smoked', 'smokes', 'never smoked', 'smokes', 'never smoked', 'never smoked', 'never smoked', 'smokes', 'never smoked', 'never smoked', 'never smoked', 'formerly smoked', 'never smoked', 'never smoked', 'smokes', 'never smoked', 'never smoked', 'never smoked', 'never smoked', 'smokes', 'formerly smoked', 'never smoked', 'formerly smoked', 'never smoked', 'never smoked', 'never smoked', 'never smoked', 'never smoked', 'never smoked', 'never smoked', 'formerly smoked', 'never smoked', 'smokes', 'never smoked', 'smokes', 'formerly smoked', 'smokes', 'formerly smoked', 'formerly smoked', 'smokes', 'never smoked', 'never smoked', 'smokes', 'never smoked', 'never smoked', 'never smoked', 'formerly smoked', 'never smoked', 'never smoked', 'smokes', 'never smoked', 'never smoked', 'smokes', 'smokes', 'never smoked', 'never smoked', 'smokes', 'smokes', 'never smoked', 'formerly smoked', 'smokes', 'smokes', 'never smoked', 'never smoked', 'smokes', 'smokes', 'formerly smoked', 'never smoked', 'never smoked', 'formerly smoked', 'never smoked', 'smokes', 'never smoked', 'never smoked', 'smokes', 'smokes', 'never smoked', 'never smoked', 'smokes', 'formerly smoked', 'never smoked', 'smokes', 'smokes', 'never smoked', 'never smoked', 'formerly smoked', 'smokes', 'never smoked', 'smokes', 'smokes', 'smokes', 'smokes', 'smokes', 'formerly smoked', 'smokes', 'smokes', 'never smoked', 'smokes', 'never smoked', 'smokes', 'never smoked', 'smokes', 'never smoked', 'smokes', 'never smoked', 'never smoked', 'smokes', 'smokes', 'smokes', 'smokes', 'never smoked', 'never smoked', 'smokes', 'never smoked', 'smokes', 'smokes', 'never smoked', 'never smoked', 'never smoked', 'never smoked', 'smokes', 'never smoked', 'never smoked', 'never smoked', 'never smoked', 'never smoked', 'never smoked', 'formerly smoked', 'never smoked', 'smokes', 'never smoked', 'formerly smoked', 'never smoked', 'never smoked', 'smokes', 'formerly smoked', 'never smoked', 'smokes', 'smokes', 'never smoked', 'formerly smoked', 'never smoked', 'never smoked', 'smokes', 'never smoked', 'never smoked', 'formerly smoked', 'never smoked', 'never smoked', 'formerly smoked', 'smokes', 'smokes', 'never smoked', 'formerly smoked', 'never smoked', 'smokes', 'never smoked', 'never smoked', 'never smoked', 'never smoked', 'never smoked', 'never smoked', 'smokes', 'never smoked', 'smokes', 'smokes', 'formerly smoked', 'smokes', 'never smoked', 'smokes', 'formerly smoked', 'formerly smoked', 'never smoked', 'formerly smoked', 'formerly smoked', 'formerly smoked', 'smokes', 'smokes', 'formerly smoked', 'formerly smoked', 'formerly smoked', 'formerly smoked', 'smokes', 'never smoked', 'never smoked', 'never smoked', 'smokes', 'formerly smoked', 'smokes', 'never smoked', 'smokes', 'smokes', 'smokes', 'never smoked', 'never smoked', 'smokes', 'never smoked', 'formerly smoked', 'never smoked', 'never smoked', 'formerly smoked', 'never smoked', 'smokes', 'smokes', 'smokes', 'smokes', 'formerly smoked', 'formerly smoked', 'formerly smoked', 'never smoked', 'never smoked', 'smokes', 'smokes', 'never smoked', 'never smoked', 'never smoked', 'never smoked', 'never smoked', 'smokes', 'smokes', 'never smoked', 'smokes', 'never smoked', 'formerly smoked', 'never smoked', 'never smoked', 'formerly smoked', 'never smoked', 'smokes', 'never smoked', 'smokes', 'never smoked', 'smokes', 'never smoked', 'smokes', 'formerly smoked', 'formerly smoked', 'never smoked', 'smokes', 'never smoked', 'formerly smoked', 'smokes', 'formerly smoked', 'never smoked', 'formerly smoked', 'never smoked', 'formerly smoked', 'never smoked', 'never smoked', 'smokes', 'smokes', 'never smoked', 'smokes', 'formerly smoked', 'never smoked', 'never smoked', 'never smoked', 'never smoked', 'smokes', 'never smoked', 'never smoked', 'never smoked', 'never smoked', 'never smoked', 'formerly smoked', 'never smoked', 'smokes', 'never smoked', 'smokes', 'never smoked', 'never smoked', 'never smoked', 'never smoked', 'smokes', 'smokes', 'smokes', 'formerly smoked', 'never smoked', 'formerly smoked', 'formerly smoked', 'smokes', 'never smoked', 'formerly smoked', 'smokes', 'never smoked', 'never smoked', 'smokes', 'never smoked', 'never smoked', 'never smoked', 'never smoked', 'smokes', 'formerly smoked', 'formerly smoked', 'formerly smoked', 'never smoked', 'never smoked', 'smokes', 'never smoked', 'smokes', 'never smoked', 'smokes', 'never smoked', 'never smoked', 'never smoked', 'never smoked', 'smokes', 'never smoked', 'never smoked', 'never smoked', 'never smoked', 'smokes', 'never smoked', 'never smoked', 'never smoked', 'never smoked', 'never smoked', 'never smoked', 'never smoked', 'never smoked', 'never smoked', 'never smoked', 'never smoked', 'formerly smoked', 'smokes', 'never smoked', 'never smoked', 'never smoked', 'smokes', 'formerly smoked', 'never smoked', 'smokes', 'formerly smoked', 'formerly smoked', 'smokes', 'never smoked', 'never smoked', 'smokes', 'never smoked', 'never smoked', 'smokes', 'never smoked', 'never smoked', 'never smoked', 'never smoked', 'formerly smoked', 'formerly smoked', 'smokes', 'formerly smoked', 'never smoked', 'never smoked', 'never smoked', 'never smoked', 'smokes', 'smokes', 'never smoked', 'smokes', 'never smoked', 'never smoked', 'never smoked', 'never smoked', 'smokes', 'smokes', 'never smoked', 'formerly smoked', 'smokes', 'never smoked', 'smokes', 'never smoked', 'smokes', 'formerly smoked', 'smokes', 'never smoked', 'never smoked', 'smokes', 'smokes', 'never smoked', 'formerly smoked', 'never smoked', 'never smoked', 'never smoked', 'never smoked', 'smokes', 'smokes', 'smokes', 'smokes', 'formerly smoked', 'never smoked', 'smokes', 'smokes', 'smokes', 'smokes', 'smokes', 'smokes', 'never smoked', 'formerly smoked', 'never smoked', 'never smoked', 'smokes', 'formerly smoked', 'smokes', 'never smoked', 'smokes', 'formerly smoked', 'never smoked', 'never smoked', 'smokes', 'never smoked', 'never smoked', 'never smoked', 'smokes', 'never smoked', 'never smoked', 'formerly smoked', 'never smoked', 'never smoked', 'never smoked', 'never smoked', 'never smoked', 'formerly smoked', 'formerly smoked', 'never smoked', 'never smoked', 'smokes', 'smokes', 'smokes', 'never smoked', 'smokes', 'formerly smoked', 'smokes', 'smokes', 'smokes', 'never smoked', 'smokes', 'smokes', 'formerly smoked', 'smokes', 'formerly smoked', 'never smoked', 'smokes', 'smokes', 'never smoked', 'smokes', 'never smoked', 'formerly smoked', 'smokes', 'smokes', 'never smoked', 'never smoked', 'never smoked', 'never smoked', 'smokes', 'smokes', 'never smoked', 'formerly smoked', 'never smoked', 'never smoked', 'never smoked', 'smokes', 'never smoked', 'never smoked', 'smokes', 'never smoked', 'formerly smoked', 'smokes', 'never smoked', 'never smoked', 'never smoked', 'smokes', 'smokes', 'smokes', 'never smoked', 'smokes', 'never smoked', 'smokes', 'never smoked', 'never smoked', 'smokes', 'never smoked', 'never smoked', 'never smoked', 'smokes', 'smokes', 'smokes', 'smokes', 'never smoked', 'smokes', 'smokes', 'formerly smoked', 'smokes', 'never smoked', 'never smoked', 'never smoked', 'never smoked', 'never smoked', 'never smoked', 'never smoked', 'never smoked', 'formerly smoked', 'smokes', 'never smoked', 'smokes', 'never smoked', 'never smoked', 'never smoked', 'never smoked', 'smokes', 'smokes', 'never smoked', 'smokes', 'smokes', 'never smoked', 'never smoked', 'never smoked', 'never smoked', 'never smoked', 'smokes', 'never smoked', 'formerly smoked', 'never smoked', 'never smoked', 'formerly smoked', 'smokes', 'never smoked', 'smokes', 'never smoked', 'never smoked', 'never smoked', 'smokes', 'never smoked', 'never smoked', 'never smoked', 'formerly smoked', 'smokes', 'smokes', 'formerly smoked', 'smokes', 'smokes', 'never smoked', 'never smoked', 'never smoked', 'formerly smoked', 'never smoked', 'never smoked', 'never smoked', 'smokes', 'never smoked', 'never smoked', 'never smoked', 'never smoked', 'never smoked', 'smokes', 'never smoked', 'formerly smoked', 'never smoked', 'smokes', 'never smoked', 'smokes', 'never smoked', 'never smoked', 'smokes', 'formerly smoked', 'smokes', 'smokes', 'never smoked', 'never smoked', 'never smoked', 'smokes', 'never smoked', 'never smoked', 'never smoked', 'never smoked', 'smokes', 'never smoked', 'formerly smoked', 'smokes', 'smokes', 'never smoked', 'formerly smoked', 'formerly smoked', 'smokes', 'smokes', 'never smoked', 'never smoked', 'never smoked', 'smokes', 'formerly smoked', 'formerly smoked', 'formerly smoked', 'smokes', 'smokes', 'smokes', 'smokes', 'smokes', 'formerly smoked', 'formerly smoked', 'never smoked', 'smokes', 'never smoked', 'never smoked', 'smokes', 'formerly smoked', 'never smoked', 'smokes', 'smokes', 'formerly smoked', 'never smoked', 'never smoked', 'never smoked', 'never smoked', 'never smoked', 'never smoked', 'smokes', 'smokes', 'never smoked', 'never smoked', 'smokes', 'formerly smoked', 'formerly smoked', 'never smoked', 'formerly smoked', 'never smoked', 'never smoked', 'smokes', 'smokes', 'never smoked', 'smokes', 'never smoked', 'never smoked', 'never smoked', 'smokes', 'never smoked', 'never smoked', 'formerly smoked', 'never smoked', 'formerly smoked', 'never smoked', 'smokes', 'never smoked', 'never smoked', 'formerly smoked', 'never smoked', 'smokes', 'never smoked', 'never smoked', 'never smoked', 'smokes', 'never smoked', 'never smoked', 'never smoked', 'never smoked', 'never smoked', 'smokes', 'never smoked', 'smokes', 'never smoked', 'never smoked', 'never smoked', 'never smoked', 'smokes', 'never smoked', 'never smoked', 'smokes', 'never smoked', 'smokes', 'never smoked', 'never smoked', 'never smoked', 'formerly smoked', 'formerly smoked', 'formerly smoked', 'formerly smoked', 'formerly smoked', 'never smoked', 'smokes', 'formerly smoked', 'never smoked', 'never smoked', 'smokes', 'smokes', 'never smoked', 'never smoked', 'formerly smoked', 'smokes', 'smokes', 'never smoked', 'smokes', 'never smoked', 'never smoked', 'smokes', 'formerly smoked', 'smokes', 'formerly smoked', 'smokes', 'smokes', 'never smoked', 'smokes', 'formerly smoked', 'never smoked', 'never smoked', 'formerly smoked', 'never smoked', 'smokes', 'formerly smoked', 'never smoked', 'formerly smoked', 'smokes', 'smokes', 'smokes', 'never smoked', 'never smoked', 'smokes', 'smokes', 'never smoked', 'smokes', 'smokes', 'smokes', 'never smoked', 'smokes', 'never smoked', 'never smoked', 'never smoked', 'smokes', 'smokes', 'formerly smoked', 'never smoked', 'smokes', 'never smoked', 'never smoked', 'smokes', 'never smoked', 'never smoked', 'never smoked', 'smokes', 'formerly smoked', 'never smoked', 'formerly smoked', 'never smoked', 'formerly smoked', 'smokes', 'formerly smoked', 'formerly smoked', 'never smoked', 'formerly smoked', 'never smoked', 'smokes', 'formerly smoked', 'never smoked', 'never smoked', 'never smoked', 'formerly smoked', 'smokes', 'smokes', 'smokes', 'smokes', 'never smoked', 'smokes', 'smokes', 'never smoked', 'smokes', 'never smoked', 'never smoked', 'smokes', 'never smoked', 'smokes', 'never smoked', 'smokes', 'formerly smoked', 'formerly smoked', 'never smoked', 'never smoked', 'never smoked', 'smokes', 'smokes', 'formerly smoked', 'never smoked', 'never smoked', 'smokes', 'never smoked', 'formerly smoked', 'formerly smoked', 'never smoked', 'never smoked', 'never smoked', 'never smoked', 'never smoked', 'never smoked', 'formerly smoked', 'formerly smoked', 'never smoked', 'formerly smoked', 'smokes', 'smokes', 'never smoked', 'formerly smoked', 'formerly smoked', 'smokes', 'never smoked', 'smokes', 'never smoked', 'never smoked', 'never smoked', 'smokes', 'formerly smoked', 'never smoked', 'never smoked', 'smokes', 'never smoked', 'never smoked', 'never smoked', 'formerly smoked', 'never smoked', 'never smoked', 'never smoked', 'never smoked', 'never smoked', 'smokes', 'never smoked', 'formerly smoked', 'formerly smoked', 'smokes', 'never smoked', 'smokes', 'never smoked', 'never smoked', 'smokes', 'smokes', 'never smoked', 'never smoked', 'formerly smoked', 'never smoked', 'smokes', 'never smoked', 'never smoked', 'never smoked', 'formerly smoked', 'smokes', 'formerly smoked', 'never smoked', 'formerly smoked', 'formerly smoked', 'formerly smoked', 'smokes', 'formerly smoked', 'never smoked', 'formerly smoked', 'never smoked', 'never smoked', 'smokes', 'never smoked', 'never smoked', 'never smoked', 'smokes', 'smokes', 'formerly smoked', 'smokes', 'never smoked', 'smokes', 'never smoked', 'smokes', 'never smoked', 'smokes', 'never smoked', 'never smoked', 'formerly smoked', 'smokes', 'smokes', 'never smoked', 'never smoked', 'never smoked', 'never smoked', 'never smoked', 'smokes', 'never smoked', 'smokes', 'never smoked', 'never smoked', 'smokes', 'never smoked', 'smokes', 'never smoked', 'never smoked', 'formerly smoked', 'never smoked', 'formerly smoked', 'never smoked', 'smokes', 'never smoked', 'never smoked', 'smokes', 'smokes', 'smokes', 'never smoked', 'smokes', 'smokes', 'never smoked', 'formerly smoked', 'smokes', 'formerly smoked', 'smokes', 'smokes', 'smokes', 'smokes', 'never smoked', 'smokes', 'never smoked', 'never smoked', 'never smoked', 'smokes', 'never smoked', 'smokes', 'never smoked', 'smokes', 'never smoked', 'never smoked', 'formerly smoked', 'formerly smoked', 'never smoked', 'never smoked', 'smokes', 'smokes', 'never smoked', 'never smoked', 'smokes', 'never smoked', 'smokes', 'never smoked', 'never smoked', 'smokes', 'never smoked', 'never smoked', 'formerly smoked', 'never smoked', 'never smoked', 'never smoked', 'smokes', 'formerly smoked', 'smokes', 'never smoked', 'never smoked', 'smokes', 'smokes', 'smokes', 'never smoked', 'formerly smoked', 'smokes', 'never smoked', 'smokes', 'never smoked', 'smokes', 'smokes', 'formerly smoked', 'formerly smoked', 'formerly smoked', 'never smoked', 'never smoked', 'smokes', 'never smoked', 'smokes', 'formerly smoked', 'never smoked', 'never smoked', 'never smoked', 'never smoked', 'smokes', 'never smoked', 'never smoked', 'never smoked', 'never smoked', 'formerly smoked', 'never smoked', 'smokes', 'never smoked', 'smokes', 'formerly smoked', 'never smoked', 'never smoked', 'never smoked', 'smokes', 'never smoked', 'never smoked', 'never smoked', 'smokes', 'formerly smoked', 'never smoked', 'never smoked', 'smokes', 'smokes', 'never smoked', 'never smoked', 'smokes', 'never smoked', 'never smoked', 'smokes', 'never smoked', 'never smoked', 'never smoked', 'never smoked', 'formerly smoked', 'never smoked', 'smokes', 'never smoked', 'formerly smoked', 'never smoked', 'never smoked', 'never smoked', 'formerly smoked', 'formerly smoked', 'formerly smoked', 'smokes', 'never smoked', 'never smoked', 'never smoked', 'never smoked', 'never smoked', 'never smoked', 'formerly smoked', 'smokes', 'smokes', 'smokes', 'smokes', 'smokes', 'never smoked', 'never smoked', 'never smoked', 'never smoked', 'never smoked', 'smokes', 'formerly smoked', 'smokes', 'formerly smoked', 'smokes', 'smokes', 'smokes', 'never smoked', 'smokes', 'never smoked', 'smokes', 'smokes', 'formerly smoked', 'never smoked', 'smokes', 'formerly smoked', 'never smoked', 'smokes', 'smokes', 'smokes', 'formerly smoked', 'smokes', 'smokes', 'never smoked', 'formerly smoked', 'never smoked', 'never smoked', 'formerly smoked', 'never smoked', 'never smoked', 'never smoked', 'formerly smoked', 'never smoked', 'never smoked', 'formerly smoked', 'never smoked', 'formerly smoked', 'smokes', 'formerly smoked', 'formerly smoked', 'never smoked', 'formerly smoked', 'formerly smoked', 'never smoked', 'never smoked', 'never smoked', 'formerly smoked', 'smokes', 'never smoked', 'never smoked', 'never smoked', 'smokes', 'formerly smoked', 'smokes', 'smokes', 'formerly smoked', 'smokes', 'smokes', 'formerly smoked', 'smokes', 'formerly smoked', 'smokes', 'formerly smoked', 'smokes', 'never smoked', 'smokes', 'never smoked', 'smokes', 'never smoked', 'smokes', 'formerly smoked', 'smokes', 'never smoked', 'formerly smoked', 'smokes', 'smokes', 'smokes', 'smokes', 'never smoked', 'never smoked', 'never smoked', 'formerly smoked', 'never smoked', 'never smoked', 'smokes', 'formerly smoked', 'smokes', 'formerly smoked', 'never smoked', 'smokes', 'formerly smoked', 'never smoked', 'never smoked', 'never smoked', 'never smoked', 'smokes', 'never smoked', 'never smoked', 'never smoked', 'never smoked', 'smokes', 'never smoked', 'formerly smoked', 'never smoked', 'never smoked', 'never smoked', 'smokes', 'never smoked', 'formerly smoked', 'never smoked', 'never smoked', 'never smoked', 'never smoked', 'smokes', 'never smoked', 'never smoked', 'smokes', 'never smoked', 'never smoked', 'formerly smoked', 'never smoked', 'never smoked', 'formerly smoked', 'smokes', 'never smoked', 'never smoked', 'never smoked', 'never smoked', 'never smoked', 'smokes', 'never smoked', 'smokes', 'smokes', 'never smoked', 'smokes', 'never smoked', 'smokes', 'never smoked', 'never smoked', 'formerly smoked', 'smokes', 'smokes', 'never smoked', 'formerly smoked', 'smokes', 'smokes', 'smokes', 'smokes', 'never smoked', 'never smoked', 'smokes', 'never smoked', 'formerly smoked', 'smokes', 'never smoked', 'smokes', 'never smoked', 'formerly smoked', 'never smoked', 'never smoked', 'smokes', 'never smoked', 'smokes', 'smokes', 'never smoked', 'never smoked', 'never smoked', 'formerly smoked', 'formerly smoked', 'never smoked', 'never smoked', 'never smoked', 'never smoked', 'never smoked', 'never smoked', 'never smoked', 'smokes', 'smokes', 'never smoked', 'smokes', 'formerly smoked', 'smokes', 'smokes', 'smokes', 'never smoked', 'smokes', 'never smoked', 'never smoked', 'never smoked', 'smokes', 'formerly smoked', 'smokes', 'never smoked', 'formerly smoked', 'smokes', 'formerly smoked', 'formerly smoked', 'never smoked', 'never smoked', 'formerly smoked', 'formerly smoked', 'never smoked', 'smokes', 'smokes', 'smokes', 'smokes', 'smokes', 'formerly smoked', 'formerly smoked', 'smokes', 'smokes', 'never smoked', 'smokes', 'never smoked', 'smokes', 'smokes', 'never smoked', 'smokes', 'smokes', 'smokes', 'smokes', 'never smoked', 'smokes', 'never smoked', 'smokes', 'formerly smoked', 'smokes', 'formerly smoked', 'smokes', 'never smoked', 'never smoked', 'never smoked', 'never smoked', 'never smoked', 'formerly smoked', 'smokes', 'formerly smoked', 'never smoked', 'smokes', 'never smoked', 'never smoked', 'never smoked', 'formerly smoked', 'smokes', 'formerly smoked', 'never smoked', 'smokes', 'formerly smoked', 'formerly smoked', 'never smoked', 'formerly smoked', 'smokes', 'never smoked', 'formerly smoked', 'smokes', 'formerly smoked', 'smokes', 'never smoked', 'smokes', 'never smoked', 'never smoked', 'never smoked', 'formerly smoked', 'smokes', 'formerly smoked', 'never smoked', 'smokes', 'never smoked', 'formerly smoked', 'formerly smoked', 'never smoked', 'never smoked', 'smokes', 'formerly smoked', 'never smoked', 'formerly smoked', 'never smoked', 'formerly smoked', 'never smoked', 'never smoked', 'never smoked', 'never smoked', 'formerly smoked', 'smokes', 'formerly smoked', 'smokes', 'formerly smoked', 'formerly smoked', 'formerly smoked', 'smokes', 'smokes', 'never smoked', 'never smoked', 'smokes', 'smokes', 'smokes', 'formerly smoked', 'never smoked', 'formerly smoked', 'never smoked', 'never smoked', 'smokes', 'never smoked', 'smokes', 'formerly smoked', 'formerly smoked', 'never smoked', 'smokes', 'never smoked', 'never smoked', 'never smoked', 'smokes', 'formerly smoked', 'formerly smoked', 'smokes', 'formerly smoked', 'never smoked', 'smokes', 'never smoked', 'never smoked', 'smokes', 'smokes', 'never smoked', 'never smoked', 'never smoked', 'never smoked', 'smokes', 'never smoked', 'formerly smoked', 'formerly smoked', 'never smoked', 'never smoked', 'never smoked', 'never smoked', 'smokes', 'smokes', 'never smoked', 'never smoked', 'never smoked', 'never smoked', 'never smoked', 'never smoked', 'never smoked', 'smokes', 'smokes', 'never smoked', 'smokes', 'smokes', 'smokes', 'formerly smoked', 'never smoked', 'smokes', 'never smoked', 'smokes', 'never smoked', 'never smoked', 'never smoked', 'formerly smoked', 'never smoked', 'never smoked', 'never smoked', 'never smoked', 'never smoked', 'formerly smoked', 'never smoked', 'never smoked', 'formerly smoked', 'formerly smoked', 'never smoked', 'smokes', 'smokes', 'never smoked', 'never smoked', 'smokes', 'never smoked', 'never smoked', 'smokes', 'never smoked', 'smokes', 'never smoked', 'smokes', 'never smoked', 'smokes', 'smokes', 'never smoked', 'smokes', 'formerly smoked', 'never smoked', 'never smoked', 'never smoked', 'smokes', 'never smoked', 'smokes', 'formerly smoked', 'smokes', 'never smoked', 'never smoked', 'formerly smoked', 'never smoked', 'smokes', 'never smoked', 'formerly smoked', 'smokes', 'smokes', 'smokes', 'formerly smoked', 'smokes', 'never smoked', 'smokes', 'smokes', 'formerly smoked', 'never smoked', 'never smoked', 'formerly smoked', 'smokes', 'never smoked', 'never smoked', 'never smoked', 'never smoked', 'never smoked', 'formerly smoked', 'never smoked', 'smokes', 'smokes', 'never smoked', 'smokes', 'never smoked', 'smokes', 'never smoked', 'formerly smoked', 'never smoked', 'never smoked', 'never smoked', 'never smoked', 'never smoked', 'never smoked', 'never smoked', 'smokes', 'never smoked', 'never smoked', 'smokes', 'never smoked', 'never smoked', 'never smoked', 'never smoked', 'smokes', 'formerly smoked', 'smokes', 'never smoked', 'never smoked', 'smokes', 'never smoked', 'never smoked', 'never smoked', 'never smoked', 'never smoked', 'never smoked', 'formerly smoked', 'never smoked', 'smokes', 'formerly smoked', 'never smoked', 'never smoked', 'smokes', 'never smoked', 'formerly smoked', 'formerly smoked', 'never smoked', 'smokes', 'never smoked', 'never smoked', 'smokes', 'smokes', 'smokes', 'never smoked', 'never smoked', 'never smoked', 'smokes', 'never smoked', 'never smoked', 'smokes', 'never smoked', 'smokes', 'smokes', 'never smoked', 'formerly smoked', 'never smoked', 'never smoked', 'never smoked', 'never smoked', 'never smoked', 'formerly smoked', 'never smoked', 'never smoked', 'never smoked', 'smokes', 'never smoked', 'never smoked', 'never smoked', 'smokes', 'never smoked', 'never smoked', 'never smoked', 'formerly smoked', 'never smoked', 'never smoked', 'never smoked', 'never smoked', 'smokes', 'never smoked', 'formerly smoked', 'smokes', 'formerly smoked', 'never smoked', 'never smoked', 'formerly smoked', 'smokes', 'smokes', 'never smoked', 'never smoked', 'formerly smoked', 'formerly smoked', 'formerly smoked', 'smokes', 'never smoked', 'never smoked', 'never smoked', 'never smoked', 'smokes', 'never smoked', 'never smoked', 'formerly smoked', 'smokes', 'smokes', 'never smoked', 'smokes', 'formerly smoked', 'smokes', 'smokes', 'never smoked', 'never smoked', 'formerly smoked', 'never smoked', 'smokes', 'formerly smoked', 'formerly smoked', 'never smoked', 'never smoked', 'formerly smoked', 'never smoked', 'never smoked', 'never smoked', 'smokes', 'smokes', 'smokes', 'smokes', 'formerly smoked', 'smokes', 'smokes', 'smokes', 'formerly smoked', 'never smoked', 'never smoked', 'formerly smoked', 'never smoked', 'never smoked', 'smokes', 'smokes', 'never smoked', 'never smoked', 'never smoked', 'smokes', 'never smoked', 'never smoked', 'never smoked', 'never smoked', 'smokes', 'never smoked', 'never smoked', 'smokes', 'never smoked', 'smokes', 'never smoked', 'never smoked', 'never smoked', 'never smoked', 'never smoked', 'never smoked', 'never smoked', 'never smoked', 'smokes', 'never smoked', 'never smoked', 'smokes', 'formerly smoked', 'never smoked', 'never smoked', 'never smoked', 'formerly smoked', 'never smoked', 'never smoked', 'never smoked', 'smokes', 'smokes', 'smokes', 'smokes', 'never smoked', 'never smoked', 'never smoked', 'smokes', 'never smoked', 'never smoked', 'never smoked', 'never smoked', 'never smoked', 'formerly smoked', 'smokes', 'formerly smoked', 'never smoked', 'never smoked', 'never smoked', 'never smoked', 'smokes', 'smokes', 'formerly smoked', 'never smoked', 'never smoked', 'never smoked', 'formerly smoked', 'never smoked', 'never smoked', 'formerly smoked', 'never smoked', 'never smoked', 'formerly smoked', 'never smoked', 'smokes', 'never smoked', 'never smoked', 'never smoked', 'formerly smoked', 'formerly smoked', 'smokes', 'never smoked', 'smokes', 'smokes', 'never smoked', 'smokes', 'formerly smoked', 'never smoked', 'never smoked', 'never smoked', 'smokes', 'never smoked', 'formerly smoked', 'smokes', 'smokes', 'never smoked', 'never smoked', 'never smoked', 'never smoked', 'never smoked', 'never smoked', 'smokes', 'never smoked', 'never smoked', 'formerly smoked', 'never smoked', 'smokes', 'never smoked', 'smokes', 'never smoked', 'never smoked', 'smokes', 'smokes', 'formerly smoked', 'never smoked', 'never smoked', 'formerly smoked', 'smokes', 'never smoked', 'smokes', 'never smoked', 'formerly smoked', 'formerly smoked', 'formerly smoked', 'smokes', 'never smoked', 'never smoked', 'never smoked', 'never smoked', 'never smoked', 'never smoked', 'never smoked', 'never smoked', 'smokes', 'never smoked', 'never smoked', 'never smoked', 'formerly smoked', 'never smoked', 'never smoked', 'never smoked', 'never smoked', 'never smoked', 'smokes', 'never smoked', 'never smoked', 'never smoked', 'never smoked', 'never smoked', 'never smoked', 'never smoked', 'never smoked', 'never smoked', 'formerly smoked', 'formerly smoked', 'never smoked', 'formerly smoked', 'never smoked', 'smokes', 'formerly smoked', 'never smoked', 'never smoked', 'smokes', 'never smoked', 'never smoked', 'smokes', 'never smoked', 'formerly smoked', 'formerly smoked', 'never smoked', 'smokes', 'never smoked', 'smokes', 'smokes', 'never smoked', 'never smoked', 'formerly smoked', 'smokes', 'never smoked', 'never smoked', 'smokes', 'smokes', 'never smoked', 'smokes', 'never smoked', 'never smoked', 'formerly smoked', 'formerly smoked', 'never smoked', 'formerly smoked', 'never smoked', 'never smoked', 'never smoked', 'never smoked', 'never smoked', 'smokes', 'formerly smoked', 'never smoked', 'never smoked', 'never smoked', 'never smoked', 'smokes', 'formerly smoked', 'smokes', 'never smoked', 'never smoked', 'smokes', 'never smoked', 'smokes', 'smokes', 'never smoked', 'smokes', 'smokes', 'never smoked', 'never smoked', 'smokes', 'smokes', 'formerly smoked', 'never smoked', 'never smoked', 'smokes', 'formerly smoked', 'smokes', 'never smoked', 'never smoked', 'never smoked', 'never smoked', 'formerly smoked', 'never smoked', 'smokes', 'never smoked', 'smokes', 'never smoked', 'smokes', 'never smoked', 'never smoked', 'never smoked', 'never smoked', 'never smoked', 'never smoked', 'smokes', 'never smoked', 'never smoked', 'smokes', 'smokes', 'smokes', 'smokes', 'smokes', 'smokes', 'smokes', 'formerly smoked', 'formerly smoked', 'never smoked', 'never smoked', 'smokes', 'never smoked', 'never smoked', 'smokes', 'never smoked', 'smokes', 'never smoked', 'never smoked', 'formerly smoked', 'never smoked', 'never smoked', 'never smoked', 'never smoked', 'never smoked', 'never smoked', 'smokes', 'never smoked', 'smokes', 'never smoked', 'never smoked', 'never smoked', 'formerly smoked', 'smokes', 'never smoked', 'never smoked', 'never smoked', 'never smoked', 'never smoked', 'never smoked', 'smokes', 'smokes', 'never smoked', 'never smoked', 'formerly smoked', 'never smoked', 'smokes', 'never smoked', 'smokes', 'smokes', 'never smoked', 'formerly smoked', 'smokes', 'never smoked', 'smokes', 'never smoked', 'never smoked', 'smokes', 'never smoked', 'formerly smoked', 'never smoked', 'smokes', 'never smoked', 'never smoked', 'never smoked', 'never smoked', 'never smoked', 'never smoked', 'never smoked', 'never smoked', 'never smoked', 'never smoked', 'never smoked', 'never smoked', 'formerly smoked', 'smokes', 'formerly smoked', 'smokes', 'never smoked', 'smokes', 'never smoked', 'never smoked', 'never smoked', 'never smoked', 'never smoked', 'never smoked', 'smokes', 'never smoked', 'never smoked', 'never smoked', 'smokes', 'smokes', 'smokes', 'smokes', 'never smoked', 'never smoked', 'never smoked', 'smokes', 'smokes', 'formerly smoked', 'never smoked', 'smokes', 'never smoked', 'smokes', 'never smoked', 'never smoked', 'never smoked', 'formerly smoked', 'formerly smoked', 'smokes', 'smokes', 'never smoked', 'never smoked', 'smokes', 'smokes', 'smokes', 'smokes', 'smokes', 'formerly smoked', 'never smoked', 'never smoked', 'smokes', 'never smoked', 'smokes', 'never smoked', 'formerly smoked', 'formerly smoked', 'smokes', 'smokes', 'smokes', 'never smoked', 'never smoked', 'smokes', 'never smoked', 'smokes', 'never smoked', 'never smoked', 'never smoked', 'smokes', 'never smoked', 'never smoked', 'formerly smoked', 'smokes', 'smokes', 'never smoked', 'smokes', 'formerly smoked', 'smokes', 'never smoked', 'smokes', 'never smoked', 'formerly smoked', 'smokes', 'never smoked', 'smokes', 'smokes', 'smokes', 'never smoked', 'never smoked', 'never smoked', 'never smoked', 'smokes', 'smokes', 'smokes', 'never smoked', 'never smoked', 'never smoked', 'formerly smoked', 'never smoked', 'formerly smoked', 'never smoked', 'smokes', 'smokes', 'never smoked', 'never smoked', 'never smoked', 'never smoked', 'smokes', 'never smoked', 'smokes', 'smokes', 'smokes', 'never smoked', 'formerly smoked', 'never smoked', 'smokes', 'smokes', 'never smoked', 'formerly smoked', 'formerly smoked', 'formerly smoked', 'never smoked', 'smokes', 'never smoked', 'smokes', 'formerly smoked', 'smokes', 'never smoked', 'never smoked', 'never smoked', 'never smoked', 'smokes', 'smokes', 'smokes', 'never smoked', 'formerly smoked', 'never smoked', 'smokes', 'never smoked', 'never smoked', 'never smoked', 'smokes', 'smokes', 'formerly smoked', 'never smoked', 'never smoked', 'smokes', 'smokes', 'smokes', 'formerly smoked', 'never smoked', 'smokes', 'never smoked', 'smokes', 'formerly smoked', 'smokes', 'formerly smoked', 'never smoked', 'formerly smoked', 'formerly smoked', 'formerly smoked', 'smokes', 'never smoked', 'smokes', 'never smoked', 'formerly smoked', 'never smoked', 'never smoked', 'never smoked', 'smokes', 'smokes', 'never smoked', 'never smoked', 'never smoked', 'never smoked', 'smokes', 'never smoked', 'never smoked', 'never smoked', 'never smoked', 'never smoked', 'formerly smoked', 'formerly smoked', 'smokes', 'never smoked', 'never smoked', 'never smoked', 'never smoked', 'never smoked', 'formerly smoked', 'never smoked', 'never smoked', 'formerly smoked', 'never smoked', 'smokes', 'never smoked', 'never smoked', 'never smoked', 'smokes', 'smokes', 'smokes', 'smokes', 'smokes', 'smokes', 'never smoked', 'never smoked', 'never smoked', 'never smoked', 'never smoked', 'never smoked', 'smokes', 'never smoked', 'never smoked', 'formerly smoked', 'formerly smoked', 'never smoked', 'never smoked', 'never smoked', 'formerly smoked', 'never smoked', 'formerly smoked', 'never smoked', 'never smoked', 'smokes', 'never smoked', 'smokes', 'never smoked', 'smokes', 'formerly smoked', 'smokes', 'smokes', 'never smoked', 'smokes', 'never smoked', 'never smoked', 'smokes', 'smokes', 'formerly smoked', 'formerly smoked', 'formerly smoked', 'never smoked', 'never smoked', 'smokes', 'never smoked', 'formerly smoked', 'formerly smoked', 'formerly smoked', 'never smoked', 'never smoked', 'smokes', 'never smoked', 'never smoked', 'never smoked', 'never smoked', 'smokes', 'smokes', 'never smoked', 'smokes', 'smokes', 'never smoked', 'formerly smoked', 'never smoked', 'formerly smoked', 'formerly smoked', 'formerly smoked', 'smokes', 'never smoked', 'smokes', 'never smoked', 'never smoked', 'never smoked', 'smokes', 'never smoked', 'smokes', 'smokes', 'smokes', 'smokes', 'never smoked', 'never smoked', 'smokes', 'smokes', 'formerly smoked', 'never smoked', 'never smoked', 'never smoked', 'never smoked', 'never smoked', 'never smoked', 'never smoked', 'smokes', 'never smoked', 'formerly smoked', 'smokes', 'never smoked', 'never smoked', 'formerly smoked', 'smokes', 'never smoked', 'smokes', 'never smoked', 'never smoked', 'smokes', 'smokes', 'smokes', 'never smoked', 'never smoked', 'smokes', 'never smoked', 'never smoked', 'smokes', 'formerly smoked', 'smokes', 'never smoked', 'never smoked', 'never smoked', 'formerly smoked', 'formerly smoked', 'never smoked', 'smokes', 'formerly smoked', 'smokes', 'never smoked', 'never smoked', 'never smoked', 'never smoked', 'never smoked', 'never smoked', 'smokes', 'smokes', 'smokes', 'formerly smoked', 'smokes', 'formerly smoked', 'never smoked', 'smokes', 'smokes', 'never smoked', 'formerly smoked', 'never smoked', 'never smoked', 'never smoked', 'smokes', 'never smoked', 'smokes', 'never smoked', 'never smoked', 'smokes', 'smokes', 'never smoked', 'never smoked', 'never smoked', 'never smoked', 'never smoked', 'never smoked', 'never smoked', 'never smoked', 'never smoked', 'never smoked', 'smokes', 'smokes', 'smokes', 'never smoked', 'never smoked', 'smokes', 'formerly smoked', 'formerly smoked', 'smokes', 'formerly smoked', 'smokes', 'never smoked', 'smokes', 'smokes', 'never smoked', 'smokes', 'never smoked', 'never smoked', 'never smoked', 'smokes', 'never smoked', 'smokes', 'never smoked', 'never smoked', 'never smoked', 'never smoked', 'never smoked', 'formerly smoked', 'never smoked', 'never smoked', 'smokes', 'smokes', 'formerly smoked', 'smokes', 'smokes', 'never smoked', 'smokes', 'formerly smoked', 'formerly smoked', 'never smoked', 'never smoked', 'never smoked', 'formerly smoked', 'never smoked', 'smokes', 'never smoked', 'smokes', 'formerly smoked', 'smokes', 'smokes', 'never smoked', 'never smoked', 'never smoked', 'smokes', 'never smoked', 'smokes', 'formerly smoked', 'smokes', 'smokes', 'never smoked', 'never smoked', 'never smoked', 'never smoked', 'smokes', 'never smoked', 'never smoked', 'smokes', 'never smoked', 'smokes', 'never smoked', 'never smoked', 'never smoked', 'never smoked', 'smokes', 'formerly smoked', 'never smoked', 'smokes', 'never smoked', 'smokes', 'formerly smoked', 'never smoked', 'never smoked', 'never smoked', 'never smoked', 'smokes', 'never smoked', 'smokes', 'never smoked', 'never smoked', 'smokes', 'formerly smoked', 'formerly smoked', 'formerly smoked', 'smokes', 'never smoked', 'never smoked', 'smokes', 'formerly smoked', 'never smoked', 'never smoked', 'smokes', 'never smoked', 'never smoked', 'smokes', 'formerly smoked', 'never smoked', 'never smoked', 'never smoked', 'never smoked', 'smokes', 'never smoked', 'never smoked', 'never smoked', 'formerly smoked', 'smokes', 'smokes', 'formerly smoked', 'smokes', 'never smoked', 'never smoked', 'never smoked', 'smokes', 'never smoked', 'formerly smoked', 'smokes', 'formerly smoked', 'smokes', 'never smoked', 'never smoked', 'formerly smoked', 'never smoked', 'never smoked', 'formerly smoked', 'formerly smoked', 'never smoked', 'smokes', 'never smoked', 'never smoked', 'smokes', 'formerly smoked', 'never smoked', 'formerly smoked', 'smokes', 'smokes', 'smokes', 'formerly smoked', 'smokes', 'never smoked', 'smokes', 'never smoked', 'never smoked', 'never smoked', 'never smoked', 'never smoked', 'never smoked', 'never smoked', 'never smoked', 'smokes', 'smokes', 'never smoked', 'smokes', 'formerly smoked', 'never smoked', 'never smoked', 'smokes', 'formerly smoked', 'smokes', 'smokes', 'formerly smoked', 'formerly smoked', 'smokes', 'never smoked', 'never smoked', 'smokes', 'formerly smoked', 'never smoked', 'smokes', 'smokes', 'never smoked', 'smokes', 'smokes', 'never smoked', 'never smoked', 'never smoked', 'never smoked', 'smokes', 'never smoked', 'never smoked', 'never smoked', 'smokes', 'never smoked', 'never smoked', 'smokes', 'never smoked', 'never smoked', 'never smoked', 'formerly smoked', 'smokes', 'smokes', 'smokes', 'never smoked', 'smokes', 'smokes', 'smokes', 'smokes', 'formerly smoked', 'never smoked', 'never smoked', 'smokes', 'smokes', 'never smoked', 'never smoked', 'never smoked', 'smokes', 'never smoked', 'formerly smoked', 'never smoked', 'never smoked', 'never smoked', 'never smoked', 'never smoked', 'smokes', 'smokes', 'never smoked', 'never smoked', 'smokes', 'never smoked', 'never smoked', 'smokes', 'formerly smoked', 'never smoked', 'never smoked', 'never smoked', 'smokes', 'never smoked', 'never smoked', 'smokes', 'smokes', 'formerly smoked', 'never smoked', 'never smoked', 'never smoked', 'never smoked', 'never smoked', 'never smoked', 'never smoked', 'never smoked', 'never smoked', 'smokes', 'formerly smoked', 'formerly smoked', 'never smoked', 'never smoked', 'never smoked', 'never smoked', 'never smoked', 'formerly smoked', 'formerly smoked', 'formerly smoked', 'smokes', 'formerly smoked', 'never smoked', 'never smoked', 'never smoked', 'never smoked', 'formerly smoked', 'never smoked', 'never smoked', 'smokes', 'never smoked', 'never smoked', 'smokes', 'never smoked', 'never smoked', 'never smoked', 'never smoked', 'never smoked', 'smokes', 'formerly smoked', 'never smoked', 'never smoked', 'formerly smoked', 'never smoked', 'never smoked', 'smokes', 'smokes', 'never smoked', 'smokes', 'smokes', 'never smoked', 'never smoked', 'smokes', 'never smoked', 'never smoked', 'formerly smoked', 'formerly smoked', 'smokes', 'smokes', 'smokes', 'smokes', 'never smoked', 'smokes', 'formerly smoked', 'never smoked', 'formerly smoked', 'formerly smoked', 'never smoked', 'never smoked', 'formerly smoked', 'never smoked', 'never smoked', 'never smoked', 'never smoked', 'never smoked', 'never smoked', 'never smoked', 'never smoked', 'never smoked', 'never smoked', 'smokes', 'smokes', 'formerly smoked', 'never smoked', 'never smoked', 'never smoked', 'smokes', 'smokes', 'never smoked', 'never smoked', 'never smoked', 'smokes', 'never smoked', 'never smoked', 'never smoked', 'smokes', 'never smoked', 'formerly smoked', 'never smoked', 'smokes', 'never smoked', 'smokes', 'never smoked', 'never smoked', 'formerly smoked', 'smokes', 'smokes', 'never smoked', 'never smoked', 'never smoked', 'formerly smoked', 'smokes', 'never smoked', 'never smoked', 'never smoked', 'never smoked', 'formerly smoked', 'formerly smoked', 'never smoked', 'never smoked', 'never smoked', 'never smoked', 'never smoked', 'formerly smoked', 'smokes', 'smokes', 'never smoked', 'smokes', 'smokes', 'formerly smoked', 'formerly smoked', 'never smoked', 'never smoked', 'smokes', 'formerly smoked', 'smokes', 'never smoked', 'never smoked', 'never smoked', 'never smoked', 'smokes', 'never smoked', 'never smoked', 'smokes', 'smokes', 'smokes', 'never smoked', 'never smoked', 'smokes', 'never smoked', 'never smoked', 'smokes', 'smokes', 'smokes', 'never smoked', 'never smoked', 'never smoked', 'smokes', 'smokes', 'never smoked', 'formerly smoked', 'never smoked', 'never smoked', 'never smoked', 'smokes', 'never smoked', 'formerly smoked', 'never smoked', 'formerly smoked', 'never smoked', 'never smoked', 'smokes', 'formerly smoked', 'never smoked', 'formerly smoked', 'never smoked', 'formerly smoked', 'formerly smoked', 'never smoked', 'smokes', 'never smoked', 'never smoked', 'never smoked', 'smokes', 'formerly smoked', 'smokes', 'formerly smoked', 'never smoked', 'smokes', 'never smoked', 'never smoked', 'smokes', 'never smoked', 'smokes', 'smokes', 'smokes', 'never smoked', 'never smoked', 'never smoked', 'never smoked', 'smokes', 'never smoked', 'smokes', 'smokes', 'smokes', 'never smoked', 'formerly smoked', 'formerly smoked', 'smokes', 'never smoked', 'smokes', 'never smoked', 'never smoked', 'smokes', 'never smoked', 'smokes', 'formerly smoked', 'never smoked', 'never smoked', 'formerly smoked', 'smokes', 'formerly smoked', 'formerly smoked', 'smokes', 'never smoked', 'smokes', 'never smoked', 'formerly smoked', 'smokes', 'never smoked', 'formerly smoked', 'never smoked', 'smokes', 'never smoked', 'smokes', 'formerly smoked', 'formerly smoked', 'formerly smoked', 'smokes', 'never smoked', 'never smoked', 'never smoked', 'formerly smoked', 'never smoked', 'never smoked', 'smokes', 'formerly smoked', 'never smoked', 'never smoked', 'never smoked', 'formerly smoked', 'never smoked', 'never smoked', 'never smoked', 'never smoked', 'never smoked', 'never smoked', 'smokes', 'smokes', 'never smoked', 'formerly smoked', 'formerly smoked', 'never smoked', 'never smoked', 'never smoked', 'formerly smoked', 'formerly smoked', 'formerly smoked', 'smokes', 'smokes', 'never smoked', 'never smoked', 'smokes', 'never smoked', 'never smoked', 'never smoked', 'formerly smoked', 'never smoked', 'never smoked', 'never smoked', 'never smoked', 'never smoked', 'smokes', 'never smoked', 'smokes', 'never smoked', 'never smoked', 'smokes', 'never smoked', 'smokes', 'formerly smoked', 'never smoked', 'smokes', 'never smoked', 'smokes', 'smokes', 'formerly smoked', 'smokes', 'formerly smoked', 'never smoked', 'never smoked', 'never smoked', 'formerly smoked', 'never smoked', 'never smoked', 'never smoked', 'never smoked', 'formerly smoked', 'smokes', 'formerly smoked', 'formerly smoked', 'never smoked', 'smokes', 'smokes', 'never smoked', 'smokes', 'never smoked', 'formerly smoked', 'smokes', 'smokes', 'never smoked', 'never smoked', 'smokes', 'never smoked', 'smokes', 'never smoked', 'never smoked', 'formerly smoked', 'smokes', 'never smoked', 'never smoked', 'never smoked', 'formerly smoked', 'never smoked', 'never smoked', 'never smoked', 'never smoked', 'formerly smoked', 'never smoked', 'smokes', 'never smoked', 'never smoked', 'formerly smoked', 'never smoked', 'never smoked', 'formerly smoked', 'never smoked', 'smokes', 'never smoked', 'smokes', 'never smoked', 'smokes', 'never smoked', 'smokes', 'never smoked', 'never smoked', 'formerly smoked', 'never smoked', 'formerly smoked', 'smokes', 'smokes', 'never smoked', 'smokes', 'never smoked', 'smokes', 'never smoked', 'never smoked', 'never smoked', 'never smoked', 'never smoked', 'never smoked', 'never smoked', 'never smoked', 'never smoked', 'never smoked', 'never smoked', 'smokes', 'never smoked', 'formerly smoked', 'smokes', 'never smoked', 'smokes', 'never smoked', 'never smoked', 'never smoked', 'formerly smoked', 'formerly smoked', 'formerly smoked', 'never smoked', 'smokes', 'never smoked', 'never smoked', 'never smoked', 'smokes', 'never smoked', 'formerly smoked', 'never smoked', 'smokes', 'formerly smoked', 'smokes', 'never smoked', 'never smoked', 'smokes', 'smokes', 'formerly smoked', 'smokes', 'smokes', 'smokes', 'never smoked', 'smokes', 'never smoked', 'never smoked', 'smokes', 'never smoked', 'never smoked', 'never smoked', 'never smoked', 'never smoked', 'formerly smoked', 'never smoked', 'formerly smoked', 'formerly smoked', 'never smoked', 'smokes', 'formerly smoked', 'smokes', 'never smoked', 'smokes', 'smokes', 'never smoked', 'smokes', 'smokes', 'never smoked', 'never smoked', 'never smoked', 'smokes', 'formerly smoked', 'formerly smoked', 'never smoked', 'never smoked', 'never smoked', 'never smoked', 'formerly smoked', 'never smoked', 'never smoked', 'smokes', 'formerly smoked', 'never smoked', 'never smoked', 'smokes', 'never smoked', 'never smoked', 'never smoked', 'smokes', 'smokes', 'never smoked', 'never smoked', 'formerly smoked', 'smokes', 'never smoked', 'never smoked', 'smokes', 'never smoked', 'never smoked', 'never smoked', 'never smoked', 'never smoked', 'never smoked', 'formerly smoked', 'never smoked', 'never smoked', 'smokes', 'never smoked', 'never smoked', 'smokes', 'never smoked', 'formerly smoked', 'smokes', 'smokes', 'never smoked', 'smokes', 'formerly smoked', 'never smoked', 'never smoked', 'smokes', 'smokes', 'smokes', 'smokes', 'never smoked', 'smokes', 'smokes', 'formerly smoked', 'never smoked', 'smokes', 'formerly smoked', 'never smoked', 'never smoked', 'never smoked', 'never smoked', 'never smoked', 'smokes', 'smokes', 'never smoked', 'never smoked', 'never smoked', 'formerly smoked', 'smokes', 'formerly smoked', 'never smoked', 'never smoked', 'never smoked', 'never smoked', 'formerly smoked', 'never smoked', 'never smoked', 'never smoked', 'smokes', 'never smoked', 'never smoked', 'never smoked', 'never smoked', 'never smoked', 'smokes', 'never smoked', 'formerly smoked', 'never smoked', 'never smoked', 'never smoked', 'never smoked', 'smokes', 'never smoked', 'smokes', 'formerly smoked', 'never smoked', 'never smoked', 'formerly smoked', 'never smoked', 'never smoked', 'never smoked', 'smokes', 'never smoked', 'smokes', 'smokes', 'never smoked', 'smokes', 'formerly smoked', 'never smoked', 'never smoked', 'smokes', 'never smoked', 'never smoked', 'never smoked', 'never smoked', 'smokes', 'smokes', 'smokes', 'smokes', 'formerly smoked', 'never smoked', 'never smoked', 'never smoked', 'never smoked', 'smokes', 'never smoked', 'smokes', 'never smoked', 'never smoked', 'never smoked', 'never smoked', 'never smoked', 'never smoked', 'formerly smoked', 'never smoked', 'never smoked', 'never smoked', 'formerly smoked', 'formerly smoked', 'never smoked', 'formerly smoked', 'formerly smoked', 'smokes', 'smokes', 'never smoked', 'formerly smoked', 'smokes', 'never smoked', 'smokes', 'formerly smoked', 'never smoked', 'never smoked', 'never smoked', 'smokes', 'never smoked', 'never smoked', 'smokes', 'smokes', 'never smoked', 'never smoked', 'never smoked', 'never smoked', 'never smoked', 'never smoked', 'formerly smoked', 'formerly smoked', 'formerly smoked', 'never smoked', 'never smoked', 'smokes', 'formerly smoked', 'smokes', 'smokes', 'formerly smoked', 'smokes', 'never smoked', 'never smoked', 'smokes', 'formerly smoked', 'smokes', 'never smoked', 'never smoked', 'never smoked', 'never smoked', 'never smoked', 'never smoked', 'smokes', 'formerly smoked', 'never smoked', 'never smoked', 'smokes', 'formerly smoked', 'never smoked', 'never smoked', 'smokes', 'smokes', 'never smoked', 'never smoked', 'never smoked', 'formerly smoked', 'never smoked', 'never smoked', 'smokes', 'smokes', 'never smoked', 'smokes', 'smokes', 'never smoked', 'never smoked', 'never smoked', 'never smoked', 'never smoked', 'formerly smoked', 'smokes', 'never smoked', 'smokes', 'formerly smoked', 'smokes', 'formerly smoked', 'smokes', 'never smoked', 'smokes', 'never smoked', 'never smoked', 'smokes', 'never smoked', 'never smoked', 'never smoked', 'smokes', 'never smoked', 'smokes', 'never smoked', 'smokes', 'never smoked', 'never smoked', 'never smoked', 'never smoked', 'never smoked', 'never smoked', 'formerly smoked', 'smokes']\n"
          ]
        },
        {
          "output_type": "execute_result",
          "data": {
            "text/plain": [
              "5110"
            ]
          },
          "metadata": {},
          "execution_count": 22
        }
      ]
    },
    {
      "cell_type": "code",
      "metadata": {
        "colab": {
          "base_uri": "https://localhost:8080/"
        },
        "id": "YSEbbWqZMSg9",
        "outputId": "9e2c7d7b-6bb5-4bde-ba36-62e62806192a"
      },
      "source": [
        "data['smoking_status1']=m\n",
        "data.smoking_status1.value_counts()"
      ],
      "execution_count": 23,
      "outputs": [
        {
          "output_type": "execute_result",
          "data": {
            "text/plain": [
              "never smoked       2623\n",
              "smokes             1602\n",
              "formerly smoked     885\n",
              "Name: smoking_status1, dtype: int64"
            ]
          },
          "metadata": {},
          "execution_count": 23
        }
      ]
    },
    {
      "cell_type": "code",
      "metadata": {
        "id": "CbO1YNdxRBgP"
      },
      "source": [
        "data.drop(columns=['smoking_status'],axis=1,inplace=True)"
      ],
      "execution_count": 24,
      "outputs": []
    },
    {
      "cell_type": "code",
      "metadata": {
        "colab": {
          "base_uri": "https://localhost:8080/",
          "height": 423
        },
        "id": "-uDt5DvaMm7R",
        "outputId": "160ee2b9-6d4e-459d-ae33-c67b1c2dea04"
      },
      "source": [
        "data"
      ],
      "execution_count": 25,
      "outputs": [
        {
          "output_type": "execute_result",
          "data": {
            "text/html": [
              "<div>\n",
              "<style scoped>\n",
              "    .dataframe tbody tr th:only-of-type {\n",
              "        vertical-align: middle;\n",
              "    }\n",
              "\n",
              "    .dataframe tbody tr th {\n",
              "        vertical-align: top;\n",
              "    }\n",
              "\n",
              "    .dataframe thead th {\n",
              "        text-align: right;\n",
              "    }\n",
              "</style>\n",
              "<table border=\"1\" class=\"dataframe\">\n",
              "  <thead>\n",
              "    <tr style=\"text-align: right;\">\n",
              "      <th></th>\n",
              "      <th>id</th>\n",
              "      <th>gender</th>\n",
              "      <th>age</th>\n",
              "      <th>hypertension</th>\n",
              "      <th>heart_disease</th>\n",
              "      <th>ever_married</th>\n",
              "      <th>work_type</th>\n",
              "      <th>Residence_type</th>\n",
              "      <th>avg_glucose_level</th>\n",
              "      <th>bmi</th>\n",
              "      <th>stroke</th>\n",
              "      <th>smoking_status1</th>\n",
              "    </tr>\n",
              "  </thead>\n",
              "  <tbody>\n",
              "    <tr>\n",
              "      <th>0</th>\n",
              "      <td>9046</td>\n",
              "      <td>Male</td>\n",
              "      <td>67.0</td>\n",
              "      <td>0</td>\n",
              "      <td>1</td>\n",
              "      <td>Yes</td>\n",
              "      <td>Private</td>\n",
              "      <td>Urban</td>\n",
              "      <td>228.69</td>\n",
              "      <td>36.6</td>\n",
              "      <td>1</td>\n",
              "      <td>formerly smoked</td>\n",
              "    </tr>\n",
              "    <tr>\n",
              "      <th>1</th>\n",
              "      <td>51676</td>\n",
              "      <td>Female</td>\n",
              "      <td>61.0</td>\n",
              "      <td>0</td>\n",
              "      <td>0</td>\n",
              "      <td>Yes</td>\n",
              "      <td>Self-employed</td>\n",
              "      <td>Rural</td>\n",
              "      <td>202.21</td>\n",
              "      <td>NaN</td>\n",
              "      <td>1</td>\n",
              "      <td>never smoked</td>\n",
              "    </tr>\n",
              "    <tr>\n",
              "      <th>2</th>\n",
              "      <td>31112</td>\n",
              "      <td>Male</td>\n",
              "      <td>80.0</td>\n",
              "      <td>0</td>\n",
              "      <td>1</td>\n",
              "      <td>Yes</td>\n",
              "      <td>Private</td>\n",
              "      <td>Rural</td>\n",
              "      <td>105.92</td>\n",
              "      <td>32.5</td>\n",
              "      <td>1</td>\n",
              "      <td>never smoked</td>\n",
              "    </tr>\n",
              "    <tr>\n",
              "      <th>3</th>\n",
              "      <td>60182</td>\n",
              "      <td>Female</td>\n",
              "      <td>49.0</td>\n",
              "      <td>0</td>\n",
              "      <td>0</td>\n",
              "      <td>Yes</td>\n",
              "      <td>Private</td>\n",
              "      <td>Urban</td>\n",
              "      <td>171.23</td>\n",
              "      <td>34.4</td>\n",
              "      <td>1</td>\n",
              "      <td>smokes</td>\n",
              "    </tr>\n",
              "    <tr>\n",
              "      <th>4</th>\n",
              "      <td>1665</td>\n",
              "      <td>Female</td>\n",
              "      <td>79.0</td>\n",
              "      <td>1</td>\n",
              "      <td>0</td>\n",
              "      <td>Yes</td>\n",
              "      <td>Self-employed</td>\n",
              "      <td>Rural</td>\n",
              "      <td>174.12</td>\n",
              "      <td>24.0</td>\n",
              "      <td>1</td>\n",
              "      <td>never smoked</td>\n",
              "    </tr>\n",
              "    <tr>\n",
              "      <th>...</th>\n",
              "      <td>...</td>\n",
              "      <td>...</td>\n",
              "      <td>...</td>\n",
              "      <td>...</td>\n",
              "      <td>...</td>\n",
              "      <td>...</td>\n",
              "      <td>...</td>\n",
              "      <td>...</td>\n",
              "      <td>...</td>\n",
              "      <td>...</td>\n",
              "      <td>...</td>\n",
              "      <td>...</td>\n",
              "    </tr>\n",
              "    <tr>\n",
              "      <th>5105</th>\n",
              "      <td>18234</td>\n",
              "      <td>Female</td>\n",
              "      <td>80.0</td>\n",
              "      <td>1</td>\n",
              "      <td>0</td>\n",
              "      <td>Yes</td>\n",
              "      <td>Private</td>\n",
              "      <td>Urban</td>\n",
              "      <td>83.75</td>\n",
              "      <td>NaN</td>\n",
              "      <td>0</td>\n",
              "      <td>never smoked</td>\n",
              "    </tr>\n",
              "    <tr>\n",
              "      <th>5106</th>\n",
              "      <td>44873</td>\n",
              "      <td>Female</td>\n",
              "      <td>81.0</td>\n",
              "      <td>0</td>\n",
              "      <td>0</td>\n",
              "      <td>Yes</td>\n",
              "      <td>Self-employed</td>\n",
              "      <td>Urban</td>\n",
              "      <td>125.20</td>\n",
              "      <td>40.0</td>\n",
              "      <td>0</td>\n",
              "      <td>never smoked</td>\n",
              "    </tr>\n",
              "    <tr>\n",
              "      <th>5107</th>\n",
              "      <td>19723</td>\n",
              "      <td>Female</td>\n",
              "      <td>35.0</td>\n",
              "      <td>0</td>\n",
              "      <td>0</td>\n",
              "      <td>Yes</td>\n",
              "      <td>Self-employed</td>\n",
              "      <td>Rural</td>\n",
              "      <td>82.99</td>\n",
              "      <td>30.6</td>\n",
              "      <td>0</td>\n",
              "      <td>never smoked</td>\n",
              "    </tr>\n",
              "    <tr>\n",
              "      <th>5108</th>\n",
              "      <td>37544</td>\n",
              "      <td>Male</td>\n",
              "      <td>51.0</td>\n",
              "      <td>0</td>\n",
              "      <td>0</td>\n",
              "      <td>Yes</td>\n",
              "      <td>Private</td>\n",
              "      <td>Rural</td>\n",
              "      <td>166.29</td>\n",
              "      <td>25.6</td>\n",
              "      <td>0</td>\n",
              "      <td>formerly smoked</td>\n",
              "    </tr>\n",
              "    <tr>\n",
              "      <th>5109</th>\n",
              "      <td>44679</td>\n",
              "      <td>Female</td>\n",
              "      <td>44.0</td>\n",
              "      <td>0</td>\n",
              "      <td>0</td>\n",
              "      <td>Yes</td>\n",
              "      <td>Govt_job</td>\n",
              "      <td>Urban</td>\n",
              "      <td>85.28</td>\n",
              "      <td>26.2</td>\n",
              "      <td>0</td>\n",
              "      <td>smokes</td>\n",
              "    </tr>\n",
              "  </tbody>\n",
              "</table>\n",
              "<p>5110 rows × 12 columns</p>\n",
              "</div>"
            ],
            "text/plain": [
              "         id  gender   age  ...   bmi  stroke  smoking_status1\n",
              "0      9046    Male  67.0  ...  36.6       1  formerly smoked\n",
              "1     51676  Female  61.0  ...   NaN       1     never smoked\n",
              "2     31112    Male  80.0  ...  32.5       1     never smoked\n",
              "3     60182  Female  49.0  ...  34.4       1           smokes\n",
              "4      1665  Female  79.0  ...  24.0       1     never smoked\n",
              "...     ...     ...   ...  ...   ...     ...              ...\n",
              "5105  18234  Female  80.0  ...   NaN       0     never smoked\n",
              "5106  44873  Female  81.0  ...  40.0       0     never smoked\n",
              "5107  19723  Female  35.0  ...  30.6       0     never smoked\n",
              "5108  37544    Male  51.0  ...  25.6       0  formerly smoked\n",
              "5109  44679  Female  44.0  ...  26.2       0           smokes\n",
              "\n",
              "[5110 rows x 12 columns]"
            ]
          },
          "metadata": {},
          "execution_count": 25
        }
      ]
    },
    {
      "cell_type": "markdown",
      "metadata": {
        "id": "i1LKMK_tRbPt"
      },
      "source": [
        "# handling null values in bmi column"
      ]
    },
    {
      "cell_type": "code",
      "metadata": {
        "colab": {
          "base_uri": "https://localhost:8080/"
        },
        "id": "_8nCY7GCNNjB",
        "outputId": "06fbfedb-a998-432c-8d88-f9a72455c2f9"
      },
      "source": [
        "data.isnull().sum()"
      ],
      "execution_count": 26,
      "outputs": [
        {
          "output_type": "execute_result",
          "data": {
            "text/plain": [
              "id                     0\n",
              "gender                 0\n",
              "age                    0\n",
              "hypertension           0\n",
              "heart_disease          0\n",
              "ever_married           0\n",
              "work_type              0\n",
              "Residence_type         0\n",
              "avg_glucose_level      0\n",
              "bmi                  201\n",
              "stroke                 0\n",
              "smoking_status1        0\n",
              "dtype: int64"
            ]
          },
          "metadata": {},
          "execution_count": 26
        }
      ]
    },
    {
      "cell_type": "code",
      "metadata": {
        "colab": {
          "base_uri": "https://localhost:8080/",
          "height": 0
        },
        "id": "zzwnxlzsSCVt",
        "outputId": "9770e6a8-b799-4f88-91f2-3e5fa761605d"
      },
      "source": [
        "sns.distplot(data.bmi)"
      ],
      "execution_count": 27,
      "outputs": [
        {
          "output_type": "execute_result",
          "data": {
            "text/plain": [
              "<matplotlib.axes._subplots.AxesSubplot at 0x7fa18e3a8f50>"
            ]
          },
          "metadata": {},
          "execution_count": 27
        },
        {
          "output_type": "display_data",
          "data": {
            "image/png": "[encoded data removed]",
            "text/plain": [
              "<Figure size 432x288 with 1 Axes>"
            ]
          },
          "metadata": {
            "needs_background": "light"
          }
        }
      ]
    },
    {
      "cell_type": "code",
      "metadata": {
        "colab": {
          "base_uri": "https://localhost:8080/"
        },
        "id": "E1FjR_SsSZwN",
        "outputId": "4bdc6776-4e03-43ea-a8ab-8b80801e264d"
      },
      "source": [
        "data.bmi.describe()"
      ],
      "execution_count": 28,
      "outputs": [
        {
          "output_type": "execute_result",
          "data": {
            "text/plain": [
              "count    4909.000000\n",
              "mean       28.893237\n",
              "std         7.854067\n",
              "min        10.300000\n",
              "25%        23.500000\n",
              "50%        28.100000\n",
              "75%        33.100000\n",
              "max        97.600000\n",
              "Name: bmi, dtype: float64"
            ]
          },
          "metadata": {},
          "execution_count": 28
        }
      ]
    },
    {
      "cell_type": "code",
      "metadata": {
        "colab": {
          "base_uri": "https://localhost:8080/"
        },
        "id": "Fz5Mz_rGSklP",
        "outputId": "d5e167bf-58b3-4b97-d5f5-14539831abda"
      },
      "source": [
        "data.bmi.median()"
      ],
      "execution_count": 29,
      "outputs": [
        {
          "output_type": "execute_result",
          "data": {
            "text/plain": [
              "28.1"
            ]
          },
          "metadata": {},
          "execution_count": 29
        }
      ]
    },
    {
      "cell_type": "code",
      "metadata": {
        "id": "CUDdP1lcQr8I"
      },
      "source": [
        "data.bmi.fillna(value=data.bmi.median(),inplace=True)"
      ],
      "execution_count": 30,
      "outputs": []
    },
    {
      "cell_type": "code",
      "metadata": {
        "colab": {
          "base_uri": "https://localhost:8080/"
        },
        "id": "kdmTZbkWQsAy",
        "outputId": "6909f6cc-e908-4437-8523-e05aad9cec6c"
      },
      "source": [
        "data.isnull().sum()"
      ],
      "execution_count": 31,
      "outputs": [
        {
          "output_type": "execute_result",
          "data": {
            "text/plain": [
              "id                   0\n",
              "gender               0\n",
              "age                  0\n",
              "hypertension         0\n",
              "heart_disease        0\n",
              "ever_married         0\n",
              "work_type            0\n",
              "Residence_type       0\n",
              "avg_glucose_level    0\n",
              "bmi                  0\n",
              "stroke               0\n",
              "smoking_status1      0\n",
              "dtype: int64"
            ]
          },
          "metadata": {},
          "execution_count": 31
        }
      ]
    },
    {
      "cell_type": "markdown",
      "metadata": {
        "id": "BDC5gth1S5ed"
      },
      "source": [
        "# handling categorical value"
      ]
    },
    {
      "cell_type": "code",
      "metadata": {
        "colab": {
          "base_uri": "https://localhost:8080/",
          "height": 423
        },
        "id": "YxRPwXg3QsEm",
        "outputId": "cd7c0645-aae2-45ec-c195-35dcee0c1a9f"
      },
      "source": [
        "data.select_dtypes(include='O')"
      ],
      "execution_count": 32,
      "outputs": [
        {
          "output_type": "execute_result",
          "data": {
            "text/html": [
              "<div>\n",
              "<style scoped>\n",
              "    .dataframe tbody tr th:only-of-type {\n",
              "        vertical-align: middle;\n",
              "    }\n",
              "\n",
              "    .dataframe tbody tr th {\n",
              "        vertical-align: top;\n",
              "    }\n",
              "\n",
              "    .dataframe thead th {\n",
              "        text-align: right;\n",
              "    }\n",
              "</style>\n",
              "<table border=\"1\" class=\"dataframe\">\n",
              "  <thead>\n",
              "    <tr style=\"text-align: right;\">\n",
              "      <th></th>\n",
              "      <th>gender</th>\n",
              "      <th>ever_married</th>\n",
              "      <th>work_type</th>\n",
              "      <th>Residence_type</th>\n",
              "      <th>smoking_status1</th>\n",
              "    </tr>\n",
              "  </thead>\n",
              "  <tbody>\n",
              "    <tr>\n",
              "      <th>0</th>\n",
              "      <td>Male</td>\n",
              "      <td>Yes</td>\n",
              "      <td>Private</td>\n",
              "      <td>Urban</td>\n",
              "      <td>formerly smoked</td>\n",
              "    </tr>\n",
              "    <tr>\n",
              "      <th>1</th>\n",
              "      <td>Female</td>\n",
              "      <td>Yes</td>\n",
              "      <td>Self-employed</td>\n",
              "      <td>Rural</td>\n",
              "      <td>never smoked</td>\n",
              "    </tr>\n",
              "    <tr>\n",
              "      <th>2</th>\n",
              "      <td>Male</td>\n",
              "      <td>Yes</td>\n",
              "      <td>Private</td>\n",
              "      <td>Rural</td>\n",
              "      <td>never smoked</td>\n",
              "    </tr>\n",
              "    <tr>\n",
              "      <th>3</th>\n",
              "      <td>Female</td>\n",
              "      <td>Yes</td>\n",
              "      <td>Private</td>\n",
              "      <td>Urban</td>\n",
              "      <td>smokes</td>\n",
              "    </tr>\n",
              "    <tr>\n",
              "      <th>4</th>\n",
              "      <td>Female</td>\n",
              "      <td>Yes</td>\n",
              "      <td>Self-employed</td>\n",
              "      <td>Rural</td>\n",
              "      <td>never smoked</td>\n",
              "    </tr>\n",
              "    <tr>\n",
              "      <th>...</th>\n",
              "      <td>...</td>\n",
              "      <td>...</td>\n",
              "      <td>...</td>\n",
              "      <td>...</td>\n",
              "      <td>...</td>\n",
              "    </tr>\n",
              "    <tr>\n",
              "      <th>5105</th>\n",
              "      <td>Female</td>\n",
              "      <td>Yes</td>\n",
              "      <td>Private</td>\n",
              "      <td>Urban</td>\n",
              "      <td>never smoked</td>\n",
              "    </tr>\n",
              "    <tr>\n",
              "      <th>5106</th>\n",
              "      <td>Female</td>\n",
              "      <td>Yes</td>\n",
              "      <td>Self-employed</td>\n",
              "      <td>Urban</td>\n",
              "      <td>never smoked</td>\n",
              "    </tr>\n",
              "    <tr>\n",
              "      <th>5107</th>\n",
              "      <td>Female</td>\n",
              "      <td>Yes</td>\n",
              "      <td>Self-employed</td>\n",
              "      <td>Rural</td>\n",
              "      <td>never smoked</td>\n",
              "    </tr>\n",
              "    <tr>\n",
              "      <th>5108</th>\n",
              "      <td>Male</td>\n",
              "      <td>Yes</td>\n",
              "      <td>Private</td>\n",
              "      <td>Rural</td>\n",
              "      <td>formerly smoked</td>\n",
              "    </tr>\n",
              "    <tr>\n",
              "      <th>5109</th>\n",
              "      <td>Female</td>\n",
              "      <td>Yes</td>\n",
              "      <td>Govt_job</td>\n",
              "      <td>Urban</td>\n",
              "      <td>smokes</td>\n",
              "    </tr>\n",
              "  </tbody>\n",
              "</table>\n",
              "<p>5110 rows × 5 columns</p>\n",
              "</div>"
            ],
            "text/plain": [
              "      gender ever_married      work_type Residence_type  smoking_status1\n",
              "0       Male          Yes        Private          Urban  formerly smoked\n",
              "1     Female          Yes  Self-employed          Rural     never smoked\n",
              "2       Male          Yes        Private          Rural     never smoked\n",
              "3     Female          Yes        Private          Urban           smokes\n",
              "4     Female          Yes  Self-employed          Rural     never smoked\n",
              "...      ...          ...            ...            ...              ...\n",
              "5105  Female          Yes        Private          Urban     never smoked\n",
              "5106  Female          Yes  Self-employed          Urban     never smoked\n",
              "5107  Female          Yes  Self-employed          Rural     never smoked\n",
              "5108    Male          Yes        Private          Rural  formerly smoked\n",
              "5109  Female          Yes       Govt_job          Urban           smokes\n",
              "\n",
              "[5110 rows x 5 columns]"
            ]
          },
          "metadata": {},
          "execution_count": 32
        }
      ]
    },
    {
      "cell_type": "code",
      "metadata": {
        "colab": {
          "base_uri": "https://localhost:8080/",
          "height": 547
        },
        "id": "A9qvBirqQsIh",
        "outputId": "97ce92e1-3ccf-4e04-d060-dd23f2f9da49"
      },
      "source": [
        "data=pd.get_dummies(data,columns=['gender','ever_married','Residence_type'],drop_first=True)\n",
        "data"
      ],
      "execution_count": 33,
      "outputs": [
        {
          "output_type": "execute_result",
          "data": {
            "text/html": [
              "<div>\n",
              "<style scoped>\n",
              "    .dataframe tbody tr th:only-of-type {\n",
              "        vertical-align: middle;\n",
              "    }\n",
              "\n",
              "    .dataframe tbody tr th {\n",
              "        vertical-align: top;\n",
              "    }\n",
              "\n",
              "    .dataframe thead th {\n",
              "        text-align: right;\n",
              "    }\n",
              "</style>\n",
              "<table border=\"1\" class=\"dataframe\">\n",
              "  <thead>\n",
              "    <tr style=\"text-align: right;\">\n",
              "      <th></th>\n",
              "      <th>id</th>\n",
              "      <th>age</th>\n",
              "      <th>hypertension</th>\n",
              "      <th>heart_disease</th>\n",
              "      <th>work_type</th>\n",
              "      <th>avg_glucose_level</th>\n",
              "      <th>bmi</th>\n",
              "      <th>stroke</th>\n",
              "      <th>smoking_status1</th>\n",
              "      <th>gender_Male</th>\n",
              "      <th>gender_Other</th>\n",
              "      <th>ever_married_Yes</th>\n",
              "      <th>Residence_type_Urban</th>\n",
              "    </tr>\n",
              "  </thead>\n",
              "  <tbody>\n",
              "    <tr>\n",
              "      <th>0</th>\n",
              "      <td>9046</td>\n",
              "      <td>67.0</td>\n",
              "      <td>0</td>\n",
              "      <td>1</td>\n",
              "      <td>Private</td>\n",
              "      <td>228.69</td>\n",
              "      <td>36.6</td>\n",
              "      <td>1</td>\n",
              "      <td>formerly smoked</td>\n",
              "      <td>1</td>\n",
              "      <td>0</td>\n",
              "      <td>1</td>\n",
              "      <td>1</td>\n",
              "    </tr>\n",
              "    <tr>\n",
              "      <th>1</th>\n",
              "      <td>51676</td>\n",
              "      <td>61.0</td>\n",
              "      <td>0</td>\n",
              "      <td>0</td>\n",
              "      <td>Self-employed</td>\n",
              "      <td>202.21</td>\n",
              "      <td>28.1</td>\n",
              "      <td>1</td>\n",
              "      <td>never smoked</td>\n",
              "      <td>0</td>\n",
              "      <td>0</td>\n",
              "      <td>1</td>\n",
              "      <td>0</td>\n",
              "    </tr>\n",
              "    <tr>\n",
              "      <th>2</th>\n",
              "      <td>31112</td>\n",
              "      <td>80.0</td>\n",
              "      <td>0</td>\n",
              "      <td>1</td>\n",
              "      <td>Private</td>\n",
              "      <td>105.92</td>\n",
              "      <td>32.5</td>\n",
              "      <td>1</td>\n",
              "      <td>never smoked</td>\n",
              "      <td>1</td>\n",
              "      <td>0</td>\n",
              "      <td>1</td>\n",
              "      <td>0</td>\n",
              "    </tr>\n",
              "    <tr>\n",
              "      <th>3</th>\n",
              "      <td>60182</td>\n",
              "      <td>49.0</td>\n",
              "      <td>0</td>\n",
              "      <td>0</td>\n",
              "      <td>Private</td>\n",
              "      <td>171.23</td>\n",
              "      <td>34.4</td>\n",
              "      <td>1</td>\n",
              "      <td>smokes</td>\n",
              "      <td>0</td>\n",
              "      <td>0</td>\n",
              "      <td>1</td>\n",
              "      <td>1</td>\n",
              "    </tr>\n",
              "    <tr>\n",
              "      <th>4</th>\n",
              "      <td>1665</td>\n",
              "      <td>79.0</td>\n",
              "      <td>1</td>\n",
              "      <td>0</td>\n",
              "      <td>Self-employed</td>\n",
              "      <td>174.12</td>\n",
              "      <td>24.0</td>\n",
              "      <td>1</td>\n",
              "      <td>never smoked</td>\n",
              "      <td>0</td>\n",
              "      <td>0</td>\n",
              "      <td>1</td>\n",
              "      <td>0</td>\n",
              "    </tr>\n",
              "    <tr>\n",
              "      <th>...</th>\n",
              "      <td>...</td>\n",
              "      <td>...</td>\n",
              "      <td>...</td>\n",
              "      <td>...</td>\n",
              "      <td>...</td>\n",
              "      <td>...</td>\n",
              "      <td>...</td>\n",
              "      <td>...</td>\n",
              "      <td>...</td>\n",
              "      <td>...</td>\n",
              "      <td>...</td>\n",
              "      <td>...</td>\n",
              "      <td>...</td>\n",
              "    </tr>\n",
              "    <tr>\n",
              "      <th>5105</th>\n",
              "      <td>18234</td>\n",
              "      <td>80.0</td>\n",
              "      <td>1</td>\n",
              "      <td>0</td>\n",
              "      <td>Private</td>\n",
              "      <td>83.75</td>\n",
              "      <td>28.1</td>\n",
              "      <td>0</td>\n",
              "      <td>never smoked</td>\n",
              "      <td>0</td>\n",
              "      <td>0</td>\n",
              "      <td>1</td>\n",
              "      <td>1</td>\n",
              "    </tr>\n",
              "    <tr>\n",
              "      <th>5106</th>\n",
              "      <td>44873</td>\n",
              "      <td>81.0</td>\n",
              "      <td>0</td>\n",
              "      <td>0</td>\n",
              "      <td>Self-employed</td>\n",
              "      <td>125.20</td>\n",
              "      <td>40.0</td>\n",
              "      <td>0</td>\n",
              "      <td>never smoked</td>\n",
              "      <td>0</td>\n",
              "      <td>0</td>\n",
              "      <td>1</td>\n",
              "      <td>1</td>\n",
              "    </tr>\n",
              "    <tr>\n",
              "      <th>5107</th>\n",
              "      <td>19723</td>\n",
              "      <td>35.0</td>\n",
              "      <td>0</td>\n",
              "      <td>0</td>\n",
              "      <td>Self-employed</td>\n",
              "      <td>82.99</td>\n",
              "      <td>30.6</td>\n",
              "      <td>0</td>\n",
              "      <td>never smoked</td>\n",
              "      <td>0</td>\n",
              "      <td>0</td>\n",
              "      <td>1</td>\n",
              "      <td>0</td>\n",
              "    </tr>\n",
              "    <tr>\n",
              "      <th>5108</th>\n",
              "      <td>37544</td>\n",
              "      <td>51.0</td>\n",
              "      <td>0</td>\n",
              "      <td>0</td>\n",
              "      <td>Private</td>\n",
              "      <td>166.29</td>\n",
              "      <td>25.6</td>\n",
              "      <td>0</td>\n",
              "      <td>formerly smoked</td>\n",
              "      <td>1</td>\n",
              "      <td>0</td>\n",
              "      <td>1</td>\n",
              "      <td>0</td>\n",
              "    </tr>\n",
              "    <tr>\n",
              "      <th>5109</th>\n",
              "      <td>44679</td>\n",
              "      <td>44.0</td>\n",
              "      <td>0</td>\n",
              "      <td>0</td>\n",
              "      <td>Govt_job</td>\n",
              "      <td>85.28</td>\n",
              "      <td>26.2</td>\n",
              "      <td>0</td>\n",
              "      <td>smokes</td>\n",
              "      <td>0</td>\n",
              "      <td>0</td>\n",
              "      <td>1</td>\n",
              "      <td>1</td>\n",
              "    </tr>\n",
              "  </tbody>\n",
              "</table>\n",
              "<p>5110 rows × 13 columns</p>\n",
              "</div>"
            ],
            "text/plain": [
              "         id   age  ...  ever_married_Yes  Residence_type_Urban\n",
              "0      9046  67.0  ...                 1                     1\n",
              "1     51676  61.0  ...                 1                     0\n",
              "2     31112  80.0  ...                 1                     0\n",
              "3     60182  49.0  ...                 1                     1\n",
              "4      1665  79.0  ...                 1                     0\n",
              "...     ...   ...  ...               ...                   ...\n",
              "5105  18234  80.0  ...                 1                     1\n",
              "5106  44873  81.0  ...                 1                     1\n",
              "5107  19723  35.0  ...                 1                     0\n",
              "5108  37544  51.0  ...                 1                     0\n",
              "5109  44679  44.0  ...                 1                     1\n",
              "\n",
              "[5110 rows x 13 columns]"
            ]
          },
          "metadata": {},
          "execution_count": 33
        }
      ]
    },
    {
      "cell_type": "code",
      "metadata": {
        "id": "lUXRmKL7UCVS"
      },
      "source": [
        "data.drop(columns=['gender_Other'],inplace=True,axis=1)"
      ],
      "execution_count": 34,
      "outputs": []
    },
    {
      "cell_type": "code",
      "metadata": {
        "colab": {
          "base_uri": "https://localhost:8080/",
          "height": 547
        },
        "id": "dYeTOcH3UZqJ",
        "outputId": "2a033795-0b27-49a0-89e9-f3f82af06ed3"
      },
      "source": [
        "data"
      ],
      "execution_count": 35,
      "outputs": [
        {
          "output_type": "execute_result",
          "data": {
            "text/html": [
              "<div>\n",
              "<style scoped>\n",
              "    .dataframe tbody tr th:only-of-type {\n",
              "        vertical-align: middle;\n",
              "    }\n",
              "\n",
              "    .dataframe tbody tr th {\n",
              "        vertical-align: top;\n",
              "    }\n",
              "\n",
              "    .dataframe thead th {\n",
              "        text-align: right;\n",
              "    }\n",
              "</style>\n",
              "<table border=\"1\" class=\"dataframe\">\n",
              "  <thead>\n",
              "    <tr style=\"text-align: right;\">\n",
              "      <th></th>\n",
              "      <th>id</th>\n",
              "      <th>age</th>\n",
              "      <th>hypertension</th>\n",
              "      <th>heart_disease</th>\n",
              "      <th>work_type</th>\n",
              "      <th>avg_glucose_level</th>\n",
              "      <th>bmi</th>\n",
              "      <th>stroke</th>\n",
              "      <th>smoking_status1</th>\n",
              "      <th>gender_Male</th>\n",
              "      <th>ever_married_Yes</th>\n",
              "      <th>Residence_type_Urban</th>\n",
              "    </tr>\n",
              "  </thead>\n",
              "  <tbody>\n",
              "    <tr>\n",
              "      <th>0</th>\n",
              "      <td>9046</td>\n",
              "      <td>67.0</td>\n",
              "      <td>0</td>\n",
              "      <td>1</td>\n",
              "      <td>Private</td>\n",
              "      <td>228.69</td>\n",
              "      <td>36.6</td>\n",
              "      <td>1</td>\n",
              "      <td>formerly smoked</td>\n",
              "      <td>1</td>\n",
              "      <td>1</td>\n",
              "      <td>1</td>\n",
              "    </tr>\n",
              "    <tr>\n",
              "      <th>1</th>\n",
              "      <td>51676</td>\n",
              "      <td>61.0</td>\n",
              "      <td>0</td>\n",
              "      <td>0</td>\n",
              "      <td>Self-employed</td>\n",
              "      <td>202.21</td>\n",
              "      <td>28.1</td>\n",
              "      <td>1</td>\n",
              "      <td>never smoked</td>\n",
              "      <td>0</td>\n",
              "      <td>1</td>\n",
              "      <td>0</td>\n",
              "    </tr>\n",
              "    <tr>\n",
              "      <th>2</th>\n",
              "      <td>31112</td>\n",
              "      <td>80.0</td>\n",
              "      <td>0</td>\n",
              "      <td>1</td>\n",
              "      <td>Private</td>\n",
              "      <td>105.92</td>\n",
              "      <td>32.5</td>\n",
              "      <td>1</td>\n",
              "      <td>never smoked</td>\n",
              "      <td>1</td>\n",
              "      <td>1</td>\n",
              "      <td>0</td>\n",
              "    </tr>\n",
              "    <tr>\n",
              "      <th>3</th>\n",
              "      <td>60182</td>\n",
              "      <td>49.0</td>\n",
              "      <td>0</td>\n",
              "      <td>0</td>\n",
              "      <td>Private</td>\n",
              "      <td>171.23</td>\n",
              "      <td>34.4</td>\n",
              "      <td>1</td>\n",
              "      <td>smokes</td>\n",
              "      <td>0</td>\n",
              "      <td>1</td>\n",
              "      <td>1</td>\n",
              "    </tr>\n",
              "    <tr>\n",
              "      <th>4</th>\n",
              "      <td>1665</td>\n",
              "      <td>79.0</td>\n",
              "      <td>1</td>\n",
              "      <td>0</td>\n",
              "      <td>Self-employed</td>\n",
              "      <td>174.12</td>\n",
              "      <td>24.0</td>\n",
              "      <td>1</td>\n",
              "      <td>never smoked</td>\n",
              "      <td>0</td>\n",
              "      <td>1</td>\n",
              "      <td>0</td>\n",
              "    </tr>\n",
              "    <tr>\n",
              "      <th>...</th>\n",
              "      <td>...</td>\n",
              "      <td>...</td>\n",
              "      <td>...</td>\n",
              "      <td>...</td>\n",
              "      <td>...</td>\n",
              "      <td>...</td>\n",
              "      <td>...</td>\n",
              "      <td>...</td>\n",
              "      <td>...</td>\n",
              "      <td>...</td>\n",
              "      <td>...</td>\n",
              "      <td>...</td>\n",
              "    </tr>\n",
              "    <tr>\n",
              "      <th>5105</th>\n",
              "      <td>18234</td>\n",
              "      <td>80.0</td>\n",
              "      <td>1</td>\n",
              "      <td>0</td>\n",
              "      <td>Private</td>\n",
              "      <td>83.75</td>\n",
              "      <td>28.1</td>\n",
              "      <td>0</td>\n",
              "      <td>never smoked</td>\n",
              "      <td>0</td>\n",
              "      <td>1</td>\n",
              "      <td>1</td>\n",
              "    </tr>\n",
              "    <tr>\n",
              "      <th>5106</th>\n",
              "      <td>44873</td>\n",
              "      <td>81.0</td>\n",
              "      <td>0</td>\n",
              "      <td>0</td>\n",
              "      <td>Self-employed</td>\n",
              "      <td>125.20</td>\n",
              "      <td>40.0</td>\n",
              "      <td>0</td>\n",
              "      <td>never smoked</td>\n",
              "      <td>0</td>\n",
              "      <td>1</td>\n",
              "      <td>1</td>\n",
              "    </tr>\n",
              "    <tr>\n",
              "      <th>5107</th>\n",
              "      <td>19723</td>\n",
              "      <td>35.0</td>\n",
              "      <td>0</td>\n",
              "      <td>0</td>\n",
              "      <td>Self-employed</td>\n",
              "      <td>82.99</td>\n",
              "      <td>30.6</td>\n",
              "      <td>0</td>\n",
              "      <td>never smoked</td>\n",
              "      <td>0</td>\n",
              "      <td>1</td>\n",
              "      <td>0</td>\n",
              "    </tr>\n",
              "    <tr>\n",
              "      <th>5108</th>\n",
              "      <td>37544</td>\n",
              "      <td>51.0</td>\n",
              "      <td>0</td>\n",
              "      <td>0</td>\n",
              "      <td>Private</td>\n",
              "      <td>166.29</td>\n",
              "      <td>25.6</td>\n",
              "      <td>0</td>\n",
              "      <td>formerly smoked</td>\n",
              "      <td>1</td>\n",
              "      <td>1</td>\n",
              "      <td>0</td>\n",
              "    </tr>\n",
              "    <tr>\n",
              "      <th>5109</th>\n",
              "      <td>44679</td>\n",
              "      <td>44.0</td>\n",
              "      <td>0</td>\n",
              "      <td>0</td>\n",
              "      <td>Govt_job</td>\n",
              "      <td>85.28</td>\n",
              "      <td>26.2</td>\n",
              "      <td>0</td>\n",
              "      <td>smokes</td>\n",
              "      <td>0</td>\n",
              "      <td>1</td>\n",
              "      <td>1</td>\n",
              "    </tr>\n",
              "  </tbody>\n",
              "</table>\n",
              "<p>5110 rows × 12 columns</p>\n",
              "</div>"
            ],
            "text/plain": [
              "         id   age  ...  ever_married_Yes  Residence_type_Urban\n",
              "0      9046  67.0  ...                 1                     1\n",
              "1     51676  61.0  ...                 1                     0\n",
              "2     31112  80.0  ...                 1                     0\n",
              "3     60182  49.0  ...                 1                     1\n",
              "4      1665  79.0  ...                 1                     0\n",
              "...     ...   ...  ...               ...                   ...\n",
              "5105  18234  80.0  ...                 1                     1\n",
              "5106  44873  81.0  ...                 1                     1\n",
              "5107  19723  35.0  ...                 1                     0\n",
              "5108  37544  51.0  ...                 1                     0\n",
              "5109  44679  44.0  ...                 1                     1\n",
              "\n",
              "[5110 rows x 12 columns]"
            ]
          },
          "metadata": {},
          "execution_count": 35
        }
      ]
    },
    {
      "cell_type": "code",
      "metadata": {
        "id": "ZzSy1fatUr-i"
      },
      "source": [
        "from sklearn.preprocessing import LabelEncoder\n",
        "lben= LabelEncoder()\n",
        "data['work_type']=lben.fit_transform(data['work_type'])\n",
        "data['smoking_status']=lben.fit_transform(data['smoking_status1'])"
      ],
      "execution_count": 36,
      "outputs": []
    },
    {
      "cell_type": "code",
      "metadata": {
        "id": "Cxyi8EL7U-_j"
      },
      "source": [
        "data.drop(columns=['smoking_status1'],inplace=True,axis=1)"
      ],
      "execution_count": 37,
      "outputs": []
    },
    {
      "cell_type": "code",
      "metadata": {
        "colab": {
          "base_uri": "https://localhost:8080/",
          "height": 100
        },
        "id": "-Yo3Q2KSVHPa",
        "outputId": "4cfc358f-0cb9-423d-8908-3315ff13630c"
      },
      "source": [
        "data[data.id==69768]"
      ],
      "execution_count": 38,
      "outputs": [
        {
          "output_type": "execute_result",
          "data": {
            "text/html": [
              "<div>\n",
              "<style scoped>\n",
              "    .dataframe tbody tr th:only-of-type {\n",
              "        vertical-align: middle;\n",
              "    }\n",
              "\n",
              "    .dataframe tbody tr th {\n",
              "        vertical-align: top;\n",
              "    }\n",
              "\n",
              "    .dataframe thead th {\n",
              "        text-align: right;\n",
              "    }\n",
              "</style>\n",
              "<table border=\"1\" class=\"dataframe\">\n",
              "  <thead>\n",
              "    <tr style=\"text-align: right;\">\n",
              "      <th></th>\n",
              "      <th>id</th>\n",
              "      <th>age</th>\n",
              "      <th>hypertension</th>\n",
              "      <th>heart_disease</th>\n",
              "      <th>work_type</th>\n",
              "      <th>avg_glucose_level</th>\n",
              "      <th>bmi</th>\n",
              "      <th>stroke</th>\n",
              "      <th>gender_Male</th>\n",
              "      <th>ever_married_Yes</th>\n",
              "      <th>Residence_type_Urban</th>\n",
              "      <th>smoking_status</th>\n",
              "    </tr>\n",
              "  </thead>\n",
              "  <tbody>\n",
              "    <tr>\n",
              "      <th>162</th>\n",
              "      <td>69768</td>\n",
              "      <td>1.32</td>\n",
              "      <td>0</td>\n",
              "      <td>0</td>\n",
              "      <td>4</td>\n",
              "      <td>70.37</td>\n",
              "      <td>28.1</td>\n",
              "      <td>1</td>\n",
              "      <td>0</td>\n",
              "      <td>0</td>\n",
              "      <td>1</td>\n",
              "      <td>1</td>\n",
              "    </tr>\n",
              "  </tbody>\n",
              "</table>\n",
              "</div>"
            ],
            "text/plain": [
              "        id   age  ...  Residence_type_Urban  smoking_status\n",
              "162  69768  1.32  ...                     1               1\n",
              "\n",
              "[1 rows x 12 columns]"
            ]
          },
          "metadata": {},
          "execution_count": 38
        }
      ]
    },
    {
      "cell_type": "code",
      "metadata": {
        "id": "QjYrCtT7WbMi"
      },
      "source": [
        "data.drop(columns=['id'],inplace=True,axis=1)"
      ],
      "execution_count": 39,
      "outputs": []
    },
    {
      "cell_type": "code",
      "metadata": {
        "colab": {
          "base_uri": "https://localhost:8080/",
          "height": 423
        },
        "id": "oRMIJMd2Wge6",
        "outputId": "f8f73167-3be3-454a-f953-0a6ede0a3f98"
      },
      "source": [
        "data"
      ],
      "execution_count": 40,
      "outputs": [
        {
          "output_type": "execute_result",
          "data": {
            "text/html": [
              "<div>\n",
              "<style scoped>\n",
              "    .dataframe tbody tr th:only-of-type {\n",
              "        vertical-align: middle;\n",
              "    }\n",
              "\n",
              "    .dataframe tbody tr th {\n",
              "        vertical-align: top;\n",
              "    }\n",
              "\n",
              "    .dataframe thead th {\n",
              "        text-align: right;\n",
              "    }\n",
              "</style>\n",
              "<table border=\"1\" class=\"dataframe\">\n",
              "  <thead>\n",
              "    <tr style=\"text-align: right;\">\n",
              "      <th></th>\n",
              "      <th>age</th>\n",
              "      <th>hypertension</th>\n",
              "      <th>heart_disease</th>\n",
              "      <th>work_type</th>\n",
              "      <th>avg_glucose_level</th>\n",
              "      <th>bmi</th>\n",
              "      <th>stroke</th>\n",
              "      <th>gender_Male</th>\n",
              "      <th>ever_married_Yes</th>\n",
              "      <th>Residence_type_Urban</th>\n",
              "      <th>smoking_status</th>\n",
              "    </tr>\n",
              "  </thead>\n",
              "  <tbody>\n",
              "    <tr>\n",
              "      <th>0</th>\n",
              "      <td>67.0</td>\n",
              "      <td>0</td>\n",
              "      <td>1</td>\n",
              "      <td>2</td>\n",
              "      <td>228.69</td>\n",
              "      <td>36.6</td>\n",
              "      <td>1</td>\n",
              "      <td>1</td>\n",
              "      <td>1</td>\n",
              "      <td>1</td>\n",
              "      <td>0</td>\n",
              "    </tr>\n",
              "    <tr>\n",
              "      <th>1</th>\n",
              "      <td>61.0</td>\n",
              "      <td>0</td>\n",
              "      <td>0</td>\n",
              "      <td>3</td>\n",
              "      <td>202.21</td>\n",
              "      <td>28.1</td>\n",
              "      <td>1</td>\n",
              "      <td>0</td>\n",
              "      <td>1</td>\n",
              "      <td>0</td>\n",
              "      <td>1</td>\n",
              "    </tr>\n",
              "    <tr>\n",
              "      <th>2</th>\n",
              "      <td>80.0</td>\n",
              "      <td>0</td>\n",
              "      <td>1</td>\n",
              "      <td>2</td>\n",
              "      <td>105.92</td>\n",
              "      <td>32.5</td>\n",
              "      <td>1</td>\n",
              "      <td>1</td>\n",
              "      <td>1</td>\n",
              "      <td>0</td>\n",
              "      <td>1</td>\n",
              "    </tr>\n",
              "    <tr>\n",
              "      <th>3</th>\n",
              "      <td>49.0</td>\n",
              "      <td>0</td>\n",
              "      <td>0</td>\n",
              "      <td>2</td>\n",
              "      <td>171.23</td>\n",
              "      <td>34.4</td>\n",
              "      <td>1</td>\n",
              "      <td>0</td>\n",
              "      <td>1</td>\n",
              "      <td>1</td>\n",
              "      <td>2</td>\n",
              "    </tr>\n",
              "    <tr>\n",
              "      <th>4</th>\n",
              "      <td>79.0</td>\n",
              "      <td>1</td>\n",
              "      <td>0</td>\n",
              "      <td>3</td>\n",
              "      <td>174.12</td>\n",
              "      <td>24.0</td>\n",
              "      <td>1</td>\n",
              "      <td>0</td>\n",
              "      <td>1</td>\n",
              "      <td>0</td>\n",
              "      <td>1</td>\n",
              "    </tr>\n",
              "    <tr>\n",
              "      <th>...</th>\n",
              "      <td>...</td>\n",
              "      <td>...</td>\n",
              "      <td>...</td>\n",
              "      <td>...</td>\n",
              "      <td>...</td>\n",
              "      <td>...</td>\n",
              "      <td>...</td>\n",
              "      <td>...</td>\n",
              "      <td>...</td>\n",
              "      <td>...</td>\n",
              "      <td>...</td>\n",
              "    </tr>\n",
              "    <tr>\n",
              "      <th>5105</th>\n",
              "      <td>80.0</td>\n",
              "      <td>1</td>\n",
              "      <td>0</td>\n",
              "      <td>2</td>\n",
              "      <td>83.75</td>\n",
              "      <td>28.1</td>\n",
              "      <td>0</td>\n",
              "      <td>0</td>\n",
              "      <td>1</td>\n",
              "      <td>1</td>\n",
              "      <td>1</td>\n",
              "    </tr>\n",
              "    <tr>\n",
              "      <th>5106</th>\n",
              "      <td>81.0</td>\n",
              "      <td>0</td>\n",
              "      <td>0</td>\n",
              "      <td>3</td>\n",
              "      <td>125.20</td>\n",
              "      <td>40.0</td>\n",
              "      <td>0</td>\n",
              "      <td>0</td>\n",
              "      <td>1</td>\n",
              "      <td>1</td>\n",
              "      <td>1</td>\n",
              "    </tr>\n",
              "    <tr>\n",
              "      <th>5107</th>\n",
              "      <td>35.0</td>\n",
              "      <td>0</td>\n",
              "      <td>0</td>\n",
              "      <td>3</td>\n",
              "      <td>82.99</td>\n",
              "      <td>30.6</td>\n",
              "      <td>0</td>\n",
              "      <td>0</td>\n",
              "      <td>1</td>\n",
              "      <td>0</td>\n",
              "      <td>1</td>\n",
              "    </tr>\n",
              "    <tr>\n",
              "      <th>5108</th>\n",
              "      <td>51.0</td>\n",
              "      <td>0</td>\n",
              "      <td>0</td>\n",
              "      <td>2</td>\n",
              "      <td>166.29</td>\n",
              "      <td>25.6</td>\n",
              "      <td>0</td>\n",
              "      <td>1</td>\n",
              "      <td>1</td>\n",
              "      <td>0</td>\n",
              "      <td>0</td>\n",
              "    </tr>\n",
              "    <tr>\n",
              "      <th>5109</th>\n",
              "      <td>44.0</td>\n",
              "      <td>0</td>\n",
              "      <td>0</td>\n",
              "      <td>0</td>\n",
              "      <td>85.28</td>\n",
              "      <td>26.2</td>\n",
              "      <td>0</td>\n",
              "      <td>0</td>\n",
              "      <td>1</td>\n",
              "      <td>1</td>\n",
              "      <td>2</td>\n",
              "    </tr>\n",
              "  </tbody>\n",
              "</table>\n",
              "<p>5110 rows × 11 columns</p>\n",
              "</div>"
            ],
            "text/plain": [
              "       age  hypertension  ...  Residence_type_Urban  smoking_status\n",
              "0     67.0             0  ...                     1               0\n",
              "1     61.0             0  ...                     0               1\n",
              "2     80.0             0  ...                     0               1\n",
              "3     49.0             0  ...                     1               2\n",
              "4     79.0             1  ...                     0               1\n",
              "...    ...           ...  ...                   ...             ...\n",
              "5105  80.0             1  ...                     1               1\n",
              "5106  81.0             0  ...                     1               1\n",
              "5107  35.0             0  ...                     0               1\n",
              "5108  51.0             0  ...                     0               0\n",
              "5109  44.0             0  ...                     1               2\n",
              "\n",
              "[5110 rows x 11 columns]"
            ]
          },
          "metadata": {},
          "execution_count": 40
        }
      ]
    },
    {
      "cell_type": "markdown",
      "metadata": {
        "id": "ye2zs3L_KQ2-"
      },
      "source": [
        "# build model \n"
      ]
    },
    {
      "cell_type": "code",
      "metadata": {
        "id": "d9KxEacOWhBO"
      },
      "source": [
        "x= data.drop(columns=['stroke'])\n",
        "y=data.stroke"
      ],
      "execution_count": 41,
      "outputs": []
    },
    {
      "cell_type": "code",
      "metadata": {
        "id": "JkicLZ85KTGV"
      },
      "source": [
        "from sklearn.model_selection import train_test_split\n",
        "X_train,X_test,y_train,y_test = train_test_split(x,y,test_size=1/3,random_state=23, stratify=y)"
      ],
      "execution_count": 60,
      "outputs": []
    },
    {
      "cell_type": "code",
      "metadata": {
        "colab": {
          "base_uri": "https://localhost:8080/"
        },
        "id": "0wFo_zDdKyGb",
        "outputId": "38ce6196-3697-4db3-ea7a-c31367db1d55"
      },
      "source": [
        "X_train.shape,X_test.shape"
      ],
      "execution_count": 61,
      "outputs": [
        {
          "output_type": "execute_result",
          "data": {
            "text/plain": [
              "((3406, 10), (1704, 10))"
            ]
          },
          "metadata": {},
          "execution_count": 61
        }
      ]
    },
    {
      "cell_type": "code",
      "metadata": {
        "colab": {
          "base_uri": "https://localhost:8080/",
          "height": 423
        },
        "id": "togjFJCm-5On",
        "outputId": "cd61ea93-2ab6-439c-9d8a-4c1b33455b82"
      },
      "source": [
        "X_train"
      ],
      "execution_count": 62,
      "outputs": [
        {
          "output_type": "execute_result",
          "data": {
            "text/html": [
              "<div>\n",
              "<style scoped>\n",
              "    .dataframe tbody tr th:only-of-type {\n",
              "        vertical-align: middle;\n",
              "    }\n",
              "\n",
              "    .dataframe tbody tr th {\n",
              "        vertical-align: top;\n",
              "    }\n",
              "\n",
              "    .dataframe thead th {\n",
              "        text-align: right;\n",
              "    }\n",
              "</style>\n",
              "<table border=\"1\" class=\"dataframe\">\n",
              "  <thead>\n",
              "    <tr style=\"text-align: right;\">\n",
              "      <th></th>\n",
              "      <th>age</th>\n",
              "      <th>hypertension</th>\n",
              "      <th>heart_disease</th>\n",
              "      <th>work_type</th>\n",
              "      <th>avg_glucose_level</th>\n",
              "      <th>bmi</th>\n",
              "      <th>gender_Male</th>\n",
              "      <th>ever_married_Yes</th>\n",
              "      <th>Residence_type_Urban</th>\n",
              "      <th>smoking_status</th>\n",
              "    </tr>\n",
              "  </thead>\n",
              "  <tbody>\n",
              "    <tr>\n",
              "      <th>1789</th>\n",
              "      <td>13.0</td>\n",
              "      <td>0</td>\n",
              "      <td>0</td>\n",
              "      <td>1</td>\n",
              "      <td>70.93</td>\n",
              "      <td>22.9</td>\n",
              "      <td>0</td>\n",
              "      <td>0</td>\n",
              "      <td>1</td>\n",
              "      <td>1</td>\n",
              "    </tr>\n",
              "    <tr>\n",
              "      <th>3685</th>\n",
              "      <td>2.0</td>\n",
              "      <td>0</td>\n",
              "      <td>0</td>\n",
              "      <td>4</td>\n",
              "      <td>82.30</td>\n",
              "      <td>18.8</td>\n",
              "      <td>0</td>\n",
              "      <td>0</td>\n",
              "      <td>1</td>\n",
              "      <td>1</td>\n",
              "    </tr>\n",
              "    <tr>\n",
              "      <th>1196</th>\n",
              "      <td>33.0</td>\n",
              "      <td>0</td>\n",
              "      <td>0</td>\n",
              "      <td>2</td>\n",
              "      <td>79.91</td>\n",
              "      <td>33.5</td>\n",
              "      <td>0</td>\n",
              "      <td>1</td>\n",
              "      <td>1</td>\n",
              "      <td>1</td>\n",
              "    </tr>\n",
              "    <tr>\n",
              "      <th>1804</th>\n",
              "      <td>48.0</td>\n",
              "      <td>1</td>\n",
              "      <td>0</td>\n",
              "      <td>2</td>\n",
              "      <td>110.53</td>\n",
              "      <td>34.2</td>\n",
              "      <td>1</td>\n",
              "      <td>0</td>\n",
              "      <td>1</td>\n",
              "      <td>1</td>\n",
              "    </tr>\n",
              "    <tr>\n",
              "      <th>4434</th>\n",
              "      <td>63.0</td>\n",
              "      <td>1</td>\n",
              "      <td>0</td>\n",
              "      <td>0</td>\n",
              "      <td>192.50</td>\n",
              "      <td>29.0</td>\n",
              "      <td>0</td>\n",
              "      <td>1</td>\n",
              "      <td>1</td>\n",
              "      <td>1</td>\n",
              "    </tr>\n",
              "    <tr>\n",
              "      <th>...</th>\n",
              "      <td>...</td>\n",
              "      <td>...</td>\n",
              "      <td>...</td>\n",
              "      <td>...</td>\n",
              "      <td>...</td>\n",
              "      <td>...</td>\n",
              "      <td>...</td>\n",
              "      <td>...</td>\n",
              "      <td>...</td>\n",
              "      <td>...</td>\n",
              "    </tr>\n",
              "    <tr>\n",
              "      <th>1401</th>\n",
              "      <td>55.0</td>\n",
              "      <td>0</td>\n",
              "      <td>0</td>\n",
              "      <td>2</td>\n",
              "      <td>87.72</td>\n",
              "      <td>27.0</td>\n",
              "      <td>1</td>\n",
              "      <td>1</td>\n",
              "      <td>1</td>\n",
              "      <td>2</td>\n",
              "    </tr>\n",
              "    <tr>\n",
              "      <th>360</th>\n",
              "      <td>76.0</td>\n",
              "      <td>1</td>\n",
              "      <td>0</td>\n",
              "      <td>3</td>\n",
              "      <td>209.58</td>\n",
              "      <td>28.1</td>\n",
              "      <td>0</td>\n",
              "      <td>1</td>\n",
              "      <td>1</td>\n",
              "      <td>1</td>\n",
              "    </tr>\n",
              "    <tr>\n",
              "      <th>1669</th>\n",
              "      <td>58.0</td>\n",
              "      <td>0</td>\n",
              "      <td>0</td>\n",
              "      <td>2</td>\n",
              "      <td>94.00</td>\n",
              "      <td>28.1</td>\n",
              "      <td>1</td>\n",
              "      <td>1</td>\n",
              "      <td>1</td>\n",
              "      <td>2</td>\n",
              "    </tr>\n",
              "    <tr>\n",
              "      <th>1786</th>\n",
              "      <td>75.0</td>\n",
              "      <td>0</td>\n",
              "      <td>0</td>\n",
              "      <td>3</td>\n",
              "      <td>87.69</td>\n",
              "      <td>27.5</td>\n",
              "      <td>0</td>\n",
              "      <td>1</td>\n",
              "      <td>1</td>\n",
              "      <td>0</td>\n",
              "    </tr>\n",
              "    <tr>\n",
              "      <th>2039</th>\n",
              "      <td>65.0</td>\n",
              "      <td>0</td>\n",
              "      <td>0</td>\n",
              "      <td>2</td>\n",
              "      <td>74.01</td>\n",
              "      <td>28.7</td>\n",
              "      <td>0</td>\n",
              "      <td>1</td>\n",
              "      <td>1</td>\n",
              "      <td>2</td>\n",
              "    </tr>\n",
              "  </tbody>\n",
              "</table>\n",
              "<p>3406 rows × 10 columns</p>\n",
              "</div>"
            ],
            "text/plain": [
              "       age  hypertension  ...  Residence_type_Urban  smoking_status\n",
              "1789  13.0             0  ...                     1               1\n",
              "3685   2.0             0  ...                     1               1\n",
              "1196  33.0             0  ...                     1               1\n",
              "1804  48.0             1  ...                     1               1\n",
              "4434  63.0             1  ...                     1               1\n",
              "...    ...           ...  ...                   ...             ...\n",
              "1401  55.0             0  ...                     1               2\n",
              "360   76.0             1  ...                     1               1\n",
              "1669  58.0             0  ...                     1               2\n",
              "1786  75.0             0  ...                     1               0\n",
              "2039  65.0             0  ...                     1               2\n",
              "\n",
              "[3406 rows x 10 columns]"
            ]
          },
          "metadata": {},
          "execution_count": 62
        }
      ]
    },
    {
      "cell_type": "markdown",
      "metadata": {
        "id": "lKsDmOHfqq_A"
      },
      "source": [
        "# numerical value standerdization"
      ]
    },
    {
      "cell_type": "code",
      "metadata": {
        "id": "MfG7hHepwZIb"
      },
      "source": [
        "from sklearn.preprocessing import MinMaxScaler, RobustScaler,StandardScaler"
      ],
      "execution_count": 63,
      "outputs": []
    },
    {
      "cell_type": "code",
      "metadata": {
        "id": "PvDqRB4cci_P"
      },
      "source": [
        "scaler = StandardScaler().fit(X_train)\n",
        "X_train_std_scl = scaler.transform(X_train)\n",
        "X_test_std_scl = scaler.transform(X_test)"
      ],
      "execution_count": 64,
      "outputs": []
    },
    {
      "cell_type": "code",
      "metadata": {
        "colab": {
          "base_uri": "https://localhost:8080/"
        },
        "id": "krg8_iwjQhM3",
        "outputId": "aad3b1e9-29e5-4862-ee4e-1f36decd3055"
      },
      "source": [
        "X_train_std_scl.shape,X_test_std_scl.shape,y_train.shape,y_test.shape"
      ],
      "execution_count": 65,
      "outputs": [
        {
          "output_type": "execute_result",
          "data": {
            "text/plain": [
              "((3406, 10), (1704, 10), (3406,), (1704,))"
            ]
          },
          "metadata": {},
          "execution_count": 65
        }
      ]
    },
    {
      "cell_type": "markdown",
      "metadata": {
        "id": "ZSr0AMAhQb7P"
      },
      "source": [
        "#creating model"
      ]
    },
    {
      "cell_type": "code",
      "metadata": {
        "id": "H_HC__6R82LN"
      },
      "source": [
        "classifiers = {\n",
        "    'Logistic Regression' : LogisticRegression(),\n",
        "    'Decision Tree' : DecisionTreeClassifier(),\n",
        "    'Random Forest' : RandomForestClassifier(),\n",
        "    'Support Vector Machines' : SVC(),\n",
        "    'K-nearest Neighbors' : KNeighborsClassifier(),\n",
        "    'XGBoost' : XGBClassifier(),\n",
        "    'LGBBoost':LGBMClassifier()\n",
        "\n",
        "}"
      ],
      "execution_count": 66,
      "outputs": []
    },
    {
      "cell_type": "code",
      "metadata": {
        "colab": {
          "base_uri": "https://localhost:8080/",
          "height": 269
        },
        "id": "_71v8uT-QveS",
        "outputId": "ff0b08fd-8fd7-4db7-d82e-7d576216bcd6"
      },
      "source": [
        "results=pd.DataFrame(columns=['Accuracy in %','F1-score'])\n",
        "for method,func in classifiers.items():\n",
        "    func.fit(X_train_std_scl,y_train)\n",
        "    pred = func.predict(X_test_std_scl)\n",
        "    results.loc[method]= [100*np.round(accuracy_score(y_test,pred),decimals=4),\n",
        "                         round(f1_score(y_test,pred),2)]\n",
        "results"
      ],
      "execution_count": 67,
      "outputs": [
        {
          "output_type": "execute_result",
          "data": {
            "text/html": [
              "<div>\n",
              "<style scoped>\n",
              "    .dataframe tbody tr th:only-of-type {\n",
              "        vertical-align: middle;\n",
              "    }\n",
              "\n",
              "    .dataframe tbody tr th {\n",
              "        vertical-align: top;\n",
              "    }\n",
              "\n",
              "    .dataframe thead th {\n",
              "        text-align: right;\n",
              "    }\n",
              "</style>\n",
              "<table border=\"1\" class=\"dataframe\">\n",
              "  <thead>\n",
              "    <tr style=\"text-align: right;\">\n",
              "      <th></th>\n",
              "      <th>Accuracy in %</th>\n",
              "      <th>F1-score</th>\n",
              "    </tr>\n",
              "  </thead>\n",
              "  <tbody>\n",
              "    <tr>\n",
              "      <th>Logistic Regression</th>\n",
              "      <td>95.13</td>\n",
              "      <td>0.00</td>\n",
              "    </tr>\n",
              "    <tr>\n",
              "      <th>Decision Tree</th>\n",
              "      <td>91.37</td>\n",
              "      <td>0.18</td>\n",
              "    </tr>\n",
              "    <tr>\n",
              "      <th>Random Forest</th>\n",
              "      <td>95.07</td>\n",
              "      <td>0.02</td>\n",
              "    </tr>\n",
              "    <tr>\n",
              "      <th>Support Vector Machines</th>\n",
              "      <td>95.13</td>\n",
              "      <td>0.00</td>\n",
              "    </tr>\n",
              "    <tr>\n",
              "      <th>K-nearest Neighbors</th>\n",
              "      <td>94.89</td>\n",
              "      <td>0.00</td>\n",
              "    </tr>\n",
              "    <tr>\n",
              "      <th>XGBoost</th>\n",
              "      <td>95.01</td>\n",
              "      <td>0.00</td>\n",
              "    </tr>\n",
              "    <tr>\n",
              "      <th>LGBBoost</th>\n",
              "      <td>94.37</td>\n",
              "      <td>0.08</td>\n",
              "    </tr>\n",
              "  </tbody>\n",
              "</table>\n",
              "</div>"
            ],
            "text/plain": [
              "                         Accuracy in %  F1-score\n",
              "Logistic Regression              95.13      0.00\n",
              "Decision Tree                    91.37      0.18\n",
              "Random Forest                    95.07      0.02\n",
              "Support Vector Machines          95.13      0.00\n",
              "K-nearest Neighbors              94.89      0.00\n",
              "XGBoost                          95.01      0.00\n",
              "LGBBoost                         94.37      0.08"
            ]
          },
          "metadata": {},
          "execution_count": 67
        }
      ]
    },
    {
      "cell_type": "markdown",
      "metadata": {
        "id": "xXKfGO0OstM4"
      },
      "source": [
        "#hypertuning"
      ]
    },
    {
      "cell_type": "markdown",
      "metadata": {
        "id": "Zo572fldswro"
      },
      "source": [
        "#### lgboosting hypertune"
      ]
    },
    {
      "cell_type": "code",
      "metadata": {
        "id": "LkHTE-e_-1Zd",
        "colab": {
          "base_uri": "https://localhost:8080/"
        },
        "outputId": "8cf95db0-bfdd-4ca8-c918-6eda3fd1050d"
      },
      "source": [
        "lgb = LGBMClassifier()\n",
        "#Define the parameters\n",
        "parameters = {'num_leaves':[20,40,60,80,100], 'min_child_samples':[5,10,15],'max_depth':[5,8,12,10],\n",
        "             'learning_rate':[0.05,0.1, 0.01, 0.02],'reg_alpha':[0,0.01,0.03], 'num_iterations': [100,200,300,500]}\n",
        "reg = HalvingGridSearchCV(lgb,parameters,scoring=\"roc_auc\",cv=3,n_jobs=1,factor=3)\n",
        "reg.fit(X_train_std_scl, y_train)"
      ],
      "execution_count": 68,
      "outputs": [
        {
          "output_type": "execute_result",
          "data": {
            "text/plain": [
              "HalvingGridSearchCV(cv=3, estimator=LGBMClassifier(), n_jobs=1,\n",
              "                    param_grid={'learning_rate': [0.05, 0.1, 0.01, 0.02],\n",
              "                                'max_depth': [5, 8, 12, 10],\n",
              "                                'min_child_samples': [5, 10, 15],\n",
              "                                'num_iterations': [100, 200, 300, 500],\n",
              "                                'num_leaves': [20, 40, 60, 80, 100],\n",
              "                                'reg_alpha': [0, 0.01, 0.03]},\n",
              "                    scoring='roc_auc')"
            ]
          },
          "metadata": {},
          "execution_count": 68
        }
      ]
    },
    {
      "cell_type": "code",
      "metadata": {
        "colab": {
          "base_uri": "https://localhost:8080/"
        },
        "id": "A655TpaNEIx1",
        "outputId": "8daf4914-9209-4518-902d-14702d81850b"
      },
      "source": [
        "print(reg.best_params_)\n",
        "print(reg.best_score_)\n",
        "reg.score(X_test_std_scl,y_test)"
      ],
      "execution_count": 71,
      "outputs": [
        {
          "output_type": "stream",
          "name": "stdout",
          "text": [
            "{'learning_rate': 0.05, 'max_depth': 5, 'min_child_samples': 5, 'num_iterations': 200, 'num_leaves': 40, 'reg_alpha': 0.01}\n",
            "0.7907739741881304\n"
          ]
        },
        {
          "output_type": "execute_result",
          "data": {
            "text/plain": [
              "0.8357328140445806"
            ]
          },
          "metadata": {},
          "execution_count": 71
        }
      ]
    },
    {
      "cell_type": "markdown",
      "metadata": {
        "id": "8pJ6A5w-smJY"
      },
      "source": [
        "#### xgboosting hypertune"
      ]
    },
    {
      "cell_type": "code",
      "metadata": {
        "id": "Cw1BDd-9Im_a"
      },
      "source": [
        "param_grid = {\n",
        "    \"max_depth\": [3, 4, 5, 7],\n",
        "    \"learning_rate\":[0.1,.02,.01,.07],\n",
        "    \" n_estimators\":[100,200,300,400,1000],\n",
        "    \"gamma\": [0, 0.25, 1],\n",
        "    \"reg_lambda\": [0, 1, 10],\n",
        "    \"scale_pos_weight\": [1, 3, 5],\n",
        "    \"subsample\": [0.8],  # Fix subsample\n",
        "    \"colsample_bytree\": [0.5],  # Fix colsample_bytree\n",
        "}\n",
        "xgb_cl=XGBClassifier()\n",
        "xgb_halv = HalvingGridSearchCV(\n",
        "    xgb_cl, param_grid, scoring=\"roc_auc\", n_jobs=1, min_resources=\"exhaust\", factor=3\n",
        ")\n",
        "xgb_halv_h= xgb_halv.fit(X_train_std_scl, y_train)\n"
      ],
      "execution_count": 72,
      "outputs": []
    },
    {
      "cell_type": "code",
      "metadata": {
        "colab": {
          "base_uri": "https://localhost:8080/"
        },
        "id": "wveAsQ5iInIz",
        "outputId": "a2b65cff-467d-49f4-a287-48fb9ea985a2"
      },
      "source": [
        "print(xgb_halv_h.best_params_)\n",
        "print(xgb_halv_h.best_score_)\n",
        "xgb_halv_h.score(X_test_std_scl,y_test)"
      ],
      "execution_count": 73,
      "outputs": [
        {
          "output_type": "stream",
          "name": "stdout",
          "text": [
            "{' n_estimators': 200, 'colsample_bytree': 0.5, 'gamma': 1, 'learning_rate': 0.07, 'max_depth': 4, 'reg_lambda': 10, 'scale_pos_weight': 5, 'subsample': 0.8}\n",
            "0.8310265957220008\n"
          ]
        },
        {
          "output_type": "execute_result",
          "data": {
            "text/plain": [
              "0.8516756724615923"
            ]
          },
          "metadata": {},
          "execution_count": 73
        }
      ]
    },
    {
      "cell_type": "markdown",
      "metadata": {
        "id": "DfeL2-xfsfxv"
      },
      "source": [
        "#### randomforest hypertune"
      ]
    },
    {
      "cell_type": "code",
      "metadata": {
        "id": "ZEycEANaSKNf"
      },
      "source": [
        "random_grid = {'n_estimators':  [100,200,300],\n",
        "               'max_features': ['auto', 'sqrt','log2'],\n",
        "               'max_depth': [10,100,700],\n",
        "               'min_samples_split': [2, 5, 10],\n",
        "               'min_samples_leaf': [1,2, 5]}\n",
        "             \n",
        "rf_cl=RandomForestClassifier()\n",
        "rand_halv = HalvingGridSearchCV(\n",
        "    rf_cl, random_grid, scoring=\"roc_auc\", n_jobs=-1,factor=3\n",
        ")\n",
        "rand_halv_h= rand_halv.fit(X_train_std_scl, y_train)"
      ],
      "execution_count": 78,
      "outputs": []
    },
    {
      "cell_type": "code",
      "metadata": {
        "colab": {
          "base_uri": "https://localhost:8080/"
        },
        "id": "SuSjlggzTjKb",
        "outputId": "193e5657-577d-4984-8299-60d8f0b7591e"
      },
      "source": [
        "print(rand_halv_h.best_params_)\n",
        "print(rand_halv_h.best_estimator_)\n",
        "print(rand_halv_h.best_score_)"
      ],
      "execution_count": 79,
      "outputs": [
        {
          "output_type": "stream",
          "name": "stdout",
          "text": [
            "{'max_depth': 10, 'max_features': 'log2', 'min_samples_leaf': 5, 'min_samples_split': 10, 'n_estimators': 200}\n",
            "RandomForestClassifier(max_depth=10, max_features='log2', min_samples_leaf=5,\n",
            "                       min_samples_split=10, n_estimators=200)\n",
            "0.820317549529296\n"
          ]
        }
      ]
    },
    {
      "cell_type": "code",
      "metadata": {
        "colab": {
          "base_uri": "https://localhost:8080/"
        },
        "id": "npka4oK0Tv5s",
        "outputId": "95272925-91a1-4153-f660-165877795e00"
      },
      "source": [
        "rand_halv_h.score(X_test_std_scl,y_test)"
      ],
      "execution_count": 80,
      "outputs": [
        {
          "output_type": "execute_result",
          "data": {
            "text/plain": [
              "0.8542770712708948"
            ]
          },
          "metadata": {},
          "execution_count": 80
        }
      ]
    },
    {
      "cell_type": "markdown",
      "metadata": {
        "id": "zywBosGeTHGh"
      },
      "source": [
        "# ann model apply"
      ]
    },
    {
      "cell_type": "code",
      "metadata": {
        "id": "wuULjXWmTJVt"
      },
      "source": [
        "import tensorflow as tf\n",
        "from tensorflow.keras.models import Sequential\n",
        "from tensorflow.keras.layers import Dense, Activation,Dropout\n",
        "from tensorflow.keras.optimizers import Adam\n",
        "from tensorflow.keras.callbacks import EarlyStopping\n",
        "X_train, X_val, y_train, y_val = train_test_split(X_train_std_scl,y_train,test_size=0.20)"
      ],
      "execution_count": null,
      "outputs": []
    },
    {
      "cell_type": "code",
      "metadata": {
        "colab": {
          "base_uri": "https://localhost:8080/"
        },
        "id": "hQegR2F5TJYv",
        "outputId": "7291617c-c206-49f3-b908-6e9479823b19"
      },
      "source": [
        "\n",
        "\n",
        "model = Sequential()\n",
        "model.add(Dense(12,activation='relu'))\n",
        "model.add(Dense(50,activation='relu',kernel_initializer=tf.random_uniform_initializer(minval=-0.1, maxval=0.1),\n",
        "    bias_initializer=tf.random_uniform_initializer(minval=-0.1, maxval=0.1)))\n",
        "model.add(Dropout(0.2))\n",
        "model.add(Dense(50,activation='relu',kernel_initializer=tf.random_uniform_initializer(minval=-0.1, maxval=0.1),\n",
        "    bias_initializer=tf.random_uniform_initializer(minval=-0.1, maxval=0.1)))\n",
        "model.add(Dropout(0.2))\n",
        "model.add(Dense(50,activation='relu',kernel_initializer=tf.random_uniform_initializer(minval=-0.1, maxval=0.1),\n",
        "    bias_initializer=tf.random_uniform_initializer(minval=-0.1, maxval=0.1)))\n",
        "model.add(Dropout(0.2))\n",
        "model.add(Dense(1,activation='sigmoid'))\n",
        "\n",
        "model.compile(loss='binary_crossentropy', optimizer='adam',metrics = [\"accuracy\"])\n",
        "\n",
        "early_stop = EarlyStopping(monitor='val_loss', mode='min', verbose=1, patience=5)\n",
        "\n",
        "model.fit(x=X_train,y=y_train,\n",
        "          validation_data=(X_val,y_val.values),\n",
        "          batch_size=100,epochs=150,callbacks=[early_stop])"
      ],
      "execution_count": null,
      "outputs": [
        {
          "output_type": "stream",
          "name": "stdout",
          "text": [
            "Epoch 1/150\n",
            "28/28 [==============================] - 1s 11ms/step - loss: 0.6009 - accuracy: 0.8293 - val_loss: 0.4481 - val_accuracy: 0.9428\n",
            "Epoch 2/150\n",
            "28/28 [==============================] - 0s 4ms/step - loss: 0.3008 - accuracy: 0.9534 - val_loss: 0.2684 - val_accuracy: 0.9428\n",
            "Epoch 3/150\n",
            "28/28 [==============================] - 0s 3ms/step - loss: 0.2148 - accuracy: 0.9534 - val_loss: 0.2383 - val_accuracy: 0.9428\n",
            "Epoch 4/150\n",
            "28/28 [==============================] - 0s 4ms/step - loss: 0.2033 - accuracy: 0.9534 - val_loss: 0.2273 - val_accuracy: 0.9428\n",
            "Epoch 5/150\n",
            "28/28 [==============================] - 0s 4ms/step - loss: 0.1977 - accuracy: 0.9534 - val_loss: 0.2231 - val_accuracy: 0.9428\n",
            "Epoch 6/150\n",
            "28/28 [==============================] - 0s 3ms/step - loss: 0.1906 - accuracy: 0.9534 - val_loss: 0.2154 - val_accuracy: 0.9428\n",
            "Epoch 7/150\n",
            "28/28 [==============================] - 0s 4ms/step - loss: 0.1853 - accuracy: 0.9534 - val_loss: 0.2118 - val_accuracy: 0.9428\n",
            "Epoch 8/150\n",
            "28/28 [==============================] - 0s 3ms/step - loss: 0.1822 - accuracy: 0.9534 - val_loss: 0.2096 - val_accuracy: 0.9428\n",
            "Epoch 9/150\n",
            "28/28 [==============================] - 0s 4ms/step - loss: 0.1839 - accuracy: 0.9534 - val_loss: 0.2042 - val_accuracy: 0.9428\n",
            "Epoch 10/150\n",
            "28/28 [==============================] - 0s 3ms/step - loss: 0.1792 - accuracy: 0.9534 - val_loss: 0.2025 - val_accuracy: 0.9428\n",
            "Epoch 11/150\n",
            "28/28 [==============================] - 0s 3ms/step - loss: 0.1769 - accuracy: 0.9534 - val_loss: 0.1986 - val_accuracy: 0.9428\n",
            "Epoch 12/150\n",
            "28/28 [==============================] - 0s 4ms/step - loss: 0.1747 - accuracy: 0.9534 - val_loss: 0.2011 - val_accuracy: 0.9428\n",
            "Epoch 13/150\n",
            "28/28 [==============================] - 0s 4ms/step - loss: 0.1720 - accuracy: 0.9534 - val_loss: 0.2034 - val_accuracy: 0.9428\n",
            "Epoch 14/150\n",
            "28/28 [==============================] - 0s 4ms/step - loss: 0.1649 - accuracy: 0.9534 - val_loss: 0.1985 - val_accuracy: 0.9428\n",
            "Epoch 15/150\n",
            "28/28 [==============================] - 0s 4ms/step - loss: 0.1667 - accuracy: 0.9534 - val_loss: 0.1963 - val_accuracy: 0.9428\n",
            "Epoch 16/150\n",
            "28/28 [==============================] - 0s 4ms/step - loss: 0.1662 - accuracy: 0.9534 - val_loss: 0.1937 - val_accuracy: 0.9428\n",
            "Epoch 17/150\n",
            "28/28 [==============================] - 0s 4ms/step - loss: 0.1621 - accuracy: 0.9534 - val_loss: 0.1944 - val_accuracy: 0.9428\n",
            "Epoch 18/150\n",
            "28/28 [==============================] - 0s 4ms/step - loss: 0.1637 - accuracy: 0.9534 - val_loss: 0.1958 - val_accuracy: 0.9428\n",
            "Epoch 19/150\n",
            "28/28 [==============================] - 0s 3ms/step - loss: 0.1605 - accuracy: 0.9534 - val_loss: 0.1945 - val_accuracy: 0.9428\n",
            "Epoch 20/150\n",
            "28/28 [==============================] - 0s 4ms/step - loss: 0.1562 - accuracy: 0.9534 - val_loss: 0.1951 - val_accuracy: 0.9428\n",
            "Epoch 21/150\n",
            "28/28 [==============================] - 0s 4ms/step - loss: 0.1562 - accuracy: 0.9534 - val_loss: 0.1916 - val_accuracy: 0.9428\n",
            "Epoch 22/150\n",
            "28/28 [==============================] - 0s 4ms/step - loss: 0.1547 - accuracy: 0.9534 - val_loss: 0.1948 - val_accuracy: 0.9428\n",
            "Epoch 23/150\n",
            "28/28 [==============================] - 0s 4ms/step - loss: 0.1565 - accuracy: 0.9534 - val_loss: 0.1923 - val_accuracy: 0.9428\n",
            "Epoch 24/150\n",
            "28/28 [==============================] - 0s 4ms/step - loss: 0.1499 - accuracy: 0.9534 - val_loss: 0.1985 - val_accuracy: 0.9428\n",
            "Epoch 25/150\n",
            "28/28 [==============================] - 0s 3ms/step - loss: 0.1491 - accuracy: 0.9534 - val_loss: 0.1940 - val_accuracy: 0.9428\n",
            "Epoch 26/150\n",
            "28/28 [==============================] - 0s 4ms/step - loss: 0.1536 - accuracy: 0.9534 - val_loss: 0.2018 - val_accuracy: 0.9428\n",
            "Epoch 00026: early stopping\n"
          ]
        },
        {
          "output_type": "execute_result",
          "data": {
            "text/plain": [
              "<keras.callbacks.History at 0x7f5fc9160290>"
            ]
          },
          "metadata": {},
          "execution_count": 49
        }
      ]
    },
    {
      "cell_type": "code",
      "metadata": {
        "id": "9a6ETE4bXEWL",
        "colab": {
          "base_uri": "https://localhost:8080/"
        },
        "outputId": "0c5d6e8a-bac2-4a40-da4f-562de4a0d883"
      },
      "source": [
        "#Accuracy of test dataset\n",
        "model.evaluate(X_test_std_scl,y_test)"
      ],
      "execution_count": null,
      "outputs": [
        {
          "output_type": "stream",
          "name": "stdout",
          "text": [
            "54/54 [==============================] - 0s 2ms/step - loss: 0.1597 - accuracy: 0.9513\n"
          ]
        },
        {
          "output_type": "execute_result",
          "data": {
            "text/plain": [
              "[0.15974290668964386, 0.9512910842895508]"
            ]
          },
          "metadata": {},
          "execution_count": 50
        }
      ]
    },
    {
      "cell_type": "markdown",
      "metadata": {
        "id": "351evIsTVtyj"
      },
      "source": [
        "# creating pickle file"
      ]
    },
    {
      "cell_type": "code",
      "metadata": {
        "id": "Kkga9BzxVrBi"
      },
      "source": [
        "import pickle \n",
        "pickle.dump(rn,open('stroke disease prediction.pkl','wb'))"
      ],
      "execution_count": null,
      "outputs": []
    },
    {
      "cell_type": "code",
      "metadata": {
        "id": "TTo6OjLSV-2C"
      },
      "source": [
        ""
      ],
      "execution_count": null,
      "outputs": []
    }
  ]
}