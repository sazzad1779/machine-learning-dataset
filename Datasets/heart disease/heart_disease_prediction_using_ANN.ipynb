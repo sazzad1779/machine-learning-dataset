{
  "nbformat": 4,
  "nbformat_minor": 0,
  "metadata": {
    "colab": {
      "name": "heart disease prediction using ANN.ipynb",
      "provenance": [],
      "collapsed_sections": []
    },
    "kernelspec": {
      "name": "python3",
      "display_name": "Python 3"
    },
    "language_info": {
      "name": "python"
    }
  },
  "cells": [
    {
      "cell_type": "code",
      "metadata": {
        "id": "s1L_ZUx1aB-2"
      },
      "source": [
        "\n",
        "import pandas as pd\n",
        "import numpy as np\n",
        "import matplotlib.pyplot as plt\n",
        "import numpy as np # linear algebra\n",
        "import pandas as pd # data processing, CSV file I/O (e.g. pd.read_csv)\n",
        "import seaborn as sns\n",
        "import pickle"
      ],
      "execution_count": 1,
      "outputs": []
    },
    {
      "cell_type": "code",
      "metadata": {
        "colab": {
          "base_uri": "https://localhost:8080/"
        },
        "id": "sDn6mYKIiwIv",
        "outputId": "e9934763-786d-49e4-87fb-943e4ddedf45"
      },
      "source": [
        "heart_dataset = pd.read_csv(\"https://raw.githubusercontent.com/sazzad15-1779/Datasets/master/heart%20disease/heart_dataset_1.csv\")\n",
        "print (heart_dataset.head())\n",
        "print (heart_dataset.shape)"
      ],
      "execution_count": 2,
      "outputs": [
        {
          "output_type": "stream",
          "name": "stdout",
          "text": [
            "   age  sex  cp  trestbps  chol  fbs  ...  exang  oldpeak  slope  ca  thal  target\n",
            "0   52    1   0       125   212    0  ...      0      1.0      2   2     3       0\n",
            "1   53    1   0       140   203    1  ...      1      3.1      0   0     3       0\n",
            "2   70    1   0       145   174    0  ...      1      2.6      0   0     3       0\n",
            "3   61    1   0       148   203    0  ...      0      0.0      2   1     3       0\n",
            "4   62    0   0       138   294    1  ...      0      1.9      1   3     2       0\n",
            "\n",
            "[5 rows x 14 columns]\n",
            "(1025, 14)\n"
          ]
        }
      ]
    },
    {
      "cell_type": "code",
      "metadata": {
        "colab": {
          "base_uri": "https://localhost:8080/",
          "height": 320
        },
        "id": "nfhxdlC9nA4k",
        "outputId": "75160b92-8148-47c0-8cc0-1452a1801768"
      },
      "source": [
        "heart_dataset.describe()"
      ],
      "execution_count": 3,
      "outputs": [
        {
          "output_type": "execute_result",
          "data": {
            "text/html": [
              "<div>\n",
              "<style scoped>\n",
              "    .dataframe tbody tr th:only-of-type {\n",
              "        vertical-align: middle;\n",
              "    }\n",
              "\n",
              "    .dataframe tbody tr th {\n",
              "        vertical-align: top;\n",
              "    }\n",
              "\n",
              "    .dataframe thead th {\n",
              "        text-align: right;\n",
              "    }\n",
              "</style>\n",
              "<table border=\"1\" class=\"dataframe\">\n",
              "  <thead>\n",
              "    <tr style=\"text-align: right;\">\n",
              "      <th></th>\n",
              "      <th>age</th>\n",
              "      <th>sex</th>\n",
              "      <th>cp</th>\n",
              "      <th>trestbps</th>\n",
              "      <th>chol</th>\n",
              "      <th>fbs</th>\n",
              "      <th>restecg</th>\n",
              "      <th>thalach</th>\n",
              "      <th>exang</th>\n",
              "      <th>oldpeak</th>\n",
              "      <th>slope</th>\n",
              "      <th>ca</th>\n",
              "      <th>thal</th>\n",
              "      <th>target</th>\n",
              "    </tr>\n",
              "  </thead>\n",
              "  <tbody>\n",
              "    <tr>\n",
              "      <th>count</th>\n",
              "      <td>1025.000000</td>\n",
              "      <td>1025.000000</td>\n",
              "      <td>1025.000000</td>\n",
              "      <td>1025.000000</td>\n",
              "      <td>1025.00000</td>\n",
              "      <td>1025.000000</td>\n",
              "      <td>1025.000000</td>\n",
              "      <td>1025.000000</td>\n",
              "      <td>1025.000000</td>\n",
              "      <td>1025.000000</td>\n",
              "      <td>1025.000000</td>\n",
              "      <td>1025.000000</td>\n",
              "      <td>1025.000000</td>\n",
              "      <td>1025.000000</td>\n",
              "    </tr>\n",
              "    <tr>\n",
              "      <th>mean</th>\n",
              "      <td>54.434146</td>\n",
              "      <td>0.695610</td>\n",
              "      <td>0.942439</td>\n",
              "      <td>131.611707</td>\n",
              "      <td>246.00000</td>\n",
              "      <td>0.149268</td>\n",
              "      <td>0.529756</td>\n",
              "      <td>149.114146</td>\n",
              "      <td>0.336585</td>\n",
              "      <td>1.071512</td>\n",
              "      <td>1.385366</td>\n",
              "      <td>0.754146</td>\n",
              "      <td>2.323902</td>\n",
              "      <td>0.513171</td>\n",
              "    </tr>\n",
              "    <tr>\n",
              "      <th>std</th>\n",
              "      <td>9.072290</td>\n",
              "      <td>0.460373</td>\n",
              "      <td>1.029641</td>\n",
              "      <td>17.516718</td>\n",
              "      <td>51.59251</td>\n",
              "      <td>0.356527</td>\n",
              "      <td>0.527878</td>\n",
              "      <td>23.005724</td>\n",
              "      <td>0.472772</td>\n",
              "      <td>1.175053</td>\n",
              "      <td>0.617755</td>\n",
              "      <td>1.030798</td>\n",
              "      <td>0.620660</td>\n",
              "      <td>0.500070</td>\n",
              "    </tr>\n",
              "    <tr>\n",
              "      <th>min</th>\n",
              "      <td>29.000000</td>\n",
              "      <td>0.000000</td>\n",
              "      <td>0.000000</td>\n",
              "      <td>94.000000</td>\n",
              "      <td>126.00000</td>\n",
              "      <td>0.000000</td>\n",
              "      <td>0.000000</td>\n",
              "      <td>71.000000</td>\n",
              "      <td>0.000000</td>\n",
              "      <td>0.000000</td>\n",
              "      <td>0.000000</td>\n",
              "      <td>0.000000</td>\n",
              "      <td>0.000000</td>\n",
              "      <td>0.000000</td>\n",
              "    </tr>\n",
              "    <tr>\n",
              "      <th>25%</th>\n",
              "      <td>48.000000</td>\n",
              "      <td>0.000000</td>\n",
              "      <td>0.000000</td>\n",
              "      <td>120.000000</td>\n",
              "      <td>211.00000</td>\n",
              "      <td>0.000000</td>\n",
              "      <td>0.000000</td>\n",
              "      <td>132.000000</td>\n",
              "      <td>0.000000</td>\n",
              "      <td>0.000000</td>\n",
              "      <td>1.000000</td>\n",
              "      <td>0.000000</td>\n",
              "      <td>2.000000</td>\n",
              "      <td>0.000000</td>\n",
              "    </tr>\n",
              "    <tr>\n",
              "      <th>50%</th>\n",
              "      <td>56.000000</td>\n",
              "      <td>1.000000</td>\n",
              "      <td>1.000000</td>\n",
              "      <td>130.000000</td>\n",
              "      <td>240.00000</td>\n",
              "      <td>0.000000</td>\n",
              "      <td>1.000000</td>\n",
              "      <td>152.000000</td>\n",
              "      <td>0.000000</td>\n",
              "      <td>0.800000</td>\n",
              "      <td>1.000000</td>\n",
              "      <td>0.000000</td>\n",
              "      <td>2.000000</td>\n",
              "      <td>1.000000</td>\n",
              "    </tr>\n",
              "    <tr>\n",
              "      <th>75%</th>\n",
              "      <td>61.000000</td>\n",
              "      <td>1.000000</td>\n",
              "      <td>2.000000</td>\n",
              "      <td>140.000000</td>\n",
              "      <td>275.00000</td>\n",
              "      <td>0.000000</td>\n",
              "      <td>1.000000</td>\n",
              "      <td>166.000000</td>\n",
              "      <td>1.000000</td>\n",
              "      <td>1.800000</td>\n",
              "      <td>2.000000</td>\n",
              "      <td>1.000000</td>\n",
              "      <td>3.000000</td>\n",
              "      <td>1.000000</td>\n",
              "    </tr>\n",
              "    <tr>\n",
              "      <th>max</th>\n",
              "      <td>77.000000</td>\n",
              "      <td>1.000000</td>\n",
              "      <td>3.000000</td>\n",
              "      <td>200.000000</td>\n",
              "      <td>564.00000</td>\n",
              "      <td>1.000000</td>\n",
              "      <td>2.000000</td>\n",
              "      <td>202.000000</td>\n",
              "      <td>1.000000</td>\n",
              "      <td>6.200000</td>\n",
              "      <td>2.000000</td>\n",
              "      <td>4.000000</td>\n",
              "      <td>3.000000</td>\n",
              "      <td>1.000000</td>\n",
              "    </tr>\n",
              "  </tbody>\n",
              "</table>\n",
              "</div>"
            ],
            "text/plain": [
              "               age          sex  ...         thal       target\n",
              "count  1025.000000  1025.000000  ...  1025.000000  1025.000000\n",
              "mean     54.434146     0.695610  ...     2.323902     0.513171\n",
              "std       9.072290     0.460373  ...     0.620660     0.500070\n",
              "min      29.000000     0.000000  ...     0.000000     0.000000\n",
              "25%      48.000000     0.000000  ...     2.000000     0.000000\n",
              "50%      56.000000     1.000000  ...     2.000000     1.000000\n",
              "75%      61.000000     1.000000  ...     3.000000     1.000000\n",
              "max      77.000000     1.000000  ...     3.000000     1.000000\n",
              "\n",
              "[8 rows x 14 columns]"
            ]
          },
          "metadata": {},
          "execution_count": 3
        }
      ]
    },
    {
      "cell_type": "code",
      "metadata": {
        "colab": {
          "base_uri": "https://localhost:8080/"
        },
        "id": "7sAUgEKZnTaM",
        "outputId": "e6354ea6-eee5-46d3-de0f-17ab3db086e4"
      },
      "source": [
        "def print_unique_values(df):\n",
        "    for column in df:\n",
        "        print( f'{column} : {df[column].unique()}')\n",
        "        \n",
        "print_unique_values(heart_dataset)"
      ],
      "execution_count": 4,
      "outputs": [
        {
          "output_type": "stream",
          "name": "stdout",
          "text": [
            "age : [52 53 70 61 62 58 55 46 54 71 43 34 51 50 60 67 45 63 42 44 56 57 59 64\n",
            " 65 41 66 38 49 48 29 37 47 68 76 40 39 77 69 35 74]\n",
            "sex : [1 0]\n",
            "cp : [0 1 2 3]\n",
            "trestbps : [125 140 145 148 138 100 114 160 120 122 112 132 118 128 124 106 104 135\n",
            " 130 136 180 129 150 178 146 117 152 154 170 134 174 144 108 123 110 142\n",
            " 126 192 115  94 200 165 102 105 155 172 164 156 101]\n",
            "chol : [212 203 174 294 248 318 289 249 286 149 341 210 298 204 308 266 244 211\n",
            " 185 223 208 252 209 307 233 319 256 327 169 131 269 196 231 213 271 263\n",
            " 229 360 258 330 342 226 228 278 230 283 241 175 188 217 193 245 232 299\n",
            " 288 197 315 215 164 326 207 177 257 255 187 201 220 268 267 236 303 282\n",
            " 126 309 186 275 281 206 335 218 254 295 417 260 240 302 192 225 325 235\n",
            " 274 234 182 167 172 321 300 199 564 157 304 222 184 354 160 247 239 246\n",
            " 409 293 180 250 221 200 227 243 311 261 242 205 306 219 353 198 394 183\n",
            " 237 224 265 313 340 259 270 216 264 276 322 214 273 253 176 284 305 168\n",
            " 407 290 277 262 195 166 178 141]\n",
            "fbs : [0 1]\n",
            "restecg : [1 0 2]\n",
            "thalach : [168 155 125 161 106 122 140 145 144 116 136 192 156 142 109 162 165 148\n",
            " 172 173 146 179 152 117 115 112 163 147 182 105 150 151 169 166 178 132\n",
            " 160 123 139 111 180 164 202 157 159 170 138 175 158 126 143 141 167  95\n",
            " 190 118 103 181 108 177 134 120 171 149 154 153  88 174 114 195 133  96\n",
            " 124 131 185 194 128 127 186 184 188 130  71 137  99 121 187  97  90 129\n",
            " 113]\n",
            "exang : [0 1]\n",
            "oldpeak : [1.  3.1 2.6 0.  1.9 4.4 0.8 3.2 1.6 3.  0.7 4.2 1.5 2.2 1.1 0.3 0.4 0.6\n",
            " 3.4 2.8 1.2 2.9 3.6 1.4 0.2 2.  5.6 0.9 1.8 6.2 4.  2.5 0.5 0.1 2.1 2.4\n",
            " 3.8 2.3 1.3 3.5]\n",
            "slope : [2 0 1]\n",
            "ca : [2 0 1 3 4]\n",
            "thal : [3 2 1 0]\n",
            "target : [0 1]\n"
          ]
        }
      ]
    },
    {
      "cell_type": "code",
      "metadata": {
        "id": "FmQtFg0pnXc0"
      },
      "source": [
        "#using sklearn to get everything between 0 and 1\n",
        "from sklearn.preprocessing import MinMaxScaler\n",
        "dataset = heart_dataset.copy()\n",
        "scaler = MinMaxScaler()\n",
        "data = dataset.drop(\"target\", axis = \"columns\")\n",
        "target = dataset[\"target\"]\n",
        "data = scaler.fit_transform(data)"
      ],
      "execution_count": 5,
      "outputs": []
    },
    {
      "cell_type": "code",
      "metadata": {
        "colab": {
          "base_uri": "https://localhost:8080/"
        },
        "id": "s8ewbnB5ncBL",
        "outputId": "fd7efc18-1d25-4e2c-ea97-326621efdbf6"
      },
      "source": [
        "from sklearn.model_selection import train_test_split\n",
        "data_train, data_test, target_train, target_test = train_test_split(data,target,test_size = 0.2,random_state =42)\n",
        "print (len(data_train))"
      ],
      "execution_count": 6,
      "outputs": [
        {
          "output_type": "stream",
          "name": "stdout",
          "text": [
            "820\n"
          ]
        }
      ]
    },
    {
      "cell_type": "code",
      "metadata": {
        "colab": {
          "base_uri": "https://localhost:8080/"
        },
        "id": "dtYzKPCOne-c",
        "outputId": "02968423-f411-4117-fd12-8ff5b1ebf216"
      },
      "source": [
        "data_train, data_valid, target_train, target_valid = train_test_split(data, target, test_size=0.20, shuffle= True)\n",
        "print(\"The shape of X_train is      \", data_train.shape)\n",
        "print(\"The shape of X_test is       \",data_test.shape)\n",
        "print(\"The shape of y_train is      \",target_train.shape)\n",
        "print(\"The shape of y_test is       \",target_test.shape)\n",
        "print(\"The shape of Y_valid is      \", target_valid.shape)\n",
        "print(\"The shape of X_valid is       \",data_valid.shape)"
      ],
      "execution_count": 7,
      "outputs": [
        {
          "output_type": "stream",
          "name": "stdout",
          "text": [
            "The shape of X_train is       (820, 13)\n",
            "The shape of X_test is        (205, 13)\n",
            "The shape of y_train is       (820,)\n",
            "The shape of y_test is        (205,)\n",
            "The shape of Y_valid is       (205,)\n",
            "The shape of X_valid is        (205, 13)\n"
          ]
        }
      ]
    },
    {
      "cell_type": "code",
      "metadata": {
        "id": "1rVZhKkJnlPM"
      },
      "source": [
        "#making model ANN using tensorflow\n",
        "import tensorflow as tf\n",
        "from tensorflow import keras\n",
        "\n",
        "model = keras.models.Sequential()\n",
        "model.add(keras.layers.Dense(150, input_shape = (820,13), activation = \"relu\"))#hidden layer with 300 neurons with relu activation15\n",
        "model.add(keras.layers.Dense(75, activation = \"relu\")) #hidden layer with 100 neurons with relu activation\n",
        "model.add(keras.layers.Dense(1, activation = \"sigmoid\"))"
      ],
      "execution_count": 8,
      "outputs": []
    },
    {
      "cell_type": "code",
      "metadata": {
        "colab": {
          "base_uri": "https://localhost:8080/"
        },
        "id": "Gwoz6Emono4c",
        "outputId": "76a6ecad-eeec-49a7-a080-86878e42e7db"
      },
      "source": [
        "#model summary \n",
        "model.summary()"
      ],
      "execution_count": 9,
      "outputs": [
        {
          "output_type": "stream",
          "name": "stdout",
          "text": [
            "Model: \"sequential\"\n",
            "_________________________________________________________________\n",
            "Layer (type)                 Output Shape              Param #   \n",
            "=================================================================\n",
            "dense (Dense)                (None, 820, 150)          2100      \n",
            "_________________________________________________________________\n",
            "dense_1 (Dense)              (None, 820, 75)           11325     \n",
            "_________________________________________________________________\n",
            "dense_2 (Dense)              (None, 820, 1)            76        \n",
            "=================================================================\n",
            "Total params: 13,501\n",
            "Trainable params: 13,501\n",
            "Non-trainable params: 0\n",
            "_________________________________________________________________\n"
          ]
        }
      ]
    },
    {
      "cell_type": "code",
      "metadata": {
        "id": "VhbQ_WY7NgAi"
      },
      "source": [
        "#making model ANN using tensorflow\n",
        "model1 = keras.models.Sequential()\n",
        "model1.add(keras.layers.Dense(150, input_shape = (820,13), activation = \"relu\"))#hidden layer with 300 neurons with relu activation15\n",
        "model1.add(keras.layers.Dense(75, activation = \"relu\"))\n",
        "model1.add(keras.layers.Dense(70, activation = \"relu\"))\n",
        "model1.add(keras.layers.Dense(75, activation = \"relu\"))\n",
        "model1.add(keras.layers.Dense(1, activation = \"sigmoid\"))"
      ],
      "execution_count": 10,
      "outputs": []
    },
    {
      "cell_type": "code",
      "metadata": {
        "colab": {
          "base_uri": "https://localhost:8080/"
        },
        "id": "IP9FCCVoN2fy",
        "outputId": "7cc24aae-63f9-4722-f3a3-462d3a376a92"
      },
      "source": [
        "#model summary \n",
        "model1.summary()"
      ],
      "execution_count": 11,
      "outputs": [
        {
          "output_type": "stream",
          "name": "stdout",
          "text": [
            "Model: \"sequential_1\"\n",
            "_________________________________________________________________\n",
            "Layer (type)                 Output Shape              Param #   \n",
            "=================================================================\n",
            "dense_3 (Dense)              (None, 820, 150)          2100      \n",
            "_________________________________________________________________\n",
            "dense_4 (Dense)              (None, 820, 75)           11325     \n",
            "_________________________________________________________________\n",
            "dense_5 (Dense)              (None, 820, 70)           5320      \n",
            "_________________________________________________________________\n",
            "dense_6 (Dense)              (None, 820, 75)           5325      \n",
            "_________________________________________________________________\n",
            "dense_7 (Dense)              (None, 820, 1)            76        \n",
            "=================================================================\n",
            "Total params: 24,146\n",
            "Trainable params: 24,146\n",
            "Non-trainable params: 0\n",
            "_________________________________________________________________\n"
          ]
        }
      ]
    },
    {
      "cell_type": "code",
      "metadata": {
        "colab": {
          "base_uri": "https://localhost:8080/"
        },
        "id": "p8hIGIHTnrVT",
        "outputId": "e1dd4510-4ded-402d-912a-6086bd5b3b95"
      },
      "source": [
        "#logs for tensorboard \n",
        "import os\n",
        "\n",
        "root_logdir = os.path.join(os.curdir, \"my_logs\")\n",
        "print(os.path)\n",
        "def get_run_logdir():\n",
        "    import time\n",
        "    run_id = time.strftime(\"run_%Y_%m_%d-%H_%M_%S\")\n",
        "    return os.path.join(root_logdir,run_id)\n",
        "\n",
        "run_logdir = get_run_logdir()\n",
        "print(run_logdir)"
      ],
      "execution_count": 12,
      "outputs": [
        {
          "output_type": "stream",
          "name": "stdout",
          "text": [
            "<module 'posixpath' from '/usr/lib/python3.7/posixpath.py'>\n",
            "./my_logs/run_2021_09_27-02_15_47\n"
          ]
        }
      ]
    },
    {
      "cell_type": "code",
      "metadata": {
        "id": "XEtxVAM9nzTE"
      },
      "source": [
        "#optimizer Adam with particular hyperparameter \n",
        "optimizer = tf.keras.optimizers.Adam(\n",
        "    learning_rate=0.001)"
      ],
      "execution_count": 13,
      "outputs": []
    },
    {
      "cell_type": "code",
      "metadata": {
        "colab": {
          "base_uri": "https://localhost:8080/"
        },
        "id": "j26H8Vhrn19k",
        "outputId": "843328c5-b124-4cb5-cda6-7b87b30abbbf"
      },
      "source": [
        "#compiling model\n",
        "model.compile(optimizer=optimizer,\n",
        "             loss = \"binary_crossentropy\",\n",
        "             metrics= [\"accuracy\"])\n",
        "early_stopping_nn = keras.callbacks.EarlyStopping(patience=10, restore_best_weights=True)\n",
        "tensorboard_nn = keras.callbacks.TensorBoard( log_dir = run_logdir, histogram_freq=1)\n",
        "heart_model = model.fit(data_train, target_train, epochs= 100, validation_data = (data_valid,  target_valid), callbacks= [early_stopping_nn, tensorboard_nn])"
      ],
      "execution_count": 14,
      "outputs": [
        {
          "output_type": "stream",
          "name": "stdout",
          "text": [
            "Epoch 1/100\n",
            "WARNING:tensorflow:Model was constructed with shape (None, 820, 13) for input KerasTensor(type_spec=TensorSpec(shape=(None, 820, 13), dtype=tf.float32, name='dense_input'), name='dense_input', description=\"created by layer 'dense_input'\"), but it was called on an input with incompatible shape (None, 13).\n",
            "WARNING:tensorflow:Model was constructed with shape (None, 820, 13) for input KerasTensor(type_spec=TensorSpec(shape=(None, 820, 13), dtype=tf.float32, name='dense_input'), name='dense_input', description=\"created by layer 'dense_input'\"), but it was called on an input with incompatible shape (None, 13).\n",
            " 3/26 [==>...........................] - ETA: 0s - loss: 0.6857 - accuracy: 0.5312 WARNING:tensorflow:Model was constructed with shape (None, 820, 13) for input KerasTensor(type_spec=TensorSpec(shape=(None, 820, 13), dtype=tf.float32, name='dense_input'), name='dense_input', description=\"created by layer 'dense_input'\"), but it was called on an input with incompatible shape (None, 13).\n",
            "26/26 [==============================] - 1s 12ms/step - loss: 0.5970 - accuracy: 0.7183 - val_loss: 0.4971 - val_accuracy: 0.8000\n",
            "Epoch 2/100\n",
            "26/26 [==============================] - 0s 3ms/step - loss: 0.4489 - accuracy: 0.8146 - val_loss: 0.3980 - val_accuracy: 0.8195\n",
            "Epoch 3/100\n",
            "26/26 [==============================] - 0s 3ms/step - loss: 0.3878 - accuracy: 0.8293 - val_loss: 0.3638 - val_accuracy: 0.8341\n",
            "Epoch 4/100\n",
            "26/26 [==============================] - 0s 3ms/step - loss: 0.3638 - accuracy: 0.8500 - val_loss: 0.3449 - val_accuracy: 0.8439\n",
            "Epoch 5/100\n",
            "26/26 [==============================] - 0s 4ms/step - loss: 0.3502 - accuracy: 0.8549 - val_loss: 0.3666 - val_accuracy: 0.8341\n",
            "Epoch 6/100\n",
            "26/26 [==============================] - 0s 4ms/step - loss: 0.3443 - accuracy: 0.8622 - val_loss: 0.3293 - val_accuracy: 0.8537\n",
            "Epoch 7/100\n",
            "26/26 [==============================] - 0s 3ms/step - loss: 0.3310 - accuracy: 0.8671 - val_loss: 0.3291 - val_accuracy: 0.8488\n",
            "Epoch 8/100\n",
            "26/26 [==============================] - 0s 3ms/step - loss: 0.3191 - accuracy: 0.8768 - val_loss: 0.3183 - val_accuracy: 0.8585\n",
            "Epoch 9/100\n",
            "26/26 [==============================] - 0s 3ms/step - loss: 0.3052 - accuracy: 0.8817 - val_loss: 0.3050 - val_accuracy: 0.8683\n",
            "Epoch 10/100\n",
            "26/26 [==============================] - 0s 3ms/step - loss: 0.2963 - accuracy: 0.8854 - val_loss: 0.2905 - val_accuracy: 0.8634\n",
            "Epoch 11/100\n",
            "26/26 [==============================] - 0s 3ms/step - loss: 0.3002 - accuracy: 0.8756 - val_loss: 0.3363 - val_accuracy: 0.8488\n",
            "Epoch 12/100\n",
            "26/26 [==============================] - 0s 3ms/step - loss: 0.2927 - accuracy: 0.8793 - val_loss: 0.3015 - val_accuracy: 0.8488\n",
            "Epoch 13/100\n",
            "26/26 [==============================] - 0s 4ms/step - loss: 0.2774 - accuracy: 0.8915 - val_loss: 0.2708 - val_accuracy: 0.8683\n",
            "Epoch 14/100\n",
            "26/26 [==============================] - 0s 4ms/step - loss: 0.2628 - accuracy: 0.8927 - val_loss: 0.2688 - val_accuracy: 0.8683\n",
            "Epoch 15/100\n",
            "26/26 [==============================] - 0s 4ms/step - loss: 0.2519 - accuracy: 0.9000 - val_loss: 0.2726 - val_accuracy: 0.8732\n",
            "Epoch 16/100\n",
            "26/26 [==============================] - 0s 4ms/step - loss: 0.2519 - accuracy: 0.9073 - val_loss: 0.2535 - val_accuracy: 0.8878\n",
            "Epoch 17/100\n",
            "26/26 [==============================] - 0s 3ms/step - loss: 0.2399 - accuracy: 0.9085 - val_loss: 0.2625 - val_accuracy: 0.8829\n",
            "Epoch 18/100\n",
            "26/26 [==============================] - 0s 3ms/step - loss: 0.2294 - accuracy: 0.9049 - val_loss: 0.2449 - val_accuracy: 0.8683\n",
            "Epoch 19/100\n",
            "26/26 [==============================] - 0s 3ms/step - loss: 0.2238 - accuracy: 0.9146 - val_loss: 0.2621 - val_accuracy: 0.8829\n",
            "Epoch 20/100\n",
            "26/26 [==============================] - 0s 3ms/step - loss: 0.2134 - accuracy: 0.9195 - val_loss: 0.2327 - val_accuracy: 0.8732\n",
            "Epoch 21/100\n",
            "26/26 [==============================] - 0s 4ms/step - loss: 0.2092 - accuracy: 0.9244 - val_loss: 0.2469 - val_accuracy: 0.8829\n",
            "Epoch 22/100\n",
            "26/26 [==============================] - 0s 4ms/step - loss: 0.2054 - accuracy: 0.9207 - val_loss: 0.2267 - val_accuracy: 0.8927\n",
            "Epoch 23/100\n",
            "26/26 [==============================] - 0s 3ms/step - loss: 0.2019 - accuracy: 0.9220 - val_loss: 0.2152 - val_accuracy: 0.8683\n",
            "Epoch 24/100\n",
            "26/26 [==============================] - 0s 3ms/step - loss: 0.1987 - accuracy: 0.9220 - val_loss: 0.2378 - val_accuracy: 0.8927\n",
            "Epoch 25/100\n",
            "26/26 [==============================] - 0s 3ms/step - loss: 0.1878 - accuracy: 0.9220 - val_loss: 0.2885 - val_accuracy: 0.8537\n",
            "Epoch 26/100\n",
            "26/26 [==============================] - 0s 3ms/step - loss: 0.1851 - accuracy: 0.9305 - val_loss: 0.2047 - val_accuracy: 0.8780\n",
            "Epoch 27/100\n",
            "26/26 [==============================] - 0s 3ms/step - loss: 0.1773 - accuracy: 0.9195 - val_loss: 0.1989 - val_accuracy: 0.8780\n",
            "Epoch 28/100\n",
            "26/26 [==============================] - 0s 3ms/step - loss: 0.1705 - accuracy: 0.9317 - val_loss: 0.2144 - val_accuracy: 0.9024\n",
            "Epoch 29/100\n",
            "26/26 [==============================] - 0s 4ms/step - loss: 0.1607 - accuracy: 0.9427 - val_loss: 0.2154 - val_accuracy: 0.9122\n",
            "Epoch 30/100\n",
            "26/26 [==============================] - 0s 4ms/step - loss: 0.1567 - accuracy: 0.9402 - val_loss: 0.1926 - val_accuracy: 0.9024\n",
            "Epoch 31/100\n",
            "26/26 [==============================] - 0s 4ms/step - loss: 0.1574 - accuracy: 0.9390 - val_loss: 0.2073 - val_accuracy: 0.9073\n",
            "Epoch 32/100\n",
            "26/26 [==============================] - 0s 4ms/step - loss: 0.1471 - accuracy: 0.9488 - val_loss: 0.1833 - val_accuracy: 0.9024\n",
            "Epoch 33/100\n",
            "26/26 [==============================] - 0s 3ms/step - loss: 0.1482 - accuracy: 0.9439 - val_loss: 0.1809 - val_accuracy: 0.9171\n",
            "Epoch 34/100\n",
            "26/26 [==============================] - 0s 4ms/step - loss: 0.1371 - accuracy: 0.9439 - val_loss: 0.1898 - val_accuracy: 0.9268\n",
            "Epoch 35/100\n",
            "26/26 [==============================] - 0s 3ms/step - loss: 0.1361 - accuracy: 0.9573 - val_loss: 0.1882 - val_accuracy: 0.9220\n",
            "Epoch 36/100\n",
            "26/26 [==============================] - 0s 3ms/step - loss: 0.1280 - accuracy: 0.9573 - val_loss: 0.1615 - val_accuracy: 0.9171\n",
            "Epoch 37/100\n",
            "26/26 [==============================] - 0s 5ms/step - loss: 0.1277 - accuracy: 0.9524 - val_loss: 0.1615 - val_accuracy: 0.9171\n",
            "Epoch 38/100\n",
            "26/26 [==============================] - 0s 4ms/step - loss: 0.1221 - accuracy: 0.9622 - val_loss: 0.1761 - val_accuracy: 0.9220\n",
            "Epoch 39/100\n",
            "26/26 [==============================] - 0s 4ms/step - loss: 0.1269 - accuracy: 0.9463 - val_loss: 0.1544 - val_accuracy: 0.9220\n",
            "Epoch 40/100\n",
            "26/26 [==============================] - 0s 3ms/step - loss: 0.1140 - accuracy: 0.9671 - val_loss: 0.1552 - val_accuracy: 0.9268\n",
            "Epoch 41/100\n",
            "26/26 [==============================] - 0s 3ms/step - loss: 0.1150 - accuracy: 0.9659 - val_loss: 0.1676 - val_accuracy: 0.9220\n",
            "Epoch 42/100\n",
            "26/26 [==============================] - 0s 3ms/step - loss: 0.1100 - accuracy: 0.9622 - val_loss: 0.1436 - val_accuracy: 0.9317\n",
            "Epoch 43/100\n",
            "26/26 [==============================] - 0s 3ms/step - loss: 0.1066 - accuracy: 0.9622 - val_loss: 0.1623 - val_accuracy: 0.9268\n",
            "Epoch 44/100\n",
            "26/26 [==============================] - 0s 4ms/step - loss: 0.1127 - accuracy: 0.9549 - val_loss: 0.1423 - val_accuracy: 0.9366\n",
            "Epoch 45/100\n",
            "26/26 [==============================] - 0s 3ms/step - loss: 0.1028 - accuracy: 0.9695 - val_loss: 0.1417 - val_accuracy: 0.9268\n",
            "Epoch 46/100\n",
            "26/26 [==============================] - 0s 3ms/step - loss: 0.1019 - accuracy: 0.9622 - val_loss: 0.1265 - val_accuracy: 0.9463\n",
            "Epoch 47/100\n",
            "26/26 [==============================] - 0s 4ms/step - loss: 0.0959 - accuracy: 0.9707 - val_loss: 0.1335 - val_accuracy: 0.9268\n",
            "Epoch 48/100\n",
            "26/26 [==============================] - 0s 3ms/step - loss: 0.1018 - accuracy: 0.9585 - val_loss: 0.1242 - val_accuracy: 0.9366\n",
            "Epoch 49/100\n",
            "26/26 [==============================] - 0s 4ms/step - loss: 0.0949 - accuracy: 0.9707 - val_loss: 0.1459 - val_accuracy: 0.9317\n",
            "Epoch 50/100\n",
            "26/26 [==============================] - 0s 4ms/step - loss: 0.0876 - accuracy: 0.9756 - val_loss: 0.1339 - val_accuracy: 0.9268\n",
            "Epoch 51/100\n",
            "26/26 [==============================] - 0s 3ms/step - loss: 0.0856 - accuracy: 0.9744 - val_loss: 0.1159 - val_accuracy: 0.9561\n",
            "Epoch 52/100\n",
            "26/26 [==============================] - 0s 3ms/step - loss: 0.0827 - accuracy: 0.9732 - val_loss: 0.1136 - val_accuracy: 0.9463\n",
            "Epoch 53/100\n",
            "26/26 [==============================] - 0s 3ms/step - loss: 0.0802 - accuracy: 0.9744 - val_loss: 0.1106 - val_accuracy: 0.9659\n",
            "Epoch 54/100\n",
            "26/26 [==============================] - 0s 4ms/step - loss: 0.0859 - accuracy: 0.9683 - val_loss: 0.1162 - val_accuracy: 0.9415\n",
            "Epoch 55/100\n",
            "26/26 [==============================] - 0s 3ms/step - loss: 0.0778 - accuracy: 0.9768 - val_loss: 0.1313 - val_accuracy: 0.9317\n",
            "Epoch 56/100\n",
            "26/26 [==============================] - 0s 3ms/step - loss: 0.0771 - accuracy: 0.9744 - val_loss: 0.1024 - val_accuracy: 0.9659\n",
            "Epoch 57/100\n",
            "26/26 [==============================] - 0s 3ms/step - loss: 0.0739 - accuracy: 0.9805 - val_loss: 0.1046 - val_accuracy: 0.9463\n",
            "Epoch 58/100\n",
            "26/26 [==============================] - 0s 3ms/step - loss: 0.0730 - accuracy: 0.9780 - val_loss: 0.0983 - val_accuracy: 0.9707\n",
            "Epoch 59/100\n",
            "26/26 [==============================] - 0s 4ms/step - loss: 0.0763 - accuracy: 0.9756 - val_loss: 0.1259 - val_accuracy: 0.9317\n",
            "Epoch 60/100\n",
            "26/26 [==============================] - 0s 4ms/step - loss: 0.0706 - accuracy: 0.9768 - val_loss: 0.0895 - val_accuracy: 0.9659\n",
            "Epoch 61/100\n",
            "26/26 [==============================] - 0s 3ms/step - loss: 0.0828 - accuracy: 0.9671 - val_loss: 0.1160 - val_accuracy: 0.9415\n",
            "Epoch 62/100\n",
            "26/26 [==============================] - 0s 3ms/step - loss: 0.0693 - accuracy: 0.9744 - val_loss: 0.0917 - val_accuracy: 0.9805\n",
            "Epoch 63/100\n",
            "26/26 [==============================] - 0s 3ms/step - loss: 0.0644 - accuracy: 0.9841 - val_loss: 0.0970 - val_accuracy: 0.9463\n",
            "Epoch 64/100\n",
            "26/26 [==============================] - 0s 4ms/step - loss: 0.0714 - accuracy: 0.9720 - val_loss: 0.0833 - val_accuracy: 0.9805\n",
            "Epoch 65/100\n",
            "26/26 [==============================] - 0s 4ms/step - loss: 0.0658 - accuracy: 0.9805 - val_loss: 0.0918 - val_accuracy: 0.9561\n",
            "Epoch 66/100\n",
            "26/26 [==============================] - 0s 3ms/step - loss: 0.0570 - accuracy: 0.9878 - val_loss: 0.0838 - val_accuracy: 0.9805\n",
            "Epoch 67/100\n",
            "26/26 [==============================] - 0s 4ms/step - loss: 0.0625 - accuracy: 0.9805 - val_loss: 0.0779 - val_accuracy: 0.9707\n",
            "Epoch 68/100\n",
            "26/26 [==============================] - 0s 4ms/step - loss: 0.0534 - accuracy: 0.9793 - val_loss: 0.1288 - val_accuracy: 0.9366\n",
            "Epoch 69/100\n",
            "26/26 [==============================] - 0s 3ms/step - loss: 0.0683 - accuracy: 0.9732 - val_loss: 0.0771 - val_accuracy: 0.9756\n",
            "Epoch 70/100\n",
            "26/26 [==============================] - 0s 3ms/step - loss: 0.0601 - accuracy: 0.9817 - val_loss: 0.0775 - val_accuracy: 0.9756\n",
            "Epoch 71/100\n",
            "26/26 [==============================] - 0s 3ms/step - loss: 0.0509 - accuracy: 0.9841 - val_loss: 0.0671 - val_accuracy: 0.9902\n",
            "Epoch 72/100\n",
            "26/26 [==============================] - 0s 3ms/step - loss: 0.0454 - accuracy: 0.9890 - val_loss: 0.0664 - val_accuracy: 0.9805\n",
            "Epoch 73/100\n",
            "26/26 [==============================] - 0s 4ms/step - loss: 0.0533 - accuracy: 0.9854 - val_loss: 0.0944 - val_accuracy: 0.9317\n",
            "Epoch 74/100\n",
            "26/26 [==============================] - 0s 3ms/step - loss: 0.0457 - accuracy: 0.9866 - val_loss: 0.0758 - val_accuracy: 0.9610\n",
            "Epoch 75/100\n",
            "26/26 [==============================] - 0s 3ms/step - loss: 0.0439 - accuracy: 0.9927 - val_loss: 0.0696 - val_accuracy: 0.9756\n",
            "Epoch 76/100\n",
            "26/26 [==============================] - 0s 3ms/step - loss: 0.0441 - accuracy: 0.9902 - val_loss: 0.0706 - val_accuracy: 0.9756\n",
            "Epoch 77/100\n",
            "26/26 [==============================] - 0s 3ms/step - loss: 0.0434 - accuracy: 0.9866 - val_loss: 0.0680 - val_accuracy: 0.9756\n",
            "Epoch 78/100\n",
            "26/26 [==============================] - 0s 3ms/step - loss: 0.0436 - accuracy: 0.9878 - val_loss: 0.0569 - val_accuracy: 0.9805\n",
            "Epoch 79/100\n",
            "26/26 [==============================] - 0s 3ms/step - loss: 0.0391 - accuracy: 0.9927 - val_loss: 0.0527 - val_accuracy: 0.9805\n",
            "Epoch 80/100\n",
            "26/26 [==============================] - 0s 4ms/step - loss: 0.0391 - accuracy: 0.9927 - val_loss: 0.0617 - val_accuracy: 0.9659\n",
            "Epoch 81/100\n",
            "26/26 [==============================] - 0s 3ms/step - loss: 0.0366 - accuracy: 0.9927 - val_loss: 0.0562 - val_accuracy: 0.9902\n",
            "Epoch 82/100\n",
            "26/26 [==============================] - 0s 3ms/step - loss: 0.0357 - accuracy: 0.9939 - val_loss: 0.0635 - val_accuracy: 0.9756\n",
            "Epoch 83/100\n",
            "26/26 [==============================] - 0s 4ms/step - loss: 0.0360 - accuracy: 0.9915 - val_loss: 0.0460 - val_accuracy: 0.9902\n",
            "Epoch 84/100\n",
            "26/26 [==============================] - 0s 3ms/step - loss: 0.0398 - accuracy: 0.9890 - val_loss: 0.0596 - val_accuracy: 0.9805\n",
            "Epoch 85/100\n",
            "26/26 [==============================] - 0s 4ms/step - loss: 0.0344 - accuracy: 0.9890 - val_loss: 0.0650 - val_accuracy: 0.9659\n",
            "Epoch 86/100\n",
            "26/26 [==============================] - 0s 3ms/step - loss: 0.0347 - accuracy: 0.9878 - val_loss: 0.0549 - val_accuracy: 0.9805\n",
            "Epoch 87/100\n",
            "26/26 [==============================] - 0s 3ms/step - loss: 0.0323 - accuracy: 0.9939 - val_loss: 0.0424 - val_accuracy: 0.9902\n",
            "Epoch 88/100\n",
            "26/26 [==============================] - 0s 3ms/step - loss: 0.0321 - accuracy: 0.9939 - val_loss: 0.0482 - val_accuracy: 0.9805\n",
            "Epoch 89/100\n",
            "26/26 [==============================] - 0s 5ms/step - loss: 0.0318 - accuracy: 0.9915 - val_loss: 0.0446 - val_accuracy: 0.9805\n",
            "Epoch 90/100\n",
            "26/26 [==============================] - 0s 3ms/step - loss: 0.0295 - accuracy: 0.9939 - val_loss: 0.0571 - val_accuracy: 0.9756\n",
            "Epoch 91/100\n",
            "26/26 [==============================] - 0s 3ms/step - loss: 0.0302 - accuracy: 0.9915 - val_loss: 0.0404 - val_accuracy: 0.9854\n",
            "Epoch 92/100\n",
            "26/26 [==============================] - 0s 3ms/step - loss: 0.0272 - accuracy: 0.9927 - val_loss: 0.0427 - val_accuracy: 0.9951\n",
            "Epoch 93/100\n",
            "26/26 [==============================] - 0s 3ms/step - loss: 0.0291 - accuracy: 0.9927 - val_loss: 0.0452 - val_accuracy: 0.9854\n",
            "Epoch 94/100\n",
            "26/26 [==============================] - 0s 3ms/step - loss: 0.0294 - accuracy: 0.9927 - val_loss: 0.0380 - val_accuracy: 0.9951\n",
            "Epoch 95/100\n",
            "26/26 [==============================] - 0s 3ms/step - loss: 0.0265 - accuracy: 0.9963 - val_loss: 0.0437 - val_accuracy: 0.9951\n",
            "Epoch 96/100\n",
            "26/26 [==============================] - 0s 4ms/step - loss: 0.0278 - accuracy: 0.9939 - val_loss: 0.0337 - val_accuracy: 0.9951\n",
            "Epoch 97/100\n",
            "26/26 [==============================] - 0s 4ms/step - loss: 0.0253 - accuracy: 0.9963 - val_loss: 0.0329 - val_accuracy: 0.9951\n",
            "Epoch 98/100\n",
            "26/26 [==============================] - 0s 4ms/step - loss: 0.0229 - accuracy: 0.9976 - val_loss: 0.0341 - val_accuracy: 0.9951\n",
            "Epoch 99/100\n",
            "26/26 [==============================] - 0s 3ms/step - loss: 0.0213 - accuracy: 0.9963 - val_loss: 0.0357 - val_accuracy: 0.9854\n",
            "Epoch 100/100\n",
            "26/26 [==============================] - 0s 3ms/step - loss: 0.0203 - accuracy: 0.9963 - val_loss: 0.0305 - val_accuracy: 0.9854\n"
          ]
        }
      ]
    },
    {
      "cell_type": "code",
      "metadata": {
        "colab": {
          "base_uri": "https://localhost:8080/",
          "height": 324
        },
        "id": "XZLBOpJBn4Lz",
        "outputId": "867b4bdb-51da-43a9-adc3-d2e9b1d54ee1"
      },
      "source": [
        "#plot graphs from model history\n",
        "sns.set_style(\"darkgrid\",)\n",
        "pd.DataFrame(heart_model.history).plot (figsize = (8,5))\n",
        "#plt.grid(True)\n",
        "plt.gca().set_ylim(0,1)\n",
        "plt.show()"
      ],
      "execution_count": 15,
      "outputs": [
        {
          "output_type": "display_data",
          "data": {
            "image/png": "[encoded data removed]",
            "text/plain": [
              "<Figure size 576x360 with 1 Axes>"
            ]
          },
          "metadata": {}
        }
      ]
    },
    {
      "cell_type": "code",
      "metadata": {
        "id": "Y2UYuZVNIvlP"
      },
      "source": [
        "#bias vs variance\n",
        "#Roc precision curve\n",
        "#random,decision,knn\n",
        "#model visualization\n",
        "#validation curve"
      ],
      "execution_count": 16,
      "outputs": []
    },
    {
      "cell_type": "code",
      "metadata": {
        "colab": {
          "base_uri": "https://localhost:8080/"
        },
        "id": "DSXefTEin90T",
        "outputId": "2442d2f1-8e8e-4000-ab25-483934d981e7"
      },
      "source": [
        "#evaluating on test dataset\n",
        "model.evaluate(data_test, target_test)"
      ],
      "execution_count": 17,
      "outputs": [
        {
          "output_type": "stream",
          "name": "stdout",
          "text": [
            "7/7 [==============================] - 0s 2ms/step - loss: 0.0273 - accuracy: 0.9902\n"
          ]
        },
        {
          "output_type": "execute_result",
          "data": {
            "text/plain": [
              "[0.02730792947113514, 0.9902439117431641]"
            ]
          },
          "metadata": {},
          "execution_count": 17
        }
      ]
    },
    {
      "cell_type": "code",
      "metadata": {
        "colab": {
          "base_uri": "https://localhost:8080/"
        },
        "id": "vkFFudyI1tX3",
        "outputId": "d3fe745d-1bda-4eef-e5f4-86f845f0ce31"
      },
      "source": [
        "\n",
        "pred =model.predict(data_valid)\n",
        "pred,target_valid\n",
        "\n"
      ],
      "execution_count": 18,
      "outputs": [
        {
          "output_type": "stream",
          "name": "stdout",
          "text": [
            "WARNING:tensorflow:Model was constructed with shape (None, 820, 13) for input KerasTensor(type_spec=TensorSpec(shape=(None, 820, 13), dtype=tf.float32, name='dense_input'), name='dense_input', description=\"created by layer 'dense_input'\"), but it was called on an input with incompatible shape (None, 13).\n"
          ]
        },
        {
          "output_type": "execute_result",
          "data": {
            "text/plain": [
              "(array([[9.9997246e-01],\n",
              "        [1.8786114e-01],\n",
              "        [1.5985976e-13],\n",
              "        [9.8545253e-02],\n",
              "        [9.7818172e-01],\n",
              "        [7.1490192e-01],\n",
              "        [9.9979877e-01],\n",
              "        [3.9791377e-08],\n",
              "        [9.9996948e-01],\n",
              "        [9.9999636e-01],\n",
              "        [4.8105106e-01],\n",
              "        [2.0794565e-05],\n",
              "        [9.9998838e-01],\n",
              "        [3.7772280e-01],\n",
              "        [9.9411809e-01],\n",
              "        [4.3959141e-02],\n",
              "        [1.6067982e-02],\n",
              "        [9.9908769e-01],\n",
              "        [9.9965847e-01],\n",
              "        [8.2784325e-14],\n",
              "        [1.3866042e-09],\n",
              "        [9.9942875e-01],\n",
              "        [7.7771887e-08],\n",
              "        [4.1248918e-02],\n",
              "        [9.8345208e-01],\n",
              "        [9.9984396e-01],\n",
              "        [9.9801195e-01],\n",
              "        [9.9997407e-01],\n",
              "        [2.9799196e-07],\n",
              "        [5.9557855e-03],\n",
              "        [8.3427737e-10],\n",
              "        [4.0355504e-02],\n",
              "        [9.8990178e-01],\n",
              "        [9.9824333e-01],\n",
              "        [9.9971217e-01],\n",
              "        [8.8937730e-02],\n",
              "        [1.8786114e-01],\n",
              "        [5.5451602e-02],\n",
              "        [9.9886453e-01],\n",
              "        [9.9997020e-01],\n",
              "        [8.9266807e-01],\n",
              "        [9.9997425e-01],\n",
              "        [5.8749318e-04],\n",
              "        [9.9996436e-01],\n",
              "        [9.1883368e-05],\n",
              "        [9.9886131e-01],\n",
              "        [4.8097074e-03],\n",
              "        [9.8503351e-01],\n",
              "        [9.9994028e-01],\n",
              "        [3.4518479e-13],\n",
              "        [9.6859276e-01],\n",
              "        [9.9824333e-01],\n",
              "        [9.4336051e-01],\n",
              "        [9.9944174e-01],\n",
              "        [7.3576643e-08],\n",
              "        [9.6775257e-05],\n",
              "        [9.9999195e-01],\n",
              "        [2.5090575e-04],\n",
              "        [2.1096905e-07],\n",
              "        [7.3576643e-08],\n",
              "        [2.9799196e-07],\n",
              "        [9.9999195e-01],\n",
              "        [7.7870190e-03],\n",
              "        [3.8285299e-09],\n",
              "        [9.9979877e-01],\n",
              "        [9.4336051e-01],\n",
              "        [4.5712319e-08],\n",
              "        [9.9995720e-01],\n",
              "        [1.1042455e-01],\n",
              "        [6.6157510e-05],\n",
              "        [5.9546471e-02],\n",
              "        [1.1799656e-04],\n",
              "        [3.9858769e-11],\n",
              "        [1.2721090e-09],\n",
              "        [4.9201965e-01],\n",
              "        [9.9990237e-01],\n",
              "        [9.9999237e-01],\n",
              "        [3.5221577e-03],\n",
              "        [2.0537943e-02],\n",
              "        [9.9317527e-01],\n",
              "        [1.2817741e-06],\n",
              "        [3.5804661e-07],\n",
              "        [9.9871564e-01],\n",
              "        [9.9985969e-01],\n",
              "        [1.1042455e-01],\n",
              "        [9.9999231e-01],\n",
              "        [1.3949543e-10],\n",
              "        [9.7735901e-06],\n",
              "        [9.9981594e-01],\n",
              "        [9.9353564e-01],\n",
              "        [9.4336051e-01],\n",
              "        [1.3788078e-10],\n",
              "        [5.1867984e-05],\n",
              "        [5.1867984e-05],\n",
              "        [2.5501460e-02],\n",
              "        [1.4687404e-01],\n",
              "        [1.1042455e-01],\n",
              "        [5.9539080e-04],\n",
              "        [8.0131930e-01],\n",
              "        [1.6581776e-13],\n",
              "        [6.5725914e-07],\n",
              "        [9.9926418e-01],\n",
              "        [7.8050494e-03],\n",
              "        [9.9997902e-01],\n",
              "        [1.1571914e-02],\n",
              "        [8.5982680e-04],\n",
              "        [6.9105655e-02],\n",
              "        [7.7986717e-04],\n",
              "        [9.9501014e-04],\n",
              "        [3.7800148e-06],\n",
              "        [9.9996895e-01],\n",
              "        [1.0715538e-06],\n",
              "        [2.0219088e-03],\n",
              "        [1.5035570e-02],\n",
              "        [3.9858769e-11],\n",
              "        [9.9943650e-01],\n",
              "        [9.1728055e-01],\n",
              "        [7.8330925e-11],\n",
              "        [9.9999195e-01],\n",
              "        [9.9998760e-01],\n",
              "        [7.1492791e-04],\n",
              "        [9.9411809e-01],\n",
              "        [9.8474824e-01],\n",
              "        [9.9974561e-01],\n",
              "        [5.7813239e-08],\n",
              "        [9.5961320e-01],\n",
              "        [9.9786174e-01],\n",
              "        [9.9968225e-01],\n",
              "        [9.9995720e-01],\n",
              "        [9.9984396e-01],\n",
              "        [2.0309614e-08],\n",
              "        [9.9950212e-01],\n",
              "        [1.8786114e-01],\n",
              "        [2.0650029e-04],\n",
              "        [1.1112928e-02],\n",
              "        [9.9681461e-01],\n",
              "        [9.4603622e-01],\n",
              "        [9.9974561e-01],\n",
              "        [5.8776641e-07],\n",
              "        [9.6182835e-01],\n",
              "        [9.8921508e-01],\n",
              "        [9.9118221e-01],\n",
              "        [9.9990237e-01],\n",
              "        [9.7692841e-01],\n",
              "        [9.9993968e-01],\n",
              "        [9.9998552e-01],\n",
              "        [8.9191253e-06],\n",
              "        [1.6314480e-05],\n",
              "        [9.9996728e-01],\n",
              "        [1.0929646e-15],\n",
              "        [3.0685038e-13],\n",
              "        [9.9979818e-01],\n",
              "        [9.9987566e-01],\n",
              "        [2.5269389e-03],\n",
              "        [5.7008851e-06],\n",
              "        [1.5429028e-07],\n",
              "        [6.8199635e-04],\n",
              "        [9.8503351e-01],\n",
              "        [4.2622510e-06],\n",
              "        [9.9950206e-01],\n",
              "        [1.0860264e-03],\n",
              "        [5.8409969e-05],\n",
              "        [8.8937730e-02],\n",
              "        [9.9845898e-01],\n",
              "        [9.9999833e-01],\n",
              "        [2.4119616e-03],\n",
              "        [9.9966925e-01],\n",
              "        [1.0929646e-15],\n",
              "        [9.9969637e-01],\n",
              "        [9.9394572e-01],\n",
              "        [9.9994355e-01],\n",
              "        [3.9461255e-04],\n",
              "        [9.9997985e-01],\n",
              "        [9.9997407e-01],\n",
              "        [7.3576643e-08],\n",
              "        [2.0219088e-03],\n",
              "        [9.9826670e-01],\n",
              "        [9.9997020e-01],\n",
              "        [9.8884690e-01],\n",
              "        [9.9628985e-01],\n",
              "        [7.1709752e-03],\n",
              "        [1.4975460e-11],\n",
              "        [1.2721090e-09],\n",
              "        [9.8839438e-01],\n",
              "        [2.1096905e-07],\n",
              "        [8.8937730e-02],\n",
              "        [9.9712038e-01],\n",
              "        [9.8478544e-01],\n",
              "        [4.8105106e-01],\n",
              "        [9.7073555e-01],\n",
              "        [1.4687404e-01],\n",
              "        [9.9996948e-01],\n",
              "        [2.0650029e-04],\n",
              "        [9.7277927e-01],\n",
              "        [9.7062635e-01],\n",
              "        [9.9190110e-01],\n",
              "        [9.9978316e-01],\n",
              "        [2.8842581e-10],\n",
              "        [1.2799313e-09],\n",
              "        [9.9317527e-01],\n",
              "        [9.9824333e-01],\n",
              "        [7.8050494e-03],\n",
              "        [9.9997109e-01],\n",
              "        [2.2506118e-03],\n",
              "        [9.9477136e-01]], dtype=float32), 68     1\n",
              " 803    0\n",
              " 194    0\n",
              " 778    0\n",
              " 965    1\n",
              "       ..\n",
              " 52     1\n",
              " 397    0\n",
              " 406    1\n",
              " 669    0\n",
              " 505    1\n",
              " Name: target, Length: 205, dtype: int64)"
            ]
          },
          "metadata": {},
          "execution_count": 18
        }
      ]
    },
    {
      "cell_type": "code",
      "metadata": {
        "id": "HFml9FaNSyOf"
      },
      "source": [
        ""
      ],
      "execution_count": 18,
      "outputs": []
    },
    {
      "cell_type": "code",
      "metadata": {
        "colab": {
          "base_uri": "https://localhost:8080/"
        },
        "id": "VFwg1mB7oCN0",
        "outputId": "ab8d2f99-9467-469b-99a5-96c7267ef5d8"
      },
      "source": [
        "#comparing results with predictions\n",
        "y_predictions = model.predict(data_test).reshape(-1)\n",
        "print (y_predictions[:5])\n",
        "y_predictions = np.round(y_predictions)"
      ],
      "execution_count": 19,
      "outputs": [
        {
          "output_type": "stream",
          "name": "stdout",
          "text": [
            "[9.9996895e-01 9.9956161e-01 3.6405836e-09 9.9997413e-01 1.9634869e-09]\n"
          ]
        }
      ]
    },
    {
      "cell_type": "code",
      "metadata": {
        "colab": {
          "base_uri": "https://localhost:8080/"
        },
        "id": "9xOf_2bJoJ77",
        "outputId": "b64aecd0-64f0-40d3-ab48-60cf76c2da17"
      },
      "source": [
        "from sklearn.metrics import confusion_matrix, classification_report\n",
        "print( classification_report(y_predictions, target_test))"
      ],
      "execution_count": 20,
      "outputs": [
        {
          "output_type": "stream",
          "name": "stdout",
          "text": [
            "              precision    recall  f1-score   support\n",
            "\n",
            "         0.0       1.00      0.98      0.99       104\n",
            "         1.0       0.98      1.00      0.99       101\n",
            "\n",
            "    accuracy                           0.99       205\n",
            "   macro avg       0.99      0.99      0.99       205\n",
            "weighted avg       0.99      0.99      0.99       205\n",
            "\n"
          ]
        }
      ]
    },
    {
      "cell_type": "code",
      "metadata": {
        "colab": {
          "base_uri": "https://localhost:8080/",
          "height": 295
        },
        "id": "5v2MbF6qNXOM",
        "outputId": "55d6de99-8dd2-4521-ed88-3b16eae3be8c"
      },
      "source": [
        "import matplotlib.pyplot as plt\n",
        "from sklearn.metrics import roc_curve, auc\n",
        "\n",
        "fpr = dict()\n",
        "tpr = dict()\n",
        "roc_auc = dict()\n",
        "fpr, tpr, _ = roc_curve(y_predictions, target_test)\n",
        "roc_auc = auc(fpr, tpr)\n",
        "#plotting the roc curve \n",
        "\n",
        "plt.figure()\n",
        "lw = 2\n",
        "plt.plot(fpr, tpr, color='darkorange',\n",
        "         lw=lw, label='ROC curve (area = %0.2f)' % roc_auc)\n",
        "plt.plot([0, 1], [0, 1], color='red', lw=lw, linestyle='--')\n",
        "plt.xlim([0.0, 1.0])\n",
        "plt.ylim([0.0, 1.05])\n",
        "plt.xlabel('False Positive Rate')\n",
        "plt.ylabel('True Positive Rate')\n",
        "plt.title('Receiver operating characteristic example')\n",
        "plt.legend(loc=\"lower right\")\n",
        "plt.show()"
      ],
      "execution_count": 21,
      "outputs": [
        {
          "output_type": "display_data",
          "data": {
            "image/png": "[encoded data removed]",
            "text/plain": [
              "<Figure size 432x288 with 1 Axes>"
            ]
          },
          "metadata": {}
        }
      ]
    }
  ]
}